{
 "cells": [
  {
   "cell_type": "code",
   "execution_count": 1,
   "metadata": {
    "collapsed": true
   },
   "outputs": [],
   "source": [
    "import numpy as np\n",
    "import scipy as sp\n",
    "import matplotlib.pyplot as plt"
   ]
  },
  {
   "cell_type": "code",
   "execution_count": 2,
   "metadata": {
    "collapsed": true
   },
   "outputs": [],
   "source": [
    "def generate_data(n,w):\n",
    "    if \"sparse\" in str(type(w)):\n",
    "        w = w.toarray()\n",
    "    X = np.random.randn(n,w.shape[0])\n",
    "    y = np.matmul(X,w)\n",
    "    return X,y\n",
    "\n",
    "def generate_noisy_data(n,w):\n",
    "    X = np.random.randn(n,len(w))\n",
    "    y = np.matmul(X,w) + 0.1*np.random.randn(n)\n",
    "    return X,y"
   ]
  },
  {
   "cell_type": "markdown",
   "metadata": {},
   "source": [
    "# ols is invariant"
   ]
  },
  {
   "cell_type": "code",
   "execution_count": 3,
   "metadata": {
    "collapsed": true
   },
   "outputs": [],
   "source": [
    "d = 10\n",
    "n = 20\n",
    "w = np.random.randn(d)\n",
    "X, y = generate_data(n, w)"
   ]
  },
  {
   "cell_type": "code",
   "execution_count": 4,
   "metadata": {},
   "outputs": [
    {
     "data": {
      "text/plain": [
       "array([-6.03928684,  1.57610878, -3.98152955,  2.33580818,  2.20929006,\n",
       "       -7.10628114,  3.3878155 ,  6.36464603, -3.29094873, -2.04482306,\n",
       "        3.09029448, -2.91782936,  2.70421914,  1.19279265, -1.32033631,\n",
       "        0.04845396,  3.3885377 ,  0.39268664,  2.71260031, -1.92177075])"
      ]
     },
     "execution_count": 4,
     "metadata": {},
     "output_type": "execute_result"
    }
   ],
   "source": [
    "w,resid,rank,s = np.linalg.lstsq(X,y)\n",
    "np.matmul(X,w)"
   ]
  },
  {
   "cell_type": "code",
   "execution_count": 5,
   "metadata": {},
   "outputs": [
    {
     "data": {
      "text/plain": [
       "array([-6.03928684,  1.57610878, -3.98152955,  2.33580818,  2.20929006,\n",
       "       -7.10628114,  3.3878155 ,  6.36464603, -3.29094873, -2.04482306,\n",
       "        3.09029448, -2.91782936,  2.70421914,  1.19279265, -1.32033631,\n",
       "        0.04845396,  3.3885377 ,  0.39268664,  2.71260031, -1.92177075])"
      ]
     },
     "execution_count": 5,
     "metadata": {},
     "output_type": "execute_result"
    }
   ],
   "source": [
    "yscale = 5*y\n",
    "Xscale = 3*X\n",
    "wscale,resid,rank,s = np.linalg.lstsq(Xscale, yscale)\n",
    "np.matmul(Xscale,wscale) / 5"
   ]
  },
  {
   "cell_type": "markdown",
   "metadata": {},
   "source": [
    "# ridge regression is not scaling invariant"
   ]
  },
  {
   "cell_type": "code",
   "execution_count": 6,
   "metadata": {},
   "outputs": [
    {
     "data": {
      "text/plain": [
       "(10, 10)"
      ]
     },
     "execution_count": 6,
     "metadata": {},
     "output_type": "execute_result"
    }
   ],
   "source": [
    "(np.matmul(X.T,X) + np.eye(d)).shape"
   ]
  },
  {
   "cell_type": "code",
   "execution_count": 7,
   "metadata": {},
   "outputs": [
    {
     "data": {
      "text/plain": [
       "array([-5.88877291,  1.57582303, -3.83532092,  2.3206548 ,  2.18501337,\n",
       "       -6.73726757,  3.0906025 ,  6.01007179, -3.07479887, -1.76852281,\n",
       "        3.00677848, -2.70287546,  2.51553193,  1.14823475, -1.12069836,\n",
       "       -0.01955386,  3.19665274,  0.2438987 ,  2.74392489, -1.91344277])"
      ]
     },
     "execution_count": 7,
     "metadata": {},
     "output_type": "execute_result"
    }
   ],
   "source": [
    "w,resid,rank,s = np.linalg.lstsq((np.matmul(X.T,X) + np.eye(d)), np.matmul(X.T,y))\n",
    "np.matmul(X,w)"
   ]
  },
  {
   "cell_type": "code",
   "execution_count": 8,
   "metadata": {},
   "outputs": [
    {
     "data": {
      "text/plain": [
       "array([-6.02291779,  1.57615557, -3.96421272,  2.33582195,  2.20675892,\n",
       "       -7.06366446,  3.35009936,  6.32169365, -3.26477523, -2.00837977,\n",
       "        3.08264627, -2.89135579,  2.68041927,  1.18696173, -1.29435292,\n",
       "        0.04053184,  3.36660728,  0.37269716,  2.71903383, -1.92122679])"
      ]
     },
     "execution_count": 8,
     "metadata": {},
     "output_type": "execute_result"
    }
   ],
   "source": [
    "yscale = 5*y\n",
    "Xscale = 3*X\n",
    "wscale,resid,rank,s = np.linalg.lstsq((np.matmul(Xscale.T,Xscale) + np.eye(d)), np.matmul(Xscale.T,yscale))\n",
    "np.matmul(Xscale,wscale) / 5"
   ]
  },
  {
   "cell_type": "code",
   "execution_count": 9,
   "metadata": {
    "collapsed": true
   },
   "outputs": [],
   "source": [
    "# standardize\n",
    "def standardize(X,y):\n",
    "    X_standard = X - np.mean(X,0)\n",
    "    X_standard = np.matmul(X_standard, np.diag(1/np.std(X,0)))\n",
    "    \n",
    "    y_standard = y - np.mean(y)\n",
    "    y_standard = y_standard / np.std(y)\n",
    "    \n",
    "    return X_standard, y_standard"
   ]
  },
  {
   "cell_type": "code",
   "execution_count": 10,
   "metadata": {},
   "outputs": [
    {
     "data": {
      "text/plain": [
       "array([-1.71950432,  0.43895546, -1.14428933,  0.67237005,  0.63091003,\n",
       "       -1.98030011,  0.90923745,  1.75188636, -0.92567688, -0.53066475,\n",
       "        0.86454199, -0.81154226,  0.70980557,  0.32344561, -0.339663  ,\n",
       "       -0.0069376 ,  0.90548635,  0.04349   ,  0.77647925, -0.56802987])"
      ]
     },
     "execution_count": 10,
     "metadata": {},
     "output_type": "execute_result"
    }
   ],
   "source": [
    "Xs, ys = standardize(X,y)\n",
    "w,resid,rank,s = np.linalg.lstsq((np.matmul(Xs.T,Xs) + np.eye(d)), np.matmul(Xs.T,ys))\n",
    "np.matmul(Xs,w)"
   ]
  },
  {
   "cell_type": "code",
   "execution_count": 11,
   "metadata": {},
   "outputs": [
    {
     "data": {
      "text/plain": [
       "array([-1.71950432,  0.43895546, -1.14428933,  0.67237005,  0.63091003,\n",
       "       -1.98030011,  0.90923745,  1.75188636, -0.92567688, -0.53066475,\n",
       "        0.86454199, -0.81154226,  0.70980557,  0.32344561, -0.339663  ,\n",
       "       -0.0069376 ,  0.90548635,  0.04349   ,  0.77647925, -0.56802987])"
      ]
     },
     "execution_count": 11,
     "metadata": {},
     "output_type": "execute_result"
    }
   ],
   "source": [
    "yscale = 5*y + 3000\n",
    "Xscale = 3*X + 200\n",
    "\n",
    "Xss, yss = standardize(Xscale,yscale)\n",
    "wscale,resid,rank,s = np.linalg.lstsq((np.matmul(Xss.T,Xss) + np.eye(d)), np.matmul(Xss.T,yss))\n",
    "np.matmul(Xss, wscale)"
   ]
  },
  {
   "cell_type": "markdown",
   "metadata": {},
   "source": [
    "# let's compare different kinds of regularized regression"
   ]
  },
  {
   "cell_type": "code",
   "execution_count": 12,
   "metadata": {
    "collapsed": true
   },
   "outputs": [],
   "source": [
    "from sklearn.linear_model import Ridge,Lasso\n",
    "lamda = 1"
   ]
  },
  {
   "cell_type": "code",
   "execution_count": 19,
   "metadata": {
    "collapsed": true
   },
   "outputs": [],
   "source": [
    "# ridge\n",
    "## training the model\n",
    "def ridge_regression(X,y, lamda=1):\n",
    "    ridgeReg = Ridge(alpha=lamda, normalize=True)\n",
    "    ridgeReg.fit(X,y)\n",
    "#    pred = ridgeReg.predict(X)\n",
    "#    return ridgeReg.coef_, ridgeReg.intercept_\n",
    "    return ridgeReg\n",
    "\n",
    "# lasso\n",
    "def lasso(X,y, lamda=1):\n",
    "    lassoReg = Lasso(alpha=lamda)\n",
    "    lassoReg.fit(X,y)\n",
    "    return lassoReg\n",
    "\n",
    "# nnls\n",
    "def nnls(X,y):\n",
    "    nnlsReg = sp.optimize.nnls(X, y.flatten())\n",
    "    return nnlsReg"
   ]
  },
  {
   "cell_type": "code",
   "execution_count": 29,
   "metadata": {
    "collapsed": true
   },
   "outputs": [],
   "source": [
    "# generate data\n",
    "d = 30\n",
    "w_randn = np.random.randn(d)\n",
    "w_sparse = sp.sparse.rand(d, 1, density=0.5)\n",
    "w_pos = sp.sparse.rand(d, 1, density=0.5)\n",
    "\n",
    "# find best model for each type of data\n",
    "w = w_randn"
   ]
  },
  {
   "cell_type": "code",
   "execution_count": 30,
   "metadata": {
    "collapsed": true
   },
   "outputs": [],
   "source": [
    "X,y = generate_data(30, w)\n",
    "ridgeReg = ridge_regression(X,y, lamda = 1)\n",
    "lassoReg = lasso(X,y, lamda=1)\n",
    "nnlsReg = nnls(X,y)\n",
    "\n",
    "w_ridge = ridgeReg.coef_.T\n",
    "w_lasso = lassoReg.coef_\n",
    "w_nonneg = nnlsReg[0]"
   ]
  },
  {
   "cell_type": "code",
   "execution_count": 31,
   "metadata": {},
   "outputs": [
    {
     "data": {
      "image/png": "[encoded data removed]",
      "text/plain": [
       "<matplotlib.figure.Figure at 0xbf13748>"
      ]
     },
     "metadata": {},
     "output_type": "display_data"
    }
   ],
   "source": [
    "plt.clf()\n",
    "plt.hist(w_ridge)\n",
    "plt.show()"
   ]
  },
  {
   "cell_type": "code",
   "execution_count": 32,
   "metadata": {},
   "outputs": [
    {
     "data": {
      "image/png": "[encoded data removed]",
      "text/plain": [
       "<matplotlib.figure.Figure at 0xbfb3198>"
      ]
     },
     "metadata": {},
     "output_type": "display_data"
    }
   ],
   "source": [
    "plt.clf()\n",
    "plt.hist(w_lasso,bins=50)\n",
    "plt.show()"
   ]
  },
  {
   "cell_type": "code",
   "execution_count": 33,
   "metadata": {},
   "outputs": [
    {
     "data": {
      "image/png": "[encoded data removed]",
      "text/plain": [
       "<matplotlib.figure.Figure at 0xbf49470>"
      ]
     },
     "metadata": {},
     "output_type": "display_data"
    }
   ],
   "source": [
    "plt.clf()\n",
    "plt.hist(w_nonneg)\n",
    "plt.show()"
   ]
  },
  {
   "cell_type": "code",
   "execution_count": 34,
   "metadata": {},
   "outputs": [
    {
     "data": {
      "image/png": "[encoded data removed]",
      "text/plain": [
       "<matplotlib.figure.Figure at 0xbe06080>"
      ]
     },
     "metadata": {},
     "output_type": "display_data"
    }
   ],
   "source": [
    "# which fits data best?\n",
    "Xtest,ytest = generate_data(20,w)\n",
    "\n",
    "plt.clf()\n",
    "plt.scatter(ytest,ridgeReg.predict(Xtest),label=\"ridge\")\n",
    "plt.scatter(ytest,lassoReg.predict(Xtest),label=\"lasso\")\n",
    "plt.scatter(ytest,np.matmul(Xtest,w_nonneg),label=\"NNLS\")\n",
    "plt.plot(ytest,ytest,label=\"true model\")\n",
    "plt.legend()\n",
    "plt.xlabel(\"true value\")\n",
    "plt.ylabel(\"predicted value\")\n",
    "plt.show()"
   ]
  },
  {
   "cell_type": "code",
   "execution_count": 35,
   "metadata": {},
   "outputs": [
    {
     "name": "stderr",
     "output_type": "stream",
     "text": [
      "F:\\install\\anaconda\\lib\\site-packages\\ipykernel_launcher.py:6: DeprecationWarning: object of type <class 'float'> cannot be safely interpreted as an integer.\n",
      "  \n",
      "F:\\install\\anaconda\\lib\\site-packages\\scipy\\linalg\\basic.py:223: RuntimeWarning: scipy.linalg.solve\n",
      "Ill-conditioned matrix detected. Result is not guaranteed to be accurate.\n",
      "Reciprocal condition number: 1.0480914491203869e-17\n",
      "  ' condition number: {}'.format(rcond), RuntimeWarning)\n"
     ]
    },
    {
     "data": {
      "image/png": "[encoded data removed]",
      "text/plain": [
       "<matplotlib.figure.Figure at 0xbe44f98>"
      ]
     },
     "metadata": {},
     "output_type": "display_data"
    }
   ],
   "source": [
    "# cross validate over lambda\n",
    "w = .5*np.random.randn(40)\n",
    "X,y = generate_noisy_data(30, w)\n",
    "Xtest,ytest = generate_noisy_data(30, w)\n",
    "\n",
    "ls = np.linspace(0,5,num = 5/0.1+1)\n",
    "error = []\n",
    "for i in ls:\n",
    "    ridgeReg = ridge_regression(X,y, lamda=i)\n",
    "    error.append(np.sum(ytest - ridgeReg.predict(Xtest))**2)\n",
    "\n",
    "plt.clf()\n",
    "plt.plot(ls, error)\n",
    "plt.show()"
   ]
  }
 ],
 "metadata": {
  "kernelspec": {
   "display_name": "Python 3",
   "language": "python",
   "name": "python3"
  },
  "language_info": {
   "codemirror_mode": {
    "name": "ipython",
    "version": 3
   },
   "file_extension": ".py",
   "mimetype": "text/x-python",
   "name": "python",
   "nbconvert_exporter": "python",
   "pygments_lexer": "ipython3",
   "version": "3.6.1"
  }
 },
 "nbformat": 4,
 "nbformat_minor": 2
}
