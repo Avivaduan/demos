{
 "cells": [
  {
   "cell_type": "code",
   "execution_count": 1,
   "metadata": {
    "collapsed": true
   },
   "outputs": [],
   "source": [
    "import matplotlib.pyplot as plt\n",
    "import numpy as np"
   ]
  },
  {
   "cell_type": "code",
   "execution_count": 2,
   "metadata": {
    "collapsed": true
   },
   "outputs": [],
   "source": [
    "def plotline(w,b,xmin=-100.,xmax=100.,label=\"\"):\n",
    "    xsamples = np.array([xmin, xmax])\n",
    "    plt.plot(xsamples, [w*x+b for x in xsamples], color=\"black\", label=label)\n",
    "    plt.legend()"
   ]
  },
  {
   "cell_type": "code",
   "execution_count": 3,
   "metadata": {
    "collapsed": true
   },
   "outputs": [],
   "source": [
    "\"\"\"plot function y=f(x)\"\"\"\n",
    "def plotfunc(f, xmin=-100,xmax=100,nsamples=100,label=\"\"):\n",
    "    xsamples = np.linspace(xmin,xmax,nsamples)\n",
    "    plt.plot(xsamples, [f(x) for x in xsamples], color=\"black\", label=label)"
   ]
  },
  {
   "cell_type": "code",
   "execution_count": 6,
   "metadata": {},
   "outputs": [],
   "source": [
    "# Generate and plot data\n",
    "np.random.seed(2) # seed generator\n",
    "n = 20\n",
    "def sample_data(num_points):\n",
    "    x = np.random.rand(num_points)*10\n",
    "    y = .2 + .2*x + .1*np.sin(x) + .03*np.random.randn(num_points) - .1*(x/6)**2\n",
    "    return x,y\n",
    "\n",
    "x,y = sample_data(n)\n",
    "\n",
    "\"\"\"function to plot the above data\"\"\"\n",
    "def plotdata(x=x,y=y,margin=.05):\n",
    "    plt.scatter(x,y, label=\"data\")\n",
    "    plt.xlabel(\"x\")\n",
    "    plt.ylabel(\"y\")\n",
    "    range_y = np.max(y) - np.min(y)\n",
    "    range_x = np.max(x) - np.min(x)\n",
    "    plt.ylim((np.min(y)-margin*range_y,np.max(y)+margin*range_y))\n",
    "    plt.xlim((np.min(x)-margin*range_x,np.max(x)+margin*range_x))\n",
    "    plt.legend()"
   ]
  },
  {
   "cell_type": "code",
   "execution_count": 7,
   "metadata": {},
   "outputs": [
    {
     "data": {
      "image/png": "[encoded data removed]",
      "text/plain": [
       "<matplotlib.figure.Figure at 0x7acdc88>"
      ]
     },
     "metadata": {},
     "output_type": "display_data"
    }
   ],
   "source": [
    "plotdata()\n",
    "plt.show()"
   ]
  },
  {
   "cell_type": "markdown",
   "metadata": {},
   "source": [
    "# Approximating with the mean"
   ]
  },
  {
   "cell_type": "code",
   "execution_count": 8,
   "metadata": {
    "collapsed": true
   },
   "outputs": [],
   "source": [
    "# the mean solves a very simple least squares problem:\n",
    "X = np.ones([n,1]) # 2-dimension\n",
    "w,resid,rank,s = np.linalg.lstsq(X,y)"
   ]
  },
  {
   "cell_type": "code",
   "execution_count": 9,
   "metadata": {},
   "outputs": [
    {
     "data": {
      "text/plain": [
       "0.0"
      ]
     },
     "execution_count": 9,
     "metadata": {},
     "output_type": "execute_result"
    }
   ],
   "source": [
    "# check the solution to our least squares problem is the mean\n",
    "np.abs(np.mean(y) - w[0])"
   ]
  },
  {
   "cell_type": "code",
   "execution_count": 12,
   "metadata": {},
   "outputs": [
    {
     "data": {
      "image/png": "[encoded data removed]",
      "text/plain": [
       "<matplotlib.figure.Figure at 0x80c2588>"
      ]
     },
     "metadata": {},
     "output_type": "display_data"
    }
   ],
   "source": [
    "# plot the fit\n",
    "plt.clf()\n",
    "plotdata()\n",
    "plotline(0, w[0], label=\"mean\")\n",
    "plt.show()"
   ]
  },
  {
   "cell_type": "markdown",
   "metadata": {},
   "source": [
    "# Approximating with a line"
   ]
  },
  {
   "cell_type": "code",
   "execution_count": 22,
   "metadata": {},
   "outputs": [
    {
     "data": {
      "text/plain": [
       "array([[ 4.35994902,  1.        ],\n",
       "       [ 0.25926232,  1.        ],\n",
       "       [ 5.49662478,  1.        ],\n",
       "       [ 4.35322393,  1.        ],\n",
       "       [ 4.20367802,  1.        ],\n",
       "       [ 3.30334821,  1.        ],\n",
       "       [ 2.04648634,  1.        ],\n",
       "       [ 6.19270966,  1.        ],\n",
       "       [ 2.99654674,  1.        ],\n",
       "       [ 2.66827275,  1.        ],\n",
       "       [ 6.21133833,  1.        ],\n",
       "       [ 5.29142094,  1.        ],\n",
       "       [ 1.34579945,  1.        ],\n",
       "       [ 5.13578121,  1.        ],\n",
       "       [ 1.84439866,  1.        ],\n",
       "       [ 7.85335148,  1.        ],\n",
       "       [ 8.53975293,  1.        ],\n",
       "       [ 4.94236837,  1.        ],\n",
       "       [ 8.46561485,  1.        ],\n",
       "       [ 0.79645477,  1.        ]])"
      ]
     },
     "execution_count": 22,
     "metadata": {},
     "output_type": "execute_result"
    }
   ],
   "source": [
    "X = np.vstack((x,np.ones(len(x)))).T # vertically stack and then transpose\n",
    "X"
   ]
  },
  {
   "cell_type": "code",
   "execution_count": 23,
   "metadata": {},
   "outputs": [
    {
     "data": {
      "text/plain": [
       "array([ 0.1753625 ,  0.23323072])"
      ]
     },
     "execution_count": 23,
     "metadata": {},
     "output_type": "execute_result"
    }
   ],
   "source": [
    "w,resid,rank,s = np.linalg.lstsq(X,y)\n",
    "w"
   ]
  },
  {
   "cell_type": "code",
   "execution_count": 18,
   "metadata": {},
   "outputs": [
    {
     "data": {
      "image/png": "[encoded data removed]",
      "text/plain": [
       "<matplotlib.figure.Figure at 0x82d1a58>"
      ]
     },
     "metadata": {},
     "output_type": "display_data"
    }
   ],
   "source": [
    "# plot the fit\n",
    "plt.clf()\n",
    "plotdata()\n",
    "plotline(w[0], w[1], label=\"linear fit\")\n",
    "plt.show()"
   ]
  },
  {
   "cell_type": "code",
   "execution_count": 20,
   "metadata": {},
   "outputs": [
    {
     "data": {
      "image/png": "[encoded data removed]",
      "text/plain": [
       "<matplotlib.figure.Figure at 0x825a7b8>"
      ]
     },
     "metadata": {},
     "output_type": "display_data"
    }
   ],
   "source": [
    "# plot fit on out of sample data\n",
    "plt.clf()\n",
    "plotdata()\n",
    "plotline(w[0], w[1])\n",
    "\n",
    "xtest,ytest = sample_data(20)\n",
    "plt.scatter(xtest,ytest,label=\"test\")\n",
    "plt.legend()\n",
    "plt.show()"
   ]
  },
  {
   "cell_type": "markdown",
   "metadata": {},
   "source": [
    "# Approximating with a polynomial"
   ]
  },
  {
   "cell_type": "code",
   "execution_count": 24,
   "metadata": {},
   "outputs": [
    {
     "data": {
      "text/plain": [
       "array([[  1.00000000e+00,   4.35994902e+00,   1.90091555e+01,\n",
       "          8.28789488e+01,   3.61347992e+02,   1.57545882e+03,\n",
       "          6.86892015e+03,   2.99481417e+04,   1.30572371e+05,\n",
       "          5.69288881e+05,   2.48207050e+06],\n",
       "       [  1.00000000e+00,   2.59262318e-01,   6.72169497e-02,\n",
       "          1.74268222e-02,   4.51811832e-03,   1.17137783e-03,\n",
       "          3.03694132e-04,   7.87364447e-05,   2.04133932e-05,\n",
       "          5.29242364e-06,   1.37212602e-06],\n",
       "       [  1.00000000e+00,   5.49662478e+00,   3.02128840e+01,\n",
       "          1.66068887e+02,   9.12818357e+02,   5.01742000e+03,\n",
       "          2.75788751e+04,   1.51590728e+05,   8.33237353e+05,\n",
       "          4.57999308e+06,   2.51745035e+07],\n",
       "       [  1.00000000e+00,   4.35322393e+00,   1.89505586e+01,\n",
       "          8.24960249e+01,   3.59123669e+02,   1.56334575e+03,\n",
       "          6.80559412e+03,   2.96262752e+04,   1.28969810e+05,\n",
       "          5.61434462e+05,   2.44404993e+06],\n",
       "       [  1.00000000e+00,   4.20367802e+00,   1.76709089e+01,\n",
       "          7.42828114e+01,   3.12261021e+02,   1.31264479e+03,\n",
       "          5.51793606e+03,   2.31956266e+04,   9.75069455e+04,\n",
       "          4.09887804e+05,   1.72303635e+06],\n",
       "       [  1.00000000e+00,   3.30334821e+00,   1.09121094e+01,\n",
       "          3.60464970e+01,   1.19074131e+02,   3.93343319e+02,\n",
       "          1.29934995e+03,   4.29220533e+03,   1.41786488e+04,\n",
       "          4.68370141e+04,   1.54718967e+05],\n",
       "       [  1.00000000e+00,   2.04648634e+00,   4.18810634e+00,\n",
       "          8.57090242e+00,   1.75402347e+01,   3.58958508e+01,\n",
       "          7.34603683e+01,   1.50335640e+02,   3.07659834e+02,\n",
       "          6.29621648e+02,   1.28851210e+03],\n",
       "       [  1.00000000e+00,   6.19270966e+00,   3.83496530e+01,\n",
       "          2.37488267e+02,   1.47069588e+03,   9.10759261e+03,\n",
       "          5.64006768e+04,   3.49273016e+05,   2.16294638e+06,\n",
       "          1.33944990e+07,   8.29482431e+07],\n",
       "       [  1.00000000e+00,   2.99654674e+00,   8.97929235e+00,\n",
       "          2.69068692e+01,   8.06276910e+01,   2.41604644e+02,\n",
       "          7.23979609e+02,   2.16943873e+03,   6.50082456e+03,\n",
       "          1.94800246e+04,   5.83728042e+04],\n",
       "       [  1.00000000e+00,   2.66827275e+00,   7.11967947e+00,\n",
       "          1.89972467e+01,   5.06898358e+01,   1.35254308e+02,\n",
       "          3.60895384e+02,   9.62967318e+02,   2.56945945e+03,\n",
       "          6.85601865e+03,   1.82937277e+04],\n",
       "       [  1.00000000e+00,   6.21133833e+00,   3.85807238e+01,\n",
       "          2.39637929e+02,   1.48847225e+03,   9.24540474e+03,\n",
       "          5.74263368e+04,   3.56694407e+05,   2.21554964e+06,\n",
       "          1.37615284e+07,   8.54775088e+07],\n",
       "       [  1.00000000e+00,   5.29142094e+00,   2.79991356e+01,\n",
       "          1.48155212e+02,   7.83951594e+02,   4.14821788e+03,\n",
       "          2.19499670e+04,   1.16146515e+05,   6.14580102e+05,\n",
       "          3.25200202e+06,   1.72077116e+07],\n",
       "       [  1.00000000e+00,   1.34579945e+00,   1.81117617e+00,\n",
       "          2.43747990e+00,   3.28035911e+00,   4.41470550e+00,\n",
       "          5.94130825e+00,   7.99580940e+00,   1.07607559e+01,\n",
       "          1.44818194e+01,   1.94896247e+01],\n",
       "       [  1.00000000e+00,   5.13578121e+00,   2.63762487e+01,\n",
       "          1.35462642e+02,   6.95706494e+02,   3.57299634e+03,\n",
       "          1.83501275e+04,   9.42422399e+04,   4.84007525e+05,\n",
       "          2.48575675e+06,   1.27663028e+07],\n",
       "       [  1.00000000e+00,   1.84439866e+00,   3.40180640e+00,\n",
       "          6.27428716e+00,   1.15722868e+01,   2.13439102e+01,\n",
       "          3.93666794e+01,   7.26078506e+01,   1.33917822e+02,\n",
       "          2.46997851e+02,   4.55562505e+02],\n",
       "       [  1.00000000e+00,   7.85335148e+00,   6.16751294e+01,\n",
       "          4.84356469e+02,   3.80382159e+03,   2.98727479e+04,\n",
       "          2.34601189e+05,   1.84240559e+06,   1.44690587e+07,\n",
       "          1.13630604e+08,   8.92381068e+08],\n",
       "       [  1.00000000e+00,   8.53975293e+00,   7.29273800e+01,\n",
       "          6.22781807e+02,   5.31840276e+03,   4.54178455e+04,\n",
       "          3.87857179e+05,   3.31220448e+06,   2.82854079e+07,\n",
       "          2.41550395e+08,   2.06278069e+09],\n",
       "       [  1.00000000e+00,   4.94236837e+00,   2.44270051e+01,\n",
       "          1.20727258e+02,   5.96678580e+02,   2.94900534e+03,\n",
       "          1.45750707e+04,   7.20353687e+04,   3.56025328e+05,\n",
       "          1.75960832e+06,   8.69663252e+06],\n",
       "       [  1.00000000e+00,   8.46561485e+00,   7.16666348e+01,\n",
       "          6.06702128e+02,   5.13610655e+03,   4.34802999e+04,\n",
       "          3.68087473e+05,   3.11608678e+06,   2.63795905e+07,\n",
       "          2.23319453e+08,   1.89053648e+09],\n",
       "       [  1.00000000e+00,   7.96454770e-01,   6.34340201e-01,\n",
       "          5.05223279e-01,   4.02387490e-01,   3.20483436e-01,\n",
       "          2.55250561e-01,   2.03295527e-01,   1.61915692e-01,\n",
       "          1.28958526e-01,   1.02709633e-01]])"
      ]
     },
     "execution_count": 24,
     "metadata": {},
     "output_type": "execute_result"
    }
   ],
   "source": [
    "# first, construct a Vandermonde matrix\n",
    "max_order = 10\n",
    "\n",
    "X = np.zeros((n, max_order+1))\n",
    "for k in range(max_order+1):\n",
    "    X[:,k] = x**k\n",
    "\n",
    "X"
   ]
  },
  {
   "cell_type": "code",
   "execution_count": 25,
   "metadata": {},
   "outputs": [
    {
     "data": {
      "text/plain": [
       "array([  2.95410206e-01,  -3.39692318e-01,   1.38047814e+00,\n",
       "        -1.56091825e+00,   9.94957659e-01,  -3.94653732e-01,\n",
       "         9.99915251e-02,  -1.60902078e-02,   1.58533552e-03,\n",
       "        -8.70219066e-05,   2.03536804e-06])"
      ]
     },
     "execution_count": 25,
     "metadata": {},
     "output_type": "execute_result"
    }
   ],
   "source": [
    "# solve least squares problem\n",
    "w,resid,rank,s = np.linalg.lstsq(X,y)\n",
    "w"
   ]
  },
  {
   "cell_type": "code",
   "execution_count": 27,
   "metadata": {
    "collapsed": true
   },
   "outputs": [],
   "source": [
    "\"\"\"computes our polynomial fit evaluated at x\"\"\"\n",
    "def p(x, order = max_order, w = w):\n",
    "    y = 0\n",
    "    for k in range(order+1):\n",
    "        y += w[k]*x**k\n",
    "    return y"
   ]
  },
  {
   "cell_type": "code",
   "execution_count": 28,
   "metadata": {},
   "outputs": [
    {
     "data": {
      "image/png": "[encoded data removed]",
      "text/plain": [
       "<matplotlib.figure.Figure at 0x7f84c88>"
      ]
     },
     "metadata": {},
     "output_type": "display_data"
    }
   ],
   "source": [
    "# plot fit\n",
    "plotdata()\n",
    "plotfunc(p, xmin=0, xmax=9)\n",
    "plt.show()"
   ]
  },
  {
   "cell_type": "code",
   "execution_count": 31,
   "metadata": {},
   "outputs": [
    {
     "data": {
      "image/png": "[encoded data removed]",
      "text/plain": [
       "<matplotlib.figure.Figure at 0x8108ac8>"
      ]
     },
     "metadata": {},
     "output_type": "display_data"
    }
   ],
   "source": [
    "# plot fit on out of sample data\n",
    "plt.clf()\n",
    "plotdata()\n",
    "plotfunc(p, xmin=0, xmax=9)\n",
    "\n",
    "xtest,ytest = sample_data(20)\n",
    "plt.scatter(xtest,ytest,label=\"test\")\n",
    "plt.legend()\n",
    "plt.show()"
   ]
  },
  {
   "cell_type": "markdown",
   "metadata": {},
   "source": [
    "# Choosing the best model order"
   ]
  },
  {
   "cell_type": "code",
   "execution_count": 34,
   "metadata": {
    "collapsed": true
   },
   "outputs": [],
   "source": [
    "max_model_order = 10\n",
    "rmse = np.empty(max_model_order+1) # array to store root mean square model errors\n",
    "xtest,ytest = sample_data(50) # generate test set\n",
    "\n",
    "for model_order in range(max_model_order+1):\n",
    "    # form Vandermonde matrix\n",
    "    X = np.zeros((n, model_order+1))\n",
    "    for k in range(model_order+1):\n",
    "        X[:,k] = x**k\n",
    "    \n",
    "    # solve least squares problem\n",
    "    w,resid,rank,s = np.linalg.lstsq(X,y)\n",
    "    \n",
    "    # compute test error\n",
    "    ptest = [p(x, order=model_order, w=w) for x in xtest]\n",
    "    rmse[model_order] = np.sqrt(np.mean((ytest - ptest)**2))"
   ]
  },
  {
   "cell_type": "code",
   "execution_count": 35,
   "metadata": {},
   "outputs": [
    {
     "name": "stderr",
     "output_type": "stream",
     "text": [
      "F:\\install\\anaconda\\lib\\site-packages\\matplotlib\\axes\\_axes.py:545: UserWarning: No labelled objects found. Use label='...' kwarg on individual plots.\n",
      "  warnings.warn(\"No labelled objects found. \"\n"
     ]
    },
    {
     "data": {
      "image/png": "[encoded data removed]",
      "text/plain": [
       "<matplotlib.figure.Figure at 0x7f77080>"
      ]
     },
     "metadata": {},
     "output_type": "display_data"
    }
   ],
   "source": [
    "plt.plot(rmse)\n",
    "plt.xlabel(\"model order\")\n",
    "plt.ylabel(\"rmse\")\n",
    "plt.legend()\n",
    "plt.show()"
   ]
  },
  {
   "cell_type": "markdown",
   "metadata": {},
   "source": [
    "#  Bootstrap estimators"
   ]
  },
  {
   "cell_type": "code",
   "execution_count": 36,
   "metadata": {
    "collapsed": true
   },
   "outputs": [],
   "source": [
    "# sample K data sets of n samples each and compute a model on each\n",
    "# see how the models vary\n",
    "n = 20\n",
    "K = 10\n",
    "\n",
    "models = np.zeros((K,2))\n",
    "for k in range(K):\n",
    "    xk,yk = sample_data(n)\n",
    "    Xk = np.vstack((xk,np.ones(n))).T\n",
    "    wk,resid,rank,s = np.linalg.lstsq(Xk,yk)\n",
    "    models[k,:] = wk"
   ]
  },
  {
   "cell_type": "code",
   "execution_count": 37,
   "metadata": {},
   "outputs": [
    {
     "data": {
      "image/png": "[encoded data removed]",
      "text/plain": [
       "<matplotlib.figure.Figure at 0x7f79710>"
      ]
     },
     "metadata": {},
     "output_type": "display_data"
    }
   ],
   "source": [
    "# histogram of the distribution of the first coefficient\n",
    "# could use to compute, eg, confidence intervals\n",
    "plt.hist(models[:,0])\n",
    "plt.show()"
   ]
  },
  {
   "cell_type": "code",
   "execution_count": 38,
   "metadata": {},
   "outputs": [
    {
     "data": {
      "text/plain": [
       "array([ 0.16995677,  0.26448875])"
      ]
     },
     "execution_count": 38,
     "metadata": {},
     "output_type": "execute_result"
    }
   ],
   "source": [
    "np.mean(models,0)"
   ]
  },
  {
   "cell_type": "code",
   "execution_count": 39,
   "metadata": {},
   "outputs": [
    {
     "data": {
      "text/plain": [
       "array([  8.61383559e-06,   2.06560997e-04])"
      ]
     },
     "execution_count": 39,
     "metadata": {},
     "output_type": "execute_result"
    }
   ],
   "source": [
    "np.var(models,0)"
   ]
  },
  {
   "cell_type": "code",
   "execution_count": 40,
   "metadata": {},
   "outputs": [
    {
     "data": {
      "text/plain": [
       "array([[ 12. ,   1.3],\n",
       "       [  6. ,   0.7],\n",
       "       [  2. ,   0.3],\n",
       "       [ 12. ,   1.3],\n",
       "       [ 12. ,   1.3]])"
      ]
     },
     "execution_count": 40,
     "metadata": {},
     "output_type": "execute_result"
    }
   ],
   "source": [
    "# can sample with replacement using rand\n",
    "np.random.choice(np.arange(1,15+1,1), size=5, replace=True)\n",
    "\n",
    "# eg,\n",
    "a = np.linspace(0.1, 1.5, num=15, endpoint=True)\n",
    "s = np.random.choice(np.arange(1,15+1,1), size=5, replace=True)\n",
    "np.vstack((s,a[s])).T"
   ]
  },
  {
   "cell_type": "code",
   "execution_count": 41,
   "metadata": {
    "collapsed": true
   },
   "outputs": [],
   "source": [
    "# resample K bootstrap data sets of n samples each and compute a model on each\n",
    "# see how the models vary\n",
    "n = 20\n",
    "K = 100\n",
    "\n",
    "x,y = sample_data(n)\n",
    "\n",
    "models = np.zeros((K,2))\n",
    "for k in range(K):\n",
    "    mysample = np.random.choice(np.arange(0,n,1), size=n, replace=True)\n",
    "    xk,yk = x[mysample], y[mysample]\n",
    "    Xk = np.vstack((xk,np.ones(n))).T\n",
    "    wk,resid,rank,s = np.linalg.lstsq(Xk,yk)\n",
    "    models[k,:] = wk"
   ]
  },
  {
   "cell_type": "code",
   "execution_count": 42,
   "metadata": {},
   "outputs": [
    {
     "data": {
      "image/png": "[encoded data removed]",
      "text/plain": [
       "<matplotlib.figure.Figure at 0x83552b0>"
      ]
     },
     "metadata": {},
     "output_type": "display_data"
    }
   ],
   "source": [
    "plt.hist(models[:,0])\n",
    "plt.show()"
   ]
  },
  {
   "cell_type": "code",
   "execution_count": 43,
   "metadata": {},
   "outputs": [
    {
     "data": {
      "text/plain": [
       "array([ 0.16390832,  0.29541383])"
      ]
     },
     "execution_count": 43,
     "metadata": {},
     "output_type": "execute_result"
    }
   ],
   "source": [
    "np.mean(models,0)"
   ]
  },
  {
   "cell_type": "code",
   "execution_count": 44,
   "metadata": {},
   "outputs": [
    {
     "data": {
      "text/plain": [
       "array([ 0.16368689,  0.29622352])"
      ]
     },
     "execution_count": 44,
     "metadata": {},
     "output_type": "execute_result"
    }
   ],
   "source": [
    "# as K increases, mean of the bootstrap models should converge to \n",
    "# the model fit on the original data set\n",
    "X = np.vstack((x,np.ones(len(x)))).T\n",
    "\n",
    "w,resid,rank,s = np.linalg.lstsq(X,y)\n",
    "w"
   ]
  },
  {
   "cell_type": "code",
   "execution_count": 45,
   "metadata": {},
   "outputs": [
    {
     "data": {
      "text/plain": [
       "array([  3.04686815e-05,   1.08031166e-03])"
      ]
     },
     "execution_count": 45,
     "metadata": {},
     "output_type": "execute_result"
    }
   ],
   "source": [
    "np.var(models,0)"
   ]
  }
 ],
 "metadata": {
  "kernelspec": {
   "display_name": "Python 3",
   "language": "python",
   "name": "python3"
  },
  "language_info": {
   "codemirror_mode": {
    "name": "ipython",
    "version": 3
   },
   "file_extension": ".py",
   "mimetype": "text/x-python",
   "name": "python",
   "nbconvert_exporter": "python",
   "pygments_lexer": "ipython3",
   "version": "3.6.1"
  }
 },
 "nbformat": 4,
 "nbformat_minor": 2
}
