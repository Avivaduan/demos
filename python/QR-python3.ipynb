{
 "cells": [
  {
   "cell_type": "code",
   "execution_count": 2,
   "metadata": {
    "collapsed": true
   },
   "outputs": [],
   "source": [
    "import numpy as np"
   ]
  },
  {
   "cell_type": "code",
   "execution_count": 3,
   "metadata": {
    "collapsed": true
   },
   "outputs": [],
   "source": [
    "# generate random data matrix\n",
    "n,d = 6,4\n",
    "X = np.random.randn(n,d)"
   ]
  },
  {
   "cell_type": "code",
   "execution_count": 4,
   "metadata": {
    "collapsed": true
   },
   "outputs": [],
   "source": [
    "# optional: give it linearly dependent columns\n",
    "# X[:,2] = X[:,1]"
   ]
  },
  {
   "cell_type": "markdown",
   "metadata": {},
   "source": [
    "## Understanding the pseudoinverse"
   ]
  },
  {
   "cell_type": "code",
   "execution_count": 5,
   "metadata": {
    "collapsed": true
   },
   "outputs": [],
   "source": [
    "# form pseudoinverse\n",
    "Xd = np.linalg.pinv(X)"
   ]
  },
  {
   "cell_type": "code",
   "execution_count": 6,
   "metadata": {},
   "outputs": [
    {
     "data": {
      "text/plain": [
       "array([[  1.00000000e+00,   3.12250226e-17,  -5.11743425e-17,\n",
       "         -1.80411242e-16],\n",
       "       [ -6.66133815e-16,   1.00000000e+00,  -5.55111512e-16,\n",
       "         -2.22044605e-16],\n",
       "       [ -2.77555756e-17,  -2.06432094e-16,   1.00000000e+00,\n",
       "          1.11022302e-16],\n",
       "       [  2.22044605e-16,   1.11022302e-16,   8.32667268e-17,\n",
       "          1.00000000e+00]])"
      ]
     },
     "execution_count": 6,
     "metadata": {},
     "output_type": "execute_result"
    }
   ],
   "source": [
    "# X†X ≈ I_d\n",
    "np.dot(Xd,X)\n",
    "np.matmul(Xd,X)"
   ]
  },
  {
   "cell_type": "code",
   "execution_count": 7,
   "metadata": {},
   "outputs": [
    {
     "data": {
      "text/plain": [
       "array([[ 0.98360287,  0.12248737,  0.01886647,  0.02005777,  0.01662301,\n",
       "         0.00951475],\n",
       "       [ 0.12248737,  0.03548311, -0.05883995,  0.04165927, -0.06905991,\n",
       "        -0.09619771],\n",
       "       [ 0.01886647, -0.05883995,  0.84222775, -0.3404634 , -0.11047551,\n",
       "         0.03069059],\n",
       "       [ 0.02005777,  0.04165927, -0.3404634 ,  0.23513016, -0.23341564,\n",
       "         0.08548665],\n",
       "       [ 0.01662301, -0.06905991, -0.11047551, -0.23341564,  0.92181927,\n",
       "         0.01830867],\n",
       "       [ 0.00951475, -0.09619771,  0.03069059,  0.08548665,  0.01830867,\n",
       "         0.98173684]])"
      ]
     },
     "execution_count": 7,
     "metadata": {},
     "output_type": "execute_result"
    }
   ],
   "source": [
    "# XX† !≈ I_n\n",
    "np.dot(X,Xd)"
   ]
  },
  {
   "cell_type": "code",
   "execution_count": 8,
   "metadata": {
    "collapsed": true
   },
   "outputs": [],
   "source": [
    "Q,R = np.linalg.qr(X)"
   ]
  },
  {
   "cell_type": "code",
   "execution_count": 9,
   "metadata": {},
   "outputs": [
    {
     "data": {
      "text/plain": [
       "array([[-0.80793942, -0.49084466,  0.16273748, -0.2518428 ],\n",
       "       [-0.0647065 , -0.03940912,  0.11818432, -0.12560083],\n",
       "       [-0.19058588,  0.13394586, -0.84535442, -0.2708121 ],\n",
       "       [-0.07355343,  0.19707139,  0.43373535,  0.05250301],\n",
       "       [ 0.26122546, -0.77066799, -0.20040447,  0.46849698],\n",
       "       [-0.48277856,  0.326819  , -0.12898288,  0.79070504]])"
      ]
     },
     "execution_count": 9,
     "metadata": {},
     "output_type": "execute_result"
    }
   ],
   "source": [
    "Q"
   ]
  },
  {
   "cell_type": "code",
   "execution_count": 10,
   "metadata": {},
   "outputs": [
    {
     "data": {
      "text/plain": [
       "array([[-3.13634085,  0.97987361, -0.99422615, -0.19898412],\n",
       "       [ 0.        , -1.75140275,  1.20554948,  1.74043898],\n",
       "       [ 0.        ,  0.        ,  1.11948714, -0.22360831],\n",
       "       [ 0.        ,  0.        ,  0.        , -3.11367904]])"
      ]
     },
     "execution_count": 10,
     "metadata": {},
     "output_type": "execute_result"
    }
   ],
   "source": [
    "R"
   ]
  },
  {
   "cell_type": "code",
   "execution_count": 11,
   "metadata": {},
   "outputs": [
    {
     "data": {
      "text/plain": [
       "array([[  1.00000000e+00,  -3.54399873e-17,   3.59591080e-17,\n",
       "         -6.72603615e-17],\n",
       "       [ -3.54399873e-17,   1.00000000e+00,   1.30071649e-16,\n",
       "         -7.57974982e-17],\n",
       "       [  3.59591080e-17,   1.30071649e-16,   1.00000000e+00,\n",
       "         -7.08979630e-17],\n",
       "       [ -6.72603615e-17,  -7.57974982e-17,  -7.08979630e-17,\n",
       "          1.00000000e+00]])"
      ]
     },
     "execution_count": 11,
     "metadata": {},
     "output_type": "execute_result"
    }
   ],
   "source": [
    "np.dot(np.transpose(Q),Q)"
   ]
  },
  {
   "cell_type": "code",
   "execution_count": 12,
   "metadata": {
    "collapsed": true
   },
   "outputs": [],
   "source": [
    "# form data from noisy linear model\n",
    "wn = np.random.randn(d)\n",
    "y = np.dot(X,wn) + .1*np.random.randn(n)"
   ]
  },
  {
   "cell_type": "code",
   "execution_count": 13,
   "metadata": {
    "collapsed": true
   },
   "outputs": [],
   "source": [
    "# solve least squares problem to estimate w\n",
    "w,resid,rank,s = np.linalg.lstsq(R,np.dot(np.transpose(Q),y))"
   ]
  },
  {
   "cell_type": "code",
   "execution_count": 14,
   "metadata": {},
   "outputs": [
    {
     "data": {
      "text/plain": [
       "0.056414437291891842"
      ]
     },
     "execution_count": 14,
     "metadata": {},
     "output_type": "execute_result"
    }
   ],
   "source": [
    "# how good is our estimate?\n",
    "np.linalg.norm(w - wn)"
   ]
  },
  {
   "cell_type": "code",
   "execution_count": 15,
   "metadata": {},
   "outputs": [
    {
     "data": {
      "text/plain": [
       "0.0013961988896388216"
      ]
     },
     "execution_count": 15,
     "metadata": {},
     "output_type": "execute_result"
    }
   ],
   "source": [
    "# compute mean square error\n",
    "np.mean((y - np.dot(X,w))**2)"
   ]
  },
  {
   "cell_type": "code",
   "execution_count": 16,
   "metadata": {},
   "outputs": [
    {
     "data": {
      "text/plain": [
       "9.3590220573910122e-16"
      ]
     },
     "execution_count": 16,
     "metadata": {},
     "output_type": "execute_result"
    }
   ],
   "source": [
    "# let's use the shorthand\n",
    "w_backslash,resid,rank,s = np.linalg.lstsq(X,y)\n",
    "np.linalg.norm(w_backslash - w)"
   ]
  },
  {
   "cell_type": "code",
   "execution_count": 17,
   "metadata": {},
   "outputs": [
    {
     "data": {
      "text/plain": [
       "array([-0.10513049,  1.58268384,  2.13643905,  0.85134259])"
      ]
     },
     "execution_count": 17,
     "metadata": {},
     "output_type": "execute_result"
    }
   ],
   "source": [
    "w_backslash"
   ]
  }
 ],
 "metadata": {
  "kernelspec": {
   "display_name": "Python 3",
   "language": "python",
   "name": "python3"
  },
  "language_info": {
   "codemirror_mode": {
    "name": "ipython",
    "version": 3
   },
   "file_extension": ".py",
   "mimetype": "text/x-python",
   "name": "python",
   "nbconvert_exporter": "python",
   "pygments_lexer": "ipython3",
   "version": "3.6.1"
  }
 },
 "nbformat": 4,
 "nbformat_minor": 2
}
