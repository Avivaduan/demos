{
 "cells": [
  {
   "cell_type": "code",
   "execution_count": 14,
   "metadata": {
    "collapsed": true
   },
   "outputs": [],
   "source": [
    "import numpy as np"
   ]
  },
  {
   "cell_type": "code",
   "execution_count": 15,
   "metadata": {
    "collapsed": true
   },
   "outputs": [],
   "source": [
    "# generate random data matrix\n",
    "n,d = 6,4\n",
    "X = np.random.randn(n,d)"
   ]
  },
  {
   "cell_type": "code",
   "execution_count": 16,
   "metadata": {
    "collapsed": true
   },
   "outputs": [],
   "source": [
    "# optional: give it linearly dependent columns\n",
    "#X[:,2] = X[:,1]"
   ]
  },
  {
   "cell_type": "code",
   "execution_count": 17,
   "metadata": {
    "collapsed": true
   },
   "outputs": [],
   "source": [
    "U,sigma,V = np.linalg.svd(X, full_matrices=0) # M = 6, N = 4"
   ]
  },
  {
   "cell_type": "code",
   "execution_count": 18,
   "metadata": {},
   "outputs": [
    {
     "data": {
      "text/plain": [
       "array([[  1.00000000e+00,   2.84790810e-16,   3.20260468e-17,\n",
       "          1.08370681e-16],\n",
       "       [  2.84790810e-16,   1.00000000e+00,   2.80902230e-16,\n",
       "          2.47045532e-17],\n",
       "       [  3.20260468e-17,   2.80902230e-16,   1.00000000e+00,\n",
       "          2.28063581e-17],\n",
       "       [  1.08370681e-16,   2.47045532e-17,   2.28063581e-17,\n",
       "          1.00000000e+00]])"
      ]
     },
     "execution_count": 18,
     "metadata": {},
     "output_type": "execute_result"
    }
   ],
   "source": [
    "np.dot(np.transpose(U),U)"
   ]
  },
  {
   "cell_type": "code",
   "execution_count": 19,
   "metadata": {},
   "outputs": [
    {
     "data": {
      "text/plain": [
       "array([[  1.00000000e+00,   0.00000000e+00,  -2.77555756e-17,\n",
       "         -1.94289029e-16],\n",
       "       [  0.00000000e+00,   1.00000000e+00,  -8.32667268e-17,\n",
       "          0.00000000e+00],\n",
       "       [ -2.77555756e-17,  -8.32667268e-17,   1.00000000e+00,\n",
       "         -1.66533454e-16],\n",
       "       [ -1.94289029e-16,   0.00000000e+00,  -1.66533454e-16,\n",
       "          1.00000000e+00]])"
      ]
     },
     "execution_count": 19,
     "metadata": {},
     "output_type": "execute_result"
    }
   ],
   "source": [
    "np.dot(np.transpose(V),V)"
   ]
  },
  {
   "cell_type": "code",
   "execution_count": 20,
   "metadata": {},
   "outputs": [
    {
     "data": {
      "text/plain": [
       "array([ 3.87963681,  2.03238934,  1.35163362,  0.32659539])"
      ]
     },
     "execution_count": 20,
     "metadata": {},
     "output_type": "execute_result"
    }
   ],
   "source": [
    "sigma"
   ]
  },
  {
   "cell_type": "code",
   "execution_count": 21,
   "metadata": {},
   "outputs": [
    {
     "data": {
      "text/plain": [
       "4.683452852778931"
      ]
     },
     "execution_count": 21,
     "metadata": {},
     "output_type": "execute_result"
    }
   ],
   "source": [
    "# decomposition is just as good if we ignore the 0 in sigma and reduce r by 1\n",
    "np.linalg.norm(X - np.dot(np.dot(U[:,0:3],np.diag(sigma[0:3])),np.transpose(V[:,0:3])))"
   ]
  },
  {
   "cell_type": "code",
   "execution_count": 22,
   "metadata": {
    "collapsed": true
   },
   "outputs": [],
   "source": [
    "# form data from noisy linear model\n",
    "wn = np.random.randn(d)\n",
    "y = np.dot(X,wn) + .1*np.random.randn(n)"
   ]
  },
  {
   "cell_type": "code",
   "execution_count": 23,
   "metadata": {
    "collapsed": true
   },
   "outputs": [],
   "source": [
    "# solve least squares problem to estimate w\n",
    "w = np.dot(np.dot(np.dot(V,np.diag(sigma**(-1))),np.transpose(U)),y)\n",
    "# w = np.dot(np.dot(np.dot(V[:,0:3],np.diag(sigma[0:3]**(-1))),np.transpose(U[:,0:3])),y)"
   ]
  },
  {
   "cell_type": "code",
   "execution_count": 24,
   "metadata": {},
   "outputs": [
    {
     "data": {
      "text/plain": [
       "0.43690075966676073"
      ]
     },
     "execution_count": 24,
     "metadata": {},
     "output_type": "execute_result"
    }
   ],
   "source": [
    "# how good is our estimate?\n",
    "np.linalg.norm(w - wn)"
   ]
  },
  {
   "cell_type": "code",
   "execution_count": 25,
   "metadata": {},
   "outputs": [
    {
     "data": {
      "text/plain": [
       "0.32304866154405798"
      ]
     },
     "execution_count": 25,
     "metadata": {},
     "output_type": "execute_result"
    }
   ],
   "source": [
    "# compute mean square error\n",
    "np.mean((y - np.dot(X,w))**2)"
   ]
  },
  {
   "cell_type": "code",
   "execution_count": 26,
   "metadata": {},
   "outputs": [
    {
     "data": {
      "text/plain": [
       "0.69744648139829368"
      ]
     },
     "execution_count": 26,
     "metadata": {},
     "output_type": "execute_result"
    }
   ],
   "source": [
    "# let's use the shorthand\n",
    "w_backslash,resid,rank,s = np.linalg.lstsq(X,y)\n",
    "np.linalg.norm(w_backslash - w)"
   ]
  }
 ],
 "metadata": {
  "kernelspec": {
   "display_name": "Python 3",
   "language": "python",
   "name": "python3"
  },
  "language_info": {
   "codemirror_mode": {
    "name": "ipython",
    "version": 3
   },
   "file_extension": ".py",
   "mimetype": "text/x-python",
   "name": "python",
   "nbconvert_exporter": "python",
   "pygments_lexer": "ipython3",
   "version": "3.6.1"
  }
 },
 "nbformat": 4,
 "nbformat_minor": 2
}
