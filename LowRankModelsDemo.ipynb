{
 "cells": [
  {
   "cell_type": "code",
   "execution_count": 1,
   "metadata": {},
   "outputs": [
    {
     "name": "stderr",
     "output_type": "stream",
     "text": [
      "WARNING: Method definition ==(Base.Nullable{S}, Base.Nullable{T}) in module Base at nullable.jl:238 overwritten in module NullableArrays at /Users/madeleine/.julia/v0.6/NullableArrays/src/operators.jl:128.\n"
     ]
    }
   ],
   "source": [
    "# Pkg.checkout(\"LowRankModels\")\n",
    "using LowRankModels, Plots"
   ]
  },
  {
   "cell_type": "markdown",
   "metadata": {},
   "source": [
    "LowRankModels.jl is a julia package for modeling and fitting generalized low rank models (GLRMs). GLRMs model a data array by a low rank matrix, and include many well known models in data analysis, such as principal components analysis (PCA), matrix completion, robust PCA, nonnegative matrix factorization, k-means, and many more."
   ]
  },
  {
   "cell_type": "markdown",
   "metadata": {},
   "source": [
    "LowRankModels.jl makes it easy to mix and match loss functions and regularizers to construct a model suitable for a particular data set. In particular, it supports\n",
    "\n",
    "   * using different loss functions for different columns of the data array, which is useful when data types are heterogeneous (eg, real, boolean, and ordinal columns);\n",
    "   * fitting the model to only some of the entries in the table, which is useful for data tables with many missing (unobserved) entries; and\n",
    "   * adding offsets and scalings to the model without destroying sparsity, which is useful when the data is poorly scaled.\n"
   ]
  },
  {
   "cell_type": "markdown",
   "metadata": {},
   "source": [
    "# Losses"
   ]
  },
  {
   "cell_type": "markdown",
   "metadata": {},
   "source": [
    "You've already seen most of the loss function available in LowRankModels.\n",
    "\n",
    "For real valued $y$, try:\n",
    "   * quadratic loss - `QuadLoss()`\n",
    "   * $\\ell_1$ loss - `L1Loss()`\n",
    "   * quantile loss (for $\\alpha$ quantile) - `QuantileLoss(α)`\n",
    " \n",
    "For Boolean $y$, try\n",
    "   * hinge loss - `HingeLoss()`\n",
    "   * logistic loss - `LogisticLoss()`\n",
    "   * weighted hinge loss - `WeightedHingeLoss()`\n",
    "\n",
    "For nominal $y$, try\n",
    "   * multinomial loss - `MultinomialLoss()`\n",
    "   * one vs all loss - `OvALoss()`\n",
    "       * (by default, it uses the logistic loss for the underlying binary classifier)\n",
    "\n",
    "For ordinal $y$, try\n",
    "   * ordinal hinge loss - `OrdinalHingeLoss()`\n",
    "   * bigger vs smaller loss - `BvSLoss()`\n",
    "       * (by default, it uses the logistic loss for the underlying binary classifier)"
   ]
  },
  {
   "cell_type": "code",
   "execution_count": 2,
   "metadata": {},
   "outputs": [
    {
     "data": {
      "text/plain": [
       "LowRankModels.QuadLoss(1.0, LowRankModels.RealDomain())"
      ]
     },
     "execution_count": 2,
     "metadata": {},
     "output_type": "execute_result"
    }
   ],
   "source": [
    "# example loss function\n",
    "loss = QuadLoss()"
   ]
  },
  {
   "cell_type": "markdown",
   "metadata": {},
   "source": [
    "# Regularizer"
   ]
  },
  {
   "cell_type": "markdown",
   "metadata": {},
   "source": [
    "We've also seen many of the regularizers available:\n",
    "\n",
    "   * no regularization - `ZeroReg()`\n",
    "   * quadratic regularization - `QuadReg()`\n",
    "   * $\\ell_1$ regularization - `OneReg()`\n",
    "   * nonnegative constraint - `NonNegConstraint()`\n",
    "   * constrained squared euclidean norm - `QuadConstraint()`\n",
    "   * nonnegative constraint - `NonNegConstraint()` (eg, for nonnegative matrix factorization)\n",
    "   * 1-sparse constraint - `OneSparseConstraint()` (eg, for orthogonal NNMF)\n",
    "   * unit 1-sparse constraint - `UnitOneSparseConstraint()` (eg, for k-means)\n",
    "   * simplex constraint - `SimplexConstraint()`\n",
    "   * l1 regularization, combined with nonnegative constraint - `NonNegOneReg()`\n",
    "   * fix features at values y0 - `FixedLatentFeaturesConstraint(y0)`"
   ]
  },
  {
   "cell_type": "code",
   "execution_count": 5,
   "metadata": {},
   "outputs": [
    {
     "data": {
      "text/plain": [
       "LowRankModels.QuadReg(1.0)"
      ]
     },
     "execution_count": 5,
     "metadata": {},
     "output_type": "execute_result"
    }
   ],
   "source": [
    "# regularizers\n",
    "lambda = 1\n",
    "\n",
    "nonneg = NonNegConstraint()\n",
    "l1 = OneReg(lambda)\n",
    "l2 = QuadReg(lambda)"
   ]
  },
  {
   "cell_type": "markdown",
   "metadata": {},
   "source": [
    "# Generalized Low Rank Models"
   ]
  },
  {
   "cell_type": "markdown",
   "metadata": {},
   "source": [
    "GLRMs form a low rank model for tabular data A with m rows and n columns, which can be input as an array or any array-like object (for example, a data frame). It is fine if only some of the entries have been observed (i.e., the others are missing or NA); the GLRM will only be fit on the observed entries $\\Omega$.\n",
    "\n",
    "The desired model is specified by choosing a rank k for the model, an array of loss functions losses, and two regularizers, $r_x$ and $r_w$. The data is modeled as $X^TW$, where $X$ is a $k\\times m$ matrix and $W$ is a $k\\times n$ matrix. $X$ and $W$ are found by solving the optimization problem\n",
    "\n",
    "$$\\min \\sum_{(i,j) \\in \\Omega} \\ell_j\\bigg((X^TW)[i,j], Y[i,j]\\bigg) + \\sum_i r_x(X[:,i]) + \\sum_j r_y(W[:,j])$$\n",
    "\n",
    "To form a GLRM, the user specifies\n",
    "\n",
    "   * the data $Y$ (any AbstractArray, such as an array, a sparse matrix, or a data frame)\n",
    "   * the array of loss functions $\\ell$\n",
    "   * the regularizers $r_x$ and $r_w$\n",
    "   * the rank $k$\n",
    "   * the observations $\\Omega$\n"
   ]
  },
  {
   "cell_type": "code",
   "execution_count": 16,
   "metadata": {},
   "outputs": [],
   "source": [
    "# example\n",
    "Y = randn(10, 10)\n",
    "loss = QuadLoss()\n",
    "nonneg = NonNegConstraint()\n",
    "k = 5\n",
    "Ω = [(rand(1:10), rand(1:10)) for iobs in 1:50] # observe 50 random entries, with replacement\n",
    "glrm = GLRM(Y, loss, nonneg, nonneg, k, obs=Ω);"
   ]
  },
  {
   "cell_type": "code",
   "execution_count": 17,
   "metadata": {},
   "outputs": [
    {
     "name": "stdout",
     "output_type": "stream",
     "text": [
      "Fitting GLRM\n",
      "Iteration 10: objective value = 42.79839807412798\n",
      "Iteration 20: objective value = 42.44305181292925\n",
      "Iteration 30: objective value = 41.84121984741759\n",
      "Iteration 40: objective value = 41.08316075366379\n",
      "Iteration 50: objective value = 40.08735510405551\n",
      "Iteration 60: objective value = 39.4364160191657\n",
      "Iteration 70: objective value = 39.13681059192923\n",
      "Iteration 80: objective value = 38.51283316709613\n",
      "Iteration 90: objective value = 37.56213590292802\n",
      "Iteration 100: objective value = 37.145576477529\n"
     ]
    },
    {
     "data": {
      "text/plain": [
       "([0.0 0.0 … 0.0 0.0; 0.0 0.141492 … 0.0 0.0; … ; 0.0 0.156508 … 0.0 0.0; 0.0 0.0229811 … 0.0 0.0], [0.878387 1.88879 … 0.205348 0.0; 0.0 0.0 … 18.6921 1.93398; … ; 0.0 0.0 … 0.0 2.13423; 0.0 0.0 … 0.0 0.314117], LowRankModels.ConvergenceHistory(\"ProxGradGLRM\", [Inf, 7.84535e5, 48.3097, 44.7384, 43.7999, 43.2805, 43.1153, 43.0221, 42.9711, 42.8486  …  37.472, 37.3815, 37.3368, 37.3042, 37.2725, 37.2436, 37.2171, 37.1914, 37.1675, 37.1456], Float64[], [0.0, 0.0, 0.0, 0.0, 0.0, 0.0, 0.0, 0.0, 0.0, 0.0  …  0.0, 0.0, 0.0, 0.0, 0.0, 0.0, 0.0, 0.0, 0.0, 0.0], [0.0, 0.0, 0.0, 0.0, 0.0, 0.0, 0.0, 0.0, 0.0, 0.0  …  0.0, 0.0, 0.0, 0.0, 0.0, 0.0, 0.0, 0.0, 0.0, 0.0], [0.0, 0.00062108, 0.00191307, 0.00327301, 0.00387096, 0.00439882, 0.00491595, 0.00539303, 0.00587893, 0.00636888  …  0.0351872, 0.0356302, 0.0358822, 0.0363371, 0.0365932, 0.0369854, 0.0374954, 0.0380075, 0.0386164, 0.0388873], [0.0, 0.0, 0.0, 0.0, 0.0, 0.0, 0.0, 0.0, 0.0, 0.0  …  0.0, 0.0, 0.0, 0.0, 0.0, 0.0, 0.0, 0.0, 0.0, 0.0], 0))"
      ]
     },
     "execution_count": 17,
     "metadata": {},
     "output_type": "execute_result"
    }
   ],
   "source": [
    "# To fit the model, call\n",
    "X,W,ch = fit!(glrm);"
   ]
  },
  {
   "cell_type": "code",
   "execution_count": 27,
   "metadata": {},
   "outputs": [
    {
     "data": {
      "text/html": [
       "<?xml version=\"1.0\" encoding=\"utf-8\"?>\n",
       "<svg xmlns=\"http://www.w3.org/2000/svg\" xmlns:xlink=\"http://www.w3.org/1999/xlink\" width=\"600\" height=\"400\" viewBox=\"0 0 600 400\">\n",
       "<defs>\n",
       "  <clipPath id=\"clip00\">\n",
       "    <rect x=\"0\" y=\"0\" width=\"600\" height=\"400\"/>\n",
       "  </clipPath>\n",
       "</defs>\n",
       "<polygon clip-path=\"url(#clip00)\" points=\"\n",
       "0,400 600,400 600,0 0,0 \n",
       "  \" fill=\"#ffffff\" fill-opacity=\"1\"/>\n",
       "<defs>\n",
       "  <clipPath id=\"clip01\">\n",
       "    <rect x=\"120\" y=\"0\" width=\"421\" height=\"400\"/>\n",
       "  </clipPath>\n",
       "</defs>\n",
       "<polygon clip-path=\"url(#clip00)\" points=\"\n",
       "55.1181,372.441 592.126,372.441 592.126,7.87402 55.1181,7.87402 \n",
       "  \" fill=\"#ffffff\" fill-opacity=\"1\"/>\n",
       "<defs>\n",
       "  <clipPath id=\"clip02\">\n",
       "    <rect x=\"55\" y=\"7\" width=\"538\" height=\"366\"/>\n",
       "  </clipPath>\n",
       "</defs>\n",
       "<polyline clip-path=\"url(#clip02)\" style=\"stroke:#000000; stroke-width:1; stroke-opacity:0.5; fill:none\" stroke-dasharray=\"1, 2\" points=\"\n",
       "  185.302,366.972 185.302,13.3425 \n",
       "  \"/>\n",
       "<polyline clip-path=\"url(#clip02)\" style=\"stroke:#000000; stroke-width:1; stroke-opacity:0.5; fill:none\" stroke-dasharray=\"1, 2\" points=\"\n",
       "  320.91,366.972 320.91,13.3425 \n",
       "  \"/>\n",
       "<polyline clip-path=\"url(#clip02)\" style=\"stroke:#000000; stroke-width:1; stroke-opacity:0.5; fill:none\" stroke-dasharray=\"1, 2\" points=\"\n",
       "  456.518,366.972 456.518,13.3425 \n",
       "  \"/>\n",
       "<polyline clip-path=\"url(#clip02)\" style=\"stroke:#000000; stroke-width:1; stroke-opacity:0.5; fill:none\" stroke-dasharray=\"1, 2\" points=\"\n",
       "  592.126,366.972 592.126,13.3425 \n",
       "  \"/>\n",
       "<polyline clip-path=\"url(#clip02)\" style=\"stroke:#000000; stroke-width:1; stroke-opacity:0.5; fill:none\" stroke-dasharray=\"1, 2\" points=\"\n",
       "  63.1732,336.185 584.071,336.185 \n",
       "  \"/>\n",
       "<polyline clip-path=\"url(#clip02)\" style=\"stroke:#000000; stroke-width:1; stroke-opacity:0.5; fill:none\" stroke-dasharray=\"1, 2\" points=\"\n",
       "  63.1732,251.886 584.071,251.886 \n",
       "  \"/>\n",
       "<polyline clip-path=\"url(#clip02)\" style=\"stroke:#000000; stroke-width:1; stroke-opacity:0.5; fill:none\" stroke-dasharray=\"1, 2\" points=\"\n",
       "  63.1732,167.587 584.071,167.587 \n",
       "  \"/>\n",
       "<polyline clip-path=\"url(#clip02)\" style=\"stroke:#000000; stroke-width:1; stroke-opacity:0.5; fill:none\" stroke-dasharray=\"1, 2\" points=\"\n",
       "  63.1732,83.2887 584.071,83.2887 \n",
       "  \"/>\n",
       "<polyline clip-path=\"url(#clip00)\" style=\"stroke:#000000; stroke-width:1; stroke-opacity:1; fill:none\" points=\"\n",
       "  55.1181,372.441 592.126,372.441 \n",
       "  \"/>\n",
       "<polyline clip-path=\"url(#clip00)\" style=\"stroke:#000000; stroke-width:1; stroke-opacity:1; fill:none\" points=\"\n",
       "  185.302,372.441 185.302,366.972 \n",
       "  \"/>\n",
       "<polyline clip-path=\"url(#clip00)\" style=\"stroke:#000000; stroke-width:1; stroke-opacity:1; fill:none\" points=\"\n",
       "  320.91,372.441 320.91,366.972 \n",
       "  \"/>\n",
       "<polyline clip-path=\"url(#clip00)\" style=\"stroke:#000000; stroke-width:1; stroke-opacity:1; fill:none\" points=\"\n",
       "  456.518,372.441 456.518,366.972 \n",
       "  \"/>\n",
       "<polyline clip-path=\"url(#clip00)\" style=\"stroke:#000000; stroke-width:1; stroke-opacity:1; fill:none\" points=\"\n",
       "  592.126,372.441 592.126,366.972 \n",
       "  \"/>\n",
       "<polyline clip-path=\"url(#clip00)\" style=\"stroke:#000000; stroke-width:1; stroke-opacity:1; fill:none\" points=\"\n",
       "  55.1181,372.441 55.1181,7.87402 \n",
       "  \"/>\n",
       "<polyline clip-path=\"url(#clip00)\" style=\"stroke:#000000; stroke-width:1; stroke-opacity:1; fill:none\" points=\"\n",
       "  55.1181,336.185 63.1732,336.185 \n",
       "  \"/>\n",
       "<polyline clip-path=\"url(#clip00)\" style=\"stroke:#000000; stroke-width:1; stroke-opacity:1; fill:none\" points=\"\n",
       "  55.1181,251.886 63.1732,251.886 \n",
       "  \"/>\n",
       "<polyline clip-path=\"url(#clip00)\" style=\"stroke:#000000; stroke-width:1; stroke-opacity:1; fill:none\" points=\"\n",
       "  55.1181,167.587 63.1732,167.587 \n",
       "  \"/>\n",
       "<polyline clip-path=\"url(#clip00)\" style=\"stroke:#000000; stroke-width:1; stroke-opacity:1; fill:none\" points=\"\n",
       "  55.1181,83.2887 63.1732,83.2887 \n",
       "  \"/>\n",
       "<g clip-path=\"url(#clip00)\">\n",
       "<text style=\"fill:#000000; fill-opacity:1; font-family:Arial,Helvetica Neue,Helvetica,sans-serif; font-size:12; text-anchor:middle;\" transform=\"rotate(0, 185.302, 386.241)\" x=\"185.302\" y=\"386.241\">25</text>\n",
       "</g>\n",
       "<g clip-path=\"url(#clip00)\">\n",
       "<text style=\"fill:#000000; fill-opacity:1; font-family:Arial,Helvetica Neue,Helvetica,sans-serif; font-size:12; text-anchor:middle;\" transform=\"rotate(0, 320.91, 386.241)\" x=\"320.91\" y=\"386.241\">50</text>\n",
       "</g>\n",
       "<g clip-path=\"url(#clip00)\">\n",
       "<text style=\"fill:#000000; fill-opacity:1; font-family:Arial,Helvetica Neue,Helvetica,sans-serif; font-size:12; text-anchor:middle;\" transform=\"rotate(0, 456.518, 386.241)\" x=\"456.518\" y=\"386.241\">75</text>\n",
       "</g>\n",
       "<g clip-path=\"url(#clip00)\">\n",
       "<text style=\"fill:#000000; fill-opacity:1; font-family:Arial,Helvetica Neue,Helvetica,sans-serif; font-size:12; text-anchor:middle;\" transform=\"rotate(0, 592.126, 386.241)\" x=\"592.126\" y=\"386.241\">100</text>\n",
       "</g>\n",
       "<g clip-path=\"url(#clip00)\">\n",
       "<text style=\"fill:#000000; fill-opacity:1; font-family:Arial,Helvetica Neue,Helvetica,sans-serif; font-size:12; text-anchor:start;\" transform=\"rotate(0, 30.5848, 342.117)\" x=\"30.5848\" y=\"342.117\">10</text>\n",
       "</g>\n",
       "<g clip-path=\"url(#clip00)\">\n",
       "<text style=\"fill:#000000; fill-opacity:1; font-family:Arial,Helvetica Neue,Helvetica,sans-serif; font-size:10; text-anchor:start;\" transform=\"rotate(0, 43.764, 335.264)\" x=\"43.764\" y=\"335.264\">2</text>\n",
       "</g>\n",
       "<g clip-path=\"url(#clip00)\">\n",
       "<text style=\"fill:#000000; fill-opacity:1; font-family:Arial,Helvetica Neue,Helvetica,sans-serif; font-size:12; text-anchor:start;\" transform=\"rotate(0, 30.5848, 257.818)\" x=\"30.5848\" y=\"257.818\">10</text>\n",
       "</g>\n",
       "<g clip-path=\"url(#clip00)\">\n",
       "<text style=\"fill:#000000; fill-opacity:1; font-family:Arial,Helvetica Neue,Helvetica,sans-serif; font-size:10; text-anchor:start;\" transform=\"rotate(0, 43.764, 250.965)\" x=\"43.764\" y=\"250.965\">3</text>\n",
       "</g>\n",
       "<g clip-path=\"url(#clip00)\">\n",
       "<text style=\"fill:#000000; fill-opacity:1; font-family:Arial,Helvetica Neue,Helvetica,sans-serif; font-size:12; text-anchor:start;\" transform=\"rotate(0, 30.5848, 173.519)\" x=\"30.5848\" y=\"173.519\">10</text>\n",
       "</g>\n",
       "<g clip-path=\"url(#clip00)\">\n",
       "<text style=\"fill:#000000; fill-opacity:1; font-family:Arial,Helvetica Neue,Helvetica,sans-serif; font-size:10; text-anchor:start;\" transform=\"rotate(0, 43.764, 166.667)\" x=\"43.764\" y=\"166.667\">4</text>\n",
       "</g>\n",
       "<g clip-path=\"url(#clip00)\">\n",
       "<text style=\"fill:#000000; fill-opacity:1; font-family:Arial,Helvetica Neue,Helvetica,sans-serif; font-size:12; text-anchor:start;\" transform=\"rotate(0, 30.5848, 89.2206)\" x=\"30.5848\" y=\"89.2206\">10</text>\n",
       "</g>\n",
       "<g clip-path=\"url(#clip00)\">\n",
       "<text style=\"fill:#000000; fill-opacity:1; font-family:Arial,Helvetica Neue,Helvetica,sans-serif; font-size:10; text-anchor:start;\" transform=\"rotate(0, 43.764, 82.368)\" x=\"43.764\" y=\"82.368\">5</text>\n",
       "</g>\n",
       "<g clip-path=\"url(#clip00)\">\n",
       "<text style=\"fill:#000000; fill-opacity:1; font-family:Arial,Helvetica Neue,Helvetica,sans-serif; font-size:16; text-anchor:middle;\" transform=\"rotate(0, 323.622, 397.6)\" x=\"323.622\" y=\"397.6\">iteration</text>\n",
       "</g>\n",
       "<g clip-path=\"url(#clip00)\">\n",
       "<text style=\"fill:#000000; fill-opacity:1; font-family:Arial,Helvetica Neue,Helvetica,sans-serif; font-size:16; text-anchor:middle;\" transform=\"rotate(-90, 14.4, 190.157)\" x=\"14.4\" y=\"190.157\">objective</text>\n",
       "</g>\n",
       "<polyline clip-path=\"url(#clip02)\" style=\"stroke:#009af9; stroke-width:1; stroke-opacity:1; fill:none\" points=\"\n",
       "  55.1181,7.87402 60.5424,362.82 65.9668,365.632 71.3911,366.408 76.8154,366.845 82.2397,366.985 87.664,367.064 93.0884,367.107 98.5127,367.212 103.937,367.255 \n",
       "  109.361,367.288 114.786,367.318 120.21,367.345 125.634,367.37 131.059,367.395 136.483,367.421 141.907,367.45 147.332,367.483 152.756,367.52 158.18,367.56 \n",
       "  163.605,367.603 169.029,367.649 174.453,367.697 179.878,367.746 185.302,367.798 190.726,367.852 196.15,367.908 201.575,367.965 206.999,368.023 212.423,368.083 \n",
       "  217.848,368.144 223.272,368.207 228.696,368.271 234.121,368.336 239.545,368.401 244.969,368.469 250.394,368.539 255.818,368.611 261.242,368.682 266.667,368.752 \n",
       "  272.091,368.822 277.515,368.897 282.94,368.973 288.364,369.051 293.788,369.133 299.213,369.219 304.637,369.313 310.061,369.42 315.486,369.546 320.91,369.651 \n",
       "  326.334,369.763 331.759,369.87 337.183,369.928 342.607,369.98 348.031,370.029 353.456,370.076 358.88,370.125 364.304,370.17 369.729,370.211 375.153,370.25 \n",
       "  380.577,370.286 386.002,370.319 391.426,370.349 396.85,370.377 402.275,370.404 407.699,370.428 413.123,370.452 418.548,370.476 423.972,370.502 429.396,370.529 \n",
       "  434.821,370.574 440.245,370.612 445.669,370.662 451.094,370.71 456.518,370.759 461.942,370.827 467.367,370.889 472.791,370.967 478.215,371.038 483.64,371.118 \n",
       "  489.064,371.207 494.488,371.29 499.913,371.387 505.337,371.474 510.761,371.573 516.185,371.662 521.61,371.76 527.034,371.848 532.458,371.942 537.883,372.033 \n",
       "  543.307,372.121 548.731,372.209 554.156,372.253 559.58,372.285 565.004,372.316 570.429,372.345 575.853,372.37 581.277,372.396 586.702,372.419 592.126,372.441 \n",
       "  \n",
       "  \"/>\n",
       "<polygon clip-path=\"url(#clip00)\" points=\"\n",
       "501.61,58.994 574.126,58.994 574.126,28.754 501.61,28.754 \n",
       "  \" fill=\"#ffffff\" fill-opacity=\"1\"/>\n",
       "<polyline clip-path=\"url(#clip00)\" style=\"stroke:#000000; stroke-width:1; stroke-opacity:1; fill:none\" points=\"\n",
       "  501.61,58.994 574.126,58.994 574.126,28.754 501.61,28.754 501.61,58.994 \n",
       "  \"/>\n",
       "<polyline clip-path=\"url(#clip00)\" style=\"stroke:#009af9; stroke-width:1; stroke-opacity:1; fill:none\" points=\"\n",
       "  507.61,43.874 543.61,43.874 \n",
       "  \"/>\n",
       "<g clip-path=\"url(#clip00)\">\n",
       "<text style=\"fill:#000000; fill-opacity:1; font-family:Arial,Helvetica Neue,Helvetica,sans-serif; font-size:12; text-anchor:start;\" transform=\"rotate(0, 549.61, 48.374)\" x=\"549.61\" y=\"48.374\">y1</text>\n",
       "</g>\n",
       "</svg>\n"
      ]
     },
     "execution_count": 27,
     "metadata": {},
     "output_type": "execute_result"
    }
   ],
   "source": [
    "# did it converge? \n",
    "plot(ch.objective[2:end])\n",
    "xlabel!(\"iteration\")\n",
    "ylabel!(\"objective\")\n",
    "yaxis!(:log)"
   ]
  },
  {
   "cell_type": "markdown",
   "metadata": {},
   "source": [
    "This runs an alternating directions proximal gradient method on glrm to find the $X$ and $W$ minimizing the objective function."
   ]
  },
  {
   "cell_type": "code",
   "execution_count": 18,
   "metadata": {},
   "outputs": [
    {
     "data": {
      "text/plain": [
       "5×10 Array{Float64,2}:\n",
       " 0.0  0.0        0.0       0.0       …  0.0        0.389987  0.0       0.0\n",
       " 0.0  0.141492   0.0       5.53853      0.0963035  0.0       0.0       0.0\n",
       " 0.0  0.0        0.116017  0.0          0.0        0.0       0.138903  0.0\n",
       " 0.0  0.156508   0.0       2.37337      0.0        0.0       0.0       0.0\n",
       " 0.0  0.0229811  0.0       0.398914     0.0        0.0       0.0       0.0"
      ]
     },
     "execution_count": 18,
     "metadata": {},
     "output_type": "execute_result"
    }
   ],
   "source": [
    "X"
   ]
  },
  {
   "cell_type": "code",
   "execution_count": 19,
   "metadata": {},
   "outputs": [
    {
     "data": {
      "text/plain": [
       "5×10 Array{Float64,2}:\n",
       " 0.878387  1.88879  0.0       0.0      …  11.6352    0.205348  0.0     \n",
       " 0.0       0.0      0.0       2.13951      6.29852  18.6921    1.93398 \n",
       " 0.0       7.29906  0.769214  0.0          0.0       0.0       0.0     \n",
       " 0.0       0.0      0.887849  0.0          1.57364   0.0       2.13423 \n",
       " 0.0       0.0      0.0       0.0          3.17405   0.0       0.314117"
      ]
     },
     "execution_count": 19,
     "metadata": {},
     "output_type": "execute_result"
    }
   ],
   "source": [
    "W"
   ]
  },
  {
   "cell_type": "markdown",
   "metadata": {},
   "source": [
    "To allow further convergence, try running for more iterations. \n",
    "You can just call fit!(glrm) again, or increase the number of iterations."
   ]
  },
  {
   "cell_type": "markdown",
   "metadata": {},
   "source": [
    "# Initialization\n",
    "\n",
    "You'll also often improve convergence, or even converge to a better solution, with good initialization:"
   ]
  },
  {
   "cell_type": "code",
   "execution_count": 31,
   "metadata": {},
   "outputs": [
    {
     "name": "stdout",
     "output_type": "stream",
     "text": [
      "Fitting GLRM\n",
      "Iteration 10: objective value = 19.391931654995187\n",
      "Iteration 20: objective value = 18.869887034619236\n",
      "Iteration 30: objective value = 18.741482514465858\n"
     ]
    },
    {
     "data": {
      "text/html": [
       "<?xml version=\"1.0\" encoding=\"utf-8\"?>\n",
       "<svg xmlns=\"http://www.w3.org/2000/svg\" xmlns:xlink=\"http://www.w3.org/1999/xlink\" width=\"600\" height=\"400\" viewBox=\"0 0 600 400\">\n",
       "<defs>\n",
       "  <clipPath id=\"clip00\">\n",
       "    <rect x=\"0\" y=\"0\" width=\"600\" height=\"400\"/>\n",
       "  </clipPath>\n",
       "</defs>\n",
       "<polygon clip-path=\"url(#clip00)\" points=\"\n",
       "0,400 600,400 600,0 0,0 \n",
       "  \" fill=\"#ffffff\" fill-opacity=\"1\"/>\n",
       "<defs>\n",
       "  <clipPath id=\"clip01\">\n",
       "    <rect x=\"120\" y=\"0\" width=\"421\" height=\"400\"/>\n",
       "  </clipPath>\n",
       "</defs>\n",
       "<polygon clip-path=\"url(#clip00)\" points=\"\n",
       "55.1181,372.441 592.126,372.441 592.126,7.87402 55.1181,7.87402 \n",
       "  \" fill=\"#ffffff\" fill-opacity=\"1\"/>\n",
       "<defs>\n",
       "  <clipPath id=\"clip02\">\n",
       "    <rect x=\"55\" y=\"7\" width=\"538\" height=\"366\"/>\n",
       "  </clipPath>\n",
       "</defs>\n",
       "<polyline clip-path=\"url(#clip02)\" style=\"stroke:#000000; stroke-width:1; stroke-opacity:0.5; fill:none\" stroke-dasharray=\"1, 2\" points=\"\n",
       "  185.742,366.972 185.742,13.3425 \n",
       "  \"/>\n",
       "<polyline clip-path=\"url(#clip02)\" style=\"stroke:#000000; stroke-width:1; stroke-opacity:0.5; fill:none\" stroke-dasharray=\"1, 2\" points=\"\n",
       "  330.879,366.972 330.879,13.3425 \n",
       "  \"/>\n",
       "<polyline clip-path=\"url(#clip02)\" style=\"stroke:#000000; stroke-width:1; stroke-opacity:0.5; fill:none\" stroke-dasharray=\"1, 2\" points=\"\n",
       "  476.016,366.972 476.016,13.3425 \n",
       "  \"/>\n",
       "<polyline clip-path=\"url(#clip02)\" style=\"stroke:#000000; stroke-width:1; stroke-opacity:0.5; fill:none\" stroke-dasharray=\"1, 2\" points=\"\n",
       "  63.1732,285.833 584.071,285.833 \n",
       "  \"/>\n",
       "<polyline clip-path=\"url(#clip02)\" style=\"stroke:#000000; stroke-width:1; stroke-opacity:0.5; fill:none\" stroke-dasharray=\"1, 2\" points=\"\n",
       "  63.1732,190.691 584.071,190.691 \n",
       "  \"/>\n",
       "<polyline clip-path=\"url(#clip02)\" style=\"stroke:#000000; stroke-width:1; stroke-opacity:0.5; fill:none\" stroke-dasharray=\"1, 2\" points=\"\n",
       "  63.1732,95.5483 584.071,95.5483 \n",
       "  \"/>\n",
       "<polyline clip-path=\"url(#clip00)\" style=\"stroke:#000000; stroke-width:1; stroke-opacity:1; fill:none\" points=\"\n",
       "  55.1181,372.441 592.126,372.441 \n",
       "  \"/>\n",
       "<polyline clip-path=\"url(#clip00)\" style=\"stroke:#000000; stroke-width:1; stroke-opacity:1; fill:none\" points=\"\n",
       "  185.742,372.441 185.742,366.972 \n",
       "  \"/>\n",
       "<polyline clip-path=\"url(#clip00)\" style=\"stroke:#000000; stroke-width:1; stroke-opacity:1; fill:none\" points=\"\n",
       "  330.879,372.441 330.879,366.972 \n",
       "  \"/>\n",
       "<polyline clip-path=\"url(#clip00)\" style=\"stroke:#000000; stroke-width:1; stroke-opacity:1; fill:none\" points=\"\n",
       "  476.016,372.441 476.016,366.972 \n",
       "  \"/>\n",
       "<polyline clip-path=\"url(#clip00)\" style=\"stroke:#000000; stroke-width:1; stroke-opacity:1; fill:none\" points=\"\n",
       "  55.1181,372.441 55.1181,7.87402 \n",
       "  \"/>\n",
       "<polyline clip-path=\"url(#clip00)\" style=\"stroke:#000000; stroke-width:1; stroke-opacity:1; fill:none\" points=\"\n",
       "  55.1181,285.833 63.1732,285.833 \n",
       "  \"/>\n",
       "<polyline clip-path=\"url(#clip00)\" style=\"stroke:#000000; stroke-width:1; stroke-opacity:1; fill:none\" points=\"\n",
       "  55.1181,190.691 63.1732,190.691 \n",
       "  \"/>\n",
       "<polyline clip-path=\"url(#clip00)\" style=\"stroke:#000000; stroke-width:1; stroke-opacity:1; fill:none\" points=\"\n",
       "  55.1181,95.5483 63.1732,95.5483 \n",
       "  \"/>\n",
       "<g clip-path=\"url(#clip00)\">\n",
       "<text style=\"fill:#000000; fill-opacity:1; font-family:Arial,Helvetica Neue,Helvetica,sans-serif; font-size:12; text-anchor:middle;\" transform=\"rotate(0, 185.742, 386.241)\" x=\"185.742\" y=\"386.241\">10</text>\n",
       "</g>\n",
       "<g clip-path=\"url(#clip00)\">\n",
       "<text style=\"fill:#000000; fill-opacity:1; font-family:Arial,Helvetica Neue,Helvetica,sans-serif; font-size:12; text-anchor:middle;\" transform=\"rotate(0, 330.879, 386.241)\" x=\"330.879\" y=\"386.241\">20</text>\n",
       "</g>\n",
       "<g clip-path=\"url(#clip00)\">\n",
       "<text style=\"fill:#000000; fill-opacity:1; font-family:Arial,Helvetica Neue,Helvetica,sans-serif; font-size:12; text-anchor:middle;\" transform=\"rotate(0, 476.016, 386.241)\" x=\"476.016\" y=\"386.241\">30</text>\n",
       "</g>\n",
       "<g clip-path=\"url(#clip00)\">\n",
       "<text style=\"fill:#000000; fill-opacity:1; font-family:Arial,Helvetica Neue,Helvetica,sans-serif; font-size:12; text-anchor:start;\" transform=\"rotate(0, 17.1996, 291.765)\" x=\"17.1996\" y=\"291.765\">10</text>\n",
       "</g>\n",
       "<g clip-path=\"url(#clip00)\">\n",
       "<text style=\"fill:#000000; fill-opacity:1; font-family:Arial,Helvetica Neue,Helvetica,sans-serif; font-size:10; text-anchor:start;\" transform=\"rotate(0, 30.3789, 284.912)\" x=\"30.3789\" y=\"284.912\">1.50</text>\n",
       "</g>\n",
       "<g clip-path=\"url(#clip00)\">\n",
       "<text style=\"fill:#000000; fill-opacity:1; font-family:Arial,Helvetica Neue,Helvetica,sans-serif; font-size:12; text-anchor:start;\" transform=\"rotate(0, 17.1996, 196.623)\" x=\"17.1996\" y=\"196.623\">10</text>\n",
       "</g>\n",
       "<g clip-path=\"url(#clip00)\">\n",
       "<text style=\"fill:#000000; fill-opacity:1; font-family:Arial,Helvetica Neue,Helvetica,sans-serif; font-size:10; text-anchor:start;\" transform=\"rotate(0, 30.3789, 189.77)\" x=\"30.3789\" y=\"189.77\">1.75</text>\n",
       "</g>\n",
       "<g clip-path=\"url(#clip00)\">\n",
       "<text style=\"fill:#000000; fill-opacity:1; font-family:Arial,Helvetica Neue,Helvetica,sans-serif; font-size:12; text-anchor:start;\" transform=\"rotate(0, 17.1996, 101.48)\" x=\"17.1996\" y=\"101.48\">10</text>\n",
       "</g>\n",
       "<g clip-path=\"url(#clip00)\">\n",
       "<text style=\"fill:#000000; fill-opacity:1; font-family:Arial,Helvetica Neue,Helvetica,sans-serif; font-size:10; text-anchor:start;\" transform=\"rotate(0, 30.3789, 94.6276)\" x=\"30.3789\" y=\"94.6276\">2.00</text>\n",
       "</g>\n",
       "<g clip-path=\"url(#clip00)\">\n",
       "<text style=\"fill:#000000; fill-opacity:1; font-family:Arial,Helvetica Neue,Helvetica,sans-serif; font-size:16; text-anchor:middle;\" transform=\"rotate(0, 323.622, 397.6)\" x=\"323.622\" y=\"397.6\">iteration</text>\n",
       "</g>\n",
       "<g clip-path=\"url(#clip00)\">\n",
       "<text style=\"fill:#000000; fill-opacity:1; font-family:Arial,Helvetica Neue,Helvetica,sans-serif; font-size:16; text-anchor:middle;\" transform=\"rotate(-90, 14.4, 190.157)\" x=\"14.4\" y=\"190.157\">objective</text>\n",
       "</g>\n",
       "<polyline clip-path=\"url(#clip02)\" style=\"stroke:#009af9; stroke-width:1; stroke-opacity:1; fill:none\" points=\"\n",
       "  55.1181,7.87402 69.6318,266.329 84.1456,311.499 98.6593,331.251 113.173,345.393 127.687,354.499 142.2,359.334 156.714,362.501 171.228,364.956 185.742,366.658 \n",
       "  200.255,367.673 214.769,368.313 229.283,368.9 243.797,369.447 258.31,369.979 272.824,370.34 287.338,370.584 301.851,370.804 316.365,370.997 330.879,371.168 \n",
       "  345.393,371.325 359.906,371.479 374.42,371.63 388.934,371.768 403.448,371.9 417.961,372.028 432.475,372.156 446.989,372.262 461.502,372.279 476.016,372.297 \n",
       "  490.53,372.314 505.044,372.332 519.557,372.35 534.071,372.369 548.585,372.387 563.099,372.408 577.612,372.428 592.126,372.441 \n",
       "  \"/>\n",
       "<polygon clip-path=\"url(#clip00)\" points=\"\n",
       "501.61,58.994 574.126,58.994 574.126,28.754 501.61,28.754 \n",
       "  \" fill=\"#ffffff\" fill-opacity=\"1\"/>\n",
       "<polyline clip-path=\"url(#clip00)\" style=\"stroke:#000000; stroke-width:1; stroke-opacity:1; fill:none\" points=\"\n",
       "  501.61,58.994 574.126,58.994 574.126,28.754 501.61,28.754 501.61,58.994 \n",
       "  \"/>\n",
       "<polyline clip-path=\"url(#clip00)\" style=\"stroke:#009af9; stroke-width:1; stroke-opacity:1; fill:none\" points=\"\n",
       "  507.61,43.874 543.61,43.874 \n",
       "  \"/>\n",
       "<g clip-path=\"url(#clip00)\">\n",
       "<text style=\"fill:#000000; fill-opacity:1; font-family:Arial,Helvetica Neue,Helvetica,sans-serif; font-size:12; text-anchor:start;\" transform=\"rotate(0, 549.61, 48.374)\" x=\"549.61\" y=\"48.374\">y1</text>\n",
       "</g>\n",
       "</svg>\n"
      ]
     },
     "execution_count": 31,
     "metadata": {},
     "output_type": "execute_result"
    }
   ],
   "source": [
    "init_svd!(glrm)\n",
    "X,W,ch_svd = fit!(glrm)\n",
    "plot(ch_svd.objective[2:end])\n",
    "xlabel!(\"iteration\")\n",
    "ylabel!(\"objective\")\n",
    "yaxis!(:log)"
   ]
  },
  {
   "cell_type": "markdown",
   "metadata": {},
   "source": [
    "# Treating different columns differently\n",
    "The losses argument can also be an array of loss functions, with one for each column (in order). For example, for a data set with 3 columns, you could use:"
   ]
  },
  {
   "cell_type": "code",
   "execution_count": 24,
   "metadata": {},
   "outputs": [
    {
     "ename": "LoadError",
     "evalue": "UndefVarError: Loss not defined",
     "output_type": "error",
     "traceback": [
      "UndefVarError: Loss not defined",
      ""
     ]
    }
   ],
   "source": [
    "losses = Loss[QuadLoss(), LogisticLoss(), HingeLoss()]"
   ]
  },
  {
   "cell_type": "markdown",
   "metadata": {},
   "source": [
    "Similiarly, the $r_w$ argument can be an array of regularizers, with one for each column (in order). For example, for a data set with 3 columns, you could use:"
   ]
  },
  {
   "cell_type": "code",
   "execution_count": 32,
   "metadata": {},
   "outputs": [
    {
     "data": {
      "text/plain": [
       "3-element Array{LowRankModels.Regularizer,1}:\n",
       " LowRankModels.QuadReg(1.0) \n",
       " LowRankModels.QuadReg(10.0)\n",
       " LowRankModels.OneReg(1.0)  "
      ]
     },
     "execution_count": 32,
     "metadata": {},
     "output_type": "execute_result"
    }
   ],
   "source": [
    "rw = Regularizer[QuadReg(1), QuadReg(10), OneReg()]"
   ]
  },
  {
   "cell_type": "markdown",
   "metadata": {},
   "source": [
    "# Example: PCA"
   ]
  },
  {
   "cell_type": "code",
   "execution_count": 33,
   "metadata": {},
   "outputs": [
    {
     "data": {
      "text/plain": [
       "fit_pca (generic function with 1 method)"
      ]
     },
     "execution_count": 33,
     "metadata": {},
     "output_type": "execute_result"
    }
   ],
   "source": [
    "# minimize ||Y - XW||^2\n",
    "function fit_pca(m,n,k)\n",
    "\t# matrix to encode\n",
    "\tY = randn(m,k)*randn(k,n)\n",
    "\tloss = QuadLoss()\n",
    "\tr = ZeroReg()\n",
    "\tglrm = GLRM(Y,loss,r,r,k)\n",
    "\tX,W,ch = fit!(glrm)\n",
    "\tprintln(\"Convergence history:\",ch.objective)\n",
    "\treturn Y,X,W,ch\n",
    "end"
   ]
  },
  {
   "cell_type": "code",
   "execution_count": null,
   "metadata": {
    "collapsed": true
   },
   "outputs": [],
   "source": []
  }
 ],
 "metadata": {
  "kernelspec": {
   "display_name": "Julia 1.2.0",
   "language": "julia",
   "name": "julia-1.2"
  },
  "language_info": {
   "file_extension": ".jl",
   "mimetype": "application/julia",
   "name": "julia",
   "version": "1.2.0"
  }
 },
 "nbformat": 4,
 "nbformat_minor": 1
}
