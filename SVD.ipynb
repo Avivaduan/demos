{
 "cells": [
  {
   "cell_type": "code",
   "execution_count": 13,
   "metadata": {},
   "outputs": [],
   "source": [
    "using LinearAlgebra, Random, Statistics"
   ]
  },
  {
   "cell_type": "code",
   "execution_count": 14,
   "metadata": {},
   "outputs": [
    {
     "data": {
      "text/plain": [
       "10×4 Array{Float64,2}:\n",
       " -0.164465   0.110059   0.110059   1.75391 \n",
       "  0.292468   0.8759     0.8759    -0.538361\n",
       "  0.697349   0.557067   0.557067   0.197553\n",
       " -0.166506  -0.768746  -0.768746  -0.78873 \n",
       " -0.454266   0.398155   0.398155   0.502666\n",
       "  1.34205   -0.128545  -0.128545   0.7512  \n",
       "  1.06331    0.462167   0.462167   0.917743\n",
       " -0.999016  -1.35781   -1.35781    0.115135\n",
       " -2.60263   -0.173395  -0.173395  -0.696474\n",
       "  0.37391    0.599984   0.599984  -1.41404 "
      ]
     },
     "execution_count": 14,
     "metadata": {},
     "output_type": "execute_result"
    }
   ],
   "source": [
    "# generate random data matrix\n",
    "n,d = 10,4\n",
    "X = randn(n,d)\n",
    "\n",
    "# optional: give it linearly dependent columns\n",
    "X[:,3] = X[:,2]\n",
    "X"
   ]
  },
  {
   "cell_type": "code",
   "execution_count": 15,
   "metadata": {},
   "outputs": [
    {
     "data": {
      "text/plain": [
       "SVD{Float64,Float64,Array{Float64,2}}([0.128366 -0.469096 0.465738 0.123233; 0.174857 0.397857 0.169454 0.872092; … ; -0.623099 0.179289 0.473141 0.00366621; 0.0706736 0.569754 -0.154467 -0.214903], [3.91558, 2.86535, 2.2191, 2.29805e-16], [0.805257 0.354018 0.354018 0.317654; -0.0317766 0.404048 0.404048 -0.820049; -0.592074 0.4598 0.4598 0.476041; 0.0 -0.707107 0.707107 7.16094e-15])"
      ]
     },
     "execution_count": 15,
     "metadata": {},
     "output_type": "execute_result"
    }
   ],
   "source": [
    "U,σ,V = svd(X)"
   ]
  },
  {
   "cell_type": "code",
   "execution_count": 16,
   "metadata": {},
   "outputs": [
    {
     "data": {
      "text/plain": [
       "4×4 Array{Float64,2}:\n",
       " 1.0          4.59931e-17  7.2144e-17   1.05418e-16\n",
       " 4.59931e-17  1.0          2.3414e-16   1.57187e-16\n",
       " 7.2144e-17   2.3414e-16   1.0          2.49358e-16\n",
       " 1.05418e-16  1.57187e-16  2.49358e-16  1.0        "
      ]
     },
     "execution_count": 16,
     "metadata": {},
     "output_type": "execute_result"
    }
   ],
   "source": [
    "U'*U"
   ]
  },
  {
   "cell_type": "code",
   "execution_count": 17,
   "metadata": {},
   "outputs": [
    {
     "data": {
      "text/plain": [
       "4×4 Array{Float64,2}:\n",
       "  1.0          -3.66493e-17  -6.36027e-17  -1.0975e-16 \n",
       " -3.66493e-17   1.0          -5.00695e-17  -1.55059e-16\n",
       " -6.36027e-17  -5.00695e-17   1.0          -7.11794e-17\n",
       " -1.0975e-16   -1.55059e-16  -7.11794e-17   1.0        "
      ]
     },
     "execution_count": 17,
     "metadata": {},
     "output_type": "execute_result"
    }
   ],
   "source": [
    "V'*V"
   ]
  },
  {
   "cell_type": "code",
   "execution_count": 18,
   "metadata": {},
   "outputs": [
    {
     "data": {
      "text/plain": [
       "4-element Array{Float64,1}:\n",
       " 3.9155752844282916    \n",
       " 2.8653538541498675    \n",
       " 2.2190951682959965    \n",
       " 2.2980473636897407e-16"
      ]
     },
     "execution_count": 18,
     "metadata": {},
     "output_type": "execute_result"
    }
   ],
   "source": [
    "σ"
   ]
  },
  {
   "cell_type": "code",
   "execution_count": 19,
   "metadata": {},
   "outputs": [
    {
     "data": {
      "text/plain": [
       "2.4240070209636967e-14"
      ]
     },
     "execution_count": 19,
     "metadata": {},
     "output_type": "execute_result"
    }
   ],
   "source": [
    "# decomposition is just as good if we ignore the 0 in sigma and reduce r by 1\n",
    "norm(X - U[:,1:3]*Diagonal(σ[1:3])*(V[:,1:3])')"
   ]
  },
  {
   "cell_type": "code",
   "execution_count": 20,
   "metadata": {},
   "outputs": [],
   "source": [
    "# form data from noisy linear model\n",
    "w♮ = randn(d)\n",
    "y = X*w♮ + .1*randn(n);"
   ]
  },
  {
   "cell_type": "code",
   "execution_count": 28,
   "metadata": {},
   "outputs": [
    {
     "data": {
      "text/plain": [
       "4-element Array{Float64,1}:\n",
       "  0.8090742181023293  \n",
       "  0.027401195225534025\n",
       "  0.027401195225535746\n",
       " -0.1465025139148333  "
      ]
     },
     "execution_count": 28,
     "metadata": {},
     "output_type": "execute_result"
    }
   ],
   "source": [
    "# solve least squares problem to estimate w\n",
    "\n",
    "# full svd - takes inverse of 0!\n",
    "w = V*Diagonal(σ.^(-1))*U'*y\n",
    "\n",
    "# thin svd\n",
    "w = V[:,1:3]*Diagonal(σ[1:3].^(-1))*(U[:,1:3])'*y"
   ]
  },
  {
   "cell_type": "code",
   "execution_count": 29,
   "metadata": {},
   "outputs": [
    {
     "data": {
      "text/plain": [
       "0.4630342022012109"
      ]
     },
     "execution_count": 29,
     "metadata": {},
     "output_type": "execute_result"
    }
   ],
   "source": [
    "# how good is our estimate of w? -> not great\n",
    "norm(w - w♮) / norm(w♮)"
   ]
  },
  {
   "cell_type": "code",
   "execution_count": 27,
   "metadata": {},
   "outputs": [
    {
     "data": {
      "text/plain": [
       "1.279746640042116"
      ]
     },
     "execution_count": 27,
     "metadata": {},
     "output_type": "execute_result"
    }
   ],
   "source": [
    "# compute mean square error -> but prediction is good\n",
    "mean((y - X*w).^2)"
   ]
  },
  {
   "cell_type": "markdown",
   "metadata": {},
   "source": [
    "## Q: Why is prediction good even though error in estimate of w is bad?\n",
    "\n",
    "Answer: ..."
   ]
  },
  {
   "cell_type": "code",
   "execution_count": 30,
   "metadata": {},
   "outputs": [
    {
     "data": {
      "text/plain": [
       "1.2938618523521542e-15"
      ]
     },
     "execution_count": 30,
     "metadata": {},
     "output_type": "execute_result"
    }
   ],
   "source": [
    "# let's use the shorthand\n",
    "w_backslash = X \\ y\n",
    "norm(w_backslash - w)"
   ]
  }
 ],
 "metadata": {
  "kernelspec": {
   "display_name": "Julia 1.1.0",
   "language": "julia",
   "name": "julia-1.1"
  },
  "language_info": {
   "file_extension": ".jl",
   "mimetype": "application/julia",
   "name": "julia",
   "version": "1.1.0"
  }
 },
 "nbformat": 4,
 "nbformat_minor": 1
}
