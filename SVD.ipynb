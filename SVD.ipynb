{
 "cells": [
  {
   "cell_type": "code",
   "execution_count": 1,
   "metadata": {},
   "outputs": [],
   "source": [
    "using LinearAlgebra, Random, Statistics"
   ]
  },
  {
   "cell_type": "code",
   "execution_count": 2,
   "metadata": {},
   "outputs": [
    {
     "data": {
      "text/plain": [
       "6-element Array{Float64,1}:\n",
       " -1.4390366577132239\n",
       "  0.6803124976385257\n",
       "  0.9705025676320586\n",
       " -0.5300617417578417\n",
       " -0.7581949869736492\n",
       " -0.24097886941645416"
      ]
     },
     "execution_count": 2,
     "metadata": {},
     "output_type": "execute_result"
    }
   ],
   "source": [
    "# generate random data matrix\n",
    "n,d = 6,4\n",
    "X = randn(n,d)\n",
    "\n",
    "# optional: give it linearly dependent columns\n",
    "X[:,3] = X[:,2]"
   ]
  },
  {
   "cell_type": "code",
   "execution_count": 3,
   "metadata": {},
   "outputs": [
    {
     "data": {
      "text/plain": [
       "SVD{Float64,Float64,Array{Float64,2}}\n",
       "U factor:\n",
       "6×4 Array{Float64,2}:\n",
       "  0.683959   0.189761    0.0129733  -0.0586252\n",
       " -0.419634   0.0372201  -0.222073   -0.4107\n",
       " -0.230941  -0.343193    0.855425    0.0527212\n",
       "  0.075779   0.494218    0.365122   -0.721\n",
       "  0.482334  -0.0727834   0.23328     0.144835\n",
       " -0.253742   0.771541    0.176152    0.53319\n",
       "singular values:\n",
       "4-element Array{Float64,1}:\n",
       " 3.2487301820959424\n",
       " 2.462361260800171\n",
       " 1.6184289460071115\n",
       " 2.0294575218679035e-16\n",
       "Vt factor:\n",
       "4×4 Array{Float64,2}:\n",
       " -0.153279  -0.565937  -0.565937  -0.579599\n",
       "  0.539706  -0.395363  -0.395363   0.629359\n",
       "  0.827782   0.152979   0.152979  -0.51766\n",
       "  0.0        0.707107  -0.707107   0.0"
      ]
     },
     "execution_count": 3,
     "metadata": {},
     "output_type": "execute_result"
    }
   ],
   "source": [
    "U,σ,V = svd(X)"
   ]
  },
  {
   "cell_type": "code",
   "execution_count": 4,
   "metadata": {},
   "outputs": [
    {
     "data": {
      "text/plain": [
       "4×4 Array{Float64,2}:\n",
       "  1.0           2.82606e-16  -1.74577e-16   8.86526e-17\n",
       "  2.82606e-16   1.0          -1.12185e-16   4.92094e-17\n",
       " -1.74577e-16  -1.12185e-16   1.0          -3.36874e-17\n",
       "  8.86526e-17   4.92094e-17  -3.36874e-17   1.0"
      ]
     },
     "execution_count": 4,
     "metadata": {},
     "output_type": "execute_result"
    }
   ],
   "source": [
    "U'*U"
   ]
  },
  {
   "cell_type": "code",
   "execution_count": 5,
   "metadata": {},
   "outputs": [
    {
     "data": {
      "text/plain": [
       "4×4 Array{Float64,2}:\n",
       "  1.0          1.21612e-16  -4.75716e-17   1.01573e-16\n",
       "  1.21612e-16  1.0           2.6856e-16    2.50044e-16\n",
       " -4.75716e-17  2.6856e-16    1.0          -1.44001e-16\n",
       "  1.01573e-16  2.50044e-16  -1.44001e-16   1.0"
      ]
     },
     "execution_count": 5,
     "metadata": {},
     "output_type": "execute_result"
    }
   ],
   "source": [
    "V'*V"
   ]
  },
  {
   "cell_type": "code",
   "execution_count": 6,
   "metadata": {},
   "outputs": [
    {
     "data": {
      "text/plain": [
       "4-element Array{Float64,1}:\n",
       " 3.2487301820959424\n",
       " 2.462361260800171\n",
       " 1.6184289460071115\n",
       " 2.0294575218679035e-16"
      ]
     },
     "execution_count": 6,
     "metadata": {},
     "output_type": "execute_result"
    }
   ],
   "source": [
    "σ"
   ]
  },
  {
   "cell_type": "code",
   "execution_count": 7,
   "metadata": {},
   "outputs": [
    {
     "data": {
      "text/plain": [
       "2.8720148088613458e-15"
      ]
     },
     "execution_count": 7,
     "metadata": {},
     "output_type": "execute_result"
    }
   ],
   "source": [
    "# if we have a linearly dependent column, \n",
    "# decomposition is just as good if we ignore the 0 in sigma and reduce r by 1\n",
    "norm(X - U[:,1:3]*diagm(σ[1:3])*(V[:,1:3])')"
   ]
  },
  {
   "cell_type": "code",
   "execution_count": 8,
   "metadata": {},
   "outputs": [],
   "source": [
    "# form data from noisy linear model\n",
    "w♮ = randn(d)\n",
    "y = X*w♮ + .1*randn(n);"
   ]
  },
  {
   "cell_type": "code",
   "execution_count": 9,
   "metadata": {},
   "outputs": [
    {
     "data": {
      "text/plain": [
       "4-element Array{Float64,1}:\n",
       "  0.07075677218695144\n",
       "  3.573965263096396e14\n",
       " -3.5739652630964175e14\n",
       " -0.4408930974242218"
      ]
     },
     "execution_count": 9,
     "metadata": {},
     "output_type": "execute_result"
    }
   ],
   "source": [
    "# solve least squares problem to estimate w\n",
    "w = V*diagm(σ.^(-1))*U'*y\n",
    "# w = V[:,1:3]*diagm(σ[1:3].^(-1))*(U[:,1:3])'*y"
   ]
  },
  {
   "cell_type": "code",
   "execution_count": 10,
   "metadata": {},
   "outputs": [
    {
     "data": {
      "text/plain": [
       "5.054350146521247e14"
      ]
     },
     "execution_count": 10,
     "metadata": {},
     "output_type": "execute_result"
    }
   ],
   "source": [
    "# how good is our estimate of w?\n",
    "norm(w - w♮)"
   ]
  },
  {
   "cell_type": "code",
   "execution_count": 11,
   "metadata": {},
   "outputs": [
    {
     "data": {
      "text/plain": [
       "0.11106675172269874"
      ]
     },
     "execution_count": 11,
     "metadata": {},
     "output_type": "execute_result"
    }
   ],
   "source": [
    "# compute mean square error\n",
    "mean((y - X*w).^2)"
   ]
  },
  {
   "cell_type": "code",
   "execution_count": 12,
   "metadata": {},
   "outputs": [
    {
     "data": {
      "text/plain": [
       "5.054350146521265e14"
      ]
     },
     "execution_count": 12,
     "metadata": {},
     "output_type": "execute_result"
    }
   ],
   "source": [
    "# let's use the shorthand\n",
    "w_backslash = X \\ y\n",
    "norm(w_backslash - w)"
   ]
  },
  {
   "cell_type": "code",
   "execution_count": null,
   "metadata": {},
   "outputs": [],
   "source": []
  }
 ],
 "metadata": {
  "kernelspec": {
   "display_name": "Julia 1.5.1",
   "language": "julia",
   "name": "julia-1.5"
  },
  "language_info": {
   "file_extension": ".jl",
   "mimetype": "application/julia",
   "name": "julia",
   "version": "1.5.1"
  }
 },
 "nbformat": 4,
 "nbformat_minor": 1
}
