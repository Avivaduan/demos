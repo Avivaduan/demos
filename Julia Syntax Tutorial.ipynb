{
 "cells": [
  {
   "cell_type": "markdown",
   "metadata": {},
   "source": [
    "# Julia Syntax Tutorial\n",
    "\n",
    "Everything covered today (and **even more**) can be found [here](https://docs.julialang.org/en/v1/). Code in this notebook has been tested to be compatible with Julia 1.2.0. "
   ]
  },
  {
   "cell_type": "markdown",
   "metadata": {},
   "source": [
    "The way to use a package is: "
   ]
  },
  {
   "cell_type": "code",
   "execution_count": 15,
   "metadata": {},
   "outputs": [],
   "source": [
    "using LinearAlgebra"
   ]
  },
  {
   "cell_type": "markdown",
   "metadata": {},
   "source": [
    "First, let's take a look at how to create variables."
   ]
  },
  {
   "cell_type": "code",
   "execution_count": 8,
   "metadata": {},
   "outputs": [
    {
     "data": {
      "text/plain": [
       "1.5707963267948966"
      ]
     },
     "execution_count": 8,
     "metadata": {},
     "output_type": "execute_result"
    }
   ],
   "source": [
    "x = 3 \n",
    "x = 3.0\n",
    "words = \"Hello world!\"\n",
    "character = 'a'\n",
    "δ = 1e-5\n",
    "pi\n",
    "MathConstants.e\n",
    "α̂₁ = pi / 2"
   ]
  },
  {
   "cell_type": "markdown",
   "metadata": {},
   "source": [
    "Then, the arrays."
   ]
  },
  {
   "cell_type": "code",
   "execution_count": 19,
   "metadata": {},
   "outputs": [
    {
     "data": {
      "text/plain": [
       "(3, 3)"
      ]
     },
     "execution_count": 19,
     "metadata": {},
     "output_type": "execute_result"
    }
   ],
   "source": [
    "u = [1 3 5 7]\n",
    "v = ones(4)\n",
    "w = Vector{Float64}(undef, 2)\n",
    "\n",
    "X = rand(4, 4)\n",
    "Identity_matrix = Matrix{Float64}(I, 4, 4)\n",
    "column = [1,2,3]\n",
    "row = [1 2 3]\n",
    "A = [1 2 3; 4 5 6; 7 8 9]\n",
    "b = [[1 2 3] [4 5 6] [7 8 9]]\n",
    "B = reshape(b, 3, 3)\n",
    "C = fill(15, 2, 3)\n",
    "\n",
    "length(A)\n",
    "ndims(A)\n",
    "size(A)\n"
   ]
  },
  {
   "cell_type": "code",
   "execution_count": 26,
   "metadata": {
    "scrolled": true
   },
   "outputs": [
    {
     "data": {
      "text/plain": [
       "3×3 Array{Int64,2}:\n",
       " 1  2  3\n",
       " 4  5  6\n",
       " 7  8  9"
      ]
     },
     "execution_count": 26,
     "metadata": {},
     "output_type": "execute_result"
    }
   ],
   "source": [
    "A"
   ]
  },
  {
   "cell_type": "markdown",
   "metadata": {},
   "source": [
    "Array indexing and assignment"
   ]
  },
  {
   "cell_type": "code",
   "execution_count": 31,
   "metadata": {},
   "outputs": [
    {
     "data": {
      "text/plain": [
       "1×2 Array{Int64,2}:\n",
       " -2  -3"
      ]
     },
     "execution_count": 31,
     "metadata": {},
     "output_type": "execute_result"
    }
   ],
   "source": [
    "A[3, 1]\n",
    "A[1, :]\n",
    "A[1:2, 2:end]\n",
    "A[2, [1 3]]\n",
    "\n",
    "A[2, 3] = 10\n",
    "A[3, 1:2] = [-2 -3]"
   ]
  },
  {
   "cell_type": "code",
   "execution_count": 32,
   "metadata": {},
   "outputs": [
    {
     "data": {
      "text/plain": [
       "3×3 Array{Int64,2}:\n",
       "  1   2   3\n",
       "  4   5  10\n",
       " -2  -3   9"
      ]
     },
     "execution_count": 32,
     "metadata": {},
     "output_type": "execute_result"
    }
   ],
   "source": [
    "A"
   ]
  },
  {
   "cell_type": "code",
   "execution_count": 33,
   "metadata": {},
   "outputs": [
    {
     "data": {
      "text/plain": [
       "3×3 Array{Int64,2}:\n",
       "  1    8  21\n",
       "  8   25  80\n",
       " -6  -18  81"
      ]
     },
     "execution_count": 33,
     "metadata": {},
     "output_type": "execute_result"
    }
   ],
   "source": [
    "# Mathematical operations\n",
    "\n",
    "2 + 5\n",
    "3.5 ^ 2\n",
    "[1 2] + [2 3]\n",
    "[1 2] * 1.5\n",
    "A[1, :]' * ones(3)\n",
    "A .* B"
   ]
  },
  {
   "cell_type": "code",
   "execution_count": 34,
   "metadata": {},
   "outputs": [
    {
     "data": {
      "text/plain": [
       "3×3 Array{Int64,2}:\n",
       "  1   2   3\n",
       "  4   5  10\n",
       " -2  -3   9"
      ]
     },
     "execution_count": 34,
     "metadata": {},
     "output_type": "execute_result"
    }
   ],
   "source": [
    "A"
   ]
  },
  {
   "cell_type": "code",
   "execution_count": 35,
   "metadata": {},
   "outputs": [
    {
     "data": {
      "text/plain": [
       "3×3 Array{Int64,2}:\n",
       " 1  4  7\n",
       " 2  5  8\n",
       " 3  6  9"
      ]
     },
     "execution_count": 35,
     "metadata": {},
     "output_type": "execute_result"
    }
   ],
   "source": [
    "B"
   ]
  },
  {
   "cell_type": "code",
   "execution_count": 38,
   "metadata": {},
   "outputs": [
    {
     "data": {
      "text/plain": [
       "1×2 BitArray{2}:\n",
       " 1  1"
      ]
     },
     "execution_count": 38,
     "metadata": {},
     "output_type": "execute_result"
    }
   ],
   "source": [
    "3.0 > 2.0\n",
    "9 ≤ 9\n",
    "1 != 2\n",
    "[1 2] .< [2 3]"
   ]
  },
  {
   "cell_type": "markdown",
   "metadata": {},
   "source": [
    "Control flow"
   ]
  },
  {
   "cell_type": "code",
   "execution_count": 39,
   "metadata": {},
   "outputs": [
    {
     "name": "stdout",
     "output_type": "stream",
     "text": [
      "x is greater than y: 2 > 1\n"
     ]
    }
   ],
   "source": [
    "x = 2\n",
    "y = 1\n",
    "if x < y\n",
    "    println(\"x is less than y: $x < $y\")\n",
    "elseif x > y\n",
    "  println(\"x is greater than y: $x > $y\")\n",
    "else\n",
    "  println(\"x is equal to y: $x = $y\")\n",
    "end"
   ]
  },
  {
   "cell_type": "code",
   "execution_count": 40,
   "metadata": {},
   "outputs": [
    {
     "name": "stdout",
     "output_type": "stream",
     "text": [
      "1\n",
      "2\n",
      "3\n",
      "4\n",
      "5\n"
     ]
    }
   ],
   "source": [
    "i = 1\n",
    "while i <= 5\n",
    "    println(i)\n",
    "    i += 1 \n",
    "end"
   ]
  },
  {
   "cell_type": "code",
   "execution_count": 41,
   "metadata": {},
   "outputs": [
    {
     "name": "stdout",
     "output_type": "stream",
     "text": [
      "1\n",
      "2\n",
      "4\n",
      "5\n"
     ]
    }
   ],
   "source": [
    "for i = 1:5\n",
    "    if i == 3\n",
    "        continue\n",
    "        #break\n",
    "    end\n",
    "    println(i)\n",
    "end"
   ]
  },
  {
   "cell_type": "code",
   "execution_count": 42,
   "metadata": {},
   "outputs": [
    {
     "name": "stdout",
     "output_type": "stream",
     "text": [
      "1\n",
      "3\n",
      "5\n",
      "7\n"
     ]
    }
   ],
   "source": [
    "u = [1,3,5,7]\n",
    "for i in u\n",
    "    println(i)\n",
    "end"
   ]
  },
  {
   "cell_type": "markdown",
   "metadata": {},
   "source": [
    "# functions"
   ]
  },
  {
   "cell_type": "markdown",
   "metadata": {},
   "source": [
    "The following three syntaxes all define the function f(x) = 2x:"
   ]
  },
  {
   "cell_type": "code",
   "execution_count": 43,
   "metadata": {},
   "outputs": [
    {
     "data": {
      "text/plain": [
       "f (generic function with 1 method)"
      ]
     },
     "execution_count": 43,
     "metadata": {},
     "output_type": "execute_result"
    }
   ],
   "source": [
    "f(x) = 2*x\n",
    "function f(x)\n",
    "    return 2*x\n",
    "end"
   ]
  },
  {
   "cell_type": "code",
   "execution_count": 44,
   "metadata": {},
   "outputs": [
    {
     "data": {
      "text/plain": [
       "6"
      ]
     },
     "execution_count": 44,
     "metadata": {},
     "output_type": "execute_result"
    }
   ],
   "source": [
    "# default values for positional arguments\n",
    "function f(x, mult=2)\n",
    "    return mult*x\n",
    "end\n",
    "f(2)    # ==4\n",
    "f(2, 3) # ==6"
   ]
  },
  {
   "cell_type": "code",
   "execution_count": 45,
   "metadata": {},
   "outputs": [
    {
     "data": {
      "text/plain": [
       "6"
      ]
     },
     "execution_count": 45,
     "metadata": {},
     "output_type": "execute_result"
    }
   ],
   "source": [
    "# default values for keyword arguments: use a semicolon instead of a comma\n",
    "function f(x; mult=2)\n",
    "    return mult*x\n",
    "end\n",
    "f(2)         # ==4\n",
    "f(2, mult=3) # ==6"
   ]
  },
  {
   "cell_type": "code",
   "execution_count": 46,
   "metadata": {},
   "outputs": [
    {
     "name": "stdout",
     "output_type": "stream",
     "text": [
      "1\n",
      "2\n",
      "3\n",
      "4\n",
      "a\n",
      "b\n",
      "c\n"
     ]
    }
   ],
   "source": [
    "# a changeable number of arguments\n",
    "function f(x...)\n",
    "    for xi in x\n",
    "        println(xi)\n",
    "    end\n",
    "end\n",
    "f(1,2,3,4,\"a\",\"b\",\"c\")"
   ]
  },
  {
   "cell_type": "code",
   "execution_count": 47,
   "metadata": {},
   "outputs": [
    {
     "data": {
      "text/plain": [
       "50-element Array{Int64,1}:\n",
       "      1\n",
       "      1\n",
       "      1\n",
       "      1\n",
       "      1\n",
       "      2\n",
       "      4\n",
       "      8\n",
       "     16\n",
       "     32\n",
       "      3\n",
       "      9\n",
       "     27\n",
       "      ⋮\n",
       "   4096\n",
       "  32768\n",
       "      9\n",
       "     81\n",
       "    729\n",
       "   6561\n",
       "  59049\n",
       "     10\n",
       "    100\n",
       "   1000\n",
       "  10000\n",
       " 100000"
      ]
     },
     "execution_count": 47,
     "metadata": {},
     "output_type": "execute_result"
    }
   ],
   "source": [
    "# list comprehensions: shorthand for loops (not very memory efficient)\n",
    "[x^2 for x in 1:5]\n",
    "[x^2 for x in 1:5 if x>2]\n",
    "[x^k for x in 1:10 for k in 1:5]"
   ]
  },
  {
   "cell_type": "code",
   "execution_count": 48,
   "metadata": {},
   "outputs": [
    {
     "data": {
      "text/plain": [
       "7"
      ]
     },
     "execution_count": 48,
     "metadata": {},
     "output_type": "execute_result"
    }
   ],
   "source": [
    "# dictionaries and sets\n",
    "\n",
    "x = Set([1,2,3,3,4,1])\n",
    "d = Dict()\n",
    "d[4] = 7\n",
    "# XXX add more here"
   ]
  },
  {
   "cell_type": "markdown",
   "metadata": {},
   "source": [
    "# advanced topic for people who like object-oriented programming: types and multiple dispatch"
   ]
  },
  {
   "cell_type": "code",
   "execution_count": 49,
   "metadata": {},
   "outputs": [
    {
     "data": {
      "text/plain": [
       "1.0"
      ]
     },
     "execution_count": 49,
     "metadata": {},
     "output_type": "execute_result"
    }
   ],
   "source": [
    "# x::y is an assertion that x is a variable of type y\n",
    "1.0::Float64"
   ]
  },
  {
   "cell_type": "code",
   "execution_count": 50,
   "metadata": {},
   "outputs": [
    {
     "ename": "TypeError",
     "evalue": "TypeError: in typeassert, expected Int64, got Float64",
     "output_type": "error",
     "traceback": [
      "TypeError: in typeassert, expected Int64, got Float64",
      "",
      "Stacktrace:",
      " [1] top-level scope at In[50]:1"
     ]
    }
   ],
   "source": [
    "# if we assert something false, we get a type error \n",
    "1.0::Int"
   ]
  },
  {
   "cell_type": "code",
   "execution_count": 51,
   "metadata": {},
   "outputs": [
    {
     "name": "stdout",
     "output_type": "stream",
     "text": [
      "2 is an integer\n",
      "2.0 is an float\n"
     ]
    }
   ],
   "source": [
    "# we can define many functions with the same name, which call arguments of different types\n",
    "# julia decides which to call by looking at the type of the argument\n",
    "\n",
    "f(x::Int) = println(\"$x is an integer\")\n",
    "f(x::Float64) = println(\"$x is an float\")\n",
    "f(2)\n",
    "f(2.0)"
   ]
  },
  {
   "cell_type": "markdown",
   "metadata": {},
   "source": [
    "We may define a composite type as follows:"
   ]
  },
  {
   "cell_type": "code",
   "execution_count": 56,
   "metadata": {},
   "outputs": [],
   "source": [
    "struct Student\n",
    "    name::String    \n",
    "    gpa::Float64\n",
    "end"
   ]
  },
  {
   "cell_type": "code",
   "execution_count": 57,
   "metadata": {},
   "outputs": [
    {
     "data": {
      "text/plain": [
       "Student(\"Bob\", 3.2)"
      ]
     },
     "execution_count": 57,
     "metadata": {},
     "output_type": "execute_result"
    }
   ],
   "source": [
    "s1 = Student(\"Alice\", 3.9)\n",
    "s2 = Student(\"Bob\", 3.2)"
   ]
  },
  {
   "cell_type": "code",
   "execution_count": 59,
   "metadata": {},
   "outputs": [
    {
     "data": {
      "text/plain": [
       "\"Alice\""
      ]
     },
     "execution_count": 59,
     "metadata": {},
     "output_type": "execute_result"
    }
   ],
   "source": [
    "s1.name"
   ]
  },
  {
   "cell_type": "code",
   "execution_count": 60,
   "metadata": {},
   "outputs": [
    {
     "name": "stdout",
     "output_type": "stream",
     "text": [
      "Alice has a 3.9 gpa\n",
      "Bob has a 3.2 gpa\n",
      "4 is an integer\n",
      "1.4142135623730951 is an float\n"
     ]
    }
   ],
   "source": [
    "f(s::Student) = println(\"$(s.name) has a $(s.gpa) gpa\")\n",
    "\n",
    "# we've defined the \"f\" function on three different types\n",
    "# julia knows to call the write one by looking at the type of the argument\n",
    "\n",
    "f(s1)\n",
    "f(s2)\n",
    "f(4)\n",
    "f(sqrt(2))"
   ]
  }
 ],
 "metadata": {
  "kernelspec": {
   "display_name": "Julia 1.2.0",
   "language": "julia",
   "name": "julia-1.2"
  },
  "language_info": {
   "file_extension": ".jl",
   "mimetype": "application/julia",
   "name": "julia",
   "version": "1.2.0"
  }
 },
 "nbformat": 4,
 "nbformat_minor": 1
}
