{
 "cells": [
  {
   "cell_type": "markdown",
   "metadata": {},
   "source": [
    "# COVID simulation\n",
    "\n",
    "This notebook simulates the number of COVID cases at Cornell under some simple assumptions using a classic epidemiological model called a compartmental SIR model. It is intended to clarify the role of several important factors in spreading or mitigating the spread of COVID, including:\n",
    "\n",
    "* classes\n",
    "* small gatherings (with PPE)\n",
    "* large parties (without PPE)\n",
    "* PPE (like masks) and social distancing\n",
    "* testing"
   ]
  },
  {
   "cell_type": "code",
   "execution_count": 1,
   "metadata": {},
   "outputs": [
    {
     "data": {
      "text/html": [
       "<script>\n",
       "// Immediately-invoked-function-expression to avoid global variables.\n",
       "(function() {\n",
       "    var warning_div = document.getElementById(\"webio-warning-11200803302473110133\");\n",
       "    var hide = function () {\n",
       "        var script = document.getElementById(\"webio-setup-3256912692667951229\");\n",
       "        var parent = script && script.parentElement;\n",
       "        var grandparent = parent && parent.parentElement;\n",
       "        if (grandparent) {\n",
       "            grandparent.style.display = \"none\";\n",
       "        }\n",
       "        warning_div.style.display = \"none\";\n",
       "    };\n",
       "    if (typeof Jupyter !== \"undefined\") {\n",
       "        console.log(\"WebIO detected Jupyter notebook environment.\");\n",
       "        // Jupyter notebook.\n",
       "        var extensions = (\n",
       "            Jupyter\n",
       "            && Jupyter.notebook.config.data\n",
       "            && Jupyter.notebook.config.data.load_extensions\n",
       "        );\n",
       "        if (extensions && extensions[\"webio-jupyter-notebook\"]) {\n",
       "            // Extension already loaded.\n",
       "            console.log(\"Jupyter WebIO nbextension detected; not loading ad-hoc.\");\n",
       "            hide();\n",
       "            return;\n",
       "        }\n",
       "    } else if (window.location.pathname.includes(\"/lab\")) {\n",
       "        // Guessing JupyterLa\n",
       "        console.log(\"Jupyter Lab detected; make sure the @webio/jupyter-lab-provider labextension is installed.\");\n",
       "        hide();\n",
       "        return;\n",
       "    }\n",
       "})();\n",
       "\n",
       "</script>\n",
       "<p\n",
       "    id=\"webio-warning-11200803302473110133\"\n",
       "    class=\"output_text output_stderr\"\n",
       "    style=\"padding: 1em; font-weight: bold;\"\n",
       ">\n",
       "    Unable to load WebIO. Please make sure WebIO works for your Jupyter client.\n",
       "    For troubleshooting, please see <a href=\"https://juliagizmos.github.io/WebIO.jl/latest/providers/ijulia/\">\n",
       "    the WebIO/IJulia documentation</a>.\n",
       "    <!-- TODO: link to installation docs. -->\n",
       "</p>\n"
      ],
      "text/plain": [
       "HTML{String}(\"<script>\\n// Immediately-invoked-function-expression to avoid global variables.\\n(function() {\\n    var warning_div = document.getElementById(\\\"webio-warning-11200803302473110133\\\");\\n    var hide = function () {\\n        var script = document.getElementById(\\\"webio-setup-3256912692667951229\\\");\\n        var parent = script && script.parentElement;\\n        var grandparent = parent && parent.parentElement;\\n        if (grandparent) {\\n            grandparent.style.display = \\\"none\\\";\\n        }\\n        warning_div.style.display = \\\"none\\\";\\n    };\\n    if (typeof Jupyter !== \\\"undefined\\\") {\\n        console.log(\\\"WebIO detected Jupyter notebook environment.\\\");\\n        // Jupyter notebook.\\n        var extensions = (\\n            Jupyter\\n            && Jupyter.notebook.config.data\\n            && Jupyter.notebook.config.data.load_extensions\\n        );\\n        if (extensions && extensions[\\\"webio-jupyter-notebook\\\"]) {\\n            // Extension already loaded.\\n            console.log(\\\"Jupyter WebIO nbextension detected; not loading ad-hoc.\\\");\\n            hide();\\n            return;\\n        }\\n    } else if (window.location.pathname.includes(\\\"/lab\\\")) {\\n        // Guessing JupyterLa\\n        console.log(\\\"Jupyter Lab detected; make sure the @webio/jupyter-lab-provider labextension is installed.\\\");\\n        hide();\\n        return;\\n    }\\n})();\\n\\n</script>\\n<p\\n    id=\\\"webio-warning-11200803302473110133\\\"\\n    class=\\\"output_text output_stderr\\\"\\n    style=\\\"padding: 1em; font-weight: bold;\\\"\\n>\\n    Unable to load WebIO. Please make sure WebIO works for your Jupyter client.\\n    For troubleshooting, please see <a href=\\\"https://juliagizmos.github.io/WebIO.jl/latest/providers/ijulia/\\\">\\n    the WebIO/IJulia documentation</a>.\\n    <!-- TODO: link to installation docs. -->\\n</p>\\n\")"
      ]
     },
     "metadata": {},
     "output_type": "display_data"
    },
    {
     "name": "stderr",
     "output_type": "stream",
     "text": [
      "┌ Warning: ORCA.jl has been deprecated and all savefig functionality\n",
      "│ has been implemented directly in PlotlyBase itself.\n",
      "│ \n",
      "│ By implementing in PlotlyBase.jl, the savefig routines are automatically\n",
      "│ available to PlotlyJS.jl also.\n",
      "└ @ ORCA /Users/madeleine/.julia/packages/ORCA/U5XaN/src/ORCA.jl:8\n"
     ]
    },
    {
     "data": {
      "text/plain": [
       "Plots.PlotlyBackend()"
      ]
     },
     "execution_count": 1,
     "metadata": {},
     "output_type": "execute_result"
    }
   ],
   "source": [
    "# this cell loads the packages we'll use \n",
    "using DataFrames, Plots, Interact\n",
    "import Plots: plot\n",
    "plotly()"
   ]
  },
  {
   "cell_type": "markdown",
   "metadata": {},
   "source": [
    "The next two cells define some useful datatypes: \n",
    "\n",
    "* A *group* of students has a size `n`, and a percentage of the group that is susceptible `s`, infected `i` and recovered `r` \n",
    "* A *record* remembers the trajectory of infections in each group in the population"
   ]
  },
  {
   "cell_type": "code",
   "execution_count": 2,
   "metadata": {},
   "outputs": [
    {
     "data": {
      "text/plain": [
       "Group"
      ]
     },
     "execution_count": 2,
     "metadata": {},
     "output_type": "execute_result"
    }
   ],
   "source": [
    "# groups \n",
    "mutable struct Group\n",
    "    n::Float64\n",
    "    s::Float64\n",
    "    i::Float64\n",
    "    r::Float64\n",
    "end\n",
    "\n",
    "# default constructors\n",
    "Group(n,s,i) = Group(n,s,i,1-s-i)\n",
    "Group(n,s) = Group(n,s,1-s,0)"
   ]
  },
  {
   "cell_type": "code",
   "execution_count": 3,
   "metadata": {},
   "outputs": [
    {
     "data": {
      "text/plain": [
       "plot (generic function with 4 methods)"
      ]
     },
     "execution_count": 3,
     "metadata": {},
     "output_type": "execute_result"
    }
   ],
   "source": [
    "mutable struct Record\n",
    "    df::DataFrame\n",
    "end\n",
    "Record(groups) = Record(DataFrame(i1=groups[1].i, r1=groups[1].r,\n",
    "                                  i2=groups[2].i, r2=groups[2].r,\n",
    "                                  i3=groups[3].i, r3=groups[3].r))\n",
    "record!(record, groups) = push!(record.df, \n",
    "    [groups[1].i, groups[1].r, groups[2].i, groups[2].r, groups[3].i, groups[3].r])\n",
    "function plot(record::Record, groups)\n",
    "    df = record.df\n",
    "    max_i = maximum(groups[1].n*df.i1+groups[2].n*df.i2+groups[3].n*df.i3)\n",
    "    \n",
    "    p = plot(df.i1, label=\"group 1 infections\", color=\"blue\", linestyle=:dot, legend=:topleft)\n",
    "    plot!(df.i2, label=\"group 2 infections\", color=\"green\", linestyle=:dot)\n",
    "    plot!(df.i3, label=\"group 3 infections\", color=\"red\", linestyle=:dot)\n",
    "    if max_i > 1e-2\n",
    "        plot!(groups[1].n*df.i1+groups[2].n*df.i2+groups[3].n*df.i3, label=\"total infections\", color=\"black\", linestyle=:dot, marker=:circle)\n",
    "    else\n",
    "        plot!(groups[1].n*df.i1+groups[2].n*df.i2+groups[3].n*df.i3, label=\"total infections\", color=\"black\", linestyle=:dot)\n",
    "    end\n",
    "    plot!(df.r1, label=\"group 1 recovered\", color=\"blue\")\n",
    "    plot!(df.r2, label=\"group 2 recovered\", color=\"green\")\n",
    "    plot!(df.r3, label=\"group 3 recovered\", color=\"red\")\n",
    "    ylims!(0,1)\n",
    "    # print(\"maximum infection rate $(100*round(maximum(groups[1].n*df.i1+groups[2].n*df.i2+groups[3].n*df.i3), digits=3))%\")\n",
    "    p\n",
    "end"
   ]
  },
  {
   "cell_type": "markdown",
   "metadata": {},
   "source": [
    "The next cell defines the impact of classes, parties, and testing. \n",
    "\n",
    "* The probability of getting infected in class is proportional to the infection rate `i` (proportion of classmates currently infected) and the infectivity (which might depend, eg, on PPE and social distancing).\n",
    "* The probability of getting infected in class is proportional to the probability that *any* attendee is infected, given infection rate `i`, and the infectivity (which might depend, eg, on PPE and social distancing).\n"
   ]
  },
  {
   "cell_type": "code",
   "execution_count": 4,
   "metadata": {},
   "outputs": [
    {
     "data": {
      "text/plain": [
       "caught_by_test"
      ]
     },
     "execution_count": 4,
     "metadata": {},
     "output_type": "execute_result"
    }
   ],
   "source": [
    "##### effect of classes, parties, and testing\n",
    "\n",
    "\"\"\"probability that an susceptible person will be infected in class,\n",
    "if a proportion i of the class is infected\"\"\"\n",
    "function infected_in_class(i, infectivity)\n",
    "    return infectivity*i\n",
    "end\n",
    "\n",
    "\"\"\"probability that an susceptible person will be infected at a party\n",
    "if a proportion i of the attendees are infected\n",
    "and prob of infection given any infectious guest is infectivity\"\"\"\n",
    "function infected_at_party(i, party_size, infectivity)\n",
    "    prob_no_attendee_infectious = (1-i)^party_size\n",
    "    prob_some_attendee_infectious = 1 - prob_no_attendee_infectious\n",
    "    return infectivity*prob_some_attendee_infectious\n",
    "end\n",
    "\n",
    "\"\"\"the fraction of infections caught by test \n",
    "and removed from the population (eg, by quarantine)\"\"\"\n",
    "function caught_by_test(i, ttest)\n",
    "    return i/ttest\n",
    "end"
   ]
  },
  {
   "cell_type": "markdown",
   "metadata": {},
   "source": [
    "The next function simulates how the infections evolve in a population composed of three groups:\n",
    "   \n",
    "* people who just attend classes \n",
    "* people who also attend small gathering with PPE and social distancing \n",
    "* people who also attend large parties without PPE or distancing\n",
    "\n",
    "The simulation depends on several parameters:\n",
    "* `n_big_partiers`, the fraction of the population attending big parties with no PPE\n",
    "* `n_safe_partiers`, the fraction of the population attending small gatherings with PPE\n",
    "* `ttest`, the frequency of testing: Everyone is tested every `ttest` days\n",
    "* `inf_no_PPE`, probability of getting infected w/o PPE\n",
    "* `inf_with_PPE`, probability of getting infected w/PPE\n",
    "* `ex_i`, the external infection rate (eg, % of NY population infected)\n",
    "* `party_freq`, how often students attend parties: on average a student attends a party every `party_freq` days\n",
    "* `legal_party_size`, size of small gatherings\n",
    "* `illegal_party_size`, size of large parties"
   ]
  },
  {
   "cell_type": "code",
   "execution_count": 5,
   "metadata": {},
   "outputs": [
    {
     "data": {
      "text/plain": [
       "simulate (generic function with 10 methods)"
      ]
     },
     "execution_count": 5,
     "metadata": {},
     "output_type": "execute_result"
    }
   ],
   "source": [
    "function simulate(n_big_partiers = 1e-2,    # big parties, no PPE\n",
    "    n_safe_partiers = .4,     # small gatherings with PPE\n",
    "    ttest = 3,                # frequency of testing: test every ttest days\n",
    "    inf_no_PPE = .1,          # infectivity w/o PPE\n",
    "    inf_with_PPE = 1e-2,       # infectivity w/PPE\n",
    "    ex_i = 1e-6,               # external infection rate\n",
    "    party_freq = 7,             # party_freq = 7 => party once a week\n",
    "    legal_party_size = 15,\n",
    "    illegal_party_size = 50\n",
    "    )\n",
    "        \n",
    "    n3 = n_big_partiers\n",
    "    n2 = n_safe_partiers\n",
    "    n1 = 1-n3-n2 # only classes\n",
    "    \n",
    "    # dynamics\n",
    "    function update!(groups)\n",
    "        g1,g2,g3 = groups\n",
    "\n",
    "        # the proportion of the total population that is infected\n",
    "        total_i = sum(g.n*g.i for g in groups)\n",
    "        legal_party_i = (g2.n*g2.i+g3.n*g3.i)/(g2.n+g3.n)\n",
    "\n",
    "        # update group 1: just classes\n",
    "        g1.r += caught_by_test(g1.i, ttest)\n",
    "        g1.i += (g1.s*infected_in_class(total_i,inf_with_PPE)\n",
    "                + g1.s*ex_i\n",
    "                - caught_by_test(g1.i,ttest))\n",
    "        g1.s = 1 - g1.r - g1.i\n",
    "\n",
    "        # update group 2: small gatherings\n",
    "        g2.r += caught_by_test(g2.i, ttest)\n",
    "        g2.i += (g2.s*infected_in_class(total_i,inf_with_PPE)\n",
    "                + g2.s/party_freq*infected_at_party(legal_party_i,legal_party_size,inf_with_PPE)\n",
    "                + g2.s*ex_i\n",
    "                - caught_by_test(g2.i,ttest))\n",
    "        g2.s = 1 - g2.r - g2.i\n",
    "\n",
    "        # update group 3: big parties\n",
    "        g3.r += caught_by_test(g3.i, ttest)\n",
    "        g3.i += (g3.s*infected_in_class(total_i,inf_with_PPE)\n",
    "                + g3.s/party_freq*infected_at_party(legal_party_i,legal_party_size,inf_with_PPE)\n",
    "                + g3.s/party_freq*infected_at_party(g3.i,50,inf_no_PPE)\n",
    "                + g3.s*ex_i\n",
    "                - caught_by_test(g3.i,ttest))\n",
    "        g3.s = 1 - g3.r - g3.i\n",
    "    end\n",
    "    \n",
    "    # initial conditions\n",
    "    g1 = Group(n1,1)\n",
    "    g2 = Group(n2,1)\n",
    "    g3 = Group(n3,1)\n",
    "    groups = (g1,g2,g3)\n",
    "\n",
    "    r = Record(groups)\n",
    "    for t=1:100\n",
    "        update!(groups)\n",
    "        record!(r, groups)\n",
    "    end\n",
    "    return r, groups\n",
    "end"
   ]
  },
  {
   "cell_type": "markdown",
   "metadata": {},
   "source": [
    "Let's simulate from this model to explore influence of parameters. Circle marker shows that the number of infections is large enough that Cornell will close."
   ]
  },
  {
   "cell_type": "code",
   "execution_count": 6,
   "metadata": {},
   "outputs": [
    {
     "data": {
      "text/html": [
       "    <script type=\"text/javascript\">\n",
       "        requirejs([\"https://cdn.plot.ly/plotly-1.54.2.min.js\"], function(p) {\n",
       "            window.Plotly = p\n",
       "        });\n",
       "    </script>\n"
      ]
     },
     "metadata": {},
     "output_type": "display_data"
    },
    {
     "data": {
      "application/vnd.webio.node+json": {
       "children": [
        {
         "children": [
          {
           "children": [
            {
             "children": [
              {
               "children": [
                {
                 "children": [
                  "n_big_partiers"
                 ],
                 "instanceArgs": {
                  "namespace": "html",
                  "tag": "label"
                 },
                 "nodeType": "DOM",
                 "props": {
                  "className": "interact ",
                  "style": {
                   "padding": "5px 10px 0px 10px"
                  }
                 },
                 "type": "node"
                }
               ],
               "instanceArgs": {
                "namespace": "html",
                "tag": "div"
               },
               "nodeType": "DOM",
               "props": {
                "className": "interact-flex-row-left"
               },
               "type": "node"
              },
              {
               "children": [
                {
                 "children": [],
                 "instanceArgs": {
                  "namespace": "html",
                  "tag": "input"
                 },
                 "nodeType": "DOM",
                 "props": {
                  "attributes": {
                   "data-bind": "numericValue: index, valueUpdate: 'input', event: {change: function (){this.changes(this.changes()+1)}}",
                   "orient": "horizontal",
                   "type": "range"
                  },
                  "className": "slider slider is-fullwidth",
                  "max": 50,
                  "min": 1,
                  "step": 1,
                  "style": {}
                 },
                 "type": "node"
                }
               ],
               "instanceArgs": {
                "namespace": "html",
                "tag": "div"
               },
               "nodeType": "DOM",
               "props": {
                "className": "interact-flex-row-center"
               },
               "type": "node"
              },
              {
               "children": [
                {
                 "children": [],
                 "instanceArgs": {
                  "namespace": "html",
                  "tag": "p"
                 },
                 "nodeType": "DOM",
                 "props": {
                  "attributes": {
                   "data-bind": "text: formatted_val"
                  }
                 },
                 "type": "node"
                }
               ],
               "instanceArgs": {
                "namespace": "html",
                "tag": "div"
               },
               "nodeType": "DOM",
               "props": {
                "className": "interact-flex-row-right"
               },
               "type": "node"
              }
             ],
             "instanceArgs": {
              "namespace": "html",
              "tag": "div"
             },
             "nodeType": "DOM",
             "props": {
              "className": "interact-flex-row interact-widget"
             },
             "type": "node"
            }
           ],
           "instanceArgs": {
            "handlers": {
             "changes": [
              "(function (val){return (val!=this.model[\"changes\"]()) ? (this.valueFromJulia[\"changes\"]=true, this.model[\"changes\"](val)) : undefined})"
             ],
             "index": [
              "(function (val){return (val!=this.model[\"index\"]()) ? (this.valueFromJulia[\"index\"]=true, this.model[\"index\"](val)) : undefined})"
             ]
            },
            "id": "571544295569827157",
            "imports": {
             "data": [
              {
               "name": "knockout",
               "type": "js",
               "url": "/assetserver/aa767470ed3fb2fdc226b1798340a340ee166b2a-knockout.js"
              },
              {
               "name": "knockout_punches",
               "type": "js",
               "url": "/assetserver/e8fb3dc53556d31ce61caa9a9c7ddd80d27fc9d0-knockout_punches.js"
              },
              {
               "name": null,
               "type": "js",
               "url": "/assetserver/71fa1c1cc32d1bdda427a7ab2531f6129776e895-all.js"
              },
              {
               "name": null,
               "type": "css",
               "url": "/assetserver/2602973166a381dc3e60050f85dd07ec0cc87799-style.css"
              },
              {
               "name": null,
               "type": "css",
               "url": "/assetserver/bc33dca115ce9467eafc9b218c3bae68216c3008-bulma_confined.min.css"
              }
             ],
             "type": "async_block"
            },
            "mount_callbacks": [
             "function () {\n    var handler = (function (ko, koPunches) {\n    ko.punches.enableAll();\n    ko.bindingHandlers.numericValue = {\n        init: function(element, valueAccessor, allBindings, data, context) {\n            var stringified = ko.observable(ko.unwrap(valueAccessor()));\n            stringified.subscribe(function(value) {\n                var val = parseFloat(value);\n                if (!isNaN(val)) {\n                    valueAccessor()(val);\n                }\n            });\n            valueAccessor().subscribe(function(value) {\n                var str = JSON.stringify(value);\n                if ((str == \"0\") && ([\"-0\", \"-0.\"].indexOf(stringified()) >= 0))\n                     return;\n                 if ([\"null\", \"\"].indexOf(str) >= 0)\n                     return;\n                stringified(str);\n            });\n            ko.applyBindingsToNode(\n                element,\n                {\n                    value: stringified,\n                    valueUpdate: allBindings.get('valueUpdate'),\n                },\n                context,\n            );\n        }\n    };\n    var json_data = {\"formatted_vals\":[\"0.01\",\"0.02\",\"0.03\",\"0.04\",\"0.05\",\"0.06\",\"0.07\",\"0.08\",\"0.09\",\"0.1\",\"0.11\",\"0.12\",\"0.13\",\"0.14\",\"0.15\",\"0.16\",\"0.17\",\"0.18\",\"0.19\",\"0.2\",\"0.21\",\"0.22\",\"0.23\",\"0.24\",\"0.25\",\"0.26\",\"0.27\",\"0.28\",\"0.29\",\"0.3\",\"0.31\",\"0.32\",\"0.33\",\"0.34\",\"0.35\",\"0.36\",\"0.37\",\"0.38\",\"0.39\",\"0.4\",\"0.41\",\"0.42\",\"0.43\",\"0.44\",\"0.45\",\"0.46\",\"0.47\",\"0.48\",\"0.49\",\"0.5\"],\"changes\":WebIO.getval({\"name\":\"changes\",\"scope\":\"571544295569827157\",\"id\":\"11720482545226335668\",\"type\":\"observable\"}),\"index\":WebIO.getval({\"name\":\"index\",\"scope\":\"571544295569827157\",\"id\":\"17226841019019268470\",\"type\":\"observable\"})};\n    var self = this;\n    function AppViewModel() {\n        for (var key in json_data) {\n            var el = json_data[key];\n            this[key] = Array.isArray(el) ? ko.observableArray(el) : ko.observable(el);\n        }\n        \n        [this[\"formatted_val\"]=ko.computed(    function(){\n        return this.formatted_vals()[parseInt(this.index())-(1)];\n    }\n,this)]\n        [this[\"changes\"].subscribe((function (val){!(this.valueFromJulia[\"changes\"]) ? (WebIO.setval({\"name\":\"changes\",\"scope\":\"571544295569827157\",\"id\":\"11720482545226335668\",\"type\":\"observable\"},val)) : undefined; return this.valueFromJulia[\"changes\"]=false}),self),this[\"index\"].subscribe((function (val){!(this.valueFromJulia[\"index\"]) ? (WebIO.setval({\"name\":\"index\",\"scope\":\"571544295569827157\",\"id\":\"17226841019019268470\",\"type\":\"observable\"},val)) : undefined; return this.valueFromJulia[\"index\"]=false}),self)]\n        \n    }\n    self.model = new AppViewModel();\n    self.valueFromJulia = {};\n    for (var key in json_data) {\n        self.valueFromJulia[key] = false;\n    }\n    ko.applyBindings(self.model, self.dom);\n}\n);\n    (WebIO.importBlock({\"data\":[{\"name\":\"knockout\",\"type\":\"js\",\"url\":\"/assetserver/aa767470ed3fb2fdc226b1798340a340ee166b2a-knockout.js\"},{\"name\":\"knockout_punches\",\"type\":\"js\",\"url\":\"/assetserver/e8fb3dc53556d31ce61caa9a9c7ddd80d27fc9d0-knockout_punches.js\"}],\"type\":\"async_block\"})).then((imports) => handler.apply(this, imports));\n}\n"
            ],
            "observables": {
             "changes": {
              "id": "11720482545226335668",
              "sync": false,
              "value": 0
             },
             "index": {
              "id": "17226841019019268470",
              "sync": true,
              "value": 25
             }
            },
            "systemjs_options": null
           },
           "nodeType": "Scope",
           "props": {},
           "type": "node"
          }
         ],
         "instanceArgs": {
          "namespace": "html",
          "tag": "div"
         },
         "nodeType": "DOM",
         "props": {
          "className": "field interact-widget"
         },
         "type": "node"
        },
        {
         "children": [
          {
           "children": [
            {
             "children": [
              {
               "children": [
                {
                 "children": [
                  "n_safe_partiers"
                 ],
                 "instanceArgs": {
                  "namespace": "html",
                  "tag": "label"
                 },
                 "nodeType": "DOM",
                 "props": {
                  "className": "interact ",
                  "style": {
                   "padding": "5px 10px 0px 10px"
                  }
                 },
                 "type": "node"
                }
               ],
               "instanceArgs": {
                "namespace": "html",
                "tag": "div"
               },
               "nodeType": "DOM",
               "props": {
                "className": "interact-flex-row-left"
               },
               "type": "node"
              },
              {
               "children": [
                {
                 "children": [],
                 "instanceArgs": {
                  "namespace": "html",
                  "tag": "input"
                 },
                 "nodeType": "DOM",
                 "props": {
                  "attributes": {
                   "data-bind": "numericValue: index, valueUpdate: 'input', event: {change: function (){this.changes(this.changes()+1)}}",
                   "orient": "horizontal",
                   "type": "range"
                  },
                  "className": "slider slider is-fullwidth",
                  "max": 10,
                  "min": 1,
                  "step": 1,
                  "style": {}
                 },
                 "type": "node"
                }
               ],
               "instanceArgs": {
                "namespace": "html",
                "tag": "div"
               },
               "nodeType": "DOM",
               "props": {
                "className": "interact-flex-row-center"
               },
               "type": "node"
              },
              {
               "children": [
                {
                 "children": [],
                 "instanceArgs": {
                  "namespace": "html",
                  "tag": "p"
                 },
                 "nodeType": "DOM",
                 "props": {
                  "attributes": {
                   "data-bind": "text: formatted_val"
                  }
                 },
                 "type": "node"
                }
               ],
               "instanceArgs": {
                "namespace": "html",
                "tag": "div"
               },
               "nodeType": "DOM",
               "props": {
                "className": "interact-flex-row-right"
               },
               "type": "node"
              }
             ],
             "instanceArgs": {
              "namespace": "html",
              "tag": "div"
             },
             "nodeType": "DOM",
             "props": {
              "className": "interact-flex-row interact-widget"
             },
             "type": "node"
            }
           ],
           "instanceArgs": {
            "handlers": {
             "changes": [
              "(function (val){return (val!=this.model[\"changes\"]()) ? (this.valueFromJulia[\"changes\"]=true, this.model[\"changes\"](val)) : undefined})"
             ],
             "index": [
              "(function (val){return (val!=this.model[\"index\"]()) ? (this.valueFromJulia[\"index\"]=true, this.model[\"index\"](val)) : undefined})"
             ]
            },
            "id": "13941585414989321925",
            "imports": {
             "data": [
              {
               "name": "knockout",
               "type": "js",
               "url": "/assetserver/aa767470ed3fb2fdc226b1798340a340ee166b2a-knockout.js"
              },
              {
               "name": "knockout_punches",
               "type": "js",
               "url": "/assetserver/e8fb3dc53556d31ce61caa9a9c7ddd80d27fc9d0-knockout_punches.js"
              },
              {
               "name": null,
               "type": "js",
               "url": "/assetserver/71fa1c1cc32d1bdda427a7ab2531f6129776e895-all.js"
              },
              {
               "name": null,
               "type": "css",
               "url": "/assetserver/2602973166a381dc3e60050f85dd07ec0cc87799-style.css"
              },
              {
               "name": null,
               "type": "css",
               "url": "/assetserver/bc33dca115ce9467eafc9b218c3bae68216c3008-bulma_confined.min.css"
              }
             ],
             "type": "async_block"
            },
            "mount_callbacks": [
             "function () {\n    var handler = (function (ko, koPunches) {\n    ko.punches.enableAll();\n    ko.bindingHandlers.numericValue = {\n        init: function(element, valueAccessor, allBindings, data, context) {\n            var stringified = ko.observable(ko.unwrap(valueAccessor()));\n            stringified.subscribe(function(value) {\n                var val = parseFloat(value);\n                if (!isNaN(val)) {\n                    valueAccessor()(val);\n                }\n            });\n            valueAccessor().subscribe(function(value) {\n                var str = JSON.stringify(value);\n                if ((str == \"0\") && ([\"-0\", \"-0.\"].indexOf(stringified()) >= 0))\n                     return;\n                 if ([\"null\", \"\"].indexOf(str) >= 0)\n                     return;\n                stringified(str);\n            });\n            ko.applyBindingsToNode(\n                element,\n                {\n                    value: stringified,\n                    valueUpdate: allBindings.get('valueUpdate'),\n                },\n                context,\n            );\n        }\n    };\n    var json_data = {\"formatted_vals\":[\"0.1\",\"0.2\",\"0.3\",\"0.4\",\"0.5\",\"0.6\",\"0.7\",\"0.8\",\"0.9\",\"1.0\"],\"changes\":WebIO.getval({\"name\":\"changes\",\"scope\":\"13941585414989321925\",\"id\":\"9560784766620657076\",\"type\":\"observable\"}),\"index\":WebIO.getval({\"name\":\"index\",\"scope\":\"13941585414989321925\",\"id\":\"12768452192305454202\",\"type\":\"observable\"})};\n    var self = this;\n    function AppViewModel() {\n        for (var key in json_data) {\n            var el = json_data[key];\n            this[key] = Array.isArray(el) ? ko.observableArray(el) : ko.observable(el);\n        }\n        \n        [this[\"formatted_val\"]=ko.computed(    function(){\n        return this.formatted_vals()[parseInt(this.index())-(1)];\n    }\n,this)]\n        [this[\"changes\"].subscribe((function (val){!(this.valueFromJulia[\"changes\"]) ? (WebIO.setval({\"name\":\"changes\",\"scope\":\"13941585414989321925\",\"id\":\"9560784766620657076\",\"type\":\"observable\"},val)) : undefined; return this.valueFromJulia[\"changes\"]=false}),self),this[\"index\"].subscribe((function (val){!(this.valueFromJulia[\"index\"]) ? (WebIO.setval({\"name\":\"index\",\"scope\":\"13941585414989321925\",\"id\":\"12768452192305454202\",\"type\":\"observable\"},val)) : undefined; return this.valueFromJulia[\"index\"]=false}),self)]\n        \n    }\n    self.model = new AppViewModel();\n    self.valueFromJulia = {};\n    for (var key in json_data) {\n        self.valueFromJulia[key] = false;\n    }\n    ko.applyBindings(self.model, self.dom);\n}\n);\n    (WebIO.importBlock({\"data\":[{\"name\":\"knockout\",\"type\":\"js\",\"url\":\"/assetserver/aa767470ed3fb2fdc226b1798340a340ee166b2a-knockout.js\"},{\"name\":\"knockout_punches\",\"type\":\"js\",\"url\":\"/assetserver/e8fb3dc53556d31ce61caa9a9c7ddd80d27fc9d0-knockout_punches.js\"}],\"type\":\"async_block\"})).then((imports) => handler.apply(this, imports));\n}\n"
            ],
            "observables": {
             "changes": {
              "id": "9560784766620657076",
              "sync": false,
              "value": 0
             },
             "index": {
              "id": "12768452192305454202",
              "sync": true,
              "value": 5
             }
            },
            "systemjs_options": null
           },
           "nodeType": "Scope",
           "props": {},
           "type": "node"
          }
         ],
         "instanceArgs": {
          "namespace": "html",
          "tag": "div"
         },
         "nodeType": "DOM",
         "props": {
          "className": "field interact-widget"
         },
         "type": "node"
        },
        {
         "children": [
          {
           "children": [
            {
             "children": [
              {
               "children": [
                {
                 "children": [
                  "test_period"
                 ],
                 "instanceArgs": {
                  "namespace": "html",
                  "tag": "label"
                 },
                 "nodeType": "DOM",
                 "props": {
                  "className": "interact ",
                  "style": {
                   "padding": "5px 10px 0px 10px"
                  }
                 },
                 "type": "node"
                }
               ],
               "instanceArgs": {
                "namespace": "html",
                "tag": "div"
               },
               "nodeType": "DOM",
               "props": {
                "className": "interact-flex-row-left"
               },
               "type": "node"
              },
              {
               "children": [
                {
                 "children": [],
                 "instanceArgs": {
                  "namespace": "html",
                  "tag": "input"
                 },
                 "nodeType": "DOM",
                 "props": {
                  "attributes": {
                   "data-bind": "numericValue: index, valueUpdate: 'input', event: {change: function (){this.changes(this.changes()+1)}}",
                   "orient": "horizontal",
                   "type": "range"
                  },
                  "className": "slider slider is-fullwidth",
                  "max": 7,
                  "min": 1,
                  "step": 1,
                  "style": {}
                 },
                 "type": "node"
                }
               ],
               "instanceArgs": {
                "namespace": "html",
                "tag": "div"
               },
               "nodeType": "DOM",
               "props": {
                "className": "interact-flex-row-center"
               },
               "type": "node"
              },
              {
               "children": [
                {
                 "children": [],
                 "instanceArgs": {
                  "namespace": "html",
                  "tag": "p"
                 },
                 "nodeType": "DOM",
                 "props": {
                  "attributes": {
                   "data-bind": "text: formatted_val"
                  }
                 },
                 "type": "node"
                }
               ],
               "instanceArgs": {
                "namespace": "html",
                "tag": "div"
               },
               "nodeType": "DOM",
               "props": {
                "className": "interact-flex-row-right"
               },
               "type": "node"
              }
             ],
             "instanceArgs": {
              "namespace": "html",
              "tag": "div"
             },
             "nodeType": "DOM",
             "props": {
              "className": "interact-flex-row interact-widget"
             },
             "type": "node"
            }
           ],
           "instanceArgs": {
            "handlers": {
             "changes": [
              "(function (val){return (val!=this.model[\"changes\"]()) ? (this.valueFromJulia[\"changes\"]=true, this.model[\"changes\"](val)) : undefined})"
             ],
             "index": [
              "(function (val){return (val!=this.model[\"index\"]()) ? (this.valueFromJulia[\"index\"]=true, this.model[\"index\"](val)) : undefined})"
             ]
            },
            "id": "16379780513320492000",
            "imports": {
             "data": [
              {
               "name": "knockout",
               "type": "js",
               "url": "/assetserver/aa767470ed3fb2fdc226b1798340a340ee166b2a-knockout.js"
              },
              {
               "name": "knockout_punches",
               "type": "js",
               "url": "/assetserver/e8fb3dc53556d31ce61caa9a9c7ddd80d27fc9d0-knockout_punches.js"
              },
              {
               "name": null,
               "type": "js",
               "url": "/assetserver/71fa1c1cc32d1bdda427a7ab2531f6129776e895-all.js"
              },
              {
               "name": null,
               "type": "css",
               "url": "/assetserver/2602973166a381dc3e60050f85dd07ec0cc87799-style.css"
              },
              {
               "name": null,
               "type": "css",
               "url": "/assetserver/bc33dca115ce9467eafc9b218c3bae68216c3008-bulma_confined.min.css"
              }
             ],
             "type": "async_block"
            },
            "mount_callbacks": [
             "function () {\n    var handler = (function (ko, koPunches) {\n    ko.punches.enableAll();\n    ko.bindingHandlers.numericValue = {\n        init: function(element, valueAccessor, allBindings, data, context) {\n            var stringified = ko.observable(ko.unwrap(valueAccessor()));\n            stringified.subscribe(function(value) {\n                var val = parseFloat(value);\n                if (!isNaN(val)) {\n                    valueAccessor()(val);\n                }\n            });\n            valueAccessor().subscribe(function(value) {\n                var str = JSON.stringify(value);\n                if ((str == \"0\") && ([\"-0\", \"-0.\"].indexOf(stringified()) >= 0))\n                     return;\n                 if ([\"null\", \"\"].indexOf(str) >= 0)\n                     return;\n                stringified(str);\n            });\n            ko.applyBindingsToNode(\n                element,\n                {\n                    value: stringified,\n                    valueUpdate: allBindings.get('valueUpdate'),\n                },\n                context,\n            );\n        }\n    };\n    var json_data = {\"formatted_vals\":[\"1\",\"2\",\"3\",\"4\",\"5\",\"6\",\"7\"],\"changes\":WebIO.getval({\"name\":\"changes\",\"scope\":\"16379780513320492000\",\"id\":\"14729607090505863996\",\"type\":\"observable\"}),\"index\":WebIO.getval({\"name\":\"index\",\"scope\":\"16379780513320492000\",\"id\":\"11153782863410598484\",\"type\":\"observable\"})};\n    var self = this;\n    function AppViewModel() {\n        for (var key in json_data) {\n            var el = json_data[key];\n            this[key] = Array.isArray(el) ? ko.observableArray(el) : ko.observable(el);\n        }\n        \n        [this[\"formatted_val\"]=ko.computed(    function(){\n        return this.formatted_vals()[parseInt(this.index())-(1)];\n    }\n,this)]\n        [this[\"changes\"].subscribe((function (val){!(this.valueFromJulia[\"changes\"]) ? (WebIO.setval({\"name\":\"changes\",\"scope\":\"16379780513320492000\",\"id\":\"14729607090505863996\",\"type\":\"observable\"},val)) : undefined; return this.valueFromJulia[\"changes\"]=false}),self),this[\"index\"].subscribe((function (val){!(this.valueFromJulia[\"index\"]) ? (WebIO.setval({\"name\":\"index\",\"scope\":\"16379780513320492000\",\"id\":\"11153782863410598484\",\"type\":\"observable\"},val)) : undefined; return this.valueFromJulia[\"index\"]=false}),self)]\n        \n    }\n    self.model = new AppViewModel();\n    self.valueFromJulia = {};\n    for (var key in json_data) {\n        self.valueFromJulia[key] = false;\n    }\n    ko.applyBindings(self.model, self.dom);\n}\n);\n    (WebIO.importBlock({\"data\":[{\"name\":\"knockout\",\"type\":\"js\",\"url\":\"/assetserver/aa767470ed3fb2fdc226b1798340a340ee166b2a-knockout.js\"},{\"name\":\"knockout_punches\",\"type\":\"js\",\"url\":\"/assetserver/e8fb3dc53556d31ce61caa9a9c7ddd80d27fc9d0-knockout_punches.js\"}],\"type\":\"async_block\"})).then((imports) => handler.apply(this, imports));\n}\n"
            ],
            "observables": {
             "changes": {
              "id": "14729607090505863996",
              "sync": false,
              "value": 0
             },
             "index": {
              "id": "11153782863410598484",
              "sync": true,
              "value": 4
             }
            },
            "systemjs_options": null
           },
           "nodeType": "Scope",
           "props": {},
           "type": "node"
          }
         ],
         "instanceArgs": {
          "namespace": "html",
          "tag": "div"
         },
         "nodeType": "DOM",
         "props": {
          "className": "field interact-widget"
         },
         "type": "node"
        },
        {
         "children": [
          {
           "children": [
            {
             "children": [
              {
               "children": [
                {
                 "children": [
                  "inf_no_PPE"
                 ],
                 "instanceArgs": {
                  "namespace": "html",
                  "tag": "label"
                 },
                 "nodeType": "DOM",
                 "props": {
                  "className": "interact ",
                  "style": {
                   "padding": "5px 10px 0px 10px"
                  }
                 },
                 "type": "node"
                }
               ],
               "instanceArgs": {
                "namespace": "html",
                "tag": "div"
               },
               "nodeType": "DOM",
               "props": {
                "className": "interact-flex-row-left"
               },
               "type": "node"
              },
              {
               "children": [
                {
                 "children": [],
                 "instanceArgs": {
                  "namespace": "html",
                  "tag": "input"
                 },
                 "nodeType": "DOM",
                 "props": {
                  "attributes": {
                   "data-bind": "numericValue: index, valueUpdate: 'input', event: {change: function (){this.changes(this.changes()+1)}}",
                   "orient": "horizontal",
                   "type": "range"
                  },
                  "className": "slider slider is-fullwidth",
                  "max": 20,
                  "min": 1,
                  "step": 1,
                  "style": {}
                 },
                 "type": "node"
                }
               ],
               "instanceArgs": {
                "namespace": "html",
                "tag": "div"
               },
               "nodeType": "DOM",
               "props": {
                "className": "interact-flex-row-center"
               },
               "type": "node"
              },
              {
               "children": [
                {
                 "children": [],
                 "instanceArgs": {
                  "namespace": "html",
                  "tag": "p"
                 },
                 "nodeType": "DOM",
                 "props": {
                  "attributes": {
                   "data-bind": "text: formatted_val"
                  }
                 },
                 "type": "node"
                }
               ],
               "instanceArgs": {
                "namespace": "html",
                "tag": "div"
               },
               "nodeType": "DOM",
               "props": {
                "className": "interact-flex-row-right"
               },
               "type": "node"
              }
             ],
             "instanceArgs": {
              "namespace": "html",
              "tag": "div"
             },
             "nodeType": "DOM",
             "props": {
              "className": "interact-flex-row interact-widget"
             },
             "type": "node"
            }
           ],
           "instanceArgs": {
            "handlers": {
             "changes": [
              "(function (val){return (val!=this.model[\"changes\"]()) ? (this.valueFromJulia[\"changes\"]=true, this.model[\"changes\"](val)) : undefined})"
             ],
             "index": [
              "(function (val){return (val!=this.model[\"index\"]()) ? (this.valueFromJulia[\"index\"]=true, this.model[\"index\"](val)) : undefined})"
             ]
            },
            "id": "8881602859575620619",
            "imports": {
             "data": [
              {
               "name": "knockout",
               "type": "js",
               "url": "/assetserver/aa767470ed3fb2fdc226b1798340a340ee166b2a-knockout.js"
              },
              {
               "name": "knockout_punches",
               "type": "js",
               "url": "/assetserver/e8fb3dc53556d31ce61caa9a9c7ddd80d27fc9d0-knockout_punches.js"
              },
              {
               "name": null,
               "type": "js",
               "url": "/assetserver/71fa1c1cc32d1bdda427a7ab2531f6129776e895-all.js"
              },
              {
               "name": null,
               "type": "css",
               "url": "/assetserver/2602973166a381dc3e60050f85dd07ec0cc87799-style.css"
              },
              {
               "name": null,
               "type": "css",
               "url": "/assetserver/bc33dca115ce9467eafc9b218c3bae68216c3008-bulma_confined.min.css"
              }
             ],
             "type": "async_block"
            },
            "mount_callbacks": [
             "function () {\n    var handler = (function (ko, koPunches) {\n    ko.punches.enableAll();\n    ko.bindingHandlers.numericValue = {\n        init: function(element, valueAccessor, allBindings, data, context) {\n            var stringified = ko.observable(ko.unwrap(valueAccessor()));\n            stringified.subscribe(function(value) {\n                var val = parseFloat(value);\n                if (!isNaN(val)) {\n                    valueAccessor()(val);\n                }\n            });\n            valueAccessor().subscribe(function(value) {\n                var str = JSON.stringify(value);\n                if ((str == \"0\") && ([\"-0\", \"-0.\"].indexOf(stringified()) >= 0))\n                     return;\n                 if ([\"null\", \"\"].indexOf(str) >= 0)\n                     return;\n                stringified(str);\n            });\n            ko.applyBindingsToNode(\n                element,\n                {\n                    value: stringified,\n                    valueUpdate: allBindings.get('valueUpdate'),\n                },\n                context,\n            );\n        }\n    };\n    var json_data = {\"formatted_vals\":[\"0.05\",\"0.1\",\"0.15\",\"0.2\",\"0.25\",\"0.3\",\"0.35\",\"0.4\",\"0.45\",\"0.5\",\"0.55\",\"0.6\",\"0.65\",\"0.7\",\"0.75\",\"0.8\",\"0.85\",\"0.9\",\"0.95\",\"1.0\"],\"changes\":WebIO.getval({\"name\":\"changes\",\"scope\":\"8881602859575620619\",\"id\":\"17070122431061889966\",\"type\":\"observable\"}),\"index\":WebIO.getval({\"name\":\"index\",\"scope\":\"8881602859575620619\",\"id\":\"6322375506969736956\",\"type\":\"observable\"})};\n    var self = this;\n    function AppViewModel() {\n        for (var key in json_data) {\n            var el = json_data[key];\n            this[key] = Array.isArray(el) ? ko.observableArray(el) : ko.observable(el);\n        }\n        \n        [this[\"formatted_val\"]=ko.computed(    function(){\n        return this.formatted_vals()[parseInt(this.index())-(1)];\n    }\n,this)]\n        [this[\"changes\"].subscribe((function (val){!(this.valueFromJulia[\"changes\"]) ? (WebIO.setval({\"name\":\"changes\",\"scope\":\"8881602859575620619\",\"id\":\"17070122431061889966\",\"type\":\"observable\"},val)) : undefined; return this.valueFromJulia[\"changes\"]=false}),self),this[\"index\"].subscribe((function (val){!(this.valueFromJulia[\"index\"]) ? (WebIO.setval({\"name\":\"index\",\"scope\":\"8881602859575620619\",\"id\":\"6322375506969736956\",\"type\":\"observable\"},val)) : undefined; return this.valueFromJulia[\"index\"]=false}),self)]\n        \n    }\n    self.model = new AppViewModel();\n    self.valueFromJulia = {};\n    for (var key in json_data) {\n        self.valueFromJulia[key] = false;\n    }\n    ko.applyBindings(self.model, self.dom);\n}\n);\n    (WebIO.importBlock({\"data\":[{\"name\":\"knockout\",\"type\":\"js\",\"url\":\"/assetserver/aa767470ed3fb2fdc226b1798340a340ee166b2a-knockout.js\"},{\"name\":\"knockout_punches\",\"type\":\"js\",\"url\":\"/assetserver/e8fb3dc53556d31ce61caa9a9c7ddd80d27fc9d0-knockout_punches.js\"}],\"type\":\"async_block\"})).then((imports) => handler.apply(this, imports));\n}\n"
            ],
            "observables": {
             "changes": {
              "id": "17070122431061889966",
              "sync": false,
              "value": 0
             },
             "index": {
              "id": "6322375506969736956",
              "sync": true,
              "value": 10
             }
            },
            "systemjs_options": null
           },
           "nodeType": "Scope",
           "props": {},
           "type": "node"
          }
         ],
         "instanceArgs": {
          "namespace": "html",
          "tag": "div"
         },
         "nodeType": "DOM",
         "props": {
          "className": "field interact-widget"
         },
         "type": "node"
        },
        {
         "children": [
          {
           "children": [
            {
             "children": [
              {
               "children": [
                {
                 "children": [
                  "inf_with_PPE"
                 ],
                 "instanceArgs": {
                  "namespace": "html",
                  "tag": "label"
                 },
                 "nodeType": "DOM",
                 "props": {
                  "className": "interact ",
                  "style": {
                   "padding": "5px 10px 0px 10px"
                  }
                 },
                 "type": "node"
                }
               ],
               "instanceArgs": {
                "namespace": "html",
                "tag": "div"
               },
               "nodeType": "DOM",
               "props": {
                "className": "interact-flex-row-left"
               },
               "type": "node"
              },
              {
               "children": [
                {
                 "children": [],
                 "instanceArgs": {
                  "namespace": "html",
                  "tag": "input"
                 },
                 "nodeType": "DOM",
                 "props": {
                  "attributes": {
                   "data-bind": "numericValue: index, valueUpdate: 'input', event: {change: function (){this.changes(this.changes()+1)}}",
                   "orient": "horizontal",
                   "type": "range"
                  },
                  "className": "slider slider is-fullwidth",
                  "max": 10,
                  "min": 1,
                  "step": 1,
                  "style": {}
                 },
                 "type": "node"
                }
               ],
               "instanceArgs": {
                "namespace": "html",
                "tag": "div"
               },
               "nodeType": "DOM",
               "props": {
                "className": "interact-flex-row-center"
               },
               "type": "node"
              },
              {
               "children": [
                {
                 "children": [],
                 "instanceArgs": {
                  "namespace": "html",
                  "tag": "p"
                 },
                 "nodeType": "DOM",
                 "props": {
                  "attributes": {
                   "data-bind": "text: formatted_val"
                  }
                 },
                 "type": "node"
                }
               ],
               "instanceArgs": {
                "namespace": "html",
                "tag": "div"
               },
               "nodeType": "DOM",
               "props": {
                "className": "interact-flex-row-right"
               },
               "type": "node"
              }
             ],
             "instanceArgs": {
              "namespace": "html",
              "tag": "div"
             },
             "nodeType": "DOM",
             "props": {
              "className": "interact-flex-row interact-widget"
             },
             "type": "node"
            }
           ],
           "instanceArgs": {
            "handlers": {
             "changes": [
              "(function (val){return (val!=this.model[\"changes\"]()) ? (this.valueFromJulia[\"changes\"]=true, this.model[\"changes\"](val)) : undefined})"
             ],
             "index": [
              "(function (val){return (val!=this.model[\"index\"]()) ? (this.valueFromJulia[\"index\"]=true, this.model[\"index\"](val)) : undefined})"
             ]
            },
            "id": "2084340190879079304",
            "imports": {
             "data": [
              {
               "name": "knockout",
               "type": "js",
               "url": "/assetserver/aa767470ed3fb2fdc226b1798340a340ee166b2a-knockout.js"
              },
              {
               "name": "knockout_punches",
               "type": "js",
               "url": "/assetserver/e8fb3dc53556d31ce61caa9a9c7ddd80d27fc9d0-knockout_punches.js"
              },
              {
               "name": null,
               "type": "js",
               "url": "/assetserver/71fa1c1cc32d1bdda427a7ab2531f6129776e895-all.js"
              },
              {
               "name": null,
               "type": "css",
               "url": "/assetserver/2602973166a381dc3e60050f85dd07ec0cc87799-style.css"
              },
              {
               "name": null,
               "type": "css",
               "url": "/assetserver/bc33dca115ce9467eafc9b218c3bae68216c3008-bulma_confined.min.css"
              }
             ],
             "type": "async_block"
            },
            "mount_callbacks": [
             "function () {\n    var handler = (function (ko, koPunches) {\n    ko.punches.enableAll();\n    ko.bindingHandlers.numericValue = {\n        init: function(element, valueAccessor, allBindings, data, context) {\n            var stringified = ko.observable(ko.unwrap(valueAccessor()));\n            stringified.subscribe(function(value) {\n                var val = parseFloat(value);\n                if (!isNaN(val)) {\n                    valueAccessor()(val);\n                }\n            });\n            valueAccessor().subscribe(function(value) {\n                var str = JSON.stringify(value);\n                if ((str == \"0\") && ([\"-0\", \"-0.\"].indexOf(stringified()) >= 0))\n                     return;\n                 if ([\"null\", \"\"].indexOf(str) >= 0)\n                     return;\n                stringified(str);\n            });\n            ko.applyBindingsToNode(\n                element,\n                {\n                    value: stringified,\n                    valueUpdate: allBindings.get('valueUpdate'),\n                },\n                context,\n            );\n        }\n    };\n    var json_data = {\"formatted_vals\":[\"0.01\",\"0.02\",\"0.03\",\"0.04\",\"0.05\",\"0.06\",\"0.07\",\"0.08\",\"0.09\",\"0.1\"],\"changes\":WebIO.getval({\"name\":\"changes\",\"scope\":\"2084340190879079304\",\"id\":\"15850240272617875122\",\"type\":\"observable\"}),\"index\":WebIO.getval({\"name\":\"index\",\"scope\":\"2084340190879079304\",\"id\":\"3519113577778166434\",\"type\":\"observable\"})};\n    var self = this;\n    function AppViewModel() {\n        for (var key in json_data) {\n            var el = json_data[key];\n            this[key] = Array.isArray(el) ? ko.observableArray(el) : ko.observable(el);\n        }\n        \n        [this[\"formatted_val\"]=ko.computed(    function(){\n        return this.formatted_vals()[parseInt(this.index())-(1)];\n    }\n,this)]\n        [this[\"changes\"].subscribe((function (val){!(this.valueFromJulia[\"changes\"]) ? (WebIO.setval({\"name\":\"changes\",\"scope\":\"2084340190879079304\",\"id\":\"15850240272617875122\",\"type\":\"observable\"},val)) : undefined; return this.valueFromJulia[\"changes\"]=false}),self),this[\"index\"].subscribe((function (val){!(this.valueFromJulia[\"index\"]) ? (WebIO.setval({\"name\":\"index\",\"scope\":\"2084340190879079304\",\"id\":\"3519113577778166434\",\"type\":\"observable\"},val)) : undefined; return this.valueFromJulia[\"index\"]=false}),self)]\n        \n    }\n    self.model = new AppViewModel();\n    self.valueFromJulia = {};\n    for (var key in json_data) {\n        self.valueFromJulia[key] = false;\n    }\n    ko.applyBindings(self.model, self.dom);\n}\n);\n    (WebIO.importBlock({\"data\":[{\"name\":\"knockout\",\"type\":\"js\",\"url\":\"/assetserver/aa767470ed3fb2fdc226b1798340a340ee166b2a-knockout.js\"},{\"name\":\"knockout_punches\",\"type\":\"js\",\"url\":\"/assetserver/e8fb3dc53556d31ce61caa9a9c7ddd80d27fc9d0-knockout_punches.js\"}],\"type\":\"async_block\"})).then((imports) => handler.apply(this, imports));\n}\n"
            ],
            "observables": {
             "changes": {
              "id": "15850240272617875122",
              "sync": false,
              "value": 0
             },
             "index": {
              "id": "3519113577778166434",
              "sync": true,
              "value": 5
             }
            },
            "systemjs_options": null
           },
           "nodeType": "Scope",
           "props": {},
           "type": "node"
          }
         ],
         "instanceArgs": {
          "namespace": "html",
          "tag": "div"
         },
         "nodeType": "DOM",
         "props": {
          "className": "field interact-widget"
         },
         "type": "node"
        },
        {
         "children": [
          {
           "children": [
            {
             "children": [
              {
               "children": [
                {
                 "children": [
                  "ex_i"
                 ],
                 "instanceArgs": {
                  "namespace": "html",
                  "tag": "label"
                 },
                 "nodeType": "DOM",
                 "props": {
                  "className": "interact ",
                  "style": {
                   "padding": "5px 10px 0px 10px"
                  }
                 },
                 "type": "node"
                }
               ],
               "instanceArgs": {
                "namespace": "html",
                "tag": "div"
               },
               "nodeType": "DOM",
               "props": {
                "className": "interact-flex-row-left"
               },
               "type": "node"
              },
              {
               "children": [
                {
                 "children": [],
                 "instanceArgs": {
                  "namespace": "html",
                  "tag": "input"
                 },
                 "nodeType": "DOM",
                 "props": {
                  "attributes": {
                   "data-bind": "numericValue: index, valueUpdate: 'input', event: {change: function (){this.changes(this.changes()+1)}}",
                   "orient": "horizontal",
                   "type": "range"
                  },
                  "className": "slider slider is-fullwidth",
                  "max": 7,
                  "min": 1,
                  "step": 1,
                  "style": {}
                 },
                 "type": "node"
                }
               ],
               "instanceArgs": {
                "namespace": "html",
                "tag": "div"
               },
               "nodeType": "DOM",
               "props": {
                "className": "interact-flex-row-center"
               },
               "type": "node"
              },
              {
               "children": [
                {
                 "children": [],
                 "instanceArgs": {
                  "namespace": "html",
                  "tag": "p"
                 },
                 "nodeType": "DOM",
                 "props": {
                  "attributes": {
                   "data-bind": "text: formatted_val"
                  }
                 },
                 "type": "node"
                }
               ],
               "instanceArgs": {
                "namespace": "html",
                "tag": "div"
               },
               "nodeType": "DOM",
               "props": {
                "className": "interact-flex-row-right"
               },
               "type": "node"
              }
             ],
             "instanceArgs": {
              "namespace": "html",
              "tag": "div"
             },
             "nodeType": "DOM",
             "props": {
              "className": "interact-flex-row interact-widget"
             },
             "type": "node"
            }
           ],
           "instanceArgs": {
            "handlers": {
             "changes": [
              "(function (val){return (val!=this.model[\"changes\"]()) ? (this.valueFromJulia[\"changes\"]=true, this.model[\"changes\"](val)) : undefined})"
             ],
             "index": [
              "(function (val){return (val!=this.model[\"index\"]()) ? (this.valueFromJulia[\"index\"]=true, this.model[\"index\"](val)) : undefined})"
             ]
            },
            "id": "5138917177894057168",
            "imports": {
             "data": [
              {
               "name": "knockout",
               "type": "js",
               "url": "/assetserver/aa767470ed3fb2fdc226b1798340a340ee166b2a-knockout.js"
              },
              {
               "name": "knockout_punches",
               "type": "js",
               "url": "/assetserver/e8fb3dc53556d31ce61caa9a9c7ddd80d27fc9d0-knockout_punches.js"
              },
              {
               "name": null,
               "type": "js",
               "url": "/assetserver/71fa1c1cc32d1bdda427a7ab2531f6129776e895-all.js"
              },
              {
               "name": null,
               "type": "css",
               "url": "/assetserver/2602973166a381dc3e60050f85dd07ec0cc87799-style.css"
              },
              {
               "name": null,
               "type": "css",
               "url": "/assetserver/bc33dca115ce9467eafc9b218c3bae68216c3008-bulma_confined.min.css"
              }
             ],
             "type": "async_block"
            },
            "mount_callbacks": [
             "function () {\n    var handler = (function (ko, koPunches) {\n    ko.punches.enableAll();\n    ko.bindingHandlers.numericValue = {\n        init: function(element, valueAccessor, allBindings, data, context) {\n            var stringified = ko.observable(ko.unwrap(valueAccessor()));\n            stringified.subscribe(function(value) {\n                var val = parseFloat(value);\n                if (!isNaN(val)) {\n                    valueAccessor()(val);\n                }\n            });\n            valueAccessor().subscribe(function(value) {\n                var str = JSON.stringify(value);\n                if ((str == \"0\") && ([\"-0\", \"-0.\"].indexOf(stringified()) >= 0))\n                     return;\n                 if ([\"null\", \"\"].indexOf(str) >= 0)\n                     return;\n                stringified(str);\n            });\n            ko.applyBindingsToNode(\n                element,\n                {\n                    value: stringified,\n                    valueUpdate: allBindings.get('valueUpdate'),\n                },\n                context,\n            );\n        }\n    };\n    var json_data = {\"formatted_vals\":[\"1.0e-7\",\"1.0e-6\",\"1.0e-5\",\"0.0001\",\"0.001\",\"0.01\",\"0.1\"],\"changes\":WebIO.getval({\"name\":\"changes\",\"scope\":\"5138917177894057168\",\"id\":\"5364202603144492437\",\"type\":\"observable\"}),\"index\":WebIO.getval({\"name\":\"index\",\"scope\":\"5138917177894057168\",\"id\":\"1944717797036540313\",\"type\":\"observable\"})};\n    var self = this;\n    function AppViewModel() {\n        for (var key in json_data) {\n            var el = json_data[key];\n            this[key] = Array.isArray(el) ? ko.observableArray(el) : ko.observable(el);\n        }\n        \n        [this[\"formatted_val\"]=ko.computed(    function(){\n        return this.formatted_vals()[parseInt(this.index())-(1)];\n    }\n,this)]\n        [this[\"changes\"].subscribe((function (val){!(this.valueFromJulia[\"changes\"]) ? (WebIO.setval({\"name\":\"changes\",\"scope\":\"5138917177894057168\",\"id\":\"5364202603144492437\",\"type\":\"observable\"},val)) : undefined; return this.valueFromJulia[\"changes\"]=false}),self),this[\"index\"].subscribe((function (val){!(this.valueFromJulia[\"index\"]) ? (WebIO.setval({\"name\":\"index\",\"scope\":\"5138917177894057168\",\"id\":\"1944717797036540313\",\"type\":\"observable\"},val)) : undefined; return this.valueFromJulia[\"index\"]=false}),self)]\n        \n    }\n    self.model = new AppViewModel();\n    self.valueFromJulia = {};\n    for (var key in json_data) {\n        self.valueFromJulia[key] = false;\n    }\n    ko.applyBindings(self.model, self.dom);\n}\n);\n    (WebIO.importBlock({\"data\":[{\"name\":\"knockout\",\"type\":\"js\",\"url\":\"/assetserver/aa767470ed3fb2fdc226b1798340a340ee166b2a-knockout.js\"},{\"name\":\"knockout_punches\",\"type\":\"js\",\"url\":\"/assetserver/e8fb3dc53556d31ce61caa9a9c7ddd80d27fc9d0-knockout_punches.js\"}],\"type\":\"async_block\"})).then((imports) => handler.apply(this, imports));\n}\n"
            ],
            "observables": {
             "changes": {
              "id": "5364202603144492437",
              "sync": false,
              "value": 0
             },
             "index": {
              "id": "1944717797036540313",
              "sync": true,
              "value": 4
             }
            },
            "systemjs_options": null
           },
           "nodeType": "Scope",
           "props": {},
           "type": "node"
          }
         ],
         "instanceArgs": {
          "namespace": "html",
          "tag": "div"
         },
         "nodeType": "DOM",
         "props": {
          "className": "field interact-widget"
         },
         "type": "node"
        },
        {
         "children": [
          {
           "children": [],
           "instanceArgs": {
            "id": "13268929357706145263",
            "name": "obs-node"
           },
           "nodeType": "ObservableNode",
           "props": {},
           "type": "node"
          }
         ],
         "instanceArgs": {
          "handlers": {},
          "id": "14149503217639229308",
          "imports": {
           "data": [],
           "type": "async_block"
          },
          "mount_callbacks": [],
          "observables": {
           "obs-node": {
            "id": "13268929357706145263",
            "sync": false,
            "value": {
             "children": [
              {
               "children": [],
               "instanceArgs": {
                "namespace": "html",
                "tag": "div"
               },
               "nodeType": "DOM",
               "props": {
                "setInnerHtml": "<!DOCTYPE html>\n<html>\n    <head>\n        <title>Plots.jl</title>\n        <meta http-equiv=\"content-type\" content=\"text/html; charset=UTF-8\">\n        <script src=\"https://cdn.plot.ly/plotly-1.54.2.min.js\"></script>\n    </head>\n    <body>\n            <div id=\"75b4acb1-12db-432d-9d89-da5aa0a1af10\" style=\"width:600px;height:400px;\"></div>\n    <script>\n    PLOT = document.getElementById('75b4acb1-12db-432d-9d89-da5aa0a1af10');\n    Plotly.plot(PLOT, [\n    {\n        \"xaxis\": \"x1\",\n        \"colorbar\": {\n            \"title\": \"\"\n        },\n        \"yaxis\": \"y1\",\n        \"x\": [\n            1,\n            2,\n            3,\n            4,\n            5,\n            6,\n            7,\n            8,\n            9,\n            10,\n            11,\n            12,\n            13,\n            14,\n            15,\n            16,\n            17,\n            18,\n            19,\n            20,\n            21,\n            22,\n            23,\n            24,\n            25,\n            26,\n            27,\n            28,\n            29,\n            30,\n            31,\n            32,\n            33,\n            34,\n            35,\n            36,\n            37,\n            38,\n            39,\n            40,\n            41,\n            42,\n            43,\n            44,\n            45,\n            46,\n            47,\n            48,\n            49,\n            50,\n            51,\n            52,\n            53,\n            54,\n            55,\n            56,\n            57,\n            58,\n            59,\n            60,\n            61,\n            62,\n            63,\n            64,\n            65,\n            66,\n            67,\n            68,\n            69,\n            70,\n            71,\n            72,\n            73,\n            74,\n            75,\n            76,\n            77,\n            78,\n            79,\n            80,\n            81,\n            82,\n            83,\n            84,\n            85,\n            86,\n            87,\n            88,\n            89,\n            90,\n            91,\n            92,\n            93,\n            94,\n            95,\n            96,\n            97,\n            98,\n            99,\n            100,\n            101\n        ],\n        \"showlegend\": true,\n        \"mode\": \"lines\",\n        \"name\": \"group 1 infections\",\n        \"zmin\": null,\n        \"legendgroup\": \"group 1 infections\",\n        \"zmax\": null,\n        \"line\": {\n            \"color\": \"rgba(0, 0, 255, 1.000)\",\n            \"shape\": \"linear\",\n            \"dash\": \"dot\",\n            \"width\": 1\n        },\n        \"y\": [\n            0.0,\n            0.0001,\n            0.00017998950000000004,\n            0.0002466701408356407,\n            0.0003083776424005778,\n            0.0003790849371999691,\n            0.0004861157107715051,\n            0.0006802026259690703,\n            0.0010304650320720064,\n            0.0015753441471011266,\n            0.0022782579723507512,\n            0.003061750573370267,\n            0.0038532982280220234,\n            0.004600472501867957,\n            0.005270657267951014,\n            0.0058468083487958076,\n            0.006322998583787568,\n            0.006700719080498502,\n            0.006986069600129919,\n            0.0071877301182150305,\n            0.007315553504073728,\n            0.007379627615765341,\n            0.007389680506739585,\n            0.007354729692899967,\n            0.007282900479268996,\n            0.007181357942345557,\n            0.007056312466555549,\n            0.006913070363747964,\n            0.006756109772140222,\n            0.006589168386179422,\n            0.0064153341589734784,\n            0.00623713338419799,\n            0.006056612848380764,\n            0.005875414310577303,\n            0.005694840613627052,\n            0.005515913407961181,\n            0.005339422885083067,\n            0.0051659701536824545,\n            0.0049960030050628,\n            0.0048298458478604,\n            0.004667724574433602,\n            0.004509787073391753,\n            0.004356120038619804,\n            0.004206762654267896,\n            0.004061717663622438,\n            0.003920960261324814,\n            0.0037844451852073655,\n            0.003652112327128982,\n            0.003523891131946671,\n            0.00339970401002839,\n            0.00327946895109514,\n            0.003163101495127944,\n            0.003050516188975829,\n            0.002941627634534115,\n            0.0028363512153341975,\n            0.0027346035725484,\n            0.00263630288827388,\n            0.002541369023084486,\n            0.0024497235458536062,\n            0.0023612896864337266,\n            0.0022759922356590367,\n            0.0021937574120894946,\n            0.0021145127107507792,\n            0.0020381867456899737,\n            0.00196470909533529,\n            0.001894010157316623,\n            0.0018260210174884481,\n            0.0017606733363293768,\n            0.0016978992546180704,\n            0.0016376313192575567,\n            0.0015798024293017195,\n            0.0015243458015973856,\n            0.0014711949549664394,\n            0.0014202837114920418,\n            0.0013715462132215905,\n            0.0013249169524393203,\n            0.00128033081357817,\n            0.0012377231248202883,\n            0.0011970297174663388,\n            0.0011581869912250067,\n            0.0011211319836764585,\n            0.0010858024422888116,\n            0.0010521368975078093,\n            0.0010200747355908386,\n            0.0009895562700120383,\n            0.0009605228104212804,\n            0.0009329167282928495,\n            0.0009066815185469421,\n            0.0008817618565666238,\n            0.0008581036501630688,\n            0.0008356540861617699,\n            0.0008143616713913222,\n            0.0007941762679540838,\n            0.0007750491227445387,\n            0.0007569328912567427,\n            0.0007397816557872707,\n            0.0007235509381951278,\n            0.000708197707425782,\n            0.0006936803820435383,\n            0.0006799588280456016,\n            0.0006669943522531566\n        ],\n        \"type\": \"scatter\"\n    },\n    {\n        \"xaxis\": \"x1\",\n        \"colorbar\": {\n            \"title\": \"\"\n        },\n        \"yaxis\": \"y1\",\n        \"x\": [\n            1,\n            2,\n            3,\n            4,\n            5,\n            6,\n            7,\n            8,\n            9,\n            10,\n            11,\n            12,\n            13,\n            14,\n            15,\n            16,\n            17,\n            18,\n            19,\n            20,\n            21,\n            22,\n            23,\n            24,\n            25,\n            26,\n            27,\n            28,\n            29,\n            30,\n            31,\n            32,\n            33,\n            34,\n            35,\n            36,\n            37,\n            38,\n            39,\n            40,\n            41,\n            42,\n            43,\n            44,\n            45,\n            46,\n            47,\n            48,\n            49,\n            50,\n            51,\n            52,\n            53,\n            54,\n            55,\n            56,\n            57,\n            58,\n            59,\n            60,\n            61,\n            62,\n            63,\n            64,\n            65,\n            66,\n            67,\n            68,\n            69,\n            70,\n            71,\n            72,\n            73,\n            74,\n            75,\n            76,\n            77,\n            78,\n            79,\n            80,\n            81,\n            82,\n            83,\n            84,\n            85,\n            86,\n            87,\n            88,\n            89,\n            90,\n            91,\n            92,\n            93,\n            94,\n            95,\n            96,\n            97,\n            98,\n            99,\n            100,\n            101\n        ],\n        \"showlegend\": true,\n        \"mode\": \"lines\",\n        \"name\": \"group 2 infections\",\n        \"zmin\": null,\n        \"legendgroup\": \"group 2 infections\",\n        \"zmax\": null,\n        \"line\": {\n            \"color\": \"rgba(0, 128, 0, 1.000)\",\n            \"shape\": \"linear\",\n            \"dash\": \"dot\",\n            \"width\": 1\n        },\n        \"y\": [\n            0.0,\n            0.0001,\n            0.00019661373600010987,\n            0.00030087352945792846,\n            0.0004381585218425029,\n            0.0006663757586412118,\n            0.0011067406732605072,\n            0.0019595105458425524,\n            0.003401091923272158,\n            0.0053595786593413335,\n            0.007539004360186977,\n            0.009671460103933088,\n            0.011606004098448194,\n            0.013278497215084693,\n            0.014674143123669423,\n            0.015803790271843705,\n            0.01669055235952456,\n            0.01736241529849054,\n            0.01784819523794163,\n            0.01817539087663341,\n            0.01836912283210311,\n            0.01845170102560683,\n            0.018442551755194957,\n            0.018358344258193007,\n            0.018213220021267164,\n            0.018019066432668117,\n            0.017785800028528313,\n            0.017521639368977708,\n            0.017233356851069956,\n            0.01692650454264525,\n            0.01660561265570648,\n            0.01627436136535941,\n            0.015935727836339814,\n            0.015592110881609072,\n            0.015245435869350617,\n            0.014897242462925578,\n            0.014548757619272427,\n            0.014200956047194839,\n            0.01385461007747879,\n            0.01351033064605418,\n            0.013168600853585764,\n            0.012829803347446864,\n            0.012494242578263101,\n            0.012162162813747176,\n            0.0118337626464515,\n            0.011509206607557772,\n            0.01118863439371042,\n            0.010872168125872083,\n            0.010559917985971492,\n            0.010251986516608708,\n            0.009948471819354604,\n            0.0096494698465144,\n            0.0093550759481121,\n            0.009065385808984779,\n            0.00878049588912538,\n            0.008500503462817353,\n            0.008225506337846999,\n            0.007955602324473197,\n            0.007690888514306035,\n            0.007431460421324405,\n            0.007177411030563635,\n            0.006928829794221941,\n            0.0066858016098298705,\n            0.0064484058105192315,\n            0.006216715193186283,\n            0.005990795106378242,\n            0.005770702615986693,\n            0.005556485763277632,\n            0.0053481829264165285,\n            0.005145822293464103,\n            0.004949421451839756,\n            0.004758987096494205,\n            0.004574514856522441,\n            0.004395989237701614,\n            0.004223383676471111,\n            0.004056660699194227,\n            0.0038957721791563074,\n            0.0037406596826603153,\n            0.003591254894769252,\n            0.0034474801147015262,\n            0.0033092488105915295,\n            0.0031764662232604745,\n            0.003049030008776954,\n            0.002926830909895834,\n            0.0028097534469193773,\n            0.002697676619099814,\n            0.002590474608369125,\n            0.0024880174779165,\n            0.0023901718589115074,\n            0.0022968016194716235,\n            0.0022077685107775844,\n            0.002122932786032452,\n            0.0020421537887282556,\n            0.0019652905074149982,\n            0.0018922020948540946,\n            0.001822748350073971,\n            0.0017567901624265506,\n            0.0016941899172667955,\n            0.0016348118633417845,\n            0.0015785224423826446,\n            0.0015251905817421354\n        ],\n        \"type\": \"scatter\"\n    },\n    {\n        \"xaxis\": \"x1\",\n        \"colorbar\": {\n            \"title\": \"\"\n        },\n        \"yaxis\": \"y1\",\n        \"x\": [\n            1,\n            2,\n            3,\n            4,\n            5,\n            6,\n            7,\n            8,\n            9,\n            10,\n            11,\n            12,\n            13,\n            14,\n            15,\n            16,\n            17,\n            18,\n            19,\n            20,\n            21,\n            22,\n            23,\n            24,\n            25,\n            26,\n            27,\n            28,\n            29,\n            30,\n            31,\n            32,\n            33,\n            34,\n            35,\n            36,\n            37,\n            38,\n            39,\n            40,\n            41,\n            42,\n            43,\n            44,\n            45,\n            46,\n            47,\n            48,\n            49,\n            50,\n            51,\n            52,\n            53,\n            54,\n            55,\n            56,\n            57,\n            58,\n            59,\n            60,\n            61,\n            62,\n            63,\n            64,\n            65,\n            66,\n            67,\n            68,\n            69,\n            70,\n            71,\n            72,\n            73,\n            74,\n            75,\n            76,\n            77,\n            78,\n            79,\n            80,\n            81,\n            82,\n            83,\n            84,\n            85,\n            86,\n            87,\n            88,\n            89,\n            90,\n            91,\n            92,\n            93,\n            94,\n            95,\n            96,\n            97,\n            98,\n            99,\n            100,\n            101\n        ],\n        \"showlegend\": true,\n        \"mode\": \"lines\",\n        \"name\": \"group 3 infections\",\n        \"zmin\": null,\n        \"legendgroup\": \"group 3 infections\",\n        \"zmax\": null,\n        \"line\": {\n            \"color\": \"rgba(255, 0, 0, 1.000)\",\n            \"shape\": \"linear\",\n            \"dash\": \"dot\",\n            \"width\": 1\n        },\n        \"y\": [\n            0.0,\n            0.0001,\n            0.0003628560960012083,\n            0.0010247122415299745,\n            0.0026446471596587684,\n            0.006441820009438033,\n            0.014569624120087226,\n            0.029071878780584127,\n            0.04847151221283921,\n            0.06765904491144395,\n            0.08327119312290926,\n            0.09476471398401294,\n            0.10266084895684881,\n            0.10766266748123826,\n            0.11041133674594299,\n            0.11143765492585264,\n            0.11116549104071846,\n            0.1099276168785924,\n            0.10798274528181145,\n            0.10553065595867486,\n            0.102724761638479,\n            0.09968224334497469,\n            0.09649210162839997,\n            0.09322149735214293,\n            0.08992071899297846,\n            0.08662706023200584,\n            0.08336783907308118,\n            0.08016274359578215,\n            0.07702565101727613,\n            0.07396603557859448,\n            0.07099005589469612,\n            0.06810139272601116,\n            0.0653018926402683,\n            0.062592060882108,\n            0.05997143725196674,\n            0.05743888135090878,\n            0.05499278772726499,\n            0.05263124691213031,\n            0.050352164777982274,\n            0.04815334988179833,\n            0.04603257629184117,\n            0.0439876277131316,\n            0.042016327416505565,\n            0.04011655745837952,\n            0.038286269888763116,\n            0.03652349203325719,\n            0.034826327461178405,\n            0.033192953885515804,\n            0.03162161895683785,\n            0.030110634693536677,\n            0.02865837112012586,\n            0.02726324955221895,\n            0.025923735862447048,\n            0.02463833397912412,\n            0.023405579803760866,\n            0.022224035680653422,\n            0.021092285508815412,\n            0.02000893055132892,\n            0.018972585968194483,\n            0.01798187807483531,\n            0.017035442308751286,\n            0.01613192187084859,\n            0.015269966995271982,\n            0.014448234791819524,\n            0.013665389597960865,\n            0.012920103772875266,\n            0.012211058863545121,\n            0.011536947072550624,\n            0.010896472958568259,\n            0.010288355303424555,\n            0.009711329083636294,\n            0.009164147489416729,\n            0.008645583939887248,\n            0.008154434049460275,\n            0.007689517506826657,\n            0.007249679834485427,\n            0.006833794003121276,\n            0.006440761881218445,\n            0.006069515505983338,\n            0.0057190181668454725,\n            0.0053882652974592705,\n            0.005076285176203471,\n            0.004782139438660843,\n            0.004504923408464993,\n            0.0042437662552473505,\n            0.003997830990239517,\n            0.003766314311428374,\n            0.003548446311071012,\n            0.0033434900589060803,\n            0.0031507410745993058,\n            0.002969526702885036,\n            0.002799205404561763,\n            0.0026391659760127435,\n            0.002488826709295181,\n            0.0023476345041096216,\n            0.0022150639421581325,\n            0.0020906163335534097,\n            0.0019738187440749865,\n            0.0018642230112027721,\n            0.0017614047560083755,\n            0.0016649623971627023\n        ],\n        \"type\": \"scatter\"\n    },\n    {\n        \"xaxis\": \"x1\",\n        \"colorbar\": {\n            \"title\": \"\"\n        },\n        \"yaxis\": \"y1\",\n        \"x\": [\n            1,\n            2,\n            3,\n            4,\n            5,\n            6,\n            7,\n            8,\n            9,\n            10,\n            11,\n            12,\n            13,\n            14,\n            15,\n            16,\n            17,\n            18,\n            19,\n            20,\n            21,\n            22,\n            23,\n            24,\n            25,\n            26,\n            27,\n            28,\n            29,\n            30,\n            31,\n            32,\n            33,\n            34,\n            35,\n            36,\n            37,\n            38,\n            39,\n            40,\n            41,\n            42,\n            43,\n            44,\n            45,\n            46,\n            47,\n            48,\n            49,\n            50,\n            51,\n            52,\n            53,\n            54,\n            55,\n            56,\n            57,\n            58,\n            59,\n            60,\n            61,\n            62,\n            63,\n            64,\n            65,\n            66,\n            67,\n            68,\n            69,\n            70,\n            71,\n            72,\n            73,\n            74,\n            75,\n            76,\n            77,\n            78,\n            79,\n            80,\n            81,\n            82,\n            83,\n            84,\n            85,\n            86,\n            87,\n            88,\n            89,\n            90,\n            91,\n            92,\n            93,\n            94,\n            95,\n            96,\n            97,\n            98,\n            99,\n            100,\n            101\n        ],\n        \"showlegend\": true,\n        \"mode\": \"lines+markers\",\n        \"name\": \"total infections\",\n        \"zmin\": null,\n        \"legendgroup\": \"total infections\",\n        \"marker\": {\n            \"symbol\": \"circle\",\n            \"color\": \"rgba(0, 0, 0, 1.000)\",\n            \"line\": {\n                \"color\": \"rgba(0, 0, 0, 1.000)\",\n                \"width\": 1\n            },\n            \"size\": 8\n        },\n        \"zmax\": null,\n        \"line\": {\n            \"color\": \"rgba(0, 0, 0, 1.000)\",\n            \"shape\": \"linear\",\n            \"dash\": \"dot\",\n            \"width\": 1\n        },\n        \"y\": [\n            0.0,\n            0.0001,\n            0.000234018267000357,\n            0.00046828236032036804,\n            0.000957335461436088,\n            0.0020384141159801063,\n            0.004317305294344936,\n            0.008417775624559577,\n            0.014076040272863884,\n            0.019988386594306934,\n            0.02515686495390849,\n            0.029292346191312345,\n            0.0324315388454418,\n            0.034705033603318905,\n            0.03625757006530821,\n            0.03722301095458397,\n            0.03771739858588879,\n            0.037838291639017994,\n            0.03766630133945616,\n            0.03726729195753918,\n            0.036694640201689735,\n            0.03599131825298842,\n            0.03519172141138237,\n            0.03432322889035723,\n            0.03340751487869545,\n            0.032461637759921905,\n            0.03149893789917334,\n            0.03052977317437138,\n            0.029562118622889065,\n            0.0286020532625161,\n            0.02765415384127064,\n            0.026721812210231996,\n            0.02580749029033217,\n            0.024912924238975863,\n            0.024039287401073757,\n            0.02318731992118028,\n            0.02235743146272323,\n            0.021549782290050612,\n            0.020764346984500665,\n            0.02000096425544177,\n            0.019259375643361575,\n            0.01853925537035427,\n            0.017840233152912895,\n            0.01716191143503544,\n            0.01650387821132214,\n            0.01586571637742439,\n            0.015247010358451652,\n            0.01464735061609724,\n            0.014066336515181875,\n            0.013503577934195621,\n            0.012958695927482552,\n            0.012431322685093924,\n            0.011921100986911768,\n            0.011427683307906947,\n            0.010950730699336456,\n            0.010489911544709133,\n            0.010044900268195822,\n            0.00961537605583995,\n            0.00920102163566504,\n            0.008801522150979462,\n            0.008416564151384398,\n            0.008045834717845493,\n            0.007689020731420626,\n            0.00734580828963699,\n            0.00701588226991718,\n            0.006698926035737093,\n            0.006394621278251739,\n            0.006102647983858817,\n            0.0058226845165048466,\n            0.005554407802402579,\n            0.005297493604154381,\n            0.005051616871000631,\n            0.004816452151974642,\n            0.004591674059088886,\n            0.004376957768247617,\n            0.0041719795463283004,\n            0.003976417293753015,\n            0.003789951092839841,\n            0.003612263753247045,\n            0.003443041346868383,\n            0.003281973725579697,\n            0.003128755016253308,\n            0.00298308408843064,\n            0.002844664990961875,\n            0.0027132073547745357,\n            0.0025884267597151064,\n            0.0024700450641148685,\n            0.0023577906963627385,\n            0.00225139890832393,\n            0.0021506119909264054,\n            0.0020551794526504933,\n            0.0019648581620044974,\n            0.0018794124553558346,\n            0.001798614211717429,\n            0.0017222428962686384,\n            0.0016500855745233364,\n            0.0015819368991504097,\n            0.00151759907150859,\n            0.0014568817799824698,\n            0.0013996021172048166,\n            0.0013455844782250324\n        ],\n        \"type\": \"scatter\"\n    },\n    {\n        \"xaxis\": \"x1\",\n        \"colorbar\": {\n            \"title\": \"\"\n        },\n        \"yaxis\": \"y1\",\n        \"x\": [\n            1,\n            2,\n            3,\n            4,\n            5,\n            6,\n            7,\n            8,\n            9,\n            10,\n            11,\n            12,\n            13,\n            14,\n            15,\n            16,\n            17,\n            18,\n            19,\n            20,\n            21,\n            22,\n            23,\n            24,\n            25,\n            26,\n            27,\n            28,\n            29,\n            30,\n            31,\n            32,\n            33,\n            34,\n            35,\n            36,\n            37,\n            38,\n            39,\n            40,\n            41,\n            42,\n            43,\n            44,\n            45,\n            46,\n            47,\n            48,\n            49,\n            50,\n            51,\n            52,\n            53,\n            54,\n            55,\n            56,\n            57,\n            58,\n            59,\n            60,\n            61,\n            62,\n            63,\n            64,\n            65,\n            66,\n            67,\n            68,\n            69,\n            70,\n            71,\n            72,\n            73,\n            74,\n            75,\n            76,\n            77,\n            78,\n            79,\n            80,\n            81,\n            82,\n            83,\n            84,\n            85,\n            86,\n            87,\n            88,\n            89,\n            90,\n            91,\n            92,\n            93,\n            94,\n            95,\n            96,\n            97,\n            98,\n            99,\n            100,\n            101\n        ],\n        \"showlegend\": true,\n        \"mode\": \"lines\",\n        \"name\": \"group 1 recovered\",\n        \"zmin\": null,\n        \"legendgroup\": \"group 1 recovered\",\n        \"zmax\": null,\n        \"line\": {\n            \"color\": \"rgba(0, 0, 255, 1.000)\",\n            \"shape\": \"linear\",\n            \"dash\": \"solid\",\n            \"width\": 1\n        },\n        \"y\": [\n            0.0,\n            0.0,\n            2.5e-5,\n            6.9997375e-5,\n            0.00013166491020891017,\n            0.00020875932080905463,\n            0.00030353055510904693,\n            0.0004250594828019232,\n            0.0005951101392941908,\n            0.0008527263973121924,\n            0.001246562434087474,\n            0.0018161269271751617,\n            0.0025815645705177283,\n            0.003544889127523234,\n            0.0046950072529902236,\n            0.006012671569977977,\n            0.007474373657176929,\n            0.009055123303123821,\n            0.010730303073248447,\n            0.012476820473280928,\n            0.014273753002834686,\n            0.016102641378853116,\n            0.01794754828279445,\n            0.01979496840947935,\n            0.02163365083270434,\n            0.02345437595252159,\n            0.02524971543810798,\n            0.027013793554746868,\n            0.02874206114568386,\n            0.030431088588718916,\n            0.03207838068526377,\n            0.03368221422500714,\n            0.035241497571056636,\n            0.03675565078315183,\n            0.038224504360796156,\n            0.03964821451420292,\n            0.04102719286619321,\n            0.04236204858746398,\n            0.04365354112588459,\n            0.044902541877150294,\n            0.04611000333911539,\n            0.04727693448272379,\n            0.04840438125107173,\n            0.04949341126072668,\n            0.05054510192429365,\n            0.05156053134019926,\n            0.05254077140553046,\n            0.05348688270183231,\n            0.05439991078361455,\n            0.05528088356660122,\n            0.05613080956910832,\n            0.0569506768068821,\n            0.057741452180664087,\n            0.058504081227908046,\n            0.059239488136541577,\n            0.05994857594037513,\n            0.06063222683351223,\n            0.0612913025555807,\n            0.06192664481135182,\n            0.06253907569781522,\n            0.06312939811942365,\n            0.06369839617833842,\n            0.06424683553136079,\n            0.06477546370904849,\n            0.06528501039547098,\n            0.0657761876693048,\n            0.06624969020863396,\n            0.06670619546300607,\n            0.06714636379708842,\n            0.06757083861074294,\n            0.06798024644055732,\n            0.06837519704788275,\n            0.0687562834982821,\n            0.06912408223702371,\n            0.06947915316489672,\n            0.06982203971820213,\n            0.07015326895631195,\n            0.07047335165970649,\n            0.07078278244091156,\n            0.07108203987027814,\n            0.07137158661808439,\n            0.07165186961400351,\n            0.0719233202245757,\n            0.07218635444895266,\n            0.07244137313285037,\n            0.07268876220035338,\n            0.0729288929029587,\n            0.07316212208503192,\n            0.07338879246466866,\n            0.07360923292881032,\n            0.07382375884135109,\n            0.07403267236289153,\n            0.07423626278073936,\n            0.07443480684772788,\n            0.07462856912841402,\n            0.0748178023512282,\n            0.07500274776517502,\n            0.0751836354997238,\n            0.07536068492658025,\n            0.07553410502209114,\n            0.07570409472910254\n        ],\n        \"type\": \"scatter\"\n    },\n    {\n        \"xaxis\": \"x1\",\n        \"colorbar\": {\n            \"title\": \"\"\n        },\n        \"yaxis\": \"y1\",\n        \"x\": [\n            1,\n            2,\n            3,\n            4,\n            5,\n            6,\n            7,\n            8,\n            9,\n            10,\n            11,\n            12,\n            13,\n            14,\n            15,\n            16,\n            17,\n            18,\n            19,\n            20,\n            21,\n            22,\n            23,\n            24,\n            25,\n            26,\n            27,\n            28,\n            29,\n            30,\n            31,\n            32,\n            33,\n            34,\n            35,\n            36,\n            37,\n            38,\n            39,\n            40,\n            41,\n            42,\n            43,\n            44,\n            45,\n            46,\n            47,\n            48,\n            49,\n            50,\n            51,\n            52,\n            53,\n            54,\n            55,\n            56,\n            57,\n            58,\n            59,\n            60,\n            61,\n            62,\n            63,\n            64,\n            65,\n            66,\n            67,\n            68,\n            69,\n            70,\n            71,\n            72,\n            73,\n            74,\n            75,\n            76,\n            77,\n            78,\n            79,\n            80,\n            81,\n            82,\n            83,\n            84,\n            85,\n            86,\n            87,\n            88,\n            89,\n            90,\n            91,\n            92,\n            93,\n            94,\n            95,\n            96,\n            97,\n            98,\n            99,\n            100,\n            101\n        ],\n        \"showlegend\": true,\n        \"mode\": \"lines\",\n        \"name\": \"group 2 recovered\",\n        \"zmin\": null,\n        \"legendgroup\": \"group 2 recovered\",\n        \"zmax\": null,\n        \"line\": {\n            \"color\": \"rgba(0, 128, 0, 1.000)\",\n            \"shape\": \"linear\",\n            \"dash\": \"solid\",\n            \"width\": 1\n        },\n        \"y\": [\n            0.0,\n            0.0,\n            2.5e-5,\n            7.415343400002746e-5,\n            0.00014937181636450958,\n            0.0002589114468251353,\n            0.00042550538648543823,\n            0.000702190554800565,\n            0.0011920681912612032,\n            0.002042341172079243,\n            0.003382235836914576,\n            0.005266986926961321,\n            0.0076848519529445925,\n            0.01058635297755664,\n            0.013905977281327813,\n            0.017574513062245167,\n            0.021525460630206092,\n            0.025698098720087232,\n            0.030038702544709868,\n            0.03450075135419527,\n            0.03904459907335363,\n            0.04363687978137941,\n            0.04824980503778112,\n            0.05286044297657986,\n            0.057450029041128114,\n            0.062003334046444904,\n            0.06650810065461193,\n            0.07095455066174401,\n            0.07533496050398844,\n            0.07964329971675593,\n            0.08387492585241725,\n            0.08802632901634387,\n            0.09209491935768373,\n            0.09607885131676869,\n            0.09997687903717095,\n            0.1037882380045086,\n            0.10751254862024,\n            0.1111497380250581,\n            0.11469997703685682,\n            0.11816362955622652,\n            0.12154121221774006,\n            0.1248333624311365,\n            0.1280408132679982,\n            0.131164373912564,\n            0.1342049146160008,\n            0.13716335527761367,\n            0.1400406569295031,\n            0.1428378155279307,\n            0.14555585755939873,\n            0.1481958370558916,\n            0.15075883368504378,\n            0.15324595163988244,\n            0.15565831910151104,\n            0.15799708808853907,\n            0.16026343454078526,\n            0.1624585585130666,\n            0.16458368437877094,\n            0.1666400609632327,\n            0.168628961544351,\n            0.1705516836729275,\n            0.1724095487782586,\n            0.1742039015358995,\n            0.175936108984455,\n            0.17760755938691247,\n            0.17921966083954227,\n            0.18077383963783883,\n            0.1822715384144334,\n            0.18371421406843005,\n            0.18510333550924946,\n            0.18644038124085358,\n            0.1877268368142196,\n            0.18896419217717952,\n            0.1901539389513031,\n            0.1912975676654337,\n            0.1923965649748591,\n            0.19345241089397688,\n            0.19446657606877543,\n            0.1954405191135645,\n            0.1963756840342296,\n            0.1972734977579219,\n            0.1981353677865973,\n            0.1989626799892452,\n            0.19975679654506032,\n            0.20051905404725456,\n            0.20125076177472853,\n            0.20195320013645837,\n            0.20262761929123332,\n            0.2032752379433256,\n            0.20389724231280473,\n            0.20449478527753262,\n            0.20506898568240053,\n            0.20562092781009492,\n            0.20615166100660304,\n            0.2066621994537851,\n            0.20715352208063886,\n            0.20762657260435238,\n            0.20808225969187089,\n            0.20852145723247753,\n            0.20894500471179422,\n            0.20935370767762967,\n            0.20974833828822534\n        ],\n        \"type\": \"scatter\"\n    },\n    {\n        \"xaxis\": \"x1\",\n        \"colorbar\": {\n            \"title\": \"\"\n        },\n        \"yaxis\": \"y1\",\n        \"x\": [\n            1,\n            2,\n            3,\n            4,\n            5,\n            6,\n            7,\n            8,\n            9,\n            10,\n            11,\n            12,\n            13,\n            14,\n            15,\n            16,\n            17,\n            18,\n            19,\n            20,\n            21,\n            22,\n            23,\n            24,\n            25,\n            26,\n            27,\n            28,\n            29,\n            30,\n            31,\n            32,\n            33,\n            34,\n            35,\n            36,\n            37,\n            38,\n            39,\n            40,\n            41,\n            42,\n            43,\n            44,\n            45,\n            46,\n            47,\n            48,\n            49,\n            50,\n            51,\n            52,\n            53,\n            54,\n            55,\n            56,\n            57,\n            58,\n            59,\n            60,\n            61,\n            62,\n            63,\n            64,\n            65,\n            66,\n            67,\n            68,\n            69,\n            70,\n            71,\n            72,\n            73,\n            74,\n            75,\n            76,\n            77,\n            78,\n            79,\n            80,\n            81,\n            82,\n            83,\n            84,\n            85,\n            86,\n            87,\n            88,\n            89,\n            90,\n            91,\n            92,\n            93,\n            94,\n            95,\n            96,\n            97,\n            98,\n            99,\n            100,\n            101\n        ],\n        \"showlegend\": true,\n        \"mode\": \"lines\",\n        \"name\": \"group 3 recovered\",\n        \"zmin\": null,\n        \"legendgroup\": \"group 3 recovered\",\n        \"zmax\": null,\n        \"line\": {\n            \"color\": \"rgba(255, 0, 0, 1.000)\",\n            \"shape\": \"linear\",\n            \"dash\": \"solid\",\n            \"width\": 1\n        },\n        \"y\": [\n            0.0,\n            0.0,\n            2.5e-5,\n            0.00011571402400030207,\n            0.0003718920843827957,\n            0.0010330538742974878,\n            0.0026435088766569963,\n            0.006285914906678803,\n            0.013553884601824835,\n            0.02567176265503464,\n            0.042586523882895626,\n            0.06340432216362293,\n            0.08709550065962617,\n            0.11276071289883836,\n            0.13967637976914793,\n            0.16727921395563367,\n            0.19513862768709683,\n            0.22293000044727646,\n            0.25041190466692453,\n            0.2774075909873774,\n            0.3037902549770461,\n            0.32947144538666584,\n            0.3543920062229095,\n            0.3785150316300095,\n            0.40182040596804525,\n            0.42430058571628987,\n            0.44595735077429133,\n            0.46679931054256163,\n            0.48683999644150716,\n            0.5060964091958262,\n            0.5245879180904748,\n            0.5423354320641488,\n            0.5593607802456516,\n            0.5756862534057187,\n            0.5913342686262457,\n            0.6063271279392374,\n            0.6206868482769645,\n            0.6344350452087808,\n            0.6475928569368133,\n            0.6601808981313089,\n            0.6722192356017584,\n            0.6837273796747187,\n            0.6947242866030017,\n            0.7052283684571281,\n            0.715257507821723,\n            0.7248290752939138,\n            0.7339599483022281,\n            0.7426665301675227,\n            0.7509647686389017,\n            0.7588701733781111,\n            0.7663978320514953,\n            0.7735624248315267,\n            0.7803782372195814,\n            0.7868591711851932,\n            0.7930187546799743,\n            0.7988701496309145,\n            0.8044261585510779,\n            0.8096992299282818,\n            0.8147014625661141,\n            0.8194446090581627,\n            0.8239400785768716,\n            0.8281989391540594,\n            0.8322319196217716,\n            0.8360494113705895,\n            0.8396614700685444,\n            0.8430778174680347,\n            0.8463078434112535,\n            0.8493606081271399,\n            0.8522448448952775,\n            0.8549689631349195,\n            0.8575410519607757,\n            0.8599688842316847,\n            0.8622599211040389,\n            0.8644213170890107,\n            0.8664599256013757,\n            0.8683823049780824,\n            0.8701947249367038,\n            0.8719031734374841,\n            0.8735133639077888,\n            0.8750307427842846,\n            0.876460497325996,\n            0.8778075636503607,\n            0.8790766349444116,\n            0.8802721698040767,\n            0.881398400656193,\n            0.8824593422200049,\n            0.8834587999675647,\n            0.8844003785454218,\n            0.8852874901231895,\n            0.886123362637916,\n            0.8869110479065658,\n            0.8876534295822871,\n            0.8883532309334276,\n            0.8890130224274307,\n            0.8896352291047546,\n            0.890222137730782,\n            0.8907759037163215,\n            0.8912985577997099,\n            0.8917920124857287,\n            0.8922580682385294,\n            0.8926984194275315\n        ],\n        \"type\": \"scatter\"\n    }\n]\n, {\n    \"showlegend\": true,\n    \"xaxis\": {\n        \"showticklabels\": true,\n        \"gridwidth\": 0.5,\n        \"tickvals\": [\n            0.0,\n            25.0,\n            50.0,\n            75.0,\n            100.0\n        ],\n        \"visible\": true,\n        \"ticks\": \"inside\",\n        \"range\": [\n            -2.0,\n            104.0\n        ],\n        \"domain\": [\n            0.05100612423447069,\n            0.9934383202099737\n        ],\n        \"tickmode\": \"array\",\n        \"linecolor\": \"rgba(0, 0, 0, 1.000)\",\n        \"showgrid\": true,\n        \"title\": \"\",\n        \"mirror\": false,\n        \"tickangle\": 0,\n        \"showline\": true,\n        \"gridcolor\": \"rgba(0, 0, 0, 0.100)\",\n        \"titlefont\": {\n            \"color\": \"rgba(0, 0, 0, 1.000)\",\n            \"family\": \"sans-serif\",\n            \"size\": 15\n        },\n        \"tickcolor\": \"rgb(0, 0, 0)\",\n        \"ticktext\": [\n            \"0\",\n            \"25\",\n            \"50\",\n            \"75\",\n            \"100\"\n        ],\n        \"zeroline\": false,\n        \"type\": \"-\",\n        \"tickfont\": {\n            \"color\": \"rgba(0, 0, 0, 1.000)\",\n            \"family\": \"sans-serif\",\n            \"size\": 11\n        },\n        \"zerolinecolor\": \"rgba(0, 0, 0, 1.000)\",\n        \"anchor\": \"y1\"\n    },\n    \"paper_bgcolor\": \"rgba(255, 255, 255, 1.000)\",\n    \"annotations\": [],\n    \"height\": 400,\n    \"margin\": {\n        \"l\": 0,\n        \"b\": 20,\n        \"r\": 0,\n        \"t\": 20\n    },\n    \"plot_bgcolor\": \"rgba(255, 255, 255, 1.000)\",\n    \"yaxis\": {\n        \"showticklabels\": true,\n        \"gridwidth\": 0.5,\n        \"tickvals\": [\n            0.0,\n            0.2,\n            0.4,\n            0.6000000000000001,\n            0.8,\n            1.0\n        ],\n        \"visible\": true,\n        \"ticks\": \"inside\",\n        \"range\": [\n            0.0,\n            1.0\n        ],\n        \"domain\": [\n            0.03762029746281716,\n            0.9901574803149606\n        ],\n        \"tickmode\": \"array\",\n        \"linecolor\": \"rgba(0, 0, 0, 1.000)\",\n        \"showgrid\": true,\n        \"title\": \"\",\n        \"mirror\": false,\n        \"tickangle\": 0,\n        \"showline\": true,\n        \"gridcolor\": \"rgba(0, 0, 0, 0.100)\",\n        \"titlefont\": {\n            \"color\": \"rgba(0, 0, 0, 1.000)\",\n            \"family\": \"sans-serif\",\n            \"size\": 15\n        },\n        \"tickcolor\": \"rgb(0, 0, 0)\",\n        \"ticktext\": [\n            \"0.0\",\n            \"0.2\",\n            \"0.4\",\n            \"0.6\",\n            \"0.8\",\n            \"1.0\"\n        ],\n        \"zeroline\": false,\n        \"type\": \"-\",\n        \"tickfont\": {\n            \"color\": \"rgba(0, 0, 0, 1.000)\",\n            \"family\": \"sans-serif\",\n            \"size\": 11\n        },\n        \"zerolinecolor\": \"rgba(0, 0, 0, 1.000)\",\n        \"anchor\": \"x1\"\n    },\n    \"legend\": {\n        \"yanchor\": \"top\",\n        \"xanchor\": \"left\",\n        \"bordercolor\": \"rgba(0, 0, 0, 1.000)\",\n        \"bgcolor\": \"rgba(255, 255, 255, 1.000)\",\n        \"font\": {\n            \"color\": \"rgba(0, 0, 0, 1.000)\",\n            \"family\": \"sans-serif\",\n            \"size\": 11\n        },\n        \"tracegroupgap\": 0,\n        \"y\": 1.0,\n        \"borderwidth\": 1,\n        \"traceorder\": \"normal\",\n        \"x\": 0.07\n    },\n    \"width\": 600\n}\n);\n    </script>\n\n    </body>\n</html>\n"
               },
               "type": "node"
              }
             ],
             "instanceArgs": {
              "namespace": "html",
              "tag": "div"
             },
             "nodeType": "DOM",
             "props": {
              "className": "interact-flex-row interact-widget"
             },
             "type": "node"
            }
           }
          },
          "systemjs_options": null
         },
         "nodeType": "Scope",
         "props": {},
         "type": "node"
        }
       ],
       "instanceArgs": {
        "namespace": "html",
        "tag": "div"
       },
       "nodeType": "DOM",
       "props": {},
       "type": "node"
      },
      "text/html": [
       "<div\n",
       "    class=\"webio-mountpoint\"\n",
       "    data-webio-mountpoint=\"16877354082014248170\"\n",
       ">\n",
       "    <script>\n",
       "    if (window.require && require.defined && require.defined(\"nbextensions/webio-jupyter-notebook\")) {\n",
       "        console.log(\"Jupyter WebIO extension detected, not mounting.\");\n",
       "    } else if (window.WebIO) {\n",
       "        WebIO.mount(\n",
       "            document.querySelector('[data-webio-mountpoint=\"16877354082014248170\"]'),\n",
       "            {\"props\":{},\"nodeType\":\"DOM\",\"type\":\"node\",\"instanceArgs\":{\"namespace\":\"html\",\"tag\":\"div\"},\"children\":[{\"props\":{\"className\":\"field interact-widget\"},\"nodeType\":\"DOM\",\"type\":\"node\",\"instanceArgs\":{\"namespace\":\"html\",\"tag\":\"div\"},\"children\":[{\"props\":{},\"nodeType\":\"Scope\",\"type\":\"node\",\"instanceArgs\":{\"imports\":{\"data\":[{\"name\":\"knockout\",\"type\":\"js\",\"url\":\"\\/assetserver\\/aa767470ed3fb2fdc226b1798340a340ee166b2a-knockout.js\"},{\"name\":\"knockout_punches\",\"type\":\"js\",\"url\":\"\\/assetserver\\/e8fb3dc53556d31ce61caa9a9c7ddd80d27fc9d0-knockout_punches.js\"},{\"name\":null,\"type\":\"js\",\"url\":\"\\/assetserver\\/71fa1c1cc32d1bdda427a7ab2531f6129776e895-all.js\"},{\"name\":null,\"type\":\"css\",\"url\":\"\\/assetserver\\/2602973166a381dc3e60050f85dd07ec0cc87799-style.css\"},{\"name\":null,\"type\":\"css\",\"url\":\"\\/assetserver\\/bc33dca115ce9467eafc9b218c3bae68216c3008-bulma_confined.min.css\"}],\"type\":\"async_block\"},\"id\":\"571544295569827157\",\"handlers\":{\"changes\":[\"(function (val){return (val!=this.model[\\\"changes\\\"]()) ? (this.valueFromJulia[\\\"changes\\\"]=true, this.model[\\\"changes\\\"](val)) : undefined})\"],\"index\":[\"(function (val){return (val!=this.model[\\\"index\\\"]()) ? (this.valueFromJulia[\\\"index\\\"]=true, this.model[\\\"index\\\"](val)) : undefined})\"]},\"systemjs_options\":null,\"mount_callbacks\":[\"function () {\\n    var handler = (function (ko, koPunches) {\\n    ko.punches.enableAll();\\n    ko.bindingHandlers.numericValue = {\\n        init: function(element, valueAccessor, allBindings, data, context) {\\n            var stringified = ko.observable(ko.unwrap(valueAccessor()));\\n            stringified.subscribe(function(value) {\\n                var val = parseFloat(value);\\n                if (!isNaN(val)) {\\n                    valueAccessor()(val);\\n                }\\n            });\\n            valueAccessor().subscribe(function(value) {\\n                var str = JSON.stringify(value);\\n                if ((str == \\\"0\\\") && ([\\\"-0\\\", \\\"-0.\\\"].indexOf(stringified()) >= 0))\\n                     return;\\n                 if ([\\\"null\\\", \\\"\\\"].indexOf(str) >= 0)\\n                     return;\\n                stringified(str);\\n            });\\n            ko.applyBindingsToNode(\\n                element,\\n                {\\n                    value: stringified,\\n                    valueUpdate: allBindings.get('valueUpdate'),\\n                },\\n                context,\\n            );\\n        }\\n    };\\n    var json_data = {\\\"formatted_vals\\\":[\\\"0.01\\\",\\\"0.02\\\",\\\"0.03\\\",\\\"0.04\\\",\\\"0.05\\\",\\\"0.06\\\",\\\"0.07\\\",\\\"0.08\\\",\\\"0.09\\\",\\\"0.1\\\",\\\"0.11\\\",\\\"0.12\\\",\\\"0.13\\\",\\\"0.14\\\",\\\"0.15\\\",\\\"0.16\\\",\\\"0.17\\\",\\\"0.18\\\",\\\"0.19\\\",\\\"0.2\\\",\\\"0.21\\\",\\\"0.22\\\",\\\"0.23\\\",\\\"0.24\\\",\\\"0.25\\\",\\\"0.26\\\",\\\"0.27\\\",\\\"0.28\\\",\\\"0.29\\\",\\\"0.3\\\",\\\"0.31\\\",\\\"0.32\\\",\\\"0.33\\\",\\\"0.34\\\",\\\"0.35\\\",\\\"0.36\\\",\\\"0.37\\\",\\\"0.38\\\",\\\"0.39\\\",\\\"0.4\\\",\\\"0.41\\\",\\\"0.42\\\",\\\"0.43\\\",\\\"0.44\\\",\\\"0.45\\\",\\\"0.46\\\",\\\"0.47\\\",\\\"0.48\\\",\\\"0.49\\\",\\\"0.5\\\"],\\\"changes\\\":WebIO.getval({\\\"name\\\":\\\"changes\\\",\\\"scope\\\":\\\"571544295569827157\\\",\\\"id\\\":\\\"11720482545226335668\\\",\\\"type\\\":\\\"observable\\\"}),\\\"index\\\":WebIO.getval({\\\"name\\\":\\\"index\\\",\\\"scope\\\":\\\"571544295569827157\\\",\\\"id\\\":\\\"17226841019019268470\\\",\\\"type\\\":\\\"observable\\\"})};\\n    var self = this;\\n    function AppViewModel() {\\n        for (var key in json_data) {\\n            var el = json_data[key];\\n            this[key] = Array.isArray(el) ? ko.observableArray(el) : ko.observable(el);\\n        }\\n        \\n        [this[\\\"formatted_val\\\"]=ko.computed(    function(){\\n        return this.formatted_vals()[parseInt(this.index())-(1)];\\n    }\\n,this)]\\n        [this[\\\"changes\\\"].subscribe((function (val){!(this.valueFromJulia[\\\"changes\\\"]) ? (WebIO.setval({\\\"name\\\":\\\"changes\\\",\\\"scope\\\":\\\"571544295569827157\\\",\\\"id\\\":\\\"11720482545226335668\\\",\\\"type\\\":\\\"observable\\\"},val)) : undefined; return this.valueFromJulia[\\\"changes\\\"]=false}),self),this[\\\"index\\\"].subscribe((function (val){!(this.valueFromJulia[\\\"index\\\"]) ? (WebIO.setval({\\\"name\\\":\\\"index\\\",\\\"scope\\\":\\\"571544295569827157\\\",\\\"id\\\":\\\"17226841019019268470\\\",\\\"type\\\":\\\"observable\\\"},val)) : undefined; return this.valueFromJulia[\\\"index\\\"]=false}),self)]\\n        \\n    }\\n    self.model = new AppViewModel();\\n    self.valueFromJulia = {};\\n    for (var key in json_data) {\\n        self.valueFromJulia[key] = false;\\n    }\\n    ko.applyBindings(self.model, self.dom);\\n}\\n);\\n    (WebIO.importBlock({\\\"data\\\":[{\\\"name\\\":\\\"knockout\\\",\\\"type\\\":\\\"js\\\",\\\"url\\\":\\\"\\/assetserver\\/aa767470ed3fb2fdc226b1798340a340ee166b2a-knockout.js\\\"},{\\\"name\\\":\\\"knockout_punches\\\",\\\"type\\\":\\\"js\\\",\\\"url\\\":\\\"\\/assetserver\\/e8fb3dc53556d31ce61caa9a9c7ddd80d27fc9d0-knockout_punches.js\\\"}],\\\"type\\\":\\\"async_block\\\"})).then((imports) => handler.apply(this, imports));\\n}\\n\"],\"observables\":{\"changes\":{\"sync\":false,\"id\":\"11720482545226335668\",\"value\":0},\"index\":{\"sync\":true,\"id\":\"17226841019019268470\",\"value\":25}}},\"children\":[{\"props\":{\"className\":\"interact-flex-row interact-widget\"},\"nodeType\":\"DOM\",\"type\":\"node\",\"instanceArgs\":{\"namespace\":\"html\",\"tag\":\"div\"},\"children\":[{\"props\":{\"className\":\"interact-flex-row-left\"},\"nodeType\":\"DOM\",\"type\":\"node\",\"instanceArgs\":{\"namespace\":\"html\",\"tag\":\"div\"},\"children\":[{\"props\":{\"className\":\"interact \",\"style\":{\"padding\":\"5px 10px 0px 10px\"}},\"nodeType\":\"DOM\",\"type\":\"node\",\"instanceArgs\":{\"namespace\":\"html\",\"tag\":\"label\"},\"children\":[\"n_big_partiers\"]}]},{\"props\":{\"className\":\"interact-flex-row-center\"},\"nodeType\":\"DOM\",\"type\":\"node\",\"instanceArgs\":{\"namespace\":\"html\",\"tag\":\"div\"},\"children\":[{\"props\":{\"max\":50,\"min\":1,\"attributes\":{\"type\":\"range\",\"data-bind\":\"numericValue: index, valueUpdate: 'input', event: {change: function (){this.changes(this.changes()+1)}}\",\"orient\":\"horizontal\"},\"step\":1,\"className\":\"slider slider is-fullwidth\",\"style\":{}},\"nodeType\":\"DOM\",\"type\":\"node\",\"instanceArgs\":{\"namespace\":\"html\",\"tag\":\"input\"},\"children\":[]}]},{\"props\":{\"className\":\"interact-flex-row-right\"},\"nodeType\":\"DOM\",\"type\":\"node\",\"instanceArgs\":{\"namespace\":\"html\",\"tag\":\"div\"},\"children\":[{\"props\":{\"attributes\":{\"data-bind\":\"text: formatted_val\"}},\"nodeType\":\"DOM\",\"type\":\"node\",\"instanceArgs\":{\"namespace\":\"html\",\"tag\":\"p\"},\"children\":[]}]}]}]}]},{\"props\":{\"className\":\"field interact-widget\"},\"nodeType\":\"DOM\",\"type\":\"node\",\"instanceArgs\":{\"namespace\":\"html\",\"tag\":\"div\"},\"children\":[{\"props\":{},\"nodeType\":\"Scope\",\"type\":\"node\",\"instanceArgs\":{\"imports\":{\"data\":[{\"name\":\"knockout\",\"type\":\"js\",\"url\":\"\\/assetserver\\/aa767470ed3fb2fdc226b1798340a340ee166b2a-knockout.js\"},{\"name\":\"knockout_punches\",\"type\":\"js\",\"url\":\"\\/assetserver\\/e8fb3dc53556d31ce61caa9a9c7ddd80d27fc9d0-knockout_punches.js\"},{\"name\":null,\"type\":\"js\",\"url\":\"\\/assetserver\\/71fa1c1cc32d1bdda427a7ab2531f6129776e895-all.js\"},{\"name\":null,\"type\":\"css\",\"url\":\"\\/assetserver\\/2602973166a381dc3e60050f85dd07ec0cc87799-style.css\"},{\"name\":null,\"type\":\"css\",\"url\":\"\\/assetserver\\/bc33dca115ce9467eafc9b218c3bae68216c3008-bulma_confined.min.css\"}],\"type\":\"async_block\"},\"id\":\"13941585414989321925\",\"handlers\":{\"changes\":[\"(function (val){return (val!=this.model[\\\"changes\\\"]()) ? (this.valueFromJulia[\\\"changes\\\"]=true, this.model[\\\"changes\\\"](val)) : undefined})\"],\"index\":[\"(function (val){return (val!=this.model[\\\"index\\\"]()) ? (this.valueFromJulia[\\\"index\\\"]=true, this.model[\\\"index\\\"](val)) : undefined})\"]},\"systemjs_options\":null,\"mount_callbacks\":[\"function () {\\n    var handler = (function (ko, koPunches) {\\n    ko.punches.enableAll();\\n    ko.bindingHandlers.numericValue = {\\n        init: function(element, valueAccessor, allBindings, data, context) {\\n            var stringified = ko.observable(ko.unwrap(valueAccessor()));\\n            stringified.subscribe(function(value) {\\n                var val = parseFloat(value);\\n                if (!isNaN(val)) {\\n                    valueAccessor()(val);\\n                }\\n            });\\n            valueAccessor().subscribe(function(value) {\\n                var str = JSON.stringify(value);\\n                if ((str == \\\"0\\\") && ([\\\"-0\\\", \\\"-0.\\\"].indexOf(stringified()) >= 0))\\n                     return;\\n                 if ([\\\"null\\\", \\\"\\\"].indexOf(str) >= 0)\\n                     return;\\n                stringified(str);\\n            });\\n            ko.applyBindingsToNode(\\n                element,\\n                {\\n                    value: stringified,\\n                    valueUpdate: allBindings.get('valueUpdate'),\\n                },\\n                context,\\n            );\\n        }\\n    };\\n    var json_data = {\\\"formatted_vals\\\":[\\\"0.1\\\",\\\"0.2\\\",\\\"0.3\\\",\\\"0.4\\\",\\\"0.5\\\",\\\"0.6\\\",\\\"0.7\\\",\\\"0.8\\\",\\\"0.9\\\",\\\"1.0\\\"],\\\"changes\\\":WebIO.getval({\\\"name\\\":\\\"changes\\\",\\\"scope\\\":\\\"13941585414989321925\\\",\\\"id\\\":\\\"9560784766620657076\\\",\\\"type\\\":\\\"observable\\\"}),\\\"index\\\":WebIO.getval({\\\"name\\\":\\\"index\\\",\\\"scope\\\":\\\"13941585414989321925\\\",\\\"id\\\":\\\"12768452192305454202\\\",\\\"type\\\":\\\"observable\\\"})};\\n    var self = this;\\n    function AppViewModel() {\\n        for (var key in json_data) {\\n            var el = json_data[key];\\n            this[key] = Array.isArray(el) ? ko.observableArray(el) : ko.observable(el);\\n        }\\n        \\n        [this[\\\"formatted_val\\\"]=ko.computed(    function(){\\n        return this.formatted_vals()[parseInt(this.index())-(1)];\\n    }\\n,this)]\\n        [this[\\\"changes\\\"].subscribe((function (val){!(this.valueFromJulia[\\\"changes\\\"]) ? (WebIO.setval({\\\"name\\\":\\\"changes\\\",\\\"scope\\\":\\\"13941585414989321925\\\",\\\"id\\\":\\\"9560784766620657076\\\",\\\"type\\\":\\\"observable\\\"},val)) : undefined; return this.valueFromJulia[\\\"changes\\\"]=false}),self),this[\\\"index\\\"].subscribe((function (val){!(this.valueFromJulia[\\\"index\\\"]) ? (WebIO.setval({\\\"name\\\":\\\"index\\\",\\\"scope\\\":\\\"13941585414989321925\\\",\\\"id\\\":\\\"12768452192305454202\\\",\\\"type\\\":\\\"observable\\\"},val)) : undefined; return this.valueFromJulia[\\\"index\\\"]=false}),self)]\\n        \\n    }\\n    self.model = new AppViewModel();\\n    self.valueFromJulia = {};\\n    for (var key in json_data) {\\n        self.valueFromJulia[key] = false;\\n    }\\n    ko.applyBindings(self.model, self.dom);\\n}\\n);\\n    (WebIO.importBlock({\\\"data\\\":[{\\\"name\\\":\\\"knockout\\\",\\\"type\\\":\\\"js\\\",\\\"url\\\":\\\"\\/assetserver\\/aa767470ed3fb2fdc226b1798340a340ee166b2a-knockout.js\\\"},{\\\"name\\\":\\\"knockout_punches\\\",\\\"type\\\":\\\"js\\\",\\\"url\\\":\\\"\\/assetserver\\/e8fb3dc53556d31ce61caa9a9c7ddd80d27fc9d0-knockout_punches.js\\\"}],\\\"type\\\":\\\"async_block\\\"})).then((imports) => handler.apply(this, imports));\\n}\\n\"],\"observables\":{\"changes\":{\"sync\":false,\"id\":\"9560784766620657076\",\"value\":0},\"index\":{\"sync\":true,\"id\":\"12768452192305454202\",\"value\":5}}},\"children\":[{\"props\":{\"className\":\"interact-flex-row interact-widget\"},\"nodeType\":\"DOM\",\"type\":\"node\",\"instanceArgs\":{\"namespace\":\"html\",\"tag\":\"div\"},\"children\":[{\"props\":{\"className\":\"interact-flex-row-left\"},\"nodeType\":\"DOM\",\"type\":\"node\",\"instanceArgs\":{\"namespace\":\"html\",\"tag\":\"div\"},\"children\":[{\"props\":{\"className\":\"interact \",\"style\":{\"padding\":\"5px 10px 0px 10px\"}},\"nodeType\":\"DOM\",\"type\":\"node\",\"instanceArgs\":{\"namespace\":\"html\",\"tag\":\"label\"},\"children\":[\"n_safe_partiers\"]}]},{\"props\":{\"className\":\"interact-flex-row-center\"},\"nodeType\":\"DOM\",\"type\":\"node\",\"instanceArgs\":{\"namespace\":\"html\",\"tag\":\"div\"},\"children\":[{\"props\":{\"max\":10,\"min\":1,\"attributes\":{\"type\":\"range\",\"data-bind\":\"numericValue: index, valueUpdate: 'input', event: {change: function (){this.changes(this.changes()+1)}}\",\"orient\":\"horizontal\"},\"step\":1,\"className\":\"slider slider is-fullwidth\",\"style\":{}},\"nodeType\":\"DOM\",\"type\":\"node\",\"instanceArgs\":{\"namespace\":\"html\",\"tag\":\"input\"},\"children\":[]}]},{\"props\":{\"className\":\"interact-flex-row-right\"},\"nodeType\":\"DOM\",\"type\":\"node\",\"instanceArgs\":{\"namespace\":\"html\",\"tag\":\"div\"},\"children\":[{\"props\":{\"attributes\":{\"data-bind\":\"text: formatted_val\"}},\"nodeType\":\"DOM\",\"type\":\"node\",\"instanceArgs\":{\"namespace\":\"html\",\"tag\":\"p\"},\"children\":[]}]}]}]}]},{\"props\":{\"className\":\"field interact-widget\"},\"nodeType\":\"DOM\",\"type\":\"node\",\"instanceArgs\":{\"namespace\":\"html\",\"tag\":\"div\"},\"children\":[{\"props\":{},\"nodeType\":\"Scope\",\"type\":\"node\",\"instanceArgs\":{\"imports\":{\"data\":[{\"name\":\"knockout\",\"type\":\"js\",\"url\":\"\\/assetserver\\/aa767470ed3fb2fdc226b1798340a340ee166b2a-knockout.js\"},{\"name\":\"knockout_punches\",\"type\":\"js\",\"url\":\"\\/assetserver\\/e8fb3dc53556d31ce61caa9a9c7ddd80d27fc9d0-knockout_punches.js\"},{\"name\":null,\"type\":\"js\",\"url\":\"\\/assetserver\\/71fa1c1cc32d1bdda427a7ab2531f6129776e895-all.js\"},{\"name\":null,\"type\":\"css\",\"url\":\"\\/assetserver\\/2602973166a381dc3e60050f85dd07ec0cc87799-style.css\"},{\"name\":null,\"type\":\"css\",\"url\":\"\\/assetserver\\/bc33dca115ce9467eafc9b218c3bae68216c3008-bulma_confined.min.css\"}],\"type\":\"async_block\"},\"id\":\"16379780513320492000\",\"handlers\":{\"changes\":[\"(function (val){return (val!=this.model[\\\"changes\\\"]()) ? (this.valueFromJulia[\\\"changes\\\"]=true, this.model[\\\"changes\\\"](val)) : undefined})\"],\"index\":[\"(function (val){return (val!=this.model[\\\"index\\\"]()) ? (this.valueFromJulia[\\\"index\\\"]=true, this.model[\\\"index\\\"](val)) : undefined})\"]},\"systemjs_options\":null,\"mount_callbacks\":[\"function () {\\n    var handler = (function (ko, koPunches) {\\n    ko.punches.enableAll();\\n    ko.bindingHandlers.numericValue = {\\n        init: function(element, valueAccessor, allBindings, data, context) {\\n            var stringified = ko.observable(ko.unwrap(valueAccessor()));\\n            stringified.subscribe(function(value) {\\n                var val = parseFloat(value);\\n                if (!isNaN(val)) {\\n                    valueAccessor()(val);\\n                }\\n            });\\n            valueAccessor().subscribe(function(value) {\\n                var str = JSON.stringify(value);\\n                if ((str == \\\"0\\\") && ([\\\"-0\\\", \\\"-0.\\\"].indexOf(stringified()) >= 0))\\n                     return;\\n                 if ([\\\"null\\\", \\\"\\\"].indexOf(str) >= 0)\\n                     return;\\n                stringified(str);\\n            });\\n            ko.applyBindingsToNode(\\n                element,\\n                {\\n                    value: stringified,\\n                    valueUpdate: allBindings.get('valueUpdate'),\\n                },\\n                context,\\n            );\\n        }\\n    };\\n    var json_data = {\\\"formatted_vals\\\":[\\\"1\\\",\\\"2\\\",\\\"3\\\",\\\"4\\\",\\\"5\\\",\\\"6\\\",\\\"7\\\"],\\\"changes\\\":WebIO.getval({\\\"name\\\":\\\"changes\\\",\\\"scope\\\":\\\"16379780513320492000\\\",\\\"id\\\":\\\"14729607090505863996\\\",\\\"type\\\":\\\"observable\\\"}),\\\"index\\\":WebIO.getval({\\\"name\\\":\\\"index\\\",\\\"scope\\\":\\\"16379780513320492000\\\",\\\"id\\\":\\\"11153782863410598484\\\",\\\"type\\\":\\\"observable\\\"})};\\n    var self = this;\\n    function AppViewModel() {\\n        for (var key in json_data) {\\n            var el = json_data[key];\\n            this[key] = Array.isArray(el) ? ko.observableArray(el) : ko.observable(el);\\n        }\\n        \\n        [this[\\\"formatted_val\\\"]=ko.computed(    function(){\\n        return this.formatted_vals()[parseInt(this.index())-(1)];\\n    }\\n,this)]\\n        [this[\\\"changes\\\"].subscribe((function (val){!(this.valueFromJulia[\\\"changes\\\"]) ? (WebIO.setval({\\\"name\\\":\\\"changes\\\",\\\"scope\\\":\\\"16379780513320492000\\\",\\\"id\\\":\\\"14729607090505863996\\\",\\\"type\\\":\\\"observable\\\"},val)) : undefined; return this.valueFromJulia[\\\"changes\\\"]=false}),self),this[\\\"index\\\"].subscribe((function (val){!(this.valueFromJulia[\\\"index\\\"]) ? (WebIO.setval({\\\"name\\\":\\\"index\\\",\\\"scope\\\":\\\"16379780513320492000\\\",\\\"id\\\":\\\"11153782863410598484\\\",\\\"type\\\":\\\"observable\\\"},val)) : undefined; return this.valueFromJulia[\\\"index\\\"]=false}),self)]\\n        \\n    }\\n    self.model = new AppViewModel();\\n    self.valueFromJulia = {};\\n    for (var key in json_data) {\\n        self.valueFromJulia[key] = false;\\n    }\\n    ko.applyBindings(self.model, self.dom);\\n}\\n);\\n    (WebIO.importBlock({\\\"data\\\":[{\\\"name\\\":\\\"knockout\\\",\\\"type\\\":\\\"js\\\",\\\"url\\\":\\\"\\/assetserver\\/aa767470ed3fb2fdc226b1798340a340ee166b2a-knockout.js\\\"},{\\\"name\\\":\\\"knockout_punches\\\",\\\"type\\\":\\\"js\\\",\\\"url\\\":\\\"\\/assetserver\\/e8fb3dc53556d31ce61caa9a9c7ddd80d27fc9d0-knockout_punches.js\\\"}],\\\"type\\\":\\\"async_block\\\"})).then((imports) => handler.apply(this, imports));\\n}\\n\"],\"observables\":{\"changes\":{\"sync\":false,\"id\":\"14729607090505863996\",\"value\":0},\"index\":{\"sync\":true,\"id\":\"11153782863410598484\",\"value\":4}}},\"children\":[{\"props\":{\"className\":\"interact-flex-row interact-widget\"},\"nodeType\":\"DOM\",\"type\":\"node\",\"instanceArgs\":{\"namespace\":\"html\",\"tag\":\"div\"},\"children\":[{\"props\":{\"className\":\"interact-flex-row-left\"},\"nodeType\":\"DOM\",\"type\":\"node\",\"instanceArgs\":{\"namespace\":\"html\",\"tag\":\"div\"},\"children\":[{\"props\":{\"className\":\"interact \",\"style\":{\"padding\":\"5px 10px 0px 10px\"}},\"nodeType\":\"DOM\",\"type\":\"node\",\"instanceArgs\":{\"namespace\":\"html\",\"tag\":\"label\"},\"children\":[\"test_period\"]}]},{\"props\":{\"className\":\"interact-flex-row-center\"},\"nodeType\":\"DOM\",\"type\":\"node\",\"instanceArgs\":{\"namespace\":\"html\",\"tag\":\"div\"},\"children\":[{\"props\":{\"max\":7,\"min\":1,\"attributes\":{\"type\":\"range\",\"data-bind\":\"numericValue: index, valueUpdate: 'input', event: {change: function (){this.changes(this.changes()+1)}}\",\"orient\":\"horizontal\"},\"step\":1,\"className\":\"slider slider is-fullwidth\",\"style\":{}},\"nodeType\":\"DOM\",\"type\":\"node\",\"instanceArgs\":{\"namespace\":\"html\",\"tag\":\"input\"},\"children\":[]}]},{\"props\":{\"className\":\"interact-flex-row-right\"},\"nodeType\":\"DOM\",\"type\":\"node\",\"instanceArgs\":{\"namespace\":\"html\",\"tag\":\"div\"},\"children\":[{\"props\":{\"attributes\":{\"data-bind\":\"text: formatted_val\"}},\"nodeType\":\"DOM\",\"type\":\"node\",\"instanceArgs\":{\"namespace\":\"html\",\"tag\":\"p\"},\"children\":[]}]}]}]}]},{\"props\":{\"className\":\"field interact-widget\"},\"nodeType\":\"DOM\",\"type\":\"node\",\"instanceArgs\":{\"namespace\":\"html\",\"tag\":\"div\"},\"children\":[{\"props\":{},\"nodeType\":\"Scope\",\"type\":\"node\",\"instanceArgs\":{\"imports\":{\"data\":[{\"name\":\"knockout\",\"type\":\"js\",\"url\":\"\\/assetserver\\/aa767470ed3fb2fdc226b1798340a340ee166b2a-knockout.js\"},{\"name\":\"knockout_punches\",\"type\":\"js\",\"url\":\"\\/assetserver\\/e8fb3dc53556d31ce61caa9a9c7ddd80d27fc9d0-knockout_punches.js\"},{\"name\":null,\"type\":\"js\",\"url\":\"\\/assetserver\\/71fa1c1cc32d1bdda427a7ab2531f6129776e895-all.js\"},{\"name\":null,\"type\":\"css\",\"url\":\"\\/assetserver\\/2602973166a381dc3e60050f85dd07ec0cc87799-style.css\"},{\"name\":null,\"type\":\"css\",\"url\":\"\\/assetserver\\/bc33dca115ce9467eafc9b218c3bae68216c3008-bulma_confined.min.css\"}],\"type\":\"async_block\"},\"id\":\"8881602859575620619\",\"handlers\":{\"changes\":[\"(function (val){return (val!=this.model[\\\"changes\\\"]()) ? (this.valueFromJulia[\\\"changes\\\"]=true, this.model[\\\"changes\\\"](val)) : undefined})\"],\"index\":[\"(function (val){return (val!=this.model[\\\"index\\\"]()) ? (this.valueFromJulia[\\\"index\\\"]=true, this.model[\\\"index\\\"](val)) : undefined})\"]},\"systemjs_options\":null,\"mount_callbacks\":[\"function () {\\n    var handler = (function (ko, koPunches) {\\n    ko.punches.enableAll();\\n    ko.bindingHandlers.numericValue = {\\n        init: function(element, valueAccessor, allBindings, data, context) {\\n            var stringified = ko.observable(ko.unwrap(valueAccessor()));\\n            stringified.subscribe(function(value) {\\n                var val = parseFloat(value);\\n                if (!isNaN(val)) {\\n                    valueAccessor()(val);\\n                }\\n            });\\n            valueAccessor().subscribe(function(value) {\\n                var str = JSON.stringify(value);\\n                if ((str == \\\"0\\\") && ([\\\"-0\\\", \\\"-0.\\\"].indexOf(stringified()) >= 0))\\n                     return;\\n                 if ([\\\"null\\\", \\\"\\\"].indexOf(str) >= 0)\\n                     return;\\n                stringified(str);\\n            });\\n            ko.applyBindingsToNode(\\n                element,\\n                {\\n                    value: stringified,\\n                    valueUpdate: allBindings.get('valueUpdate'),\\n                },\\n                context,\\n            );\\n        }\\n    };\\n    var json_data = {\\\"formatted_vals\\\":[\\\"0.05\\\",\\\"0.1\\\",\\\"0.15\\\",\\\"0.2\\\",\\\"0.25\\\",\\\"0.3\\\",\\\"0.35\\\",\\\"0.4\\\",\\\"0.45\\\",\\\"0.5\\\",\\\"0.55\\\",\\\"0.6\\\",\\\"0.65\\\",\\\"0.7\\\",\\\"0.75\\\",\\\"0.8\\\",\\\"0.85\\\",\\\"0.9\\\",\\\"0.95\\\",\\\"1.0\\\"],\\\"changes\\\":WebIO.getval({\\\"name\\\":\\\"changes\\\",\\\"scope\\\":\\\"8881602859575620619\\\",\\\"id\\\":\\\"17070122431061889966\\\",\\\"type\\\":\\\"observable\\\"}),\\\"index\\\":WebIO.getval({\\\"name\\\":\\\"index\\\",\\\"scope\\\":\\\"8881602859575620619\\\",\\\"id\\\":\\\"6322375506969736956\\\",\\\"type\\\":\\\"observable\\\"})};\\n    var self = this;\\n    function AppViewModel() {\\n        for (var key in json_data) {\\n            var el = json_data[key];\\n            this[key] = Array.isArray(el) ? ko.observableArray(el) : ko.observable(el);\\n        }\\n        \\n        [this[\\\"formatted_val\\\"]=ko.computed(    function(){\\n        return this.formatted_vals()[parseInt(this.index())-(1)];\\n    }\\n,this)]\\n        [this[\\\"changes\\\"].subscribe((function (val){!(this.valueFromJulia[\\\"changes\\\"]) ? (WebIO.setval({\\\"name\\\":\\\"changes\\\",\\\"scope\\\":\\\"8881602859575620619\\\",\\\"id\\\":\\\"17070122431061889966\\\",\\\"type\\\":\\\"observable\\\"},val)) : undefined; return this.valueFromJulia[\\\"changes\\\"]=false}),self),this[\\\"index\\\"].subscribe((function (val){!(this.valueFromJulia[\\\"index\\\"]) ? (WebIO.setval({\\\"name\\\":\\\"index\\\",\\\"scope\\\":\\\"8881602859575620619\\\",\\\"id\\\":\\\"6322375506969736956\\\",\\\"type\\\":\\\"observable\\\"},val)) : undefined; return this.valueFromJulia[\\\"index\\\"]=false}),self)]\\n        \\n    }\\n    self.model = new AppViewModel();\\n    self.valueFromJulia = {};\\n    for (var key in json_data) {\\n        self.valueFromJulia[key] = false;\\n    }\\n    ko.applyBindings(self.model, self.dom);\\n}\\n);\\n    (WebIO.importBlock({\\\"data\\\":[{\\\"name\\\":\\\"knockout\\\",\\\"type\\\":\\\"js\\\",\\\"url\\\":\\\"\\/assetserver\\/aa767470ed3fb2fdc226b1798340a340ee166b2a-knockout.js\\\"},{\\\"name\\\":\\\"knockout_punches\\\",\\\"type\\\":\\\"js\\\",\\\"url\\\":\\\"\\/assetserver\\/e8fb3dc53556d31ce61caa9a9c7ddd80d27fc9d0-knockout_punches.js\\\"}],\\\"type\\\":\\\"async_block\\\"})).then((imports) => handler.apply(this, imports));\\n}\\n\"],\"observables\":{\"changes\":{\"sync\":false,\"id\":\"17070122431061889966\",\"value\":0},\"index\":{\"sync\":true,\"id\":\"6322375506969736956\",\"value\":10}}},\"children\":[{\"props\":{\"className\":\"interact-flex-row interact-widget\"},\"nodeType\":\"DOM\",\"type\":\"node\",\"instanceArgs\":{\"namespace\":\"html\",\"tag\":\"div\"},\"children\":[{\"props\":{\"className\":\"interact-flex-row-left\"},\"nodeType\":\"DOM\",\"type\":\"node\",\"instanceArgs\":{\"namespace\":\"html\",\"tag\":\"div\"},\"children\":[{\"props\":{\"className\":\"interact \",\"style\":{\"padding\":\"5px 10px 0px 10px\"}},\"nodeType\":\"DOM\",\"type\":\"node\",\"instanceArgs\":{\"namespace\":\"html\",\"tag\":\"label\"},\"children\":[\"inf_no_PPE\"]}]},{\"props\":{\"className\":\"interact-flex-row-center\"},\"nodeType\":\"DOM\",\"type\":\"node\",\"instanceArgs\":{\"namespace\":\"html\",\"tag\":\"div\"},\"children\":[{\"props\":{\"max\":20,\"min\":1,\"attributes\":{\"type\":\"range\",\"data-bind\":\"numericValue: index, valueUpdate: 'input', event: {change: function (){this.changes(this.changes()+1)}}\",\"orient\":\"horizontal\"},\"step\":1,\"className\":\"slider slider is-fullwidth\",\"style\":{}},\"nodeType\":\"DOM\",\"type\":\"node\",\"instanceArgs\":{\"namespace\":\"html\",\"tag\":\"input\"},\"children\":[]}]},{\"props\":{\"className\":\"interact-flex-row-right\"},\"nodeType\":\"DOM\",\"type\":\"node\",\"instanceArgs\":{\"namespace\":\"html\",\"tag\":\"div\"},\"children\":[{\"props\":{\"attributes\":{\"data-bind\":\"text: formatted_val\"}},\"nodeType\":\"DOM\",\"type\":\"node\",\"instanceArgs\":{\"namespace\":\"html\",\"tag\":\"p\"},\"children\":[]}]}]}]}]},{\"props\":{\"className\":\"field interact-widget\"},\"nodeType\":\"DOM\",\"type\":\"node\",\"instanceArgs\":{\"namespace\":\"html\",\"tag\":\"div\"},\"children\":[{\"props\":{},\"nodeType\":\"Scope\",\"type\":\"node\",\"instanceArgs\":{\"imports\":{\"data\":[{\"name\":\"knockout\",\"type\":\"js\",\"url\":\"\\/assetserver\\/aa767470ed3fb2fdc226b1798340a340ee166b2a-knockout.js\"},{\"name\":\"knockout_punches\",\"type\":\"js\",\"url\":\"\\/assetserver\\/e8fb3dc53556d31ce61caa9a9c7ddd80d27fc9d0-knockout_punches.js\"},{\"name\":null,\"type\":\"js\",\"url\":\"\\/assetserver\\/71fa1c1cc32d1bdda427a7ab2531f6129776e895-all.js\"},{\"name\":null,\"type\":\"css\",\"url\":\"\\/assetserver\\/2602973166a381dc3e60050f85dd07ec0cc87799-style.css\"},{\"name\":null,\"type\":\"css\",\"url\":\"\\/assetserver\\/bc33dca115ce9467eafc9b218c3bae68216c3008-bulma_confined.min.css\"}],\"type\":\"async_block\"},\"id\":\"2084340190879079304\",\"handlers\":{\"changes\":[\"(function (val){return (val!=this.model[\\\"changes\\\"]()) ? (this.valueFromJulia[\\\"changes\\\"]=true, this.model[\\\"changes\\\"](val)) : undefined})\"],\"index\":[\"(function (val){return (val!=this.model[\\\"index\\\"]()) ? (this.valueFromJulia[\\\"index\\\"]=true, this.model[\\\"index\\\"](val)) : undefined})\"]},\"systemjs_options\":null,\"mount_callbacks\":[\"function () {\\n    var handler = (function (ko, koPunches) {\\n    ko.punches.enableAll();\\n    ko.bindingHandlers.numericValue = {\\n        init: function(element, valueAccessor, allBindings, data, context) {\\n            var stringified = ko.observable(ko.unwrap(valueAccessor()));\\n            stringified.subscribe(function(value) {\\n                var val = parseFloat(value);\\n                if (!isNaN(val)) {\\n                    valueAccessor()(val);\\n                }\\n            });\\n            valueAccessor().subscribe(function(value) {\\n                var str = JSON.stringify(value);\\n                if ((str == \\\"0\\\") && ([\\\"-0\\\", \\\"-0.\\\"].indexOf(stringified()) >= 0))\\n                     return;\\n                 if ([\\\"null\\\", \\\"\\\"].indexOf(str) >= 0)\\n                     return;\\n                stringified(str);\\n            });\\n            ko.applyBindingsToNode(\\n                element,\\n                {\\n                    value: stringified,\\n                    valueUpdate: allBindings.get('valueUpdate'),\\n                },\\n                context,\\n            );\\n        }\\n    };\\n    var json_data = {\\\"formatted_vals\\\":[\\\"0.01\\\",\\\"0.02\\\",\\\"0.03\\\",\\\"0.04\\\",\\\"0.05\\\",\\\"0.06\\\",\\\"0.07\\\",\\\"0.08\\\",\\\"0.09\\\",\\\"0.1\\\"],\\\"changes\\\":WebIO.getval({\\\"name\\\":\\\"changes\\\",\\\"scope\\\":\\\"2084340190879079304\\\",\\\"id\\\":\\\"15850240272617875122\\\",\\\"type\\\":\\\"observable\\\"}),\\\"index\\\":WebIO.getval({\\\"name\\\":\\\"index\\\",\\\"scope\\\":\\\"2084340190879079304\\\",\\\"id\\\":\\\"3519113577778166434\\\",\\\"type\\\":\\\"observable\\\"})};\\n    var self = this;\\n    function AppViewModel() {\\n        for (var key in json_data) {\\n            var el = json_data[key];\\n            this[key] = Array.isArray(el) ? ko.observableArray(el) : ko.observable(el);\\n        }\\n        \\n        [this[\\\"formatted_val\\\"]=ko.computed(    function(){\\n        return this.formatted_vals()[parseInt(this.index())-(1)];\\n    }\\n,this)]\\n        [this[\\\"changes\\\"].subscribe((function (val){!(this.valueFromJulia[\\\"changes\\\"]) ? (WebIO.setval({\\\"name\\\":\\\"changes\\\",\\\"scope\\\":\\\"2084340190879079304\\\",\\\"id\\\":\\\"15850240272617875122\\\",\\\"type\\\":\\\"observable\\\"},val)) : undefined; return this.valueFromJulia[\\\"changes\\\"]=false}),self),this[\\\"index\\\"].subscribe((function (val){!(this.valueFromJulia[\\\"index\\\"]) ? (WebIO.setval({\\\"name\\\":\\\"index\\\",\\\"scope\\\":\\\"2084340190879079304\\\",\\\"id\\\":\\\"3519113577778166434\\\",\\\"type\\\":\\\"observable\\\"},val)) : undefined; return this.valueFromJulia[\\\"index\\\"]=false}),self)]\\n        \\n    }\\n    self.model = new AppViewModel();\\n    self.valueFromJulia = {};\\n    for (var key in json_data) {\\n        self.valueFromJulia[key] = false;\\n    }\\n    ko.applyBindings(self.model, self.dom);\\n}\\n);\\n    (WebIO.importBlock({\\\"data\\\":[{\\\"name\\\":\\\"knockout\\\",\\\"type\\\":\\\"js\\\",\\\"url\\\":\\\"\\/assetserver\\/aa767470ed3fb2fdc226b1798340a340ee166b2a-knockout.js\\\"},{\\\"name\\\":\\\"knockout_punches\\\",\\\"type\\\":\\\"js\\\",\\\"url\\\":\\\"\\/assetserver\\/e8fb3dc53556d31ce61caa9a9c7ddd80d27fc9d0-knockout_punches.js\\\"}],\\\"type\\\":\\\"async_block\\\"})).then((imports) => handler.apply(this, imports));\\n}\\n\"],\"observables\":{\"changes\":{\"sync\":false,\"id\":\"15850240272617875122\",\"value\":0},\"index\":{\"sync\":true,\"id\":\"3519113577778166434\",\"value\":5}}},\"children\":[{\"props\":{\"className\":\"interact-flex-row interact-widget\"},\"nodeType\":\"DOM\",\"type\":\"node\",\"instanceArgs\":{\"namespace\":\"html\",\"tag\":\"div\"},\"children\":[{\"props\":{\"className\":\"interact-flex-row-left\"},\"nodeType\":\"DOM\",\"type\":\"node\",\"instanceArgs\":{\"namespace\":\"html\",\"tag\":\"div\"},\"children\":[{\"props\":{\"className\":\"interact \",\"style\":{\"padding\":\"5px 10px 0px 10px\"}},\"nodeType\":\"DOM\",\"type\":\"node\",\"instanceArgs\":{\"namespace\":\"html\",\"tag\":\"label\"},\"children\":[\"inf_with_PPE\"]}]},{\"props\":{\"className\":\"interact-flex-row-center\"},\"nodeType\":\"DOM\",\"type\":\"node\",\"instanceArgs\":{\"namespace\":\"html\",\"tag\":\"div\"},\"children\":[{\"props\":{\"max\":10,\"min\":1,\"attributes\":{\"type\":\"range\",\"data-bind\":\"numericValue: index, valueUpdate: 'input', event: {change: function (){this.changes(this.changes()+1)}}\",\"orient\":\"horizontal\"},\"step\":1,\"className\":\"slider slider is-fullwidth\",\"style\":{}},\"nodeType\":\"DOM\",\"type\":\"node\",\"instanceArgs\":{\"namespace\":\"html\",\"tag\":\"input\"},\"children\":[]}]},{\"props\":{\"className\":\"interact-flex-row-right\"},\"nodeType\":\"DOM\",\"type\":\"node\",\"instanceArgs\":{\"namespace\":\"html\",\"tag\":\"div\"},\"children\":[{\"props\":{\"attributes\":{\"data-bind\":\"text: formatted_val\"}},\"nodeType\":\"DOM\",\"type\":\"node\",\"instanceArgs\":{\"namespace\":\"html\",\"tag\":\"p\"},\"children\":[]}]}]}]}]},{\"props\":{\"className\":\"field interact-widget\"},\"nodeType\":\"DOM\",\"type\":\"node\",\"instanceArgs\":{\"namespace\":\"html\",\"tag\":\"div\"},\"children\":[{\"props\":{},\"nodeType\":\"Scope\",\"type\":\"node\",\"instanceArgs\":{\"imports\":{\"data\":[{\"name\":\"knockout\",\"type\":\"js\",\"url\":\"\\/assetserver\\/aa767470ed3fb2fdc226b1798340a340ee166b2a-knockout.js\"},{\"name\":\"knockout_punches\",\"type\":\"js\",\"url\":\"\\/assetserver\\/e8fb3dc53556d31ce61caa9a9c7ddd80d27fc9d0-knockout_punches.js\"},{\"name\":null,\"type\":\"js\",\"url\":\"\\/assetserver\\/71fa1c1cc32d1bdda427a7ab2531f6129776e895-all.js\"},{\"name\":null,\"type\":\"css\",\"url\":\"\\/assetserver\\/2602973166a381dc3e60050f85dd07ec0cc87799-style.css\"},{\"name\":null,\"type\":\"css\",\"url\":\"\\/assetserver\\/bc33dca115ce9467eafc9b218c3bae68216c3008-bulma_confined.min.css\"}],\"type\":\"async_block\"},\"id\":\"5138917177894057168\",\"handlers\":{\"changes\":[\"(function (val){return (val!=this.model[\\\"changes\\\"]()) ? (this.valueFromJulia[\\\"changes\\\"]=true, this.model[\\\"changes\\\"](val)) : undefined})\"],\"index\":[\"(function (val){return (val!=this.model[\\\"index\\\"]()) ? (this.valueFromJulia[\\\"index\\\"]=true, this.model[\\\"index\\\"](val)) : undefined})\"]},\"systemjs_options\":null,\"mount_callbacks\":[\"function () {\\n    var handler = (function (ko, koPunches) {\\n    ko.punches.enableAll();\\n    ko.bindingHandlers.numericValue = {\\n        init: function(element, valueAccessor, allBindings, data, context) {\\n            var stringified = ko.observable(ko.unwrap(valueAccessor()));\\n            stringified.subscribe(function(value) {\\n                var val = parseFloat(value);\\n                if (!isNaN(val)) {\\n                    valueAccessor()(val);\\n                }\\n            });\\n            valueAccessor().subscribe(function(value) {\\n                var str = JSON.stringify(value);\\n                if ((str == \\\"0\\\") && ([\\\"-0\\\", \\\"-0.\\\"].indexOf(stringified()) >= 0))\\n                     return;\\n                 if ([\\\"null\\\", \\\"\\\"].indexOf(str) >= 0)\\n                     return;\\n                stringified(str);\\n            });\\n            ko.applyBindingsToNode(\\n                element,\\n                {\\n                    value: stringified,\\n                    valueUpdate: allBindings.get('valueUpdate'),\\n                },\\n                context,\\n            );\\n        }\\n    };\\n    var json_data = {\\\"formatted_vals\\\":[\\\"1.0e-7\\\",\\\"1.0e-6\\\",\\\"1.0e-5\\\",\\\"0.0001\\\",\\\"0.001\\\",\\\"0.01\\\",\\\"0.1\\\"],\\\"changes\\\":WebIO.getval({\\\"name\\\":\\\"changes\\\",\\\"scope\\\":\\\"5138917177894057168\\\",\\\"id\\\":\\\"5364202603144492437\\\",\\\"type\\\":\\\"observable\\\"}),\\\"index\\\":WebIO.getval({\\\"name\\\":\\\"index\\\",\\\"scope\\\":\\\"5138917177894057168\\\",\\\"id\\\":\\\"1944717797036540313\\\",\\\"type\\\":\\\"observable\\\"})};\\n    var self = this;\\n    function AppViewModel() {\\n        for (var key in json_data) {\\n            var el = json_data[key];\\n            this[key] = Array.isArray(el) ? ko.observableArray(el) : ko.observable(el);\\n        }\\n        \\n        [this[\\\"formatted_val\\\"]=ko.computed(    function(){\\n        return this.formatted_vals()[parseInt(this.index())-(1)];\\n    }\\n,this)]\\n        [this[\\\"changes\\\"].subscribe((function (val){!(this.valueFromJulia[\\\"changes\\\"]) ? (WebIO.setval({\\\"name\\\":\\\"changes\\\",\\\"scope\\\":\\\"5138917177894057168\\\",\\\"id\\\":\\\"5364202603144492437\\\",\\\"type\\\":\\\"observable\\\"},val)) : undefined; return this.valueFromJulia[\\\"changes\\\"]=false}),self),this[\\\"index\\\"].subscribe((function (val){!(this.valueFromJulia[\\\"index\\\"]) ? (WebIO.setval({\\\"name\\\":\\\"index\\\",\\\"scope\\\":\\\"5138917177894057168\\\",\\\"id\\\":\\\"1944717797036540313\\\",\\\"type\\\":\\\"observable\\\"},val)) : undefined; return this.valueFromJulia[\\\"index\\\"]=false}),self)]\\n        \\n    }\\n    self.model = new AppViewModel();\\n    self.valueFromJulia = {};\\n    for (var key in json_data) {\\n        self.valueFromJulia[key] = false;\\n    }\\n    ko.applyBindings(self.model, self.dom);\\n}\\n);\\n    (WebIO.importBlock({\\\"data\\\":[{\\\"name\\\":\\\"knockout\\\",\\\"type\\\":\\\"js\\\",\\\"url\\\":\\\"\\/assetserver\\/aa767470ed3fb2fdc226b1798340a340ee166b2a-knockout.js\\\"},{\\\"name\\\":\\\"knockout_punches\\\",\\\"type\\\":\\\"js\\\",\\\"url\\\":\\\"\\/assetserver\\/e8fb3dc53556d31ce61caa9a9c7ddd80d27fc9d0-knockout_punches.js\\\"}],\\\"type\\\":\\\"async_block\\\"})).then((imports) => handler.apply(this, imports));\\n}\\n\"],\"observables\":{\"changes\":{\"sync\":false,\"id\":\"5364202603144492437\",\"value\":0},\"index\":{\"sync\":true,\"id\":\"1944717797036540313\",\"value\":4}}},\"children\":[{\"props\":{\"className\":\"interact-flex-row interact-widget\"},\"nodeType\":\"DOM\",\"type\":\"node\",\"instanceArgs\":{\"namespace\":\"html\",\"tag\":\"div\"},\"children\":[{\"props\":{\"className\":\"interact-flex-row-left\"},\"nodeType\":\"DOM\",\"type\":\"node\",\"instanceArgs\":{\"namespace\":\"html\",\"tag\":\"div\"},\"children\":[{\"props\":{\"className\":\"interact \",\"style\":{\"padding\":\"5px 10px 0px 10px\"}},\"nodeType\":\"DOM\",\"type\":\"node\",\"instanceArgs\":{\"namespace\":\"html\",\"tag\":\"label\"},\"children\":[\"ex_i\"]}]},{\"props\":{\"className\":\"interact-flex-row-center\"},\"nodeType\":\"DOM\",\"type\":\"node\",\"instanceArgs\":{\"namespace\":\"html\",\"tag\":\"div\"},\"children\":[{\"props\":{\"max\":7,\"min\":1,\"attributes\":{\"type\":\"range\",\"data-bind\":\"numericValue: index, valueUpdate: 'input', event: {change: function (){this.changes(this.changes()+1)}}\",\"orient\":\"horizontal\"},\"step\":1,\"className\":\"slider slider is-fullwidth\",\"style\":{}},\"nodeType\":\"DOM\",\"type\":\"node\",\"instanceArgs\":{\"namespace\":\"html\",\"tag\":\"input\"},\"children\":[]}]},{\"props\":{\"className\":\"interact-flex-row-right\"},\"nodeType\":\"DOM\",\"type\":\"node\",\"instanceArgs\":{\"namespace\":\"html\",\"tag\":\"div\"},\"children\":[{\"props\":{\"attributes\":{\"data-bind\":\"text: formatted_val\"}},\"nodeType\":\"DOM\",\"type\":\"node\",\"instanceArgs\":{\"namespace\":\"html\",\"tag\":\"p\"},\"children\":[]}]}]}]}]},{\"props\":{},\"nodeType\":\"Scope\",\"type\":\"node\",\"instanceArgs\":{\"imports\":{\"data\":[],\"type\":\"async_block\"},\"id\":\"16883466068663375056\",\"handlers\":{},\"systemjs_options\":null,\"mount_callbacks\":[],\"observables\":{\"obs-node\":{\"sync\":false,\"id\":\"16527533214497734565\",\"value\":{\"props\":{\"className\":\"interact-flex-row interact-widget\"},\"nodeType\":\"DOM\",\"type\":\"node\",\"instanceArgs\":{\"namespace\":\"html\",\"tag\":\"div\"},\"children\":[{\"props\":{\"setInnerHtml\":\"<!DOCTYPE html>\\n<html>\\n    <head>\\n        <title>Plots.jl<\\/title>\\n        <meta http-equiv=\\\"content-type\\\" content=\\\"text\\/html; charset=UTF-8\\\">\\n        <script src=\\\"https:\\/\\/cdn.plot.ly\\/plotly-1.54.2.min.js\\\"><\\/script>\\n    <\\/head>\\n    <body>\\n            <div id=\\\"2dd3ac34-15a5-43e6-ad8e-f62421a1c3fc\\\" style=\\\"width:600px;height:400px;\\\"><\\/div>\\n    <script>\\n    PLOT = document.getElementById('2dd3ac34-15a5-43e6-ad8e-f62421a1c3fc');\\n    Plotly.plot(PLOT, [\\n    {\\n        \\\"xaxis\\\": \\\"x1\\\",\\n        \\\"colorbar\\\": {\\n            \\\"title\\\": \\\"\\\"\\n        },\\n        \\\"yaxis\\\": \\\"y1\\\",\\n        \\\"x\\\": [\\n            1,\\n            2,\\n            3,\\n            4,\\n            5,\\n            6,\\n            7,\\n            8,\\n            9,\\n            10,\\n            11,\\n            12,\\n            13,\\n            14,\\n            15,\\n            16,\\n            17,\\n            18,\\n            19,\\n            20,\\n            21,\\n            22,\\n            23,\\n            24,\\n            25,\\n            26,\\n            27,\\n            28,\\n            29,\\n            30,\\n            31,\\n            32,\\n            33,\\n            34,\\n            35,\\n            36,\\n            37,\\n            38,\\n            39,\\n            40,\\n            41,\\n            42,\\n            43,\\n            44,\\n            45,\\n            46,\\n            47,\\n            48,\\n            49,\\n            50,\\n            51,\\n            52,\\n            53,\\n            54,\\n            55,\\n            56,\\n            57,\\n            58,\\n            59,\\n            60,\\n            61,\\n            62,\\n            63,\\n            64,\\n            65,\\n            66,\\n            67,\\n            68,\\n            69,\\n            70,\\n            71,\\n            72,\\n            73,\\n            74,\\n            75,\\n            76,\\n            77,\\n            78,\\n            79,\\n            80,\\n            81,\\n            82,\\n            83,\\n            84,\\n            85,\\n            86,\\n            87,\\n            88,\\n            89,\\n            90,\\n            91,\\n            92,\\n            93,\\n            94,\\n            95,\\n            96,\\n            97,\\n            98,\\n            99,\\n            100,\\n            101\\n        ],\\n        \\\"showlegend\\\": true,\\n        \\\"mode\\\": \\\"lines\\\",\\n        \\\"name\\\": \\\"group 1 infections\\\",\\n        \\\"zmin\\\": null,\\n        \\\"legendgroup\\\": \\\"group 1 infections\\\",\\n        \\\"zmax\\\": null,\\n        \\\"line\\\": {\\n            \\\"color\\\": \\\"rgba(0, 0, 255, 1.000)\\\",\\n            \\\"shape\\\": \\\"linear\\\",\\n            \\\"dash\\\": \\\"dot\\\",\\n            \\\"width\\\": 1\\n        },\\n        \\\"y\\\": [\\n            0.0,\\n            0.0001,\\n            0.00017998950000000004,\\n            0.0002466701408356407,\\n            0.0003083776424005778,\\n            0.0003790849371999691,\\n            0.0004861157107715051,\\n            0.0006802026259690703,\\n            0.0010304650320720064,\\n            0.0015753441471011266,\\n            0.0022782579723507512,\\n            0.003061750573370267,\\n            0.0038532982280220234,\\n            0.004600472501867957,\\n            0.005270657267951014,\\n            0.0058468083487958076,\\n            0.006322998583787568,\\n            0.006700719080498502,\\n            0.006986069600129919,\\n            0.0071877301182150305,\\n            0.007315553504073728,\\n            0.007379627615765341,\\n            0.007389680506739585,\\n            0.007354729692899967,\\n            0.007282900479268996,\\n            0.007181357942345557,\\n            0.007056312466555549,\\n            0.006913070363747964,\\n            0.006756109772140222,\\n            0.006589168386179422,\\n            0.0064153341589734784,\\n            0.00623713338419799,\\n            0.006056612848380764,\\n            0.005875414310577303,\\n            0.005694840613627052,\\n            0.005515913407961181,\\n            0.005339422885083067,\\n            0.0051659701536824545,\\n            0.0049960030050628,\\n            0.0048298458478604,\\n            0.004667724574433602,\\n            0.004509787073391753,\\n            0.004356120038619804,\\n            0.004206762654267896,\\n            0.004061717663622438,\\n            0.003920960261324814,\\n            0.0037844451852073655,\\n            0.003652112327128982,\\n            0.003523891131946671,\\n            0.00339970401002839,\\n            0.00327946895109514,\\n            0.003163101495127944,\\n            0.003050516188975829,\\n            0.002941627634534115,\\n            0.0028363512153341975,\\n            0.0027346035725484,\\n            0.00263630288827388,\\n            0.002541369023084486,\\n            0.0024497235458536062,\\n            0.0023612896864337266,\\n            0.0022759922356590367,\\n            0.0021937574120894946,\\n            0.0021145127107507792,\\n            0.0020381867456899737,\\n            0.00196470909533529,\\n            0.001894010157316623,\\n            0.0018260210174884481,\\n            0.0017606733363293768,\\n            0.0016978992546180704,\\n            0.0016376313192575567,\\n            0.0015798024293017195,\\n            0.0015243458015973856,\\n            0.0014711949549664394,\\n            0.0014202837114920418,\\n            0.0013715462132215905,\\n            0.0013249169524393203,\\n            0.00128033081357817,\\n            0.0012377231248202883,\\n            0.0011970297174663388,\\n            0.0011581869912250067,\\n            0.0011211319836764585,\\n            0.0010858024422888116,\\n            0.0010521368975078093,\\n            0.0010200747355908386,\\n            0.0009895562700120383,\\n            0.0009605228104212804,\\n            0.0009329167282928495,\\n            0.0009066815185469421,\\n            0.0008817618565666238,\\n            0.0008581036501630688,\\n            0.0008356540861617699,\\n            0.0008143616713913222,\\n            0.0007941762679540838,\\n            0.0007750491227445387,\\n            0.0007569328912567427,\\n            0.0007397816557872707,\\n            0.0007235509381951278,\\n            0.000708197707425782,\\n            0.0006936803820435383,\\n            0.0006799588280456016,\\n            0.0006669943522531566\\n        ],\\n        \\\"type\\\": \\\"scatter\\\"\\n    },\\n    {\\n        \\\"xaxis\\\": \\\"x1\\\",\\n        \\\"colorbar\\\": {\\n            \\\"title\\\": \\\"\\\"\\n        },\\n        \\\"yaxis\\\": \\\"y1\\\",\\n        \\\"x\\\": [\\n            1,\\n            2,\\n            3,\\n            4,\\n            5,\\n            6,\\n            7,\\n            8,\\n            9,\\n            10,\\n            11,\\n            12,\\n            13,\\n            14,\\n            15,\\n            16,\\n            17,\\n            18,\\n            19,\\n            20,\\n            21,\\n            22,\\n            23,\\n            24,\\n            25,\\n            26,\\n            27,\\n            28,\\n            29,\\n            30,\\n            31,\\n            32,\\n            33,\\n            34,\\n            35,\\n            36,\\n            37,\\n            38,\\n            39,\\n            40,\\n            41,\\n            42,\\n            43,\\n            44,\\n            45,\\n            46,\\n            47,\\n            48,\\n            49,\\n            50,\\n            51,\\n            52,\\n            53,\\n            54,\\n            55,\\n            56,\\n            57,\\n            58,\\n            59,\\n            60,\\n            61,\\n            62,\\n            63,\\n            64,\\n            65,\\n            66,\\n            67,\\n            68,\\n            69,\\n            70,\\n            71,\\n            72,\\n            73,\\n            74,\\n            75,\\n            76,\\n            77,\\n            78,\\n            79,\\n            80,\\n            81,\\n            82,\\n            83,\\n            84,\\n            85,\\n            86,\\n            87,\\n            88,\\n            89,\\n            90,\\n            91,\\n            92,\\n            93,\\n            94,\\n            95,\\n            96,\\n            97,\\n            98,\\n            99,\\n            100,\\n            101\\n        ],\\n        \\\"showlegend\\\": true,\\n        \\\"mode\\\": \\\"lines\\\",\\n        \\\"name\\\": \\\"group 2 infections\\\",\\n        \\\"zmin\\\": null,\\n        \\\"legendgroup\\\": \\\"group 2 infections\\\",\\n        \\\"zmax\\\": null,\\n        \\\"line\\\": {\\n            \\\"color\\\": \\\"rgba(0, 128, 0, 1.000)\\\",\\n            \\\"shape\\\": \\\"linear\\\",\\n            \\\"dash\\\": \\\"dot\\\",\\n            \\\"width\\\": 1\\n        },\\n        \\\"y\\\": [\\n            0.0,\\n            0.0001,\\n            0.00019661373600010987,\\n            0.00030087352945792846,\\n            0.0004381585218425029,\\n            0.0006663757586412118,\\n            0.0011067406732605072,\\n            0.0019595105458425524,\\n            0.003401091923272158,\\n            0.0053595786593413335,\\n            0.007539004360186977,\\n            0.009671460103933088,\\n            0.011606004098448194,\\n            0.013278497215084693,\\n            0.014674143123669423,\\n            0.015803790271843705,\\n            0.01669055235952456,\\n            0.01736241529849054,\\n            0.01784819523794163,\\n            0.01817539087663341,\\n            0.01836912283210311,\\n            0.01845170102560683,\\n            0.018442551755194957,\\n            0.018358344258193007,\\n            0.018213220021267164,\\n            0.018019066432668117,\\n            0.017785800028528313,\\n            0.017521639368977708,\\n            0.017233356851069956,\\n            0.01692650454264525,\\n            0.01660561265570648,\\n            0.01627436136535941,\\n            0.015935727836339814,\\n            0.015592110881609072,\\n            0.015245435869350617,\\n            0.014897242462925578,\\n            0.014548757619272427,\\n            0.014200956047194839,\\n            0.01385461007747879,\\n            0.01351033064605418,\\n            0.013168600853585764,\\n            0.012829803347446864,\\n            0.012494242578263101,\\n            0.012162162813747176,\\n            0.0118337626464515,\\n            0.011509206607557772,\\n            0.01118863439371042,\\n            0.010872168125872083,\\n            0.010559917985971492,\\n            0.010251986516608708,\\n            0.009948471819354604,\\n            0.0096494698465144,\\n            0.0093550759481121,\\n            0.009065385808984779,\\n            0.00878049588912538,\\n            0.008500503462817353,\\n            0.008225506337846999,\\n            0.007955602324473197,\\n            0.007690888514306035,\\n            0.007431460421324405,\\n            0.007177411030563635,\\n            0.006928829794221941,\\n            0.0066858016098298705,\\n            0.0064484058105192315,\\n            0.006216715193186283,\\n            0.005990795106378242,\\n            0.005770702615986693,\\n            0.005556485763277632,\\n            0.0053481829264165285,\\n            0.005145822293464103,\\n            0.004949421451839756,\\n            0.004758987096494205,\\n            0.004574514856522441,\\n            0.004395989237701614,\\n            0.004223383676471111,\\n            0.004056660699194227,\\n            0.0038957721791563074,\\n            0.0037406596826603153,\\n            0.003591254894769252,\\n            0.0034474801147015262,\\n            0.0033092488105915295,\\n            0.0031764662232604745,\\n            0.003049030008776954,\\n            0.002926830909895834,\\n            0.0028097534469193773,\\n            0.002697676619099814,\\n            0.002590474608369125,\\n            0.0024880174779165,\\n            0.0023901718589115074,\\n            0.0022968016194716235,\\n            0.0022077685107775844,\\n            0.002122932786032452,\\n            0.0020421537887282556,\\n            0.0019652905074149982,\\n            0.0018922020948540946,\\n            0.001822748350073971,\\n            0.0017567901624265506,\\n            0.0016941899172667955,\\n            0.0016348118633417845,\\n            0.0015785224423826446,\\n            0.0015251905817421354\\n        ],\\n        \\\"type\\\": \\\"scatter\\\"\\n    },\\n    {\\n        \\\"xaxis\\\": \\\"x1\\\",\\n        \\\"colorbar\\\": {\\n            \\\"title\\\": \\\"\\\"\\n        },\\n        \\\"yaxis\\\": \\\"y1\\\",\\n        \\\"x\\\": [\\n            1,\\n            2,\\n            3,\\n            4,\\n            5,\\n            6,\\n            7,\\n            8,\\n            9,\\n            10,\\n            11,\\n            12,\\n            13,\\n            14,\\n            15,\\n            16,\\n            17,\\n            18,\\n            19,\\n            20,\\n            21,\\n            22,\\n            23,\\n            24,\\n            25,\\n            26,\\n            27,\\n            28,\\n            29,\\n            30,\\n            31,\\n            32,\\n            33,\\n            34,\\n            35,\\n            36,\\n            37,\\n            38,\\n            39,\\n            40,\\n            41,\\n            42,\\n            43,\\n            44,\\n            45,\\n            46,\\n            47,\\n            48,\\n            49,\\n            50,\\n            51,\\n            52,\\n            53,\\n            54,\\n            55,\\n            56,\\n            57,\\n            58,\\n            59,\\n            60,\\n            61,\\n            62,\\n            63,\\n            64,\\n            65,\\n            66,\\n            67,\\n            68,\\n            69,\\n            70,\\n            71,\\n            72,\\n            73,\\n            74,\\n            75,\\n            76,\\n            77,\\n            78,\\n            79,\\n            80,\\n            81,\\n            82,\\n            83,\\n            84,\\n            85,\\n            86,\\n            87,\\n            88,\\n            89,\\n            90,\\n            91,\\n            92,\\n            93,\\n            94,\\n            95,\\n            96,\\n            97,\\n            98,\\n            99,\\n            100,\\n            101\\n        ],\\n        \\\"showlegend\\\": true,\\n        \\\"mode\\\": \\\"lines\\\",\\n        \\\"name\\\": \\\"group 3 infections\\\",\\n        \\\"zmin\\\": null,\\n        \\\"legendgroup\\\": \\\"group 3 infections\\\",\\n        \\\"zmax\\\": null,\\n        \\\"line\\\": {\\n            \\\"color\\\": \\\"rgba(255, 0, 0, 1.000)\\\",\\n            \\\"shape\\\": \\\"linear\\\",\\n            \\\"dash\\\": \\\"dot\\\",\\n            \\\"width\\\": 1\\n        },\\n        \\\"y\\\": [\\n            0.0,\\n            0.0001,\\n            0.0003628560960012083,\\n            0.0010247122415299745,\\n            0.0026446471596587684,\\n            0.006441820009438033,\\n            0.014569624120087226,\\n            0.029071878780584127,\\n            0.04847151221283921,\\n            0.06765904491144395,\\n            0.08327119312290926,\\n            0.09476471398401294,\\n            0.10266084895684881,\\n            0.10766266748123826,\\n            0.11041133674594299,\\n            0.11143765492585264,\\n            0.11116549104071846,\\n            0.1099276168785924,\\n            0.10798274528181145,\\n            0.10553065595867486,\\n            0.102724761638479,\\n            0.09968224334497469,\\n            0.09649210162839997,\\n            0.09322149735214293,\\n            0.08992071899297846,\\n            0.08662706023200584,\\n            0.08336783907308118,\\n            0.08016274359578215,\\n            0.07702565101727613,\\n            0.07396603557859448,\\n            0.07099005589469612,\\n            0.06810139272601116,\\n            0.0653018926402683,\\n            0.062592060882108,\\n            0.05997143725196674,\\n            0.05743888135090878,\\n            0.05499278772726499,\\n            0.05263124691213031,\\n            0.050352164777982274,\\n            0.04815334988179833,\\n            0.04603257629184117,\\n            0.0439876277131316,\\n            0.042016327416505565,\\n            0.04011655745837952,\\n            0.038286269888763116,\\n            0.03652349203325719,\\n            0.034826327461178405,\\n            0.033192953885515804,\\n            0.03162161895683785,\\n            0.030110634693536677,\\n            0.02865837112012586,\\n            0.02726324955221895,\\n            0.025923735862447048,\\n            0.02463833397912412,\\n            0.023405579803760866,\\n            0.022224035680653422,\\n            0.021092285508815412,\\n            0.02000893055132892,\\n            0.018972585968194483,\\n            0.01798187807483531,\\n            0.017035442308751286,\\n            0.01613192187084859,\\n            0.015269966995271982,\\n            0.014448234791819524,\\n            0.013665389597960865,\\n            0.012920103772875266,\\n            0.012211058863545121,\\n            0.011536947072550624,\\n            0.010896472958568259,\\n            0.010288355303424555,\\n            0.009711329083636294,\\n            0.009164147489416729,\\n            0.008645583939887248,\\n            0.008154434049460275,\\n            0.007689517506826657,\\n            0.007249679834485427,\\n            0.006833794003121276,\\n            0.006440761881218445,\\n            0.006069515505983338,\\n            0.0057190181668454725,\\n            0.0053882652974592705,\\n            0.005076285176203471,\\n            0.004782139438660843,\\n            0.004504923408464993,\\n            0.0042437662552473505,\\n            0.003997830990239517,\\n            0.003766314311428374,\\n            0.003548446311071012,\\n            0.0033434900589060803,\\n            0.0031507410745993058,\\n            0.002969526702885036,\\n            0.002799205404561763,\\n            0.0026391659760127435,\\n            0.002488826709295181,\\n            0.0023476345041096216,\\n            0.0022150639421581325,\\n            0.0020906163335534097,\\n            0.0019738187440749865,\\n            0.0018642230112027721,\\n            0.0017614047560083755,\\n            0.0016649623971627023\\n        ],\\n        \\\"type\\\": \\\"scatter\\\"\\n    },\\n    {\\n        \\\"xaxis\\\": \\\"x1\\\",\\n        \\\"colorbar\\\": {\\n            \\\"title\\\": \\\"\\\"\\n        },\\n        \\\"yaxis\\\": \\\"y1\\\",\\n        \\\"x\\\": [\\n            1,\\n            2,\\n            3,\\n            4,\\n            5,\\n            6,\\n            7,\\n            8,\\n            9,\\n            10,\\n            11,\\n            12,\\n            13,\\n            14,\\n            15,\\n            16,\\n            17,\\n            18,\\n            19,\\n            20,\\n            21,\\n            22,\\n            23,\\n            24,\\n            25,\\n            26,\\n            27,\\n            28,\\n            29,\\n            30,\\n            31,\\n            32,\\n            33,\\n            34,\\n            35,\\n            36,\\n            37,\\n            38,\\n            39,\\n            40,\\n            41,\\n            42,\\n            43,\\n            44,\\n            45,\\n            46,\\n            47,\\n            48,\\n            49,\\n            50,\\n            51,\\n            52,\\n            53,\\n            54,\\n            55,\\n            56,\\n            57,\\n            58,\\n            59,\\n            60,\\n            61,\\n            62,\\n            63,\\n            64,\\n            65,\\n            66,\\n            67,\\n            68,\\n            69,\\n            70,\\n            71,\\n            72,\\n            73,\\n            74,\\n            75,\\n            76,\\n            77,\\n            78,\\n            79,\\n            80,\\n            81,\\n            82,\\n            83,\\n            84,\\n            85,\\n            86,\\n            87,\\n            88,\\n            89,\\n            90,\\n            91,\\n            92,\\n            93,\\n            94,\\n            95,\\n            96,\\n            97,\\n            98,\\n            99,\\n            100,\\n            101\\n        ],\\n        \\\"showlegend\\\": true,\\n        \\\"mode\\\": \\\"lines+markers\\\",\\n        \\\"name\\\": \\\"total infections\\\",\\n        \\\"zmin\\\": null,\\n        \\\"legendgroup\\\": \\\"total infections\\\",\\n        \\\"marker\\\": {\\n            \\\"symbol\\\": \\\"circle\\\",\\n            \\\"color\\\": \\\"rgba(0, 0, 0, 1.000)\\\",\\n            \\\"line\\\": {\\n                \\\"color\\\": \\\"rgba(0, 0, 0, 1.000)\\\",\\n                \\\"width\\\": 1\\n            },\\n            \\\"size\\\": 8\\n        },\\n        \\\"zmax\\\": null,\\n        \\\"line\\\": {\\n            \\\"color\\\": \\\"rgba(0, 0, 0, 1.000)\\\",\\n            \\\"shape\\\": \\\"linear\\\",\\n            \\\"dash\\\": \\\"dot\\\",\\n            \\\"width\\\": 1\\n        },\\n        \\\"y\\\": [\\n            0.0,\\n            0.0001,\\n            0.000234018267000357,\\n            0.00046828236032036804,\\n            0.000957335461436088,\\n            0.0020384141159801063,\\n            0.004317305294344936,\\n            0.008417775624559577,\\n            0.014076040272863884,\\n            0.019988386594306934,\\n            0.02515686495390849,\\n            0.029292346191312345,\\n            0.0324315388454418,\\n            0.034705033603318905,\\n            0.03625757006530821,\\n            0.03722301095458397,\\n            0.03771739858588879,\\n            0.037838291639017994,\\n            0.03766630133945616,\\n            0.03726729195753918,\\n            0.036694640201689735,\\n            0.03599131825298842,\\n            0.03519172141138237,\\n            0.03432322889035723,\\n            0.03340751487869545,\\n            0.032461637759921905,\\n            0.03149893789917334,\\n            0.03052977317437138,\\n            0.029562118622889065,\\n            0.0286020532625161,\\n            0.02765415384127064,\\n            0.026721812210231996,\\n            0.02580749029033217,\\n            0.024912924238975863,\\n            0.024039287401073757,\\n            0.02318731992118028,\\n            0.02235743146272323,\\n            0.021549782290050612,\\n            0.020764346984500665,\\n            0.02000096425544177,\\n            0.019259375643361575,\\n            0.01853925537035427,\\n            0.017840233152912895,\\n            0.01716191143503544,\\n            0.01650387821132214,\\n            0.01586571637742439,\\n            0.015247010358451652,\\n            0.01464735061609724,\\n            0.014066336515181875,\\n            0.013503577934195621,\\n            0.012958695927482552,\\n            0.012431322685093924,\\n            0.011921100986911768,\\n            0.011427683307906947,\\n            0.010950730699336456,\\n            0.010489911544709133,\\n            0.010044900268195822,\\n            0.00961537605583995,\\n            0.00920102163566504,\\n            0.008801522150979462,\\n            0.008416564151384398,\\n            0.008045834717845493,\\n            0.007689020731420626,\\n            0.00734580828963699,\\n            0.00701588226991718,\\n            0.006698926035737093,\\n            0.006394621278251739,\\n            0.006102647983858817,\\n            0.0058226845165048466,\\n            0.005554407802402579,\\n            0.005297493604154381,\\n            0.005051616871000631,\\n            0.004816452151974642,\\n            0.004591674059088886,\\n            0.004376957768247617,\\n            0.0041719795463283004,\\n            0.003976417293753015,\\n            0.003789951092839841,\\n            0.003612263753247045,\\n            0.003443041346868383,\\n            0.003281973725579697,\\n            0.003128755016253308,\\n            0.00298308408843064,\\n            0.002844664990961875,\\n            0.0027132073547745357,\\n            0.0025884267597151064,\\n            0.0024700450641148685,\\n            0.0023577906963627385,\\n            0.00225139890832393,\\n            0.0021506119909264054,\\n            0.0020551794526504933,\\n            0.0019648581620044974,\\n            0.0018794124553558346,\\n            0.001798614211717429,\\n            0.0017222428962686384,\\n            0.0016500855745233364,\\n            0.0015819368991504097,\\n            0.00151759907150859,\\n            0.0014568817799824698,\\n            0.0013996021172048166,\\n            0.0013455844782250324\\n        ],\\n        \\\"type\\\": \\\"scatter\\\"\\n    },\\n    {\\n        \\\"xaxis\\\": \\\"x1\\\",\\n        \\\"colorbar\\\": {\\n            \\\"title\\\": \\\"\\\"\\n        },\\n        \\\"yaxis\\\": \\\"y1\\\",\\n        \\\"x\\\": [\\n            1,\\n            2,\\n            3,\\n            4,\\n            5,\\n            6,\\n            7,\\n            8,\\n            9,\\n            10,\\n            11,\\n            12,\\n            13,\\n            14,\\n            15,\\n            16,\\n            17,\\n            18,\\n            19,\\n            20,\\n            21,\\n            22,\\n            23,\\n            24,\\n            25,\\n            26,\\n            27,\\n            28,\\n            29,\\n            30,\\n            31,\\n            32,\\n            33,\\n            34,\\n            35,\\n            36,\\n            37,\\n            38,\\n            39,\\n            40,\\n            41,\\n            42,\\n            43,\\n            44,\\n            45,\\n            46,\\n            47,\\n            48,\\n            49,\\n            50,\\n            51,\\n            52,\\n            53,\\n            54,\\n            55,\\n            56,\\n            57,\\n            58,\\n            59,\\n            60,\\n            61,\\n            62,\\n            63,\\n            64,\\n            65,\\n            66,\\n            67,\\n            68,\\n            69,\\n            70,\\n            71,\\n            72,\\n            73,\\n            74,\\n            75,\\n            76,\\n            77,\\n            78,\\n            79,\\n            80,\\n            81,\\n            82,\\n            83,\\n            84,\\n            85,\\n            86,\\n            87,\\n            88,\\n            89,\\n            90,\\n            91,\\n            92,\\n            93,\\n            94,\\n            95,\\n            96,\\n            97,\\n            98,\\n            99,\\n            100,\\n            101\\n        ],\\n        \\\"showlegend\\\": true,\\n        \\\"mode\\\": \\\"lines\\\",\\n        \\\"name\\\": \\\"group 1 recovered\\\",\\n        \\\"zmin\\\": null,\\n        \\\"legendgroup\\\": \\\"group 1 recovered\\\",\\n        \\\"zmax\\\": null,\\n        \\\"line\\\": {\\n            \\\"color\\\": \\\"rgba(0, 0, 255, 1.000)\\\",\\n            \\\"shape\\\": \\\"linear\\\",\\n            \\\"dash\\\": \\\"solid\\\",\\n            \\\"width\\\": 1\\n        },\\n        \\\"y\\\": [\\n            0.0,\\n            0.0,\\n            2.5e-5,\\n            6.9997375e-5,\\n            0.00013166491020891017,\\n            0.00020875932080905463,\\n            0.00030353055510904693,\\n            0.0004250594828019232,\\n            0.0005951101392941908,\\n            0.0008527263973121924,\\n            0.001246562434087474,\\n            0.0018161269271751617,\\n            0.0025815645705177283,\\n            0.003544889127523234,\\n            0.0046950072529902236,\\n            0.006012671569977977,\\n            0.007474373657176929,\\n            0.009055123303123821,\\n            0.010730303073248447,\\n            0.012476820473280928,\\n            0.014273753002834686,\\n            0.016102641378853116,\\n            0.01794754828279445,\\n            0.01979496840947935,\\n            0.02163365083270434,\\n            0.02345437595252159,\\n            0.02524971543810798,\\n            0.027013793554746868,\\n            0.02874206114568386,\\n            0.030431088588718916,\\n            0.03207838068526377,\\n            0.03368221422500714,\\n            0.035241497571056636,\\n            0.03675565078315183,\\n            0.038224504360796156,\\n            0.03964821451420292,\\n            0.04102719286619321,\\n            0.04236204858746398,\\n            0.04365354112588459,\\n            0.044902541877150294,\\n            0.04611000333911539,\\n            0.04727693448272379,\\n            0.04840438125107173,\\n            0.04949341126072668,\\n            0.05054510192429365,\\n            0.05156053134019926,\\n            0.05254077140553046,\\n            0.05348688270183231,\\n            0.05439991078361455,\\n            0.05528088356660122,\\n            0.05613080956910832,\\n            0.0569506768068821,\\n            0.057741452180664087,\\n            0.058504081227908046,\\n            0.059239488136541577,\\n            0.05994857594037513,\\n            0.06063222683351223,\\n            0.0612913025555807,\\n            0.06192664481135182,\\n            0.06253907569781522,\\n            0.06312939811942365,\\n            0.06369839617833842,\\n            0.06424683553136079,\\n            0.06477546370904849,\\n            0.06528501039547098,\\n            0.0657761876693048,\\n            0.06624969020863396,\\n            0.06670619546300607,\\n            0.06714636379708842,\\n            0.06757083861074294,\\n            0.06798024644055732,\\n            0.06837519704788275,\\n            0.0687562834982821,\\n            0.06912408223702371,\\n            0.06947915316489672,\\n            0.06982203971820213,\\n            0.07015326895631195,\\n            0.07047335165970649,\\n            0.07078278244091156,\\n            0.07108203987027814,\\n            0.07137158661808439,\\n            0.07165186961400351,\\n            0.0719233202245757,\\n            0.07218635444895266,\\n            0.07244137313285037,\\n            0.07268876220035338,\\n            0.0729288929029587,\\n            0.07316212208503192,\\n            0.07338879246466866,\\n            0.07360923292881032,\\n            0.07382375884135109,\\n            0.07403267236289153,\\n            0.07423626278073936,\\n            0.07443480684772788,\\n            0.07462856912841402,\\n            0.0748178023512282,\\n            0.07500274776517502,\\n            0.0751836354997238,\\n            0.07536068492658025,\\n            0.07553410502209114,\\n            0.07570409472910254\\n        ],\\n        \\\"type\\\": \\\"scatter\\\"\\n    },\\n    {\\n        \\\"xaxis\\\": \\\"x1\\\",\\n        \\\"colorbar\\\": {\\n            \\\"title\\\": \\\"\\\"\\n        },\\n        \\\"yaxis\\\": \\\"y1\\\",\\n        \\\"x\\\": [\\n            1,\\n            2,\\n            3,\\n            4,\\n            5,\\n            6,\\n            7,\\n            8,\\n            9,\\n            10,\\n            11,\\n            12,\\n            13,\\n            14,\\n            15,\\n            16,\\n            17,\\n            18,\\n            19,\\n            20,\\n            21,\\n            22,\\n            23,\\n            24,\\n            25,\\n            26,\\n            27,\\n            28,\\n            29,\\n            30,\\n            31,\\n            32,\\n            33,\\n            34,\\n            35,\\n            36,\\n            37,\\n            38,\\n            39,\\n            40,\\n            41,\\n            42,\\n            43,\\n            44,\\n            45,\\n            46,\\n            47,\\n            48,\\n            49,\\n            50,\\n            51,\\n            52,\\n            53,\\n            54,\\n            55,\\n            56,\\n            57,\\n            58,\\n            59,\\n            60,\\n            61,\\n            62,\\n            63,\\n            64,\\n            65,\\n            66,\\n            67,\\n            68,\\n            69,\\n            70,\\n            71,\\n            72,\\n            73,\\n            74,\\n            75,\\n            76,\\n            77,\\n            78,\\n            79,\\n            80,\\n            81,\\n            82,\\n            83,\\n            84,\\n            85,\\n            86,\\n            87,\\n            88,\\n            89,\\n            90,\\n            91,\\n            92,\\n            93,\\n            94,\\n            95,\\n            96,\\n            97,\\n            98,\\n            99,\\n            100,\\n            101\\n        ],\\n        \\\"showlegend\\\": true,\\n        \\\"mode\\\": \\\"lines\\\",\\n        \\\"name\\\": \\\"group 2 recovered\\\",\\n        \\\"zmin\\\": null,\\n        \\\"legendgroup\\\": \\\"group 2 recovered\\\",\\n        \\\"zmax\\\": null,\\n        \\\"line\\\": {\\n            \\\"color\\\": \\\"rgba(0, 128, 0, 1.000)\\\",\\n            \\\"shape\\\": \\\"linear\\\",\\n            \\\"dash\\\": \\\"solid\\\",\\n            \\\"width\\\": 1\\n        },\\n        \\\"y\\\": [\\n            0.0,\\n            0.0,\\n            2.5e-5,\\n            7.415343400002746e-5,\\n            0.00014937181636450958,\\n            0.0002589114468251353,\\n            0.00042550538648543823,\\n            0.000702190554800565,\\n            0.0011920681912612032,\\n            0.002042341172079243,\\n            0.003382235836914576,\\n            0.005266986926961321,\\n            0.0076848519529445925,\\n            0.01058635297755664,\\n            0.013905977281327813,\\n            0.017574513062245167,\\n            0.021525460630206092,\\n            0.025698098720087232,\\n            0.030038702544709868,\\n            0.03450075135419527,\\n            0.03904459907335363,\\n            0.04363687978137941,\\n            0.04824980503778112,\\n            0.05286044297657986,\\n            0.057450029041128114,\\n            0.062003334046444904,\\n            0.06650810065461193,\\n            0.07095455066174401,\\n            0.07533496050398844,\\n            0.07964329971675593,\\n            0.08387492585241725,\\n            0.08802632901634387,\\n            0.09209491935768373,\\n            0.09607885131676869,\\n            0.09997687903717095,\\n            0.1037882380045086,\\n            0.10751254862024,\\n            0.1111497380250581,\\n            0.11469997703685682,\\n            0.11816362955622652,\\n            0.12154121221774006,\\n            0.1248333624311365,\\n            0.1280408132679982,\\n            0.131164373912564,\\n            0.1342049146160008,\\n            0.13716335527761367,\\n            0.1400406569295031,\\n            0.1428378155279307,\\n            0.14555585755939873,\\n            0.1481958370558916,\\n            0.15075883368504378,\\n            0.15324595163988244,\\n            0.15565831910151104,\\n            0.15799708808853907,\\n            0.16026343454078526,\\n            0.1624585585130666,\\n            0.16458368437877094,\\n            0.1666400609632327,\\n            0.168628961544351,\\n            0.1705516836729275,\\n            0.1724095487782586,\\n            0.1742039015358995,\\n            0.175936108984455,\\n            0.17760755938691247,\\n            0.17921966083954227,\\n            0.18077383963783883,\\n            0.1822715384144334,\\n            0.18371421406843005,\\n            0.18510333550924946,\\n            0.18644038124085358,\\n            0.1877268368142196,\\n            0.18896419217717952,\\n            0.1901539389513031,\\n            0.1912975676654337,\\n            0.1923965649748591,\\n            0.19345241089397688,\\n            0.19446657606877543,\\n            0.1954405191135645,\\n            0.1963756840342296,\\n            0.1972734977579219,\\n            0.1981353677865973,\\n            0.1989626799892452,\\n            0.19975679654506032,\\n            0.20051905404725456,\\n            0.20125076177472853,\\n            0.20195320013645837,\\n            0.20262761929123332,\\n            0.2032752379433256,\\n            0.20389724231280473,\\n            0.20449478527753262,\\n            0.20506898568240053,\\n            0.20562092781009492,\\n            0.20615166100660304,\\n            0.2066621994537851,\\n            0.20715352208063886,\\n            0.20762657260435238,\\n            0.20808225969187089,\\n            0.20852145723247753,\\n            0.20894500471179422,\\n            0.20935370767762967,\\n            0.20974833828822534\\n        ],\\n        \\\"type\\\": \\\"scatter\\\"\\n    },\\n    {\\n        \\\"xaxis\\\": \\\"x1\\\",\\n        \\\"colorbar\\\": {\\n            \\\"title\\\": \\\"\\\"\\n        },\\n        \\\"yaxis\\\": \\\"y1\\\",\\n        \\\"x\\\": [\\n            1,\\n            2,\\n            3,\\n            4,\\n            5,\\n            6,\\n            7,\\n            8,\\n            9,\\n            10,\\n            11,\\n            12,\\n            13,\\n            14,\\n            15,\\n            16,\\n            17,\\n            18,\\n            19,\\n            20,\\n            21,\\n            22,\\n            23,\\n            24,\\n            25,\\n            26,\\n            27,\\n            28,\\n            29,\\n            30,\\n            31,\\n            32,\\n            33,\\n            34,\\n            35,\\n            36,\\n            37,\\n            38,\\n            39,\\n            40,\\n            41,\\n            42,\\n            43,\\n            44,\\n            45,\\n            46,\\n            47,\\n            48,\\n            49,\\n            50,\\n            51,\\n            52,\\n            53,\\n            54,\\n            55,\\n            56,\\n            57,\\n            58,\\n            59,\\n            60,\\n            61,\\n            62,\\n            63,\\n            64,\\n            65,\\n            66,\\n            67,\\n            68,\\n            69,\\n            70,\\n            71,\\n            72,\\n            73,\\n            74,\\n            75,\\n            76,\\n            77,\\n            78,\\n            79,\\n            80,\\n            81,\\n            82,\\n            83,\\n            84,\\n            85,\\n            86,\\n            87,\\n            88,\\n            89,\\n            90,\\n            91,\\n            92,\\n            93,\\n            94,\\n            95,\\n            96,\\n            97,\\n            98,\\n            99,\\n            100,\\n            101\\n        ],\\n        \\\"showlegend\\\": true,\\n        \\\"mode\\\": \\\"lines\\\",\\n        \\\"name\\\": \\\"group 3 recovered\\\",\\n        \\\"zmin\\\": null,\\n        \\\"legendgroup\\\": \\\"group 3 recovered\\\",\\n        \\\"zmax\\\": null,\\n        \\\"line\\\": {\\n            \\\"color\\\": \\\"rgba(255, 0, 0, 1.000)\\\",\\n            \\\"shape\\\": \\\"linear\\\",\\n            \\\"dash\\\": \\\"solid\\\",\\n            \\\"width\\\": 1\\n        },\\n        \\\"y\\\": [\\n            0.0,\\n            0.0,\\n            2.5e-5,\\n            0.00011571402400030207,\\n            0.0003718920843827957,\\n            0.0010330538742974878,\\n            0.0026435088766569963,\\n            0.006285914906678803,\\n            0.013553884601824835,\\n            0.02567176265503464,\\n            0.042586523882895626,\\n            0.06340432216362293,\\n            0.08709550065962617,\\n            0.11276071289883836,\\n            0.13967637976914793,\\n            0.16727921395563367,\\n            0.19513862768709683,\\n            0.22293000044727646,\\n            0.25041190466692453,\\n            0.2774075909873774,\\n            0.3037902549770461,\\n            0.32947144538666584,\\n            0.3543920062229095,\\n            0.3785150316300095,\\n            0.40182040596804525,\\n            0.42430058571628987,\\n            0.44595735077429133,\\n            0.46679931054256163,\\n            0.48683999644150716,\\n            0.5060964091958262,\\n            0.5245879180904748,\\n            0.5423354320641488,\\n            0.5593607802456516,\\n            0.5756862534057187,\\n            0.5913342686262457,\\n            0.6063271279392374,\\n            0.6206868482769645,\\n            0.6344350452087808,\\n            0.6475928569368133,\\n            0.6601808981313089,\\n            0.6722192356017584,\\n            0.6837273796747187,\\n            0.6947242866030017,\\n            0.7052283684571281,\\n            0.715257507821723,\\n            0.7248290752939138,\\n            0.7339599483022281,\\n            0.7426665301675227,\\n            0.7509647686389017,\\n            0.7588701733781111,\\n            0.7663978320514953,\\n            0.7735624248315267,\\n            0.7803782372195814,\\n            0.7868591711851932,\\n            0.7930187546799743,\\n            0.7988701496309145,\\n            0.8044261585510779,\\n            0.8096992299282818,\\n            0.8147014625661141,\\n            0.8194446090581627,\\n            0.8239400785768716,\\n            0.8281989391540594,\\n            0.8322319196217716,\\n            0.8360494113705895,\\n            0.8396614700685444,\\n            0.8430778174680347,\\n            0.8463078434112535,\\n            0.8493606081271399,\\n            0.8522448448952775,\\n            0.8549689631349195,\\n            0.8575410519607757,\\n            0.8599688842316847,\\n            0.8622599211040389,\\n            0.8644213170890107,\\n            0.8664599256013757,\\n            0.8683823049780824,\\n            0.8701947249367038,\\n            0.8719031734374841,\\n            0.8735133639077888,\\n            0.8750307427842846,\\n            0.876460497325996,\\n            0.8778075636503607,\\n            0.8790766349444116,\\n            0.8802721698040767,\\n            0.881398400656193,\\n            0.8824593422200049,\\n            0.8834587999675647,\\n            0.8844003785454218,\\n            0.8852874901231895,\\n            0.886123362637916,\\n            0.8869110479065658,\\n            0.8876534295822871,\\n            0.8883532309334276,\\n            0.8890130224274307,\\n            0.8896352291047546,\\n            0.890222137730782,\\n            0.8907759037163215,\\n            0.8912985577997099,\\n            0.8917920124857287,\\n            0.8922580682385294,\\n            0.8926984194275315\\n        ],\\n        \\\"type\\\": \\\"scatter\\\"\\n    }\\n]\\n, {\\n    \\\"showlegend\\\": true,\\n    \\\"xaxis\\\": {\\n        \\\"showticklabels\\\": true,\\n        \\\"gridwidth\\\": 0.5,\\n        \\\"tickvals\\\": [\\n            0.0,\\n            25.0,\\n            50.0,\\n            75.0,\\n            100.0\\n        ],\\n        \\\"visible\\\": true,\\n        \\\"ticks\\\": \\\"inside\\\",\\n        \\\"range\\\": [\\n            -2.0,\\n            104.0\\n        ],\\n        \\\"domain\\\": [\\n            0.05100612423447069,\\n            0.9934383202099737\\n        ],\\n        \\\"tickmode\\\": \\\"array\\\",\\n        \\\"linecolor\\\": \\\"rgba(0, 0, 0, 1.000)\\\",\\n        \\\"showgrid\\\": true,\\n        \\\"title\\\": \\\"\\\",\\n        \\\"mirror\\\": false,\\n        \\\"tickangle\\\": 0,\\n        \\\"showline\\\": true,\\n        \\\"gridcolor\\\": \\\"rgba(0, 0, 0, 0.100)\\\",\\n        \\\"titlefont\\\": {\\n            \\\"color\\\": \\\"rgba(0, 0, 0, 1.000)\\\",\\n            \\\"family\\\": \\\"sans-serif\\\",\\n            \\\"size\\\": 15\\n        },\\n        \\\"tickcolor\\\": \\\"rgb(0, 0, 0)\\\",\\n        \\\"ticktext\\\": [\\n            \\\"0\\\",\\n            \\\"25\\\",\\n            \\\"50\\\",\\n            \\\"75\\\",\\n            \\\"100\\\"\\n        ],\\n        \\\"zeroline\\\": false,\\n        \\\"type\\\": \\\"-\\\",\\n        \\\"tickfont\\\": {\\n            \\\"color\\\": \\\"rgba(0, 0, 0, 1.000)\\\",\\n            \\\"family\\\": \\\"sans-serif\\\",\\n            \\\"size\\\": 11\\n        },\\n        \\\"zerolinecolor\\\": \\\"rgba(0, 0, 0, 1.000)\\\",\\n        \\\"anchor\\\": \\\"y1\\\"\\n    },\\n    \\\"paper_bgcolor\\\": \\\"rgba(255, 255, 255, 1.000)\\\",\\n    \\\"annotations\\\": [],\\n    \\\"height\\\": 400,\\n    \\\"margin\\\": {\\n        \\\"l\\\": 0,\\n        \\\"b\\\": 20,\\n        \\\"r\\\": 0,\\n        \\\"t\\\": 20\\n    },\\n    \\\"plot_bgcolor\\\": \\\"rgba(255, 255, 255, 1.000)\\\",\\n    \\\"yaxis\\\": {\\n        \\\"showticklabels\\\": true,\\n        \\\"gridwidth\\\": 0.5,\\n        \\\"tickvals\\\": [\\n            0.0,\\n            0.2,\\n            0.4,\\n            0.6000000000000001,\\n            0.8,\\n            1.0\\n        ],\\n        \\\"visible\\\": true,\\n        \\\"ticks\\\": \\\"inside\\\",\\n        \\\"range\\\": [\\n            0.0,\\n            1.0\\n        ],\\n        \\\"domain\\\": [\\n            0.03762029746281716,\\n            0.9901574803149606\\n        ],\\n        \\\"tickmode\\\": \\\"array\\\",\\n        \\\"linecolor\\\": \\\"rgba(0, 0, 0, 1.000)\\\",\\n        \\\"showgrid\\\": true,\\n        \\\"title\\\": \\\"\\\",\\n        \\\"mirror\\\": false,\\n        \\\"tickangle\\\": 0,\\n        \\\"showline\\\": true,\\n        \\\"gridcolor\\\": \\\"rgba(0, 0, 0, 0.100)\\\",\\n        \\\"titlefont\\\": {\\n            \\\"color\\\": \\\"rgba(0, 0, 0, 1.000)\\\",\\n            \\\"family\\\": \\\"sans-serif\\\",\\n            \\\"size\\\": 15\\n        },\\n        \\\"tickcolor\\\": \\\"rgb(0, 0, 0)\\\",\\n        \\\"ticktext\\\": [\\n            \\\"0.0\\\",\\n            \\\"0.2\\\",\\n            \\\"0.4\\\",\\n            \\\"0.6\\\",\\n            \\\"0.8\\\",\\n            \\\"1.0\\\"\\n        ],\\n        \\\"zeroline\\\": false,\\n        \\\"type\\\": \\\"-\\\",\\n        \\\"tickfont\\\": {\\n            \\\"color\\\": \\\"rgba(0, 0, 0, 1.000)\\\",\\n            \\\"family\\\": \\\"sans-serif\\\",\\n            \\\"size\\\": 11\\n        },\\n        \\\"zerolinecolor\\\": \\\"rgba(0, 0, 0, 1.000)\\\",\\n        \\\"anchor\\\": \\\"x1\\\"\\n    },\\n    \\\"legend\\\": {\\n        \\\"yanchor\\\": \\\"top\\\",\\n        \\\"xanchor\\\": \\\"left\\\",\\n        \\\"bordercolor\\\": \\\"rgba(0, 0, 0, 1.000)\\\",\\n        \\\"bgcolor\\\": \\\"rgba(255, 255, 255, 1.000)\\\",\\n        \\\"font\\\": {\\n            \\\"color\\\": \\\"rgba(0, 0, 0, 1.000)\\\",\\n            \\\"family\\\": \\\"sans-serif\\\",\\n            \\\"size\\\": 11\\n        },\\n        \\\"tracegroupgap\\\": 0,\\n        \\\"y\\\": 1.0,\\n        \\\"borderwidth\\\": 1,\\n        \\\"traceorder\\\": \\\"normal\\\",\\n        \\\"x\\\": 0.07\\n    },\\n    \\\"width\\\": 600\\n}\\n);\\n    <\\/script>\\n\\n    <\\/body>\\n<\\/html>\\n\"},\"nodeType\":\"DOM\",\"type\":\"node\",\"instanceArgs\":{\"namespace\":\"html\",\"tag\":\"div\"},\"children\":[]}]}}}},\"children\":[{\"props\":{},\"nodeType\":\"ObservableNode\",\"type\":\"node\",\"instanceArgs\":{\"id\":\"16527533214497734565\",\"name\":\"obs-node\"},\"children\":[]}]}]},\n",
       "            window,\n",
       "        );\n",
       "    } else {\n",
       "        document\n",
       "            .querySelector('[data-webio-mountpoint=\"16877354082014248170\"]')\n",
       "            .innerHTML = (\n",
       "                '<div style=\"padding: 1em; background-color: #f8d6da; border: 1px solid #f5c6cb\">' +\n",
       "                '<p><strong>WebIO not detected.</strong></p>' +\n",
       "                '<p>Please read ' +\n",
       "                '<a href=\"https://juliagizmos.github.io/WebIO.jl/latest/troubleshooting/not-detected/\" target=\"_blank\">the troubleshooting guide</a> ' +\n",
       "                'for more information on how to resolve this issue.</p>' +\n",
       "                '<p><a href=\"https://juliagizmos.github.io/WebIO.jl/latest/troubleshooting/not-detected/\" target=\"_blank\">https://juliagizmos.github.io/WebIO.jl/latest/troubleshooting/not-detected/</a></p>' +\n",
       "                '</div>'\n",
       "            );\n",
       "    }\n",
       "    </script>\n",
       "</div>\n"
      ],
      "text/plain": [
       "Node{WebIO.DOM}(WebIO.DOM(:html, :div), Any[Node{WebIO.DOM}(WebIO.DOM(:html, :div), Any[Scope(Node{WebIO.DOM}(WebIO.DOM(:html, :div), Any[Node{WebIO.DOM}(WebIO.DOM(:html, :div), Any[Node{WebIO.DOM}(WebIO.DOM(:html, :label), Any[\"n_big_partiers\"], Dict{Symbol,Any}(:className => \"interact \",:style => Dict{Any,Any}(:padding => \"5px 10px 0px 10px\")))], Dict{Symbol,Any}(:className => \"interact-flex-row-left\")), Node{WebIO.DOM}(WebIO.DOM(:html, :div), Any[Node{WebIO.DOM}(WebIO.DOM(:html, :input), Any[], Dict{Symbol,Any}(:max => 50,:min => 1,:attributes => Dict{Any,Any}(:type => \"range\",Symbol(\"data-bind\") => \"numericValue: index, valueUpdate: 'input', event: {change: function (){this.changes(this.changes()+1)}}\",\"orient\" => \"horizontal\"),:step => 1,:className => \"slider slider is-fullwidth\",:style => Dict{Any,Any}()))], Dict{Symbol,Any}(:className => \"interact-flex-row-center\")), Node{WebIO.DOM}(WebIO.DOM(:html, :div), Any[Node{WebIO.DOM}(WebIO.DOM(:html, :p), Any[], Dict{Symbol,Any}(:attributes => Dict(\"data-bind\" => \"text: formatted_val\")))], Dict{Symbol,Any}(:className => \"interact-flex-row-right\"))], Dict{Symbol,Any}(:className => \"interact-flex-row interact-widget\")), Dict{String,Tuple{Observables.AbstractObservable,Union{Nothing, Bool}}}(\"changes\" => (Observable{Int64} with 1 listeners. Value:\n",
       "0, nothing),\"index\" => (Observable{Any} with 2 listeners. Value:\n",
       "25, nothing)), Set{String}(), nothing, Asset[Asset(\"js\", \"knockout\", \"/Users/madeleine/.julia/packages/Knockout/IP1uR/src/../assets/knockout.js\"), Asset(\"js\", \"knockout_punches\", \"/Users/madeleine/.julia/packages/Knockout/IP1uR/src/../assets/knockout_punches.js\"), Asset(\"js\", nothing, \"/Users/madeleine/.julia/packages/InteractBase/sOe2Z/src/../assets/all.js\"), Asset(\"css\", nothing, \"/Users/madeleine/.julia/packages/InteractBase/sOe2Z/src/../assets/style.css\"), Asset(\"css\", nothing, \"/Users/madeleine/.julia/packages/Interact/SbgIk/src/../assets/bulma_confined.min.css\")], Dict{Any,Any}(\"changes\" => Any[WebIO.JSString(\"(function (val){return (val!=this.model[\\\"changes\\\"]()) ? (this.valueFromJulia[\\\"changes\\\"]=true, this.model[\\\"changes\\\"](val)) : undefined})\")],\"index\" => Any[WebIO.JSString(\"(function (val){return (val!=this.model[\\\"index\\\"]()) ? (this.valueFromJulia[\\\"index\\\"]=true, this.model[\\\"index\\\"](val)) : undefined})\")]), WebIO.ConnectionPool(Channel{Any}(sz_max:32,sz_curr:0), Set{AbstractConnection}(), Base.GenericCondition{Base.AlwaysLockedST}(Base.InvasiveLinkedList{Task}(Task (runnable) @0x000000011bb08d90, Task (runnable) @0x000000011bb08d90), Base.AlwaysLockedST(1))), WebIO.JSString[WebIO.JSString(\"function () {\\n    var handler = (function (ko, koPunches) {\\n    ko.punches.enableAll();\\n    ko.bindingHandlers.numericValue = {\\n        init: function(element, valueAccessor, allBindings, data, context) {\\n            var stringified = ko.observable(ko.unwrap(valueAccessor()));\\n            stringified.subscribe(function(value) {\\n                var val = parseFloat(value);\\n                if (!isNaN(val)) {\\n                    valueAccessor()(val);\\n                }\\n            });\\n            valueAccessor().subscribe(function(value) {\\n                var str = JSON.stringify(value);\\n                if ((str == \\\"0\\\") && ([\\\"-0\\\", \\\"-0.\\\"].indexOf(stringified()) >= 0))\\n                     return;\\n                 if ([\\\"null\\\", \\\"\\\"].indexOf(str) >= 0)\\n                     return;\\n                stringified(str);\\n            });\\n            ko.applyBindingsToNode(\\n                element,\\n                {\\n                    value: stringified,\\n                    valueUpdate: allBindings.get('valueUpdate'),\\n                },\\n                context,\\n            );\\n        }\\n    };\\n    var json_data = {\\\"formatted_vals\\\":[\\\"0.01\\\",\\\"0.02\\\",\\\"0.03\\\",\\\"0.04\\\",\\\"0.05\\\",\\\"0.06\\\",\\\"0.07\\\",\\\"0.08\\\",\\\"0.09\\\",\\\"0.1\\\",\\\"0.11\\\",\\\"0.12\\\",\\\"0.13\\\",\\\"0.14\\\",\\\"0.15\\\",\\\"0.16\\\",\\\"0.17\\\",\\\"0.18\\\",\\\"0.19\\\",\\\"0.2\\\",\\\"0.21\\\",\\\"0.22\\\",\\\"0.23\\\",\\\"0.24\\\",\\\"0.25\\\",\\\"0.26\\\",\\\"0.27\\\",\\\"0.28\\\",\\\"0.29\\\",\\\"0.3\\\",\\\"0.31\\\",\\\"0.32\\\",\\\"0.33\\\",\\\"0.34\\\",\\\"0.35\\\",\\\"0.36\\\",\\\"0.37\\\",\\\"0.38\\\",\\\"0.39\\\",\\\"0.4\\\",\\\"0.41\\\",\\\"0.42\\\",\\\"0.43\\\",\\\"0.44\\\",\\\"0.45\\\",\\\"0.46\\\",\\\"0.47\\\",\\\"0.48\\\",\\\"0.49\\\",\\\"0.5\\\"],\\\"changes\\\":WebIO.getval({\\\"name\\\":\\\"changes\\\",\\\"scope\\\":\\\"571544295569827157\\\",\\\"id\\\":\\\"11720482545226335668\\\",\\\"type\\\":\\\"observable\\\"}),\\\"index\\\":WebIO.getval({\\\"name\\\":\\\"index\\\",\\\"scope\\\":\\\"571544295569827157\\\",\\\"id\\\":\\\"17226841019019268470\\\",\\\"type\\\":\\\"observable\\\"})};\\n    var self = this;\\n    function AppViewModel() {\\n        for (var key in json_data) {\\n            var el = json_data[key];\\n            this[key] = Array.isArray(el) ? ko.observableArray(el) : ko.observable(el);\\n        }\\n        \\n        [this[\\\"formatted_val\\\"]=ko.computed(    function(){\\n        return this.formatted_vals()[parseInt(this.index())-(1)];\\n    }\\n,this)]\\n        [this[\\\"changes\\\"].subscribe((function (val){!(this.valueFromJulia[\\\"changes\\\"]) ? (WebIO.setval({\\\"name\\\":\\\"changes\\\",\\\"scope\\\":\\\"571544295569827157\\\",\\\"id\\\":\\\"11720482545226335668\\\",\\\"type\\\":\\\"observable\\\"},val)) : undefined; return this.valueFromJulia[\\\"changes\\\"]=false}),self),this[\\\"index\\\"].subscribe((function (val){!(this.valueFromJulia[\\\"index\\\"]) ? (WebIO.setval({\\\"name\\\":\\\"index\\\",\\\"scope\\\":\\\"571544295569827157\\\",\\\"id\\\":\\\"17226841019019268470\\\",\\\"type\\\":\\\"observable\\\"},val)) : undefined; return this.valueFromJulia[\\\"index\\\"]=false}),self)]\\n        \\n    }\\n    self.model = new AppViewModel();\\n    self.valueFromJulia = {};\\n    for (var key in json_data) {\\n        self.valueFromJulia[key] = false;\\n    }\\n    ko.applyBindings(self.model, self.dom);\\n}\\n);\\n    (WebIO.importBlock({\\\"data\\\":[{\\\"name\\\":\\\"knockout\\\",\\\"type\\\":\\\"js\\\",\\\"url\\\":\\\"/assetserver/aa767470ed3fb2fdc226b1798340a340ee166b2a-knockout.js\\\"},{\\\"name\\\":\\\"knockout_punches\\\",\\\"type\\\":\\\"js\\\",\\\"url\\\":\\\"/assetserver/e8fb3dc53556d31ce61caa9a9c7ddd80d27fc9d0-knockout_punches.js\\\"}],\\\"type\\\":\\\"async_block\\\"})).then((imports) => handler.apply(this, imports));\\n}\\n\")])], Dict{Symbol,Any}(:className => \"field interact-widget\")), Node{WebIO.DOM}(WebIO.DOM(:html, :div), Any[Scope(Node{WebIO.DOM}(WebIO.DOM(:html, :div), Any[Node{WebIO.DOM}(WebIO.DOM(:html, :div), Any[Node{WebIO.DOM}(WebIO.DOM(:html, :label), Any[\"n_safe_partiers\"], Dict{Symbol,Any}(:className => \"interact \",:style => Dict{Any,Any}(:padding => \"5px 10px 0px 10px\")))], Dict{Symbol,Any}(:className => \"interact-flex-row-left\")), Node{WebIO.DOM}(WebIO.DOM(:html, :div), Any[Node{WebIO.DOM}(WebIO.DOM(:html, :input), Any[], Dict{Symbol,Any}(:max => 10,:min => 1,:attributes => Dict{Any,Any}(:type => \"range\",Symbol(\"data-bind\") => \"numericValue: index, valueUpdate: 'input', event: {change: function (){this.changes(this.changes()+1)}}\",\"orient\" => \"horizontal\"),:step => 1,:className => \"slider slider is-fullwidth\",:style => Dict{Any,Any}()))], Dict{Symbol,Any}(:className => \"interact-flex-row-center\")), Node{WebIO.DOM}(WebIO.DOM(:html, :div), Any[Node{WebIO.DOM}(WebIO.DOM(:html, :p), Any[], Dict{Symbol,Any}(:attributes => Dict(\"data-bind\" => \"text: formatted_val\")))], Dict{Symbol,Any}(:className => \"interact-flex-row-right\"))], Dict{Symbol,Any}(:className => \"interact-flex-row interact-widget\")), Dict{String,Tuple{Observables.AbstractObservable,Union{Nothing, Bool}}}(\"changes\" => (Observable{Int64} with 1 listeners. Value:\n",
       "0, nothing),\"index\" => (Observable{Any} with 2 listeners. Value:\n",
       "5, nothing)), Set{String}(), nothing, Asset[Asset(\"js\", \"knockout\", \"/Users/madeleine/.julia/packages/Knockout/IP1uR/src/../assets/knockout.js\"), Asset(\"js\", \"knockout_punches\", \"/Users/madeleine/.julia/packages/Knockout/IP1uR/src/../assets/knockout_punches.js\"), Asset(\"js\", nothing, \"/Users/madeleine/.julia/packages/InteractBase/sOe2Z/src/../assets/all.js\"), Asset(\"css\", nothing, \"/Users/madeleine/.julia/packages/InteractBase/sOe2Z/src/../assets/style.css\"), Asset(\"css\", nothing, \"/Users/madeleine/.julia/packages/Interact/SbgIk/src/../assets/bulma_confined.min.css\")], Dict{Any,Any}(\"changes\" => Any[WebIO.JSString(\"(function (val){return (val!=this.model[\\\"changes\\\"]()) ? (this.valueFromJulia[\\\"changes\\\"]=true, this.model[\\\"changes\\\"](val)) : undefined})\")],\"index\" => Any[WebIO.JSString(\"(function (val){return (val!=this.model[\\\"index\\\"]()) ? (this.valueFromJulia[\\\"index\\\"]=true, this.model[\\\"index\\\"](val)) : undefined})\")]), WebIO.ConnectionPool(Channel{Any}(sz_max:32,sz_curr:0), Set{AbstractConnection}(), Base.GenericCondition{Base.AlwaysLockedST}(Base.InvasiveLinkedList{Task}(Task (runnable) @0x0000000117f2fcd0, Task (runnable) @0x0000000117f2fcd0), Base.AlwaysLockedST(1))), WebIO.JSString[WebIO.JSString(\"function () {\\n    var handler = (function (ko, koPunches) {\\n    ko.punches.enableAll();\\n    ko.bindingHandlers.numericValue = {\\n        init: function(element, valueAccessor, allBindings, data, context) {\\n            var stringified = ko.observable(ko.unwrap(valueAccessor()));\\n            stringified.subscribe(function(value) {\\n                var val = parseFloat(value);\\n                if (!isNaN(val)) {\\n                    valueAccessor()(val);\\n                }\\n            });\\n            valueAccessor().subscribe(function(value) {\\n                var str = JSON.stringify(value);\\n                if ((str == \\\"0\\\") && ([\\\"-0\\\", \\\"-0.\\\"].indexOf(stringified()) >= 0))\\n                     return;\\n                 if ([\\\"null\\\", \\\"\\\"].indexOf(str) >= 0)\\n                     return;\\n                stringified(str);\\n            });\\n            ko.applyBindingsToNode(\\n                element,\\n                {\\n                    value: stringified,\\n                    valueUpdate: allBindings.get('valueUpdate'),\\n                },\\n                context,\\n            );\\n        }\\n    };\\n    var json_data = {\\\"formatted_vals\\\":[\\\"0.1\\\",\\\"0.2\\\",\\\"0.3\\\",\\\"0.4\\\",\\\"0.5\\\",\\\"0.6\\\",\\\"0.7\\\",\\\"0.8\\\",\\\"0.9\\\",\\\"1.0\\\"],\\\"changes\\\":WebIO.getval({\\\"name\\\":\\\"changes\\\",\\\"scope\\\":\\\"13941585414989321925\\\",\\\"id\\\":\\\"9560784766620657076\\\",\\\"type\\\":\\\"observable\\\"}),\\\"index\\\":WebIO.getval({\\\"name\\\":\\\"index\\\",\\\"scope\\\":\\\"13941585414989321925\\\",\\\"id\\\":\\\"12768452192305454202\\\",\\\"type\\\":\\\"observable\\\"})};\\n    var self = this;\\n    function AppViewModel() {\\n        for (var key in json_data) {\\n            var el = json_data[key];\\n            this[key] = Array.isArray(el) ? ko.observableArray(el) : ko.observable(el);\\n        }\\n        \\n        [this[\\\"formatted_val\\\"]=ko.computed(    function(){\\n        return this.formatted_vals()[parseInt(this.index())-(1)];\\n    }\\n,this)]\\n        [this[\\\"changes\\\"].subscribe((function (val){!(this.valueFromJulia[\\\"changes\\\"]) ? (WebIO.setval({\\\"name\\\":\\\"changes\\\",\\\"scope\\\":\\\"13941585414989321925\\\",\\\"id\\\":\\\"9560784766620657076\\\",\\\"type\\\":\\\"observable\\\"},val)) : undefined; return this.valueFromJulia[\\\"changes\\\"]=false}),self),this[\\\"index\\\"].subscribe((function (val){!(this.valueFromJulia[\\\"index\\\"]) ? (WebIO.setval({\\\"name\\\":\\\"index\\\",\\\"scope\\\":\\\"13941585414989321925\\\",\\\"id\\\":\\\"12768452192305454202\\\",\\\"type\\\":\\\"observable\\\"},val)) : undefined; return this.valueFromJulia[\\\"index\\\"]=false}),self)]\\n        \\n    }\\n    self.model = new AppViewModel();\\n    self.valueFromJulia = {};\\n    for (var key in json_data) {\\n        self.valueFromJulia[key] = false;\\n    }\\n    ko.applyBindings(self.model, self.dom);\\n}\\n);\\n    (WebIO.importBlock({\\\"data\\\":[{\\\"name\\\":\\\"knockout\\\",\\\"type\\\":\\\"js\\\",\\\"url\\\":\\\"/assetserver/aa767470ed3fb2fdc226b1798340a340ee166b2a-knockout.js\\\"},{\\\"name\\\":\\\"knockout_punches\\\",\\\"type\\\":\\\"js\\\",\\\"url\\\":\\\"/assetserver/e8fb3dc53556d31ce61caa9a9c7ddd80d27fc9d0-knockout_punches.js\\\"}],\\\"type\\\":\\\"async_block\\\"})).then((imports) => handler.apply(this, imports));\\n}\\n\")])], Dict{Symbol,Any}(:className => \"field interact-widget\")), Node{WebIO.DOM}(WebIO.DOM(:html, :div), Any[Scope(Node{WebIO.DOM}(WebIO.DOM(:html, :div), Any[Node{WebIO.DOM}(WebIO.DOM(:html, :div), Any[Node{WebIO.DOM}(WebIO.DOM(:html, :label), Any[\"test_period\"], Dict{Symbol,Any}(:className => \"interact \",:style => Dict{Any,Any}(:padding => \"5px 10px 0px 10px\")))], Dict{Symbol,Any}(:className => \"interact-flex-row-left\")), Node{WebIO.DOM}(WebIO.DOM(:html, :div), Any[Node{WebIO.DOM}(WebIO.DOM(:html, :input), Any[], Dict{Symbol,Any}(:max => 7,:min => 1,:attributes => Dict{Any,Any}(:type => \"range\",Symbol(\"data-bind\") => \"numericValue: index, valueUpdate: 'input', event: {change: function (){this.changes(this.changes()+1)}}\",\"orient\" => \"horizontal\"),:step => 1,:className => \"slider slider is-fullwidth\",:style => Dict{Any,Any}()))], Dict{Symbol,Any}(:className => \"interact-flex-row-center\")), Node{WebIO.DOM}(WebIO.DOM(:html, :div), Any[Node{WebIO.DOM}(WebIO.DOM(:html, :p), Any[], Dict{Symbol,Any}(:attributes => Dict(\"data-bind\" => \"text: formatted_val\")))], Dict{Symbol,Any}(:className => \"interact-flex-row-right\"))], Dict{Symbol,Any}(:className => \"interact-flex-row interact-widget\")), Dict{String,Tuple{Observables.AbstractObservable,Union{Nothing, Bool}}}(\"changes\" => (Observable{Int64} with 1 listeners. Value:\n",
       "0, nothing),\"index\" => (Observable{Int64} with 2 listeners. Value:\n",
       "4, nothing)), Set{String}(), nothing, Asset[Asset(\"js\", \"knockout\", \"/Users/madeleine/.julia/packages/Knockout/IP1uR/src/../assets/knockout.js\"), Asset(\"js\", \"knockout_punches\", \"/Users/madeleine/.julia/packages/Knockout/IP1uR/src/../assets/knockout_punches.js\"), Asset(\"js\", nothing, \"/Users/madeleine/.julia/packages/InteractBase/sOe2Z/src/../assets/all.js\"), Asset(\"css\", nothing, \"/Users/madeleine/.julia/packages/InteractBase/sOe2Z/src/../assets/style.css\"), Asset(\"css\", nothing, \"/Users/madeleine/.julia/packages/Interact/SbgIk/src/../assets/bulma_confined.min.css\")], Dict{Any,Any}(\"changes\" => Any[WebIO.JSString(\"(function (val){return (val!=this.model[\\\"changes\\\"]()) ? (this.valueFromJulia[\\\"changes\\\"]=true, this.model[\\\"changes\\\"](val)) : undefined})\")],\"index\" => Any[WebIO.JSString(\"(function (val){return (val!=this.model[\\\"index\\\"]()) ? (this.valueFromJulia[\\\"index\\\"]=true, this.model[\\\"index\\\"](val)) : undefined})\")]), WebIO.ConnectionPool(Channel{Any}(sz_max:32,sz_curr:0), Set{AbstractConnection}(), Base.GenericCondition{Base.AlwaysLockedST}(Base.InvasiveLinkedList{Task}(Task (runnable) @0x0000000117e03a90, Task (runnable) @0x0000000117e03a90), Base.AlwaysLockedST(1))), WebIO.JSString[WebIO.JSString(\"function () {\\n    var handler = (function (ko, koPunches) {\\n    ko.punches.enableAll();\\n    ko.bindingHandlers.numericValue = {\\n        init: function(element, valueAccessor, allBindings, data, context) {\\n            var stringified = ko.observable(ko.unwrap(valueAccessor()));\\n            stringified.subscribe(function(value) {\\n                var val = parseFloat(value);\\n                if (!isNaN(val)) {\\n                    valueAccessor()(val);\\n                }\\n            });\\n            valueAccessor().subscribe(function(value) {\\n                var str = JSON.stringify(value);\\n                if ((str == \\\"0\\\") && ([\\\"-0\\\", \\\"-0.\\\"].indexOf(stringified()) >= 0))\\n                     return;\\n                 if ([\\\"null\\\", \\\"\\\"].indexOf(str) >= 0)\\n                     return;\\n                stringified(str);\\n            });\\n            ko.applyBindingsToNode(\\n                element,\\n                {\\n                    value: stringified,\\n                    valueUpdate: allBindings.get('valueUpdate'),\\n                },\\n                context,\\n            );\\n        }\\n    };\\n    var json_data = {\\\"formatted_vals\\\":[\\\"1\\\",\\\"2\\\",\\\"3\\\",\\\"4\\\",\\\"5\\\",\\\"6\\\",\\\"7\\\"],\\\"changes\\\":WebIO.getval({\\\"name\\\":\\\"changes\\\",\\\"scope\\\":\\\"16379780513320492000\\\",\\\"id\\\":\\\"14729607090505863996\\\",\\\"type\\\":\\\"observable\\\"}),\\\"index\\\":WebIO.getval({\\\"name\\\":\\\"index\\\",\\\"scope\\\":\\\"16379780513320492000\\\",\\\"id\\\":\\\"11153782863410598484\\\",\\\"type\\\":\\\"observable\\\"})};\\n    var self = this;\\n    function AppViewModel() {\\n        for (var key in json_data) {\\n            var el = json_data[key];\\n            this[key] = Array.isArray(el) ? ko.observableArray(el) : ko.observable(el);\\n        }\\n        \\n        [this[\\\"formatted_val\\\"]=ko.computed(    function(){\\n        return this.formatted_vals()[parseInt(this.index())-(1)];\\n    }\\n,this)]\\n        [this[\\\"changes\\\"].subscribe((function (val){!(this.valueFromJulia[\\\"changes\\\"]) ? (WebIO.setval({\\\"name\\\":\\\"changes\\\",\\\"scope\\\":\\\"16379780513320492000\\\",\\\"id\\\":\\\"14729607090505863996\\\",\\\"type\\\":\\\"observable\\\"},val)) : undefined; return this.valueFromJulia[\\\"changes\\\"]=false}),self),this[\\\"index\\\"].subscribe((function (val){!(this.valueFromJulia[\\\"index\\\"]) ? (WebIO.setval({\\\"name\\\":\\\"index\\\",\\\"scope\\\":\\\"16379780513320492000\\\",\\\"id\\\":\\\"11153782863410598484\\\",\\\"type\\\":\\\"observable\\\"},val)) : undefined; return this.valueFromJulia[\\\"index\\\"]=false}),self)]\\n        \\n    }\\n    self.model = new AppViewModel();\\n    self.valueFromJulia = {};\\n    for (var key in json_data) {\\n        self.valueFromJulia[key] = false;\\n    }\\n    ko.applyBindings(self.model, self.dom);\\n}\\n);\\n    (WebIO.importBlock({\\\"data\\\":[{\\\"name\\\":\\\"knockout\\\",\\\"type\\\":\\\"js\\\",\\\"url\\\":\\\"/assetserver/aa767470ed3fb2fdc226b1798340a340ee166b2a-knockout.js\\\"},{\\\"name\\\":\\\"knockout_punches\\\",\\\"type\\\":\\\"js\\\",\\\"url\\\":\\\"/assetserver/e8fb3dc53556d31ce61caa9a9c7ddd80d27fc9d0-knockout_punches.js\\\"}],\\\"type\\\":\\\"async_block\\\"})).then((imports) => handler.apply(this, imports));\\n}\\n\")])], Dict{Symbol,Any}(:className => \"field interact-widget\")), Node{WebIO.DOM}(WebIO.DOM(:html, :div), Any[Scope(Node{WebIO.DOM}(WebIO.DOM(:html, :div), Any[Node{WebIO.DOM}(WebIO.DOM(:html, :div), Any[Node{WebIO.DOM}(WebIO.DOM(:html, :label), Any[\"inf_no_PPE\"], Dict{Symbol,Any}(:className => \"interact \",:style => Dict{Any,Any}(:padding => \"5px 10px 0px 10px\")))], Dict{Symbol,Any}(:className => \"interact-flex-row-left\")), Node{WebIO.DOM}(WebIO.DOM(:html, :div), Any[Node{WebIO.DOM}(WebIO.DOM(:html, :input), Any[], Dict{Symbol,Any}(:max => 20,:min => 1,:attributes => Dict{Any,Any}(:type => \"range\",Symbol(\"data-bind\") => \"numericValue: index, valueUpdate: 'input', event: {change: function (){this.changes(this.changes()+1)}}\",\"orient\" => \"horizontal\"),:step => 1,:className => \"slider slider is-fullwidth\",:style => Dict{Any,Any}()))], Dict{Symbol,Any}(:className => \"interact-flex-row-center\")), Node{WebIO.DOM}(WebIO.DOM(:html, :div), Any[Node{WebIO.DOM}(WebIO.DOM(:html, :p), Any[], Dict{Symbol,Any}(:attributes => Dict(\"data-bind\" => \"text: formatted_val\")))], Dict{Symbol,Any}(:className => \"interact-flex-row-right\"))], Dict{Symbol,Any}(:className => \"interact-flex-row interact-widget\")), Dict{String,Tuple{Observables.AbstractObservable,Union{Nothing, Bool}}}(\"changes\" => (Observable{Int64} with 1 listeners. Value:\n",
       "0, nothing),\"index\" => (Observable{Any} with 2 listeners. Value:\n",
       "10, nothing)), Set{String}(), nothing, Asset[Asset(\"js\", \"knockout\", \"/Users/madeleine/.julia/packages/Knockout/IP1uR/src/../assets/knockout.js\"), Asset(\"js\", \"knockout_punches\", \"/Users/madeleine/.julia/packages/Knockout/IP1uR/src/../assets/knockout_punches.js\"), Asset(\"js\", nothing, \"/Users/madeleine/.julia/packages/InteractBase/sOe2Z/src/../assets/all.js\"), Asset(\"css\", nothing, \"/Users/madeleine/.julia/packages/InteractBase/sOe2Z/src/../assets/style.css\"), Asset(\"css\", nothing, \"/Users/madeleine/.julia/packages/Interact/SbgIk/src/../assets/bulma_confined.min.css\")], Dict{Any,Any}(\"changes\" => Any[WebIO.JSString(\"(function (val){return (val!=this.model[\\\"changes\\\"]()) ? (this.valueFromJulia[\\\"changes\\\"]=true, this.model[\\\"changes\\\"](val)) : undefined})\")],\"index\" => Any[WebIO.JSString(\"(function (val){return (val!=this.model[\\\"index\\\"]()) ? (this.valueFromJulia[\\\"index\\\"]=true, this.model[\\\"index\\\"](val)) : undefined})\")]), WebIO.ConnectionPool(Channel{Any}(sz_max:32,sz_curr:0), Set{AbstractConnection}(), Base.GenericCondition{Base.AlwaysLockedST}(Base.InvasiveLinkedList{Task}(Task (runnable) @0x0000000117f2c490, Task (runnable) @0x0000000117f2c490), Base.AlwaysLockedST(1))), WebIO.JSString[WebIO.JSString(\"function () {\\n    var handler = (function (ko, koPunches) {\\n    ko.punches.enableAll();\\n    ko.bindingHandlers.numericValue = {\\n        init: function(element, valueAccessor, allBindings, data, context) {\\n            var stringified = ko.observable(ko.unwrap(valueAccessor()));\\n            stringified.subscribe(function(value) {\\n                var val = parseFloat(value);\\n                if (!isNaN(val)) {\\n                    valueAccessor()(val);\\n                }\\n            });\\n            valueAccessor().subscribe(function(value) {\\n                var str = JSON.stringify(value);\\n                if ((str == \\\"0\\\") && ([\\\"-0\\\", \\\"-0.\\\"].indexOf(stringified()) >= 0))\\n                     return;\\n                 if ([\\\"null\\\", \\\"\\\"].indexOf(str) >= 0)\\n                     return;\\n                stringified(str);\\n            });\\n            ko.applyBindingsToNode(\\n                element,\\n                {\\n                    value: stringified,\\n                    valueUpdate: allBindings.get('valueUpdate'),\\n                },\\n                context,\\n            );\\n        }\\n    };\\n    var json_data = {\\\"formatted_vals\\\":[\\\"0.05\\\",\\\"0.1\\\",\\\"0.15\\\",\\\"0.2\\\",\\\"0.25\\\",\\\"0.3\\\",\\\"0.35\\\",\\\"0.4\\\",\\\"0.45\\\",\\\"0.5\\\",\\\"0.55\\\",\\\"0.6\\\",\\\"0.65\\\",\\\"0.7\\\",\\\"0.75\\\",\\\"0.8\\\",\\\"0.85\\\",\\\"0.9\\\",\\\"0.95\\\",\\\"1.0\\\"],\\\"changes\\\":WebIO.getval({\\\"name\\\":\\\"changes\\\",\\\"scope\\\":\\\"8881602859575620619\\\",\\\"id\\\":\\\"17070122431061889966\\\",\\\"type\\\":\\\"observable\\\"}),\\\"index\\\":WebIO.getval({\\\"name\\\":\\\"index\\\",\\\"scope\\\":\\\"8881602859575620619\\\",\\\"id\\\":\\\"6322375506969736956\\\",\\\"type\\\":\\\"observable\\\"})};\\n    var self = this;\\n    function AppViewModel() {\\n        for (var key in json_data) {\\n            var el = json_data[key];\\n            this[key] = Array.isArray(el) ? ko.observableArray(el) : ko.observable(el);\\n        }\\n        \\n        [this[\\\"formatted_val\\\"]=ko.computed(    function(){\\n        return this.formatted_vals()[parseInt(this.index())-(1)];\\n    }\\n,this)]\\n        [this[\\\"changes\\\"].subscribe((function (val){!(this.valueFromJulia[\\\"changes\\\"]) ? (WebIO.setval({\\\"name\\\":\\\"changes\\\",\\\"scope\\\":\\\"8881602859575620619\\\",\\\"id\\\":\\\"17070122431061889966\\\",\\\"type\\\":\\\"observable\\\"},val)) : undefined; return this.valueFromJulia[\\\"changes\\\"]=false}),self),this[\\\"index\\\"].subscribe((function (val){!(this.valueFromJulia[\\\"index\\\"]) ? (WebIO.setval({\\\"name\\\":\\\"index\\\",\\\"scope\\\":\\\"8881602859575620619\\\",\\\"id\\\":\\\"6322375506969736956\\\",\\\"type\\\":\\\"observable\\\"},val)) : undefined; return this.valueFromJulia[\\\"index\\\"]=false}),self)]\\n        \\n    }\\n    self.model = new AppViewModel();\\n    self.valueFromJulia = {};\\n    for (var key in json_data) {\\n        self.valueFromJulia[key] = false;\\n    }\\n    ko.applyBindings(self.model, self.dom);\\n}\\n);\\n    (WebIO.importBlock({\\\"data\\\":[{\\\"name\\\":\\\"knockout\\\",\\\"type\\\":\\\"js\\\",\\\"url\\\":\\\"/assetserver/aa767470ed3fb2fdc226b1798340a340ee166b2a-knockout.js\\\"},{\\\"name\\\":\\\"knockout_punches\\\",\\\"type\\\":\\\"js\\\",\\\"url\\\":\\\"/assetserver/e8fb3dc53556d31ce61caa9a9c7ddd80d27fc9d0-knockout_punches.js\\\"}],\\\"type\\\":\\\"async_block\\\"})).then((imports) => handler.apply(this, imports));\\n}\\n\")])], Dict{Symbol,Any}(:className => \"field interact-widget\")), Node{WebIO.DOM}(WebIO.DOM(:html, :div), Any[Scope(Node{WebIO.DOM}(WebIO.DOM(:html, :div), Any[Node{WebIO.DOM}(WebIO.DOM(:html, :div), Any[Node{WebIO.DOM}(WebIO.DOM(:html, :label), Any[\"inf_with_PPE\"], Dict{Symbol,Any}(:className => \"interact \",:style => Dict{Any,Any}(:padding => \"5px 10px 0px 10px\")))], Dict{Symbol,Any}(:className => \"interact-flex-row-left\")), Node{WebIO.DOM}(WebIO.DOM(:html, :div), Any[Node{WebIO.DOM}(WebIO.DOM(:html, :input), Any[], Dict{Symbol,Any}(:max => 10,:min => 1,:attributes => Dict{Any,Any}(:type => \"range\",Symbol(\"data-bind\") => \"numericValue: index, valueUpdate: 'input', event: {change: function (){this.changes(this.changes()+1)}}\",\"orient\" => \"horizontal\"),:step => 1,:className => \"slider slider is-fullwidth\",:style => Dict{Any,Any}()))], Dict{Symbol,Any}(:className => \"interact-flex-row-center\")), Node{WebIO.DOM}(WebIO.DOM(:html, :div), Any[Node{WebIO.DOM}(WebIO.DOM(:html, :p), Any[], Dict{Symbol,Any}(:attributes => Dict(\"data-bind\" => \"text: formatted_val\")))], Dict{Symbol,Any}(:className => \"interact-flex-row-right\"))], Dict{Symbol,Any}(:className => \"interact-flex-row interact-widget\")), Dict{String,Tuple{Observables.AbstractObservable,Union{Nothing, Bool}}}(\"changes\" => (Observable{Int64} with 1 listeners. Value:\n",
       "0, nothing),\"index\" => (Observable{Any} with 2 listeners. Value:\n",
       "5, nothing)), Set{String}(), nothing, Asset[Asset(\"js\", \"knockout\", \"/Users/madeleine/.julia/packages/Knockout/IP1uR/src/../assets/knockout.js\"), Asset(\"js\", \"knockout_punches\", \"/Users/madeleine/.julia/packages/Knockout/IP1uR/src/../assets/knockout_punches.js\"), Asset(\"js\", nothing, \"/Users/madeleine/.julia/packages/InteractBase/sOe2Z/src/../assets/all.js\"), Asset(\"css\", nothing, \"/Users/madeleine/.julia/packages/InteractBase/sOe2Z/src/../assets/style.css\"), Asset(\"css\", nothing, \"/Users/madeleine/.julia/packages/Interact/SbgIk/src/../assets/bulma_confined.min.css\")], Dict{Any,Any}(\"changes\" => Any[WebIO.JSString(\"(function (val){return (val!=this.model[\\\"changes\\\"]()) ? (this.valueFromJulia[\\\"changes\\\"]=true, this.model[\\\"changes\\\"](val)) : undefined})\")],\"index\" => Any[WebIO.JSString(\"(function (val){return (val!=this.model[\\\"index\\\"]()) ? (this.valueFromJulia[\\\"index\\\"]=true, this.model[\\\"index\\\"](val)) : undefined})\")]), WebIO.ConnectionPool(Channel{Any}(sz_max:32,sz_curr:0), Set{AbstractConnection}(), Base.GenericCondition{Base.AlwaysLockedST}(Base.InvasiveLinkedList{Task}(Task (runnable) @0x0000000117f2cd90, Task (runnable) @0x0000000117f2cd90), Base.AlwaysLockedST(1))), WebIO.JSString[WebIO.JSString(\"function () {\\n    var handler = (function (ko, koPunches) {\\n    ko.punches.enableAll();\\n    ko.bindingHandlers.numericValue = {\\n        init: function(element, valueAccessor, allBindings, data, context) {\\n            var stringified = ko.observable(ko.unwrap(valueAccessor()));\\n            stringified.subscribe(function(value) {\\n                var val = parseFloat(value);\\n                if (!isNaN(val)) {\\n                    valueAccessor()(val);\\n                }\\n            });\\n            valueAccessor().subscribe(function(value) {\\n                var str = JSON.stringify(value);\\n                if ((str == \\\"0\\\") && ([\\\"-0\\\", \\\"-0.\\\"].indexOf(stringified()) >= 0))\\n                     return;\\n                 if ([\\\"null\\\", \\\"\\\"].indexOf(str) >= 0)\\n                     return;\\n                stringified(str);\\n            });\\n            ko.applyBindingsToNode(\\n                element,\\n                {\\n                    value: stringified,\\n                    valueUpdate: allBindings.get('valueUpdate'),\\n                },\\n                context,\\n            );\\n        }\\n    };\\n    var json_data = {\\\"formatted_vals\\\":[\\\"0.01\\\",\\\"0.02\\\",\\\"0.03\\\",\\\"0.04\\\",\\\"0.05\\\",\\\"0.06\\\",\\\"0.07\\\",\\\"0.08\\\",\\\"0.09\\\",\\\"0.1\\\"],\\\"changes\\\":WebIO.getval({\\\"name\\\":\\\"changes\\\",\\\"scope\\\":\\\"2084340190879079304\\\",\\\"id\\\":\\\"15850240272617875122\\\",\\\"type\\\":\\\"observable\\\"}),\\\"index\\\":WebIO.getval({\\\"name\\\":\\\"index\\\",\\\"scope\\\":\\\"2084340190879079304\\\",\\\"id\\\":\\\"3519113577778166434\\\",\\\"type\\\":\\\"observable\\\"})};\\n    var self = this;\\n    function AppViewModel() {\\n        for (var key in json_data) {\\n            var el = json_data[key];\\n            this[key] = Array.isArray(el) ? ko.observableArray(el) : ko.observable(el);\\n        }\\n        \\n        [this[\\\"formatted_val\\\"]=ko.computed(    function(){\\n        return this.formatted_vals()[parseInt(this.index())-(1)];\\n    }\\n,this)]\\n        [this[\\\"changes\\\"].subscribe((function (val){!(this.valueFromJulia[\\\"changes\\\"]) ? (WebIO.setval({\\\"name\\\":\\\"changes\\\",\\\"scope\\\":\\\"2084340190879079304\\\",\\\"id\\\":\\\"15850240272617875122\\\",\\\"type\\\":\\\"observable\\\"},val)) : undefined; return this.valueFromJulia[\\\"changes\\\"]=false}),self),this[\\\"index\\\"].subscribe((function (val){!(this.valueFromJulia[\\\"index\\\"]) ? (WebIO.setval({\\\"name\\\":\\\"index\\\",\\\"scope\\\":\\\"2084340190879079304\\\",\\\"id\\\":\\\"3519113577778166434\\\",\\\"type\\\":\\\"observable\\\"},val)) : undefined; return this.valueFromJulia[\\\"index\\\"]=false}),self)]\\n        \\n    }\\n    self.model = new AppViewModel();\\n    self.valueFromJulia = {};\\n    for (var key in json_data) {\\n        self.valueFromJulia[key] = false;\\n    }\\n    ko.applyBindings(self.model, self.dom);\\n}\\n);\\n    (WebIO.importBlock({\\\"data\\\":[{\\\"name\\\":\\\"knockout\\\",\\\"type\\\":\\\"js\\\",\\\"url\\\":\\\"/assetserver/aa767470ed3fb2fdc226b1798340a340ee166b2a-knockout.js\\\"},{\\\"name\\\":\\\"knockout_punches\\\",\\\"type\\\":\\\"js\\\",\\\"url\\\":\\\"/assetserver/e8fb3dc53556d31ce61caa9a9c7ddd80d27fc9d0-knockout_punches.js\\\"}],\\\"type\\\":\\\"async_block\\\"})).then((imports) => handler.apply(this, imports));\\n}\\n\")])], Dict{Symbol,Any}(:className => \"field interact-widget\")), Node{WebIO.DOM}(WebIO.DOM(:html, :div), Any[Scope(Node{WebIO.DOM}(WebIO.DOM(:html, :div), Any[Node{WebIO.DOM}(WebIO.DOM(:html, :div), Any[Node{WebIO.DOM}(WebIO.DOM(:html, :label), Any[\"ex_i\"], Dict{Symbol,Any}(:className => \"interact \",:style => Dict{Any,Any}(:padding => \"5px 10px 0px 10px\")))], Dict{Symbol,Any}(:className => \"interact-flex-row-left\")), Node{WebIO.DOM}(WebIO.DOM(:html, :div), Any[Node{WebIO.DOM}(WebIO.DOM(:html, :input), Any[], Dict{Symbol,Any}(:max => 7,:min => 1,:attributes => Dict{Any,Any}(:type => \"range\",Symbol(\"data-bind\") => \"numericValue: index, valueUpdate: 'input', event: {change: function (){this.changes(this.changes()+1)}}\",\"orient\" => \"horizontal\"),:step => 1,:className => \"slider slider is-fullwidth\",:style => Dict{Any,Any}()))], Dict{Symbol,Any}(:className => \"interact-flex-row-center\")), Node{WebIO.DOM}(WebIO.DOM(:html, :div), Any[Node{WebIO.DOM}(WebIO.DOM(:html, :p), Any[], Dict{Symbol,Any}(:attributes => Dict(\"data-bind\" => \"text: formatted_val\")))], Dict{Symbol,Any}(:className => \"interact-flex-row-right\"))], Dict{Symbol,Any}(:className => \"interact-flex-row interact-widget\")), Dict{String,Tuple{Observables.AbstractObservable,Union{Nothing, Bool}}}(\"changes\" => (Observable{Int64} with 1 listeners. Value:\n",
       "0, nothing),\"index\" => (Observable{Any} with 2 listeners. Value:\n",
       "4, nothing)), Set{String}(), nothing, Asset[Asset(\"js\", \"knockout\", \"/Users/madeleine/.julia/packages/Knockout/IP1uR/src/../assets/knockout.js\"), Asset(\"js\", \"knockout_punches\", \"/Users/madeleine/.julia/packages/Knockout/IP1uR/src/../assets/knockout_punches.js\"), Asset(\"js\", nothing, \"/Users/madeleine/.julia/packages/InteractBase/sOe2Z/src/../assets/all.js\"), Asset(\"css\", nothing, \"/Users/madeleine/.julia/packages/InteractBase/sOe2Z/src/../assets/style.css\"), Asset(\"css\", nothing, \"/Users/madeleine/.julia/packages/Interact/SbgIk/src/../assets/bulma_confined.min.css\")], Dict{Any,Any}(\"changes\" => Any[WebIO.JSString(\"(function (val){return (val!=this.model[\\\"changes\\\"]()) ? (this.valueFromJulia[\\\"changes\\\"]=true, this.model[\\\"changes\\\"](val)) : undefined})\")],\"index\" => Any[WebIO.JSString(\"(function (val){return (val!=this.model[\\\"index\\\"]()) ? (this.valueFromJulia[\\\"index\\\"]=true, this.model[\\\"index\\\"](val)) : undefined})\")]), WebIO.ConnectionPool(Channel{Any}(sz_max:32,sz_curr:0), Set{AbstractConnection}(), Base.GenericCondition{Base.AlwaysLockedST}(Base.InvasiveLinkedList{Task}(Task (runnable) @0x0000000117f66d10, Task (runnable) @0x0000000117f66d10), Base.AlwaysLockedST(1))), WebIO.JSString[WebIO.JSString(\"function () {\\n    var handler = (function (ko, koPunches) {\\n    ko.punches.enableAll();\\n    ko.bindingHandlers.numericValue = {\\n        init: function(element, valueAccessor, allBindings, data, context) {\\n            var stringified = ko.observable(ko.unwrap(valueAccessor()));\\n            stringified.subscribe(function(value) {\\n                var val = parseFloat(value);\\n                if (!isNaN(val)) {\\n                    valueAccessor()(val);\\n                }\\n            });\\n            valueAccessor().subscribe(function(value) {\\n                var str = JSON.stringify(value);\\n                if ((str == \\\"0\\\") && ([\\\"-0\\\", \\\"-0.\\\"].indexOf(stringified()) >= 0))\\n                     return;\\n                 if ([\\\"null\\\", \\\"\\\"].indexOf(str) >= 0)\\n                     return;\\n                stringified(str);\\n            });\\n            ko.applyBindingsToNode(\\n                element,\\n                {\\n                    value: stringified,\\n                    valueUpdate: allBindings.get('valueUpdate'),\\n                },\\n                context,\\n            );\\n        }\\n    };\\n    var json_data = {\\\"formatted_vals\\\":[\\\"1.0e-7\\\",\\\"1.0e-6\\\",\\\"1.0e-5\\\",\\\"0.0001\\\",\\\"0.001\\\",\\\"0.01\\\",\\\"0.1\\\"],\\\"changes\\\":WebIO.getval({\\\"name\\\":\\\"changes\\\",\\\"scope\\\":\\\"5138917177894057168\\\",\\\"id\\\":\\\"5364202603144492437\\\",\\\"type\\\":\\\"observable\\\"}),\\\"index\\\":WebIO.getval({\\\"name\\\":\\\"index\\\",\\\"scope\\\":\\\"5138917177894057168\\\",\\\"id\\\":\\\"1944717797036540313\\\",\\\"type\\\":\\\"observable\\\"})};\\n    var self = this;\\n    function AppViewModel() {\\n        for (var key in json_data) {\\n            var el = json_data[key];\\n            this[key] = Array.isArray(el) ? ko.observableArray(el) : ko.observable(el);\\n        }\\n        \\n        [this[\\\"formatted_val\\\"]=ko.computed(    function(){\\n        return this.formatted_vals()[parseInt(this.index())-(1)];\\n    }\\n,this)]\\n        [this[\\\"changes\\\"].subscribe((function (val){!(this.valueFromJulia[\\\"changes\\\"]) ? (WebIO.setval({\\\"name\\\":\\\"changes\\\",\\\"scope\\\":\\\"5138917177894057168\\\",\\\"id\\\":\\\"5364202603144492437\\\",\\\"type\\\":\\\"observable\\\"},val)) : undefined; return this.valueFromJulia[\\\"changes\\\"]=false}),self),this[\\\"index\\\"].subscribe((function (val){!(this.valueFromJulia[\\\"index\\\"]) ? (WebIO.setval({\\\"name\\\":\\\"index\\\",\\\"scope\\\":\\\"5138917177894057168\\\",\\\"id\\\":\\\"1944717797036540313\\\",\\\"type\\\":\\\"observable\\\"},val)) : undefined; return this.valueFromJulia[\\\"index\\\"]=false}),self)]\\n        \\n    }\\n    self.model = new AppViewModel();\\n    self.valueFromJulia = {};\\n    for (var key in json_data) {\\n        self.valueFromJulia[key] = false;\\n    }\\n    ko.applyBindings(self.model, self.dom);\\n}\\n);\\n    (WebIO.importBlock({\\\"data\\\":[{\\\"name\\\":\\\"knockout\\\",\\\"type\\\":\\\"js\\\",\\\"url\\\":\\\"/assetserver/aa767470ed3fb2fdc226b1798340a340ee166b2a-knockout.js\\\"},{\\\"name\\\":\\\"knockout_punches\\\",\\\"type\\\":\\\"js\\\",\\\"url\\\":\\\"/assetserver/e8fb3dc53556d31ce61caa9a9c7ddd80d27fc9d0-knockout_punches.js\\\"}],\\\"type\\\":\\\"async_block\\\"})).then((imports) => handler.apply(this, imports));\\n}\\n\")])], Dict{Symbol,Any}(:className => \"field interact-widget\")), Observable{Any} with 0 listeners. Value:\n",
       "Node{WebIO.DOM}(WebIO.DOM(:html, :div), Any[Plot{Plots.PlotlyBackend() n=7}], Dict{Symbol,Any}(:className => \"interact-flex-row interact-widget\"))], Dict{Symbol,Any}())"
      ]
     },
     "execution_count": 6,
     "metadata": {
      "application/vnd.webio.node+json": {
       "kernelId": "5e855819-11f7-4a8c-92b9-6b13a2f658c1"
      }
     },
     "output_type": "execute_result"
    }
   ],
   "source": [
    "@manipulate for n_big_partiers=1e-2:1e-2:.5, n_safe_partiers=.1:.1:1, test_period=1:7, inf_no_PPE=5e-2:5e-2:1, inf_with_PPE=1e-2:1e-2:.1, ex_i = 10. .^ (-7:-1)\n",
    "    \n",
    "    legal_party_size = 15\n",
    "    illegal_party_size = 50\n",
    "    \n",
    "    r,groups = simulate(n_big_partiers,    # big parties, no PPE\n",
    "    n_safe_partiers,     # legal parties with PPE\n",
    "    test_period,                # frequency of testing: test every ttest days\n",
    "    inf_no_PPE,          # infectivity w/o PPE\n",
    "    inf_with_PPE,       # infectivity w/PPE\n",
    "    ex_i,               # external infection rate\n",
    "    legal_party_size,\n",
    "    illegal_party_size\n",
    "    )\n",
    "    plot(r, groups)\n",
    "end"
   ]
  },
  {
   "cell_type": "markdown",
   "metadata": {},
   "source": [
    "# takeaways from model\n",
    "\n",
    "* with infrequent testing (weekly+), pandemic is nearly impossible to control\n",
    "* people who go to big parties get COVID\n",
    "* if too many people go to big parties, Cornell shuts down\n",
    "* if PPE is effective,\n",
    "    * people who just go to classes are ok\n",
    "    * people who go to small parties might get COVID\n",
    "* if PPE is not effective,\n",
    "    * people who just go to classes might get COVID\n",
    "    * people who go to small parties have even odds of getting COVID"
   ]
  },
  {
   "cell_type": "code",
   "execution_count": null,
   "metadata": {},
   "outputs": [],
   "source": []
  }
 ],
 "metadata": {
  "@webio": {
   "lastCommId": "07322d3923cd4c108ff189e6cb05fde7",
   "lastKernelId": "5e855819-11f7-4a8c-92b9-6b13a2f658c1"
  },
  "kernelspec": {
   "display_name": "Julia 1.5.1",
   "language": "julia",
   "name": "julia-1.5"
  },
  "language_info": {
   "file_extension": ".jl",
   "mimetype": "application/julia",
   "name": "julia",
   "version": "1.5.1"
  }
 },
 "nbformat": 4,
 "nbformat_minor": 4
}
