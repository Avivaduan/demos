{
 "cells": [
  {
   "cell_type": "code",
   "execution_count": 18,
   "metadata": {
    "collapsed": false
   },
   "outputs": [
    {
     "data": {
      "text/plain": [
       "ECOS.ECOSSolver(Any[(:verbose, 0)])"
      ]
     },
     "execution_count": 18,
     "metadata": {},
     "output_type": "execute_result"
    }
   ],
   "source": [
    "using Convex\n",
    "using PyPlot\n",
    "using ECOS\n",
    "set_default_solver(ECOSSolver(verbose=0))"
   ]
  },
  {
   "cell_type": "code",
   "execution_count": 2,
   "metadata": {
    "collapsed": false
   },
   "outputs": [
    {
     "data": {
      "text/plain": [
       "generate_noisy_data (generic function with 1 method)"
      ]
     },
     "execution_count": 2,
     "metadata": {},
     "output_type": "execute_result"
    }
   ],
   "source": [
    "function generate_data(n, w)\n",
    "    X = randn(n,length(w))\n",
    "    y = X*w\n",
    "    return X, y\n",
    "end\n",
    "\n",
    "function generate_noisy_data(n, w)\n",
    "    X = randn(n,length(w))\n",
    "    y = X*w + .1*randn(n)\n",
    "    return X, y\n",
    "end"
   ]
  },
  {
   "cell_type": "markdown",
   "metadata": {},
   "source": [
    "# OLS is invariant"
   ]
  },
  {
   "cell_type": "code",
   "execution_count": 19,
   "metadata": {
    "collapsed": false
   },
   "outputs": [],
   "source": [
    "d = 10\n",
    "n = 20\n",
    "w = randn(d)\n",
    "X, y = generate_data(n, w);"
   ]
  },
  {
   "cell_type": "code",
   "execution_count": 20,
   "metadata": {
    "collapsed": false
   },
   "outputs": [
    {
     "name": "stdout",
     "output_type": "stream",
     "text": [
      "X * w = [-2.4134, -2.40803, 1.57924, -2.21729, 3.9604, 3.92807, -0.82857, 2.82459, 4.23496, 1.47688, 4.75909, 3.36584, -0.737745, -3.89255, 2.07233, 4.28811, 0.476134, 0.741865, -3.25793, -1.01576]\n",
      "(Xscale * wscale) / 5 = [-2.4134, -2.40803, 1.57924, -2.21729, 3.9604, 3.92807, -0.82857, 2.82459, 4.23496, 1.47688, 4.75909, 3.36584, -0.737745, -3.89255, 2.07233, 4.28811, 0.476134, 0.741865, -3.25793, -1.01576]\n"
     ]
    }
   ],
   "source": [
    "w = X\\y\n",
    "@show X*w\n",
    "\n",
    "yscale = 5*y\n",
    "Xscale = 3*X\n",
    "wscale = Xscale\\yscale\n",
    "@show Xscale*wscale / 5;"
   ]
  },
  {
   "cell_type": "markdown",
   "metadata": {},
   "source": [
    "# ridge regression is not scaling invariant"
   ]
  },
  {
   "cell_type": "code",
   "execution_count": 5,
   "metadata": {
    "collapsed": false
   },
   "outputs": [
    {
     "data": {
      "text/plain": [
       "(10, 10)"
      ]
     },
     "execution_count": 5,
     "metadata": {},
     "output_type": "execute_result"
    }
   ],
   "source": [
    "size(X'*X + eye(d))"
   ]
  },
  {
   "cell_type": "code",
   "execution_count": 6,
   "metadata": {
    "collapsed": false
   },
   "outputs": [
    {
     "name": "stdout",
     "output_type": "stream",
     "text": [
      "X * w = [-4.25954, 6.52676, 5.48567, 3.49449, -1.55858, 6.4709, 0.499291, -2.72747, 9.24994, 2.4029, 5.35288, 4.61198, 3.92006, -0.343497, 1.77049, -0.761807, 4.99874, -4.57552, -4.67206, 3.85784]\n",
      "(Xscale * wscale) / 5 = [-4.48514, 6.65091, 5.81355, 3.71159, -1.45875, 6.6764, 0.74934, -2.81532, 9.62169, 2.51536, 5.58495, 4.90073, 4.03773, -0.388096, 1.72269, -0.880624, 5.08973, -4.61459, -4.9805, 3.92692]\n"
     ]
    }
   ],
   "source": [
    "w = (X'*X + eye(d)) \\ (X'*y)\n",
    "@show X*w\n",
    "\n",
    "yscale = 5*y\n",
    "Xscale = 3*X\n",
    "wscale = (Xscale'*Xscale + eye(d)) \\ (Xscale'*yscale)\n",
    "@show Xscale * wscale / 5;"
   ]
  },
  {
   "cell_type": "code",
   "execution_count": 7,
   "metadata": {
    "collapsed": false
   },
   "outputs": [
    {
     "name": "stdout",
     "output_type": "stream",
     "text": [
      "Xs * w = [-1.45538, 1.03927, 0.824513, 0.358049, -0.807915, 1.02643, -0.334133, -1.10989, 1.69367, 0.0814538, 0.764786, 0.635467, 0.468391, -0.551412, -0.0375835, -0.655241, 0.692295, -1.52549, -1.53834, 0.431052]\n",
      "Xss * wscale = [-1.45538, 1.03927, 0.824513, 0.358049, -0.807915, 1.02643, -0.334133, -1.10989, 1.69367, 0.0814538, 0.764786, 0.635467, 0.468391, -0.551412, -0.0375835, -0.655241, 0.692295, -1.52549, -1.53834, 0.431052]\n"
     ]
    }
   ],
   "source": [
    "# standardize\n",
    "function standardize(X,y)\n",
    "    X_standard = X .- mean(X,1)\n",
    "    X_standard = X_standard * diagm(1./vec(std(X,1)))\n",
    "    \n",
    "    y_standard = y - mean(y)\n",
    "    y_standard = y_standard / std(y)\n",
    "    \n",
    "    return X_standard, y_standard\n",
    "end\n",
    "\n",
    "Xs, ys = standardize(X,y)\n",
    "w = (Xs'*Xs + eye(d)) \\ (Xs'*ys)\n",
    "@show Xs*w\n",
    "\n",
    "yscale = 5*y + 3000\n",
    "Xscale = 3*X + 200\n",
    "\n",
    "Xss, yss = standardize(Xscale,yscale)\n",
    "wscale = (Xss'*Xss + eye(d)) \\ (Xss'*yss)\n",
    "@show Xss*wscale;"
   ]
  },
  {
   "cell_type": "markdown",
   "metadata": {},
   "source": [
    "# let's compare different kinds of regularized regression"
   ]
  },
  {
   "cell_type": "code",
   "execution_count": 22,
   "metadata": {
    "collapsed": false
   },
   "outputs": [
    {
     "data": {
      "text/plain": [
       "ridge_regression (generic function with 1 method)"
      ]
     },
     "execution_count": 22,
     "metadata": {},
     "output_type": "execute_result"
    }
   ],
   "source": [
    "function ridge_regression(X,y; λ=1)\n",
    "    d = size(X,2)\n",
    "    w = Variable(d)\n",
    "    p = minimize(sumsquares(X*w - y) + λ*sumsquares(w))\n",
    "    solve!(p)\n",
    "    return w.value\n",
    "end"
   ]
  },
  {
   "cell_type": "code",
   "execution_count": 23,
   "metadata": {
    "collapsed": false
   },
   "outputs": [
    {
     "data": {
      "text/plain": [
       "lasso (generic function with 1 method)"
      ]
     },
     "execution_count": 23,
     "metadata": {},
     "output_type": "execute_result"
    }
   ],
   "source": [
    "function lasso(X,y; λ=1)\n",
    "    d = size(X,2)\n",
    "    w = Variable(d)\n",
    "    p = minimize(sumsquares(X*w - y) + λ*norm(w,1))\n",
    "    solve!(p)\n",
    "    return w.value\n",
    "end"
   ]
  },
  {
   "cell_type": "code",
   "execution_count": 24,
   "metadata": {
    "collapsed": false
   },
   "outputs": [
    {
     "data": {
      "text/plain": [
       "nnls (generic function with 1 method)"
      ]
     },
     "execution_count": 24,
     "metadata": {},
     "output_type": "execute_result"
    }
   ],
   "source": [
    "function nnls(X,y)\n",
    "    d = size(X,2)\n",
    "    w = Variable(d)\n",
    "    p = minimize(sumsquares(X*w - y), w>=0)\n",
    "    solve!(p)\n",
    "    return w.value\n",
    "end"
   ]
  },
  {
   "cell_type": "code",
   "execution_count": 26,
   "metadata": {
    "collapsed": false
   },
   "outputs": [],
   "source": [
    "# generate data\n",
    "\n",
    "d = 30\n",
    "w_randn = randn(d)\n",
    "w_sparse = sprandn(d, .5)\n",
    "w_pos = sprand(d, .5);"
   ]
  },
  {
   "cell_type": "code",
   "execution_count": 32,
   "metadata": {
    "collapsed": false
   },
   "outputs": [
    {
     "data": {
      "text/plain": [
       "30-element SparseVector{Float64,Int64} with 17 stored entries:\n",
       "  [1 ]  =  -0.558598\n",
       "  [2 ]  =  1.23467\n",
       "  [3 ]  =  -0.165296\n",
       "  [7 ]  =  -1.52902\n",
       "  [10]  =  0.548392\n",
       "  [11]  =  -0.816845\n",
       "  [13]  =  -1.52673\n",
       "  [16]  =  -0.319458\n",
       "  [17]  =  -0.516988\n",
       "  [18]  =  -1.81548\n",
       "  [21]  =  0.194316\n",
       "  [25]  =  2.37425\n",
       "  [26]  =  0.562926\n",
       "  [27]  =  -1.56176\n",
       "  [28]  =  -1.59356\n",
       "  [29]  =  -0.565458\n",
       "  [30]  =  -0.483649"
      ]
     },
     "execution_count": 32,
     "metadata": {},
     "output_type": "execute_result"
    }
   ],
   "source": [
    "w_sparse"
   ]
  },
  {
   "cell_type": "code",
   "execution_count": 33,
   "metadata": {
    "collapsed": false
   },
   "outputs": [],
   "source": [
    "# find best model for each type of data\n",
    "w = w_sparse\n",
    "\n",
    "X,y = generate_data(30, w)\n",
    "w_ridge = ridge_regression(X,y)\n",
    "w_lasso = lasso(X,y; λ=1)\n",
    "w_nonneg = nnls(X,y);"
   ]
  },
  {
   "cell_type": "code",
   "execution_count": 34,
   "metadata": {
    "collapsed": false
   },
   "outputs": [
    {
     "data": {
      "image/png": "[encoded data removed]",
      "text/plain": [
       "PyPlot.Figure(PyObject <matplotlib.figure.Figure object at 0x1312f8610>)"
      ]
     },
     "metadata": {},
     "output_type": "display_data"
    },
    {
     "data": {
      "text/plain": [
       "([5.0, 2.0, 0.0, 12.0, 8.0, 1.0, 1.0, 0.0, 0.0, 1.0], [-1.54756, -1.15895, -0.77033, -0.381714, 0.00690215, 0.395518, 0.784134, 1.17275, 1.56137, 1.94998, 2.3386], PyCall.PyObject[PyObject <matplotlib.patches.Rectangle object at 0x13147a810>, PyObject <matplotlib.patches.Rectangle object at 0x13147ae90>, PyObject <matplotlib.patches.Rectangle object at 0x131485550>, PyObject <matplotlib.patches.Rectangle object at 0x131485bd0>, PyObject <matplotlib.patches.Rectangle object at 0x131495290>, PyObject <matplotlib.patches.Rectangle object at 0x131495910>, PyObject <matplotlib.patches.Rectangle object at 0x131495f90>, PyObject <matplotlib.patches.Rectangle object at 0x1314a2650>, PyObject <matplotlib.patches.Rectangle object at 0x1314a2cd0>, PyObject <matplotlib.patches.Rectangle object at 0x1314af390>])"
      ]
     },
     "execution_count": 34,
     "metadata": {},
     "output_type": "execute_result"
    }
   ],
   "source": [
    "plt[:hist](w_ridge)"
   ]
  },
  {
   "cell_type": "code",
   "execution_count": 35,
   "metadata": {
    "collapsed": false
   },
   "outputs": [
    {
     "data": {
      "image/png": "[encoded data removed]",
      "text/plain": [
       "PyPlot.Figure(PyObject <matplotlib.figure.Figure object at 0x131183e10>)"
      ]
     },
     "metadata": {},
     "output_type": "display_data"
    },
    {
     "data": {
      "text/plain": [
       "([1.0, 0.0, 1.0, 0.0, 2.0, 1.0, 0.0, 0.0, 0.0, 0.0  …  0.0, 0.0, 0.0, 0.0, 0.0, 0.0, 0.0, 0.0, 0.0, 1.0], [-1.75326, -1.66925, -1.58524, -1.50124, -1.41723, -1.33322, -1.24921, -1.1652, -1.08119, -0.997185  …  1.69108, 1.77509, 1.8591, 1.9431, 2.02711, 2.11112, 2.19513, 2.27914, 2.36315, 2.44715], PyCall.PyObject[PyObject <matplotlib.patches.Rectangle object at 0x13165a050>, PyObject <matplotlib.patches.Rectangle object at 0x13165a6d0>, PyObject <matplotlib.patches.Rectangle object at 0x13165ad50>, PyObject <matplotlib.patches.Rectangle object at 0x131666410>, PyObject <matplotlib.patches.Rectangle object at 0x131666a90>, PyObject <matplotlib.patches.Rectangle object at 0x131666f90>, PyObject <matplotlib.patches.Rectangle object at 0x1316747d0>, PyObject <matplotlib.patches.Rectangle object at 0x131674e50>, PyObject <matplotlib.patches.Rectangle object at 0x131680510>, PyObject <matplotlib.patches.Rectangle object at 0x131680b90>  …  PyObject <matplotlib.patches.Rectangle object at 0x131727790>, PyObject <matplotlib.patches.Rectangle object at 0x131727e10>, PyObject <matplotlib.patches.Rectangle object at 0x1317354d0>, PyObject <matplotlib.patches.Rectangle object at 0x131735b50>, PyObject <matplotlib.patches.Rectangle object at 0x131743210>, PyObject <matplotlib.patches.Rectangle object at 0x131743890>, PyObject <matplotlib.patches.Rectangle object at 0x131743f10>, PyObject <matplotlib.patches.Rectangle object at 0x1317505d0>, PyObject <matplotlib.patches.Rectangle object at 0x131750c50>, PyObject <matplotlib.patches.Rectangle object at 0x13175e310>])"
      ]
     },
     "execution_count": 35,
     "metadata": {},
     "output_type": "execute_result"
    }
   ],
   "source": [
    "plt[:hist](w_lasso, bins=50)"
   ]
  },
  {
   "cell_type": "code",
   "execution_count": 36,
   "metadata": {
    "collapsed": false
   },
   "outputs": [
    {
     "data": {
      "image/png": "[encoded data removed]",
      "text/plain": [
       "PyPlot.Figure(PyObject <matplotlib.figure.Figure object at 0x13080ea10>)"
      ]
     },
     "metadata": {},
     "output_type": "display_data"
    },
    {
     "data": {
      "text/plain": [
       "([24.0, 1.0, 1.0, 1.0, 2.0, 0.0, 0.0, 0.0, 0.0, 1.0], [-1.10638e-9, 0.270468, 0.540935, 0.811403, 1.08187, 1.35234, 1.62281, 1.89327, 2.16374, 2.43421, 2.70468], PyCall.PyObject[PyObject <matplotlib.patches.Rectangle object at 0x1318f1e10>, PyObject <matplotlib.patches.Rectangle object at 0x1318ff4d0>, PyObject <matplotlib.patches.Rectangle object at 0x1318ffb50>, PyObject <matplotlib.patches.Rectangle object at 0x13190a210>, PyObject <matplotlib.patches.Rectangle object at 0x13190a890>, PyObject <matplotlib.patches.Rectangle object at 0x13190af10>, PyObject <matplotlib.patches.Rectangle object at 0x1319185d0>, PyObject <matplotlib.patches.Rectangle object at 0x131918c50>, PyObject <matplotlib.patches.Rectangle object at 0x131926310>, PyObject <matplotlib.patches.Rectangle object at 0x131926990>])"
      ]
     },
     "execution_count": 36,
     "metadata": {},
     "output_type": "execute_result"
    }
   ],
   "source": [
    "plt[:hist](w_nonneg)"
   ]
  },
  {
   "cell_type": "code",
   "execution_count": 37,
   "metadata": {
    "collapsed": false
   },
   "outputs": [
    {
     "data": {
      "image/png": "[encoded data removed]",
      "text/plain": [
       "PyPlot.Figure(PyObject <matplotlib.figure.Figure object at 0x13194d690>)"
      ]
     },
     "metadata": {},
     "output_type": "display_data"
    },
    {
     "data": {
      "text/plain": [
       "PyObject <matplotlib.text.Text object at 0x131934a10>"
      ]
     },
     "execution_count": 37,
     "metadata": {},
     "output_type": "execute_result"
    }
   ],
   "source": [
    "# which fits data best?\n",
    "Xtest,ytest = generate_data(20,w)\n",
    "\n",
    "plot(ytest,Xtest*w_ridge,label=\"ridge\",\".\")\n",
    "plot(ytest,Xtest*w_lasso,label=\"lasso\",\".\")\n",
    "plot(ytest,Xtest*w_nonneg,label=\"NNLS\",\".\")\n",
    "plot(ytest,ytest,label=\"true model\")\n",
    "legend()\n",
    "xlabel(\"true value\")\n",
    "ylabel(\"predicted value\")"
   ]
  },
  {
   "cell_type": "code",
   "execution_count": 38,
   "metadata": {
    "collapsed": false
   },
   "outputs": [
    {
     "data": {
      "image/png": "[encoded data removed]",
      "text/plain": [
       "PyPlot.Figure(PyObject <matplotlib.figure.Figure object at 0x11e445250>)"
      ]
     },
     "metadata": {},
     "output_type": "display_data"
    },
    {
     "data": {
      "text/plain": [
       "1-element Array{PyCall.PyObject,1}:\n",
       " PyObject <matplotlib.lines.Line2D object at 0x131cab350>"
      ]
     },
     "execution_count": 38,
     "metadata": {},
     "output_type": "execute_result"
    }
   ],
   "source": [
    "# cross validate over lambda\n",
    "\n",
    "w = .5*randn(40)\n",
    "X,y = generate_noisy_data(30, w)\n",
    "Xtest,ytest = generate_noisy_data(30, w)\n",
    "\n",
    "error = Float64[]\n",
    "λs = 0:.1:5\n",
    "for λ in λs\n",
    "    w = ridge_regression(X,y; λ=λ)\n",
    "    push!(error, sum((ytest - Xtest*w).^2))\n",
    "end\n",
    "plot(λs, error)"
   ]
  },
  {
   "cell_type": "code",
   "execution_count": null,
   "metadata": {
    "collapsed": true
   },
   "outputs": [],
   "source": []
  }
 ],
 "metadata": {
  "kernelspec": {
   "display_name": "Julia 0.6.0",
   "language": "julia",
   "name": "julia-0.6"
  },
  "language_info": {
   "file_extension": ".jl",
   "mimetype": "application/julia",
   "name": "julia",
   "version": "0.6.0"
  }
 },
 "nbformat": 4,
 "nbformat_minor": 0
}
