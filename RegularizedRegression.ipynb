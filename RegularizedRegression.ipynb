{
 "cells": [
  {
   "cell_type": "code",
   "execution_count": 18,
   "metadata": {
    "collapsed": false
   },
   "outputs": [
    {
     "data": {
      "text/plain": [
       "ECOS.ECOSSolver(Any[(:verbose, 0)])"
      ]
     },
     "execution_count": 18,
     "metadata": {},
     "output_type": "execute_result"
    }
   ],
   "source": [
    "using Convex\n",
    "using PyPlot\n",
    "using ECOS\n",
    "set_default_solver(ECOSSolver(verbose=0))"
   ]
  },
  {
   "cell_type": "code",
   "execution_count": 2,
   "metadata": {
    "collapsed": false
   },
   "outputs": [
    {
     "data": {
      "text/plain": [
       "generate_noisy_data (generic function with 1 method)"
      ]
     },
     "execution_count": 2,
     "metadata": {},
     "output_type": "execute_result"
    }
   ],
   "source": [
    "function generate_data(n, w)\n",
    "    X = randn(n,length(w))\n",
    "    y = X*w\n",
    "    return X, y\n",
    "end\n",
    "\n",
    "function generate_noisy_data(n, w)\n",
    "    X = randn(n,length(w))\n",
    "    y = X*w + .1*randn(n)\n",
    "    return X, y\n",
    "end"
   ]
  },
  {
   "cell_type": "markdown",
   "metadata": {},
   "source": [
    "# OLS is invariant"
   ]
  },
  {
   "cell_type": "code",
   "execution_count": 3,
   "metadata": {
    "collapsed": false
   },
   "outputs": [],
   "source": [
    "d = 10\n",
    "n = 20\n",
    "w = randn(d)\n",
    "X, y = generate_data(n, w);"
   ]
  },
  {
   "cell_type": "code",
   "execution_count": 4,
   "metadata": {
    "collapsed": false
   },
   "outputs": [
    {
     "name": "stdout",
     "output_type": "stream",
     "text": [
      "X * w = [6.6089, -7.12315, -0.0963135, 0.0394689, 2.56376, 1.44522, -0.327432, 0.888402, 3.22935, -5.45253, -4.05059, 0.545093, -3.33106, -0.182826, -2.93786, 1.54777, 2.4913, -3.46714, 0.791616, 4.28861]\n",
      "(Xscale * wscale) / 5 = "
     ]
    }
   ],
   "source": [
    "w = X\\y\n",
    "@show X*w\n",
    "\n",
    "yscale = 5*y\n",
    "Xscale = 3*X\n",
    "wscale = Xscale\\yscale\n",
    "@show Xscale*wscale / 5;"
   ]
  },
  {
   "cell_type": "markdown",
   "metadata": {},
   "source": [
    "# ridge regression is not scaling invariant"
   ]
  },
  {
   "cell_type": "code",
   "execution_count": 5,
   "metadata": {
    "collapsed": false
   },
   "outputs": [
    {
     "data": {
      "text/plain": [
       "(10, 10)"
      ]
     },
     "execution_count": 5,
     "metadata": {},
     "output_type": "execute_result"
    }
   ],
   "source": [
    "size(X'*X + eye(d))"
   ]
  },
  {
   "cell_type": "code",
   "execution_count": 6,
   "metadata": {
    "collapsed": false
   },
   "outputs": [
    {
     "name": "stdout",
     "output_type": "stream",
     "text": [
      "X * w = [6.26418, -6.8008, -0.241732, 0.0209104, 2.41, 1.76919, -0.409291, 1.1196, 3.21675, -5.14988, -3.89819, 0.0884726, -3.25638, -0.316686, -2.78545, 1.30117, 2.02249, -3.51258, 0.780404, 4.21437]\n",
      "(Xscale * wscale) / 5 = [6.56769, -7.08036, -0.122335, 0.0315721, 2.54094, 1.49794, -0.337915, 0.918686, 3.23272, -5.4103, -4.03017, 0.475783, -3.32693, -0.206264, -2.91472, 1.51526, 2.42648, -3.47643, 0.79014, 4.28054]\n"
     ]
    }
   ],
   "source": [
    "w = (X'*X + eye(d)) \\ (X'*y)\n",
    "@show X*w\n",
    "\n",
    "yscale = 5*y\n",
    "Xscale = 3*X\n",
    "wscale = (Xscale'*Xscale + eye(d)) \\ (Xscale'*yscale)\n",
    "@show Xscale * wscale / 5;"
   ]
  },
  {
   "cell_type": "code",
   "execution_count": 7,
   "metadata": {
    "collapsed": false
   },
   "outputs": [
    {
     "name": "stdout",
     "output_type": "stream",
     "text": [
      "Xs * w = [1.89597, -1.92371, -0.0411448, 0.0423999, 0.746842, 0.606238, -0.076216, 0.38712, 0.986227, -1.47446, -1.08612, 0.04019, -0.885408, -0.0235994, -0.753058, 0.433342, 0.614619, -1.00341, 0.266716, 1.24746]\n",
      "Xss * wscale = [1.89597, -1.92371, -0.0411448, 0.0423999, 0.746842, 0.606238, -0.076216, 0.38712, 0.986227, -1.47446, -1.08612, 0.04019, -0.885408, -0.0235994, -0.753058, 0.433342, 0.614619, -1.00341, 0.266716, 1.24746]\n"
     ]
    }
   ],
   "source": [
    "# standardize\n",
    "function standardize(X,y)\n",
    "    X_standard = X .- mean(X,1)\n",
    "    X_standard = X_standard * diagm(1./vec(std(X,1)))\n",
    "    \n",
    "    y_standard = y - mean(y)\n",
    "    y_standard = y_standard / std(y)\n",
    "    \n",
    "    return X_standard, y_standard\n",
    "end\n",
    "\n",
    "Xs, ys = standardize(X,y)\n",
    "w = (Xs'*Xs + eye(d)) \\ (Xs'*ys)\n",
    "@show Xs*w\n",
    "\n",
    "yscale = 5*y + 3000\n",
    "Xscale = 3*X + 200\n",
    "\n",
    "Xss, yss = standardize(Xscale,yscale)\n",
    "wscale = (Xss'*Xss + eye(d)) \\ (Xss'*yss)\n",
    "@show Xss*wscale;"
   ]
  },
  {
   "cell_type": "markdown",
   "metadata": {},
   "source": [
    "# let's compare different kinds of regularized regression"
   ]
  },
  {
   "cell_type": "code",
   "execution_count": 8,
   "metadata": {
    "collapsed": false
   },
   "outputs": [
    {
     "data": {
      "text/plain": [
       "ridge_regression (generic function with 1 method)"
      ]
     },
     "execution_count": 8,
     "metadata": {},
     "output_type": "execute_result"
    }
   ],
   "source": [
    "function ridge_regression(X,y; λ=1)\n",
    "    d = size(X,2)\n",
    "    w = Variable(d)\n",
    "    p = minimize(sumsquares(X*w - y) + λ*sumsquares(w))\n",
    "    solve!(p)\n",
    "    return w.value\n",
    "end"
   ]
  },
  {
   "cell_type": "code",
   "execution_count": 9,
   "metadata": {
    "collapsed": false
   },
   "outputs": [
    {
     "data": {
      "text/plain": [
       "lasso (generic function with 1 method)"
      ]
     },
     "execution_count": 9,
     "metadata": {},
     "output_type": "execute_result"
    }
   ],
   "source": [
    "function lasso(X,y; λ=1)\n",
    "    d = size(X,2)\n",
    "    w = Variable(d)\n",
    "    p = minimize(sumsquares(X*w - y) + λ*norm(w,1))\n",
    "    solve!(p)\n",
    "    return w.value\n",
    "end"
   ]
  },
  {
   "cell_type": "code",
   "execution_count": 10,
   "metadata": {
    "collapsed": false
   },
   "outputs": [
    {
     "data": {
      "text/plain": [
       "nnls (generic function with 1 method)"
      ]
     },
     "execution_count": 10,
     "metadata": {},
     "output_type": "execute_result"
    }
   ],
   "source": [
    "function nnls(X,y)\n",
    "    d = size(X,2)\n",
    "    w = Variable(d)\n",
    "    p = minimize(sumsquares(X*w - y), w>=0)\n",
    "    solve!(p)\n",
    "    return w.value\n",
    "end"
   ]
  },
  {
   "cell_type": "code",
   "execution_count": 11,
   "metadata": {
    "collapsed": false
   },
   "outputs": [],
   "source": [
    "# generate data\n",
    "\n",
    "d = 30\n",
    "w_randn = randn(d)\n",
    "w_sparse = sprandn(d, .5)\n",
    "w_pos = sprand(d, .5);"
   ]
  },
  {
   "cell_type": "code",
   "execution_count": 12,
   "metadata": {
    "collapsed": false
   },
   "outputs": [],
   "source": [
    "# find best model for each type of data\n",
    "w = w_pos\n",
    "\n",
    "X,y = generate_data(30, w)\n",
    "w_ridge = ridge_regression(X,y)\n",
    "w_lasso = lasso(X,y; λ=1)\n",
    "w_nonneg = nnls(X,y);"
   ]
  },
  {
   "cell_type": "code",
   "execution_count": 13,
   "metadata": {
    "collapsed": false
   },
   "outputs": [
    {
     "data": {
      "image/png": "[encoded data removed]",
      "text/plain": [
       "PyPlot.Figure(PyObject <matplotlib.figure.Figure object at 0x12d3b9fd0>)"
      ]
     },
     "metadata": {},
     "output_type": "display_data"
    },
    {
     "data": {
      "text/plain": [
       "([3.0, 3.0, 7.0, 3.0, 5.0, 1.0, 2.0, 0.0, 5.0, 1.0], [-0.196988, -0.0907231, 0.0155413, 0.121806, 0.22807, 0.334334, 0.440599, 0.546863, 0.653128, 0.759392, 0.865656], PyCall.PyObject[PyObject <matplotlib.patches.Rectangle object at 0x13174a910>, PyObject <matplotlib.patches.Rectangle object at 0x13174afd0>, PyObject <matplotlib.patches.Rectangle object at 0x13175c690>, PyObject <matplotlib.patches.Rectangle object at 0x13175cd10>, PyObject <matplotlib.patches.Rectangle object at 0x1317633d0>, PyObject <matplotlib.patches.Rectangle object at 0x131763a50>, PyObject <matplotlib.patches.Rectangle object at 0x131763f50>, PyObject <matplotlib.patches.Rectangle object at 0x131779790>, PyObject <matplotlib.patches.Rectangle object at 0x131779e10>, PyObject <matplotlib.patches.Rectangle object at 0x1317874d0>])"
      ]
     },
     "execution_count": 13,
     "metadata": {},
     "output_type": "execute_result"
    }
   ],
   "source": [
    "plt[:hist](w_ridge)"
   ]
  },
  {
   "cell_type": "code",
   "execution_count": 14,
   "metadata": {
    "collapsed": false
   },
   "outputs": [
    {
     "data": {
      "image/png": "[encoded data removed]",
      "text/plain": [
       "PyPlot.Figure(PyObject <matplotlib.figure.Figure object at 0x113bc4f90>)"
      ]
     },
     "metadata": {},
     "output_type": "display_data"
    },
    {
     "data": {
      "text/plain": [
       "([2.0, 0.0, 0.0, 10.0, 0.0, 0.0, 1.0, 0.0, 1.0, 1.0  …  0.0, 0.0, 1.0, 0.0, 1.0, 0.0, 0.0, 0.0, 0.0, 1.0], [-0.0647887, -0.0447637, -0.0247387, -0.00471376, 0.0153112, 0.0353362, 0.0553611, 0.0753861, 0.0954111, 0.115436  …  0.756235, 0.77626, 0.796285, 0.81631, 0.836335, 0.85636, 0.876385, 0.89641, 0.916435, 0.93646], PyCall.PyObject[PyObject <matplotlib.patches.Rectangle object at 0x134a0f7d0>, PyObject <matplotlib.patches.Rectangle object at 0x134a0fe50>, PyObject <matplotlib.patches.Rectangle object at 0x134a1b510>, PyObject <matplotlib.patches.Rectangle object at 0x134a1bb90>, PyObject <matplotlib.patches.Rectangle object at 0x134a28250>, PyObject <matplotlib.patches.Rectangle object at 0x134a288d0>, PyObject <matplotlib.patches.Rectangle object at 0x134a28f50>, PyObject <matplotlib.patches.Rectangle object at 0x134a34610>, PyObject <matplotlib.patches.Rectangle object at 0x134a34c90>, PyObject <matplotlib.patches.Rectangle object at 0x134a42350>  …  PyObject <matplotlib.patches.Rectangle object at 0x134ad8fd0>, PyObject <matplotlib.patches.Rectangle object at 0x134ae6690>, PyObject <matplotlib.patches.Rectangle object at 0x134ae6d10>, PyObject <matplotlib.patches.Rectangle object at 0x134af33d0>, PyObject <matplotlib.patches.Rectangle object at 0x134af3a50>, PyObject <matplotlib.patches.Rectangle object at 0x134af3f50>, PyObject <matplotlib.patches.Rectangle object at 0x134aff790>, PyObject <matplotlib.patches.Rectangle object at 0x134affe10>, PyObject <matplotlib.patches.Rectangle object at 0x134b0f4d0>, PyObject <matplotlib.patches.Rectangle object at 0x134b0fb50>])"
      ]
     },
     "execution_count": 14,
     "metadata": {},
     "output_type": "execute_result"
    }
   ],
   "source": [
    "plt[:hist](w_lasso, bins=50)"
   ]
  },
  {
   "cell_type": "code",
   "execution_count": 15,
   "metadata": {
    "collapsed": false
   },
   "outputs": [
    {
     "data": {
      "image/png": "[encoded data removed]",
      "text/plain": [
       "PyPlot.Figure(PyObject <matplotlib.figure.Figure object at 0x134b4df90>)"
      ]
     },
     "metadata": {},
     "output_type": "display_data"
    },
    {
     "data": {
      "text/plain": [
       "([11.0, 3.0, 2.0, 2.0, 3.0, 2.0, 2.0, 1.0, 2.0, 2.0], [4.88935e-7, 0.0955747, 0.191149, 0.286723, 0.382297, 0.477871, 0.573446, 0.66902, 0.764594, 0.860168, 0.955742], PyCall.PyObject[PyObject <matplotlib.patches.Rectangle object at 0x134cc0810>, PyObject <matplotlib.patches.Rectangle object at 0x134cc0e90>, PyObject <matplotlib.patches.Rectangle object at 0x134cce550>, PyObject <matplotlib.patches.Rectangle object at 0x134ccebd0>, PyObject <matplotlib.patches.Rectangle object at 0x134cd9290>, PyObject <matplotlib.patches.Rectangle object at 0x134cd9910>, PyObject <matplotlib.patches.Rectangle object at 0x134cd9f90>, PyObject <matplotlib.patches.Rectangle object at 0x134ce8650>, PyObject <matplotlib.patches.Rectangle object at 0x134ce8cd0>, PyObject <matplotlib.patches.Rectangle object at 0x134cf4390>])"
      ]
     },
     "execution_count": 15,
     "metadata": {},
     "output_type": "execute_result"
    }
   ],
   "source": [
    "plt[:hist](w_nonneg)"
   ]
  },
  {
   "cell_type": "code",
   "execution_count": 16,
   "metadata": {
    "collapsed": false
   },
   "outputs": [
    {
     "data": {
      "image/png": "[encoded data removed]",
      "text/plain": [
       "PyPlot.Figure(PyObject <matplotlib.figure.Figure object at 0x13498e050>)"
      ]
     },
     "metadata": {},
     "output_type": "display_data"
    },
    {
     "data": {
      "text/plain": [
       "PyObject <matplotlib.text.Text object at 0x134b0fc50>"
      ]
     },
     "execution_count": 16,
     "metadata": {},
     "output_type": "execute_result"
    }
   ],
   "source": [
    "# which fits data best?\n",
    "Xtest,ytest = generate_data(20,w)\n",
    "\n",
    "plot(ytest,Xtest*w_ridge,label=\"ridge\",\".\")\n",
    "plot(ytest,Xtest*w_lasso,label=\"lasso\",\".\")\n",
    "plot(ytest,Xtest*w_nonneg,label=\"NNLS\",\".\")\n",
    "plot(ytest,ytest,label=\"true model\")\n",
    "legend()\n",
    "xlabel(\"true value\")\n",
    "ylabel(\"predicted value\")"
   ]
  },
  {
   "cell_type": "code",
   "execution_count": 17,
   "metadata": {
    "collapsed": false
   },
   "outputs": [
    {
     "data": {
      "image/png": "[encoded data removed]",
      "text/plain": [
       "PyPlot.Figure(PyObject <matplotlib.figure.Figure object at 0x134a0f5d0>)"
      ]
     },
     "metadata": {},
     "output_type": "display_data"
    },
    {
     "data": {
      "text/plain": [
       "1-element Array{PyCall.PyObject,1}:\n",
       " PyObject <matplotlib.lines.Line2D object at 0x113793690>"
      ]
     },
     "execution_count": 17,
     "metadata": {},
     "output_type": "execute_result"
    }
   ],
   "source": [
    "# cross validate over lambda\n",
    "\n",
    "w = .5*randn(40)\n",
    "X,y = generate_noisy_data(30, w)\n",
    "Xtest,ytest = generate_noisy_data(30, w)\n",
    "\n",
    "error = Float64[]\n",
    "λs = 0:.1:5\n",
    "for λ in λs\n",
    "    w = ridge_regression(X,y; λ=λ)\n",
    "    push!(error, sum((ytest - Xtest*w).^2))\n",
    "end\n",
    "plot(λs, error)"
   ]
  },
  {
   "cell_type": "code",
   "execution_count": null,
   "metadata": {
    "collapsed": true
   },
   "outputs": [],
   "source": []
  }
 ],
 "metadata": {
  "kernelspec": {
   "display_name": "Julia 0.6.0",
   "language": "julia",
   "name": "julia-0.6"
  },
  "language_info": {
   "file_extension": ".jl",
   "mimetype": "application/julia",
   "name": "julia",
   "version": "0.6.0"
  }
 },
 "nbformat": 4,
 "nbformat_minor": 0
}
