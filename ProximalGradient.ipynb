{
 "cells": [
  {
   "cell_type": "code",
   "execution_count": 7,
   "metadata": {},
   "outputs": [
    {
     "data": {
      "text/plain": [
       "Plots.PlotlyBackend()"
      ]
     },
     "execution_count": 7,
     "metadata": {},
     "output_type": "execute_result"
    }
   ],
   "source": [
    "using Plots, Random, LinearAlgebra, Statistics, SparseArrays\n",
    "plotly()"
   ]
  },
  {
   "cell_type": "markdown",
   "metadata": {},
   "source": [
    "# Prox of nonnegative regularizer"
   ]
  },
  {
   "cell_type": "code",
   "execution_count": 13,
   "metadata": {},
   "outputs": [
    {
     "data": {
      "application/vnd.plotly.v1+json": {
       "data": [
        {
         "colorbar": {
          "title": ""
         },
         "hoverinfo": "text",
         "legendgroup": "y1",
         "line": {
          "color": "rgba(0, 154, 250, 1.000)",
          "dash": "solid",
          "shape": "linear",
          "width": 1
         },
         "mode": "lines",
         "name": "y1",
         "showlegend": true,
         "text": [
          null,
          null,
          null,
          null,
          null,
          null,
          null,
          null,
          null,
          null,
          null,
          null,
          null,
          null,
          null,
          null,
          null,
          null,
          null,
          null,
          null,
          null,
          null,
          null,
          null,
          null,
          null,
          null,
          null,
          null,
          null,
          null,
          null,
          null,
          null,
          null,
          null,
          null,
          null,
          null,
          null,
          null,
          null,
          null,
          null,
          null,
          null,
          null,
          null,
          null,
          null,
          null,
          null,
          null,
          null,
          null,
          null,
          null,
          null,
          null,
          null,
          null,
          null,
          null,
          null,
          null,
          null,
          null,
          null,
          null,
          null,
          null,
          null,
          null,
          null,
          null,
          null,
          null,
          null,
          null,
          null,
          null,
          null,
          null,
          null,
          null,
          null,
          null,
          null,
          null,
          null,
          null,
          null,
          null,
          null,
          null,
          null,
          null,
          null,
          null,
          null
         ],
         "type": "scatter",
         "x": [
          -5,
          -4.9,
          -4.8,
          -4.7,
          -4.6,
          -4.5,
          -4.4,
          -4.3,
          -4.2,
          -4.1,
          -4,
          -3.9,
          -3.8,
          -3.7,
          -3.6,
          -3.5,
          -3.4,
          -3.3,
          -3.2,
          -3.1,
          -3,
          -2.9,
          -2.8,
          -2.7,
          -2.6,
          -2.5,
          -2.4,
          -2.3,
          -2.2,
          -2.1,
          -2,
          -1.9,
          -1.8,
          -1.7,
          -1.6,
          -1.5,
          -1.4,
          -1.3,
          -1.2,
          -1.1,
          -1,
          -0.9,
          -0.8,
          -0.7,
          -0.6,
          -0.5,
          -0.4,
          -0.3,
          -0.2,
          -0.1,
          0,
          0.1,
          0.2,
          0.3,
          0.4,
          0.5,
          0.6,
          0.7,
          0.8,
          0.9,
          1,
          1.1,
          1.2,
          1.3,
          1.4,
          1.5,
          1.6,
          1.7,
          1.8,
          1.9,
          2,
          2.1,
          2.2,
          2.3,
          2.4,
          2.5,
          2.6,
          2.7,
          2.8,
          2.9,
          3,
          3.1,
          3.2,
          3.3,
          3.4,
          3.5,
          3.6,
          3.7,
          3.8,
          3.9,
          4,
          4.1,
          4.2,
          4.3,
          4.4,
          4.5,
          4.6,
          4.7,
          4.8,
          4.9,
          5
         ],
         "xaxis": "x1",
         "y": [
          null,
          null,
          null,
          null,
          null,
          null,
          null,
          null,
          null,
          null,
          null,
          null,
          null,
          null,
          null,
          null,
          null,
          null,
          null,
          null,
          null,
          null,
          null,
          null,
          null,
          null,
          null,
          null,
          null,
          null,
          null,
          null,
          null,
          null,
          null,
          null,
          null,
          null,
          null,
          null,
          null,
          null,
          null,
          null,
          null,
          null,
          null,
          null,
          null,
          null,
          0.5,
          0.405,
          0.32000000000000006,
          0.24499999999999997,
          0.18,
          0.125,
          0.08000000000000002,
          0.04500000000000001,
          0.01999999999999999,
          0.0049999999999999975,
          0,
          0.005000000000000009,
          0.01999999999999999,
          0.04500000000000001,
          0.07999999999999996,
          0.125,
          0.18000000000000005,
          0.24499999999999997,
          0.32000000000000006,
          0.4049999999999999,
          0.5,
          0.6050000000000001,
          0.7200000000000002,
          0.8449999999999998,
          0.9799999999999999,
          1.125,
          1.2800000000000002,
          1.4450000000000003,
          1.6199999999999997,
          1.805,
          2,
          2.205,
          2.4200000000000004,
          2.6449999999999996,
          2.88,
          3.125,
          3.3800000000000003,
          3.6450000000000005,
          3.9199999999999995,
          4.205,
          4.5,
          4.804999999999999,
          5.120000000000001,
          5.444999999999999,
          5.780000000000001,
          6.125,
          6.479999999999999,
          6.845000000000001,
          7.22,
          7.605000000000001,
          8
         ],
         "yaxis": "y1",
         "zmax": 0.1,
         "zmin": -0.1
        }
       ],
       "layout": {
        "annotations": [],
        "height": 400,
        "legend": {
         "bgcolor": "rgba(255, 255, 255, 1.000)",
         "bordercolor": "rgba(0, 0, 0, 1.000)",
         "font": {
          "color": "rgba(0, 0, 0, 1.000)",
          "family": "sans-serif",
          "size": 11
         },
         "tracegroupgap": 0,
         "x": 1,
         "y": 1
        },
        "margin": {
         "b": 20,
         "l": 0,
         "r": 0,
         "t": 20
        },
        "paper_bgcolor": "rgba(255, 255, 255, 1.000)",
        "plot_bgcolor": "rgba(255, 255, 255, 1.000)",
        "showlegend": true,
        "width": 600,
        "xaxis": {
         "anchor": "y1",
         "domain": [
          0.04683945756780402,
          0.9934383202099739
         ],
         "gridcolor": "rgba(0, 0, 0, 0.100)",
         "gridwidth": 0.5,
         "linecolor": "rgba(0, 0, 0, 1.000)",
         "mirror": false,
         "range": [
          -5.3,
          5.3
         ],
         "showgrid": true,
         "showline": true,
         "showticklabels": true,
         "tickangle": 0,
         "tickcolor": "rgb(0, 0, 0)",
         "tickfont": {
          "color": "rgba(0, 0, 0, 1.000)",
          "family": "sans-serif",
          "size": 11
         },
         "tickmode": "array",
         "ticks": "inside",
         "ticktext": [
          "-4",
          "-2",
          "0",
          "2",
          "4"
         ],
         "tickvals": [
          -4,
          -2,
          0,
          2,
          4
         ],
         "title": "x",
         "titlefont": {
          "color": "rgba(0, 0, 0, 1.000)",
          "family": "sans-serif",
          "size": 15
         },
         "type": "-",
         "visible": true,
         "zeroline": false,
         "zerolinecolor": "rgba(0, 0, 0, 1.000)"
        },
        "yaxis": {
         "anchor": "x1",
         "domain": [
          0.07581474190726165,
          0.9901574803149606
         ],
         "gridcolor": "rgba(0, 0, 0, 0.100)",
         "gridwidth": 0.5,
         "linecolor": "rgba(0, 0, 0, 1.000)",
         "mirror": false,
         "range": [
          -0.24,
          8.24
         ],
         "showgrid": true,
         "showline": true,
         "showticklabels": true,
         "tickangle": 0,
         "tickcolor": "rgb(0, 0, 0)",
         "tickfont": {
          "color": "rgba(0, 0, 0, 1.000)",
          "family": "sans-serif",
          "size": 11
         },
         "tickmode": "array",
         "ticks": "inside",
         "ticktext": [
          "0",
          "2",
          "4",
          "6",
          "8"
         ],
         "tickvals": [
          0,
          2,
          4,
          6,
          8
         ],
         "title": "obj(x)",
         "titlefont": {
          "color": "rgba(0, 0, 0, 1.000)",
          "family": "sans-serif",
          "size": 15
         },
         "type": "-",
         "visible": true,
         "zeroline": false,
         "zerolinecolor": "rgba(0, 0, 0, 1.000)"
        }
       }
      },
      "text/html": [
       "<!DOCTYPE html>\n",
       "<html>\n",
       "    <head>\n",
       "        <title>Plots.jl</title>\n",
       "        <meta http-equiv=\"content-type\" content=\"text/html; charset=UTF-8\">\n",
       "        <script src=\"https://cdn.plot.ly/plotly-latest.min.js\"></script>\n",
       "    </head>\n",
       "    <body>\n",
       "            <div id=\"2ad29488-3c5e-41de-8d1b-3d3ec600cf57\" style=\"width:600px;height:400px;\"></div>\n",
       "    <script>\n",
       "    PLOT = document.getElementById('2ad29488-3c5e-41de-8d1b-3d3ec600cf57');\n",
       "    Plotly.plot(PLOT, [\n",
       "    {\n",
       "        \"xaxis\": \"x1\",\n",
       "        \"colorbar\": {\n",
       "            \"title\": \"\"\n",
       "        },\n",
       "        \"yaxis\": \"y1\",\n",
       "        \"text\": [\n",
       "            null,\n",
       "            null,\n",
       "            null,\n",
       "            null,\n",
       "            null,\n",
       "            null,\n",
       "            null,\n",
       "            null,\n",
       "            null,\n",
       "            null,\n",
       "            null,\n",
       "            null,\n",
       "            null,\n",
       "            null,\n",
       "            null,\n",
       "            null,\n",
       "            null,\n",
       "            null,\n",
       "            null,\n",
       "            null,\n",
       "            null,\n",
       "            null,\n",
       "            null,\n",
       "            null,\n",
       "            null,\n",
       "            null,\n",
       "            null,\n",
       "            null,\n",
       "            null,\n",
       "            null,\n",
       "            null,\n",
       "            null,\n",
       "            null,\n",
       "            null,\n",
       "            null,\n",
       "            null,\n",
       "            null,\n",
       "            null,\n",
       "            null,\n",
       "            null,\n",
       "            null,\n",
       "            null,\n",
       "            null,\n",
       "            null,\n",
       "            null,\n",
       "            null,\n",
       "            null,\n",
       "            null,\n",
       "            null,\n",
       "            null,\n",
       "            null,\n",
       "            null,\n",
       "            null,\n",
       "            null,\n",
       "            null,\n",
       "            null,\n",
       "            null,\n",
       "            null,\n",
       "            null,\n",
       "            null,\n",
       "            null,\n",
       "            null,\n",
       "            null,\n",
       "            null,\n",
       "            null,\n",
       "            null,\n",
       "            null,\n",
       "            null,\n",
       "            null,\n",
       "            null,\n",
       "            null,\n",
       "            null,\n",
       "            null,\n",
       "            null,\n",
       "            null,\n",
       "            null,\n",
       "            null,\n",
       "            null,\n",
       "            null,\n",
       "            null,\n",
       "            null,\n",
       "            null,\n",
       "            null,\n",
       "            null,\n",
       "            null,\n",
       "            null,\n",
       "            null,\n",
       "            null,\n",
       "            null,\n",
       "            null,\n",
       "            null,\n",
       "            null,\n",
       "            null,\n",
       "            null,\n",
       "            null,\n",
       "            null,\n",
       "            null,\n",
       "            null,\n",
       "            null,\n",
       "            null,\n",
       "            null\n",
       "        ],\n",
       "        \"x\": [\n",
       "            -5.0,\n",
       "            -4.9,\n",
       "            -4.8,\n",
       "            -4.7,\n",
       "            -4.6,\n",
       "            -4.5,\n",
       "            -4.4,\n",
       "            -4.3,\n",
       "            -4.2,\n",
       "            -4.1,\n",
       "            -4.0,\n",
       "            -3.9,\n",
       "            -3.8,\n",
       "            -3.7,\n",
       "            -3.6,\n",
       "            -3.5,\n",
       "            -3.4,\n",
       "            -3.3,\n",
       "            -3.2,\n",
       "            -3.1,\n",
       "            -3.0,\n",
       "            -2.9,\n",
       "            -2.8,\n",
       "            -2.7,\n",
       "            -2.6,\n",
       "            -2.5,\n",
       "            -2.4,\n",
       "            -2.3,\n",
       "            -2.2,\n",
       "            -2.1,\n",
       "            -2.0,\n",
       "            -1.9,\n",
       "            -1.8,\n",
       "            -1.7,\n",
       "            -1.6,\n",
       "            -1.5,\n",
       "            -1.4,\n",
       "            -1.3,\n",
       "            -1.2,\n",
       "            -1.1,\n",
       "            -1.0,\n",
       "            -0.9,\n",
       "            -0.8,\n",
       "            -0.7,\n",
       "            -0.6,\n",
       "            -0.5,\n",
       "            -0.4,\n",
       "            -0.3,\n",
       "            -0.2,\n",
       "            -0.1,\n",
       "            0.0,\n",
       "            0.1,\n",
       "            0.2,\n",
       "            0.3,\n",
       "            0.4,\n",
       "            0.5,\n",
       "            0.6,\n",
       "            0.7,\n",
       "            0.8,\n",
       "            0.9,\n",
       "            1.0,\n",
       "            1.1,\n",
       "            1.2,\n",
       "            1.3,\n",
       "            1.4,\n",
       "            1.5,\n",
       "            1.6,\n",
       "            1.7,\n",
       "            1.8,\n",
       "            1.9,\n",
       "            2.0,\n",
       "            2.1,\n",
       "            2.2,\n",
       "            2.3,\n",
       "            2.4,\n",
       "            2.5,\n",
       "            2.6,\n",
       "            2.7,\n",
       "            2.8,\n",
       "            2.9,\n",
       "            3.0,\n",
       "            3.1,\n",
       "            3.2,\n",
       "            3.3,\n",
       "            3.4,\n",
       "            3.5,\n",
       "            3.6,\n",
       "            3.7,\n",
       "            3.8,\n",
       "            3.9,\n",
       "            4.0,\n",
       "            4.1,\n",
       "            4.2,\n",
       "            4.3,\n",
       "            4.4,\n",
       "            4.5,\n",
       "            4.6,\n",
       "            4.7,\n",
       "            4.8,\n",
       "            4.9,\n",
       "            5.0\n",
       "        ],\n",
       "        \"showlegend\": true,\n",
       "        \"mode\": \"lines\",\n",
       "        \"name\": \"y1\",\n",
       "        \"zmin\": -0.1,\n",
       "        \"legendgroup\": \"y1\",\n",
       "        \"zmax\": 0.1,\n",
       "        \"line\": {\n",
       "            \"color\": \"rgba(0, 154, 250, 1.000)\",\n",
       "            \"shape\": \"linear\",\n",
       "            \"dash\": \"solid\",\n",
       "            \"width\": 1\n",
       "        },\n",
       "        \"y\": [\n",
       "            null,\n",
       "            null,\n",
       "            null,\n",
       "            null,\n",
       "            null,\n",
       "            null,\n",
       "            null,\n",
       "            null,\n",
       "            null,\n",
       "            null,\n",
       "            null,\n",
       "            null,\n",
       "            null,\n",
       "            null,\n",
       "            null,\n",
       "            null,\n",
       "            null,\n",
       "            null,\n",
       "            null,\n",
       "            null,\n",
       "            null,\n",
       "            null,\n",
       "            null,\n",
       "            null,\n",
       "            null,\n",
       "            null,\n",
       "            null,\n",
       "            null,\n",
       "            null,\n",
       "            null,\n",
       "            null,\n",
       "            null,\n",
       "            null,\n",
       "            null,\n",
       "            null,\n",
       "            null,\n",
       "            null,\n",
       "            null,\n",
       "            null,\n",
       "            null,\n",
       "            null,\n",
       "            null,\n",
       "            null,\n",
       "            null,\n",
       "            null,\n",
       "            null,\n",
       "            null,\n",
       "            null,\n",
       "            null,\n",
       "            null,\n",
       "            0.5,\n",
       "            0.405,\n",
       "            0.32000000000000006,\n",
       "            0.24499999999999997,\n",
       "            0.18,\n",
       "            0.125,\n",
       "            0.08000000000000002,\n",
       "            0.04500000000000001,\n",
       "            0.01999999999999999,\n",
       "            0.0049999999999999975,\n",
       "            0.0,\n",
       "            0.005000000000000009,\n",
       "            0.01999999999999999,\n",
       "            0.04500000000000001,\n",
       "            0.07999999999999996,\n",
       "            0.125,\n",
       "            0.18000000000000005,\n",
       "            0.24499999999999997,\n",
       "            0.32000000000000006,\n",
       "            0.4049999999999999,\n",
       "            0.5,\n",
       "            0.6050000000000001,\n",
       "            0.7200000000000002,\n",
       "            0.8449999999999998,\n",
       "            0.9799999999999999,\n",
       "            1.125,\n",
       "            1.2800000000000002,\n",
       "            1.4450000000000003,\n",
       "            1.6199999999999997,\n",
       "            1.805,\n",
       "            2.0,\n",
       "            2.205,\n",
       "            2.4200000000000004,\n",
       "            2.6449999999999996,\n",
       "            2.88,\n",
       "            3.125,\n",
       "            3.3800000000000003,\n",
       "            3.6450000000000005,\n",
       "            3.9199999999999995,\n",
       "            4.205,\n",
       "            4.5,\n",
       "            4.804999999999999,\n",
       "            5.120000000000001,\n",
       "            5.444999999999999,\n",
       "            5.780000000000001,\n",
       "            6.125,\n",
       "            6.479999999999999,\n",
       "            6.845000000000001,\n",
       "            7.22,\n",
       "            7.605000000000001,\n",
       "            8.0\n",
       "        ],\n",
       "        \"type\": \"scatter\",\n",
       "        \"hoverinfo\": \"text\"\n",
       "    }\n",
       "]\n",
       ", {\n",
       "    \"showlegend\": true,\n",
       "    \"xaxis\": {\n",
       "        \"showticklabels\": true,\n",
       "        \"gridwidth\": 0.5,\n",
       "        \"tickvals\": [\n",
       "            -4.0,\n",
       "            -2.0,\n",
       "            0.0,\n",
       "            2.0,\n",
       "            4.0\n",
       "        ],\n",
       "        \"visible\": true,\n",
       "        \"ticks\": \"inside\",\n",
       "        \"range\": [\n",
       "            -5.3,\n",
       "            5.3\n",
       "        ],\n",
       "        \"domain\": [\n",
       "            0.04683945756780402,\n",
       "            0.9934383202099739\n",
       "        ],\n",
       "        \"tickmode\": \"array\",\n",
       "        \"linecolor\": \"rgba(0, 0, 0, 1.000)\",\n",
       "        \"showgrid\": true,\n",
       "        \"title\": \"x\",\n",
       "        \"mirror\": false,\n",
       "        \"tickangle\": 0,\n",
       "        \"showline\": true,\n",
       "        \"gridcolor\": \"rgba(0, 0, 0, 0.100)\",\n",
       "        \"titlefont\": {\n",
       "            \"color\": \"rgba(0, 0, 0, 1.000)\",\n",
       "            \"family\": \"sans-serif\",\n",
       "            \"size\": 15\n",
       "        },\n",
       "        \"tickcolor\": \"rgb(0, 0, 0)\",\n",
       "        \"ticktext\": [\n",
       "            \"-4\",\n",
       "            \"-2\",\n",
       "            \"0\",\n",
       "            \"2\",\n",
       "            \"4\"\n",
       "        ],\n",
       "        \"zeroline\": false,\n",
       "        \"type\": \"-\",\n",
       "        \"tickfont\": {\n",
       "            \"color\": \"rgba(0, 0, 0, 1.000)\",\n",
       "            \"family\": \"sans-serif\",\n",
       "            \"size\": 11\n",
       "        },\n",
       "        \"zerolinecolor\": \"rgba(0, 0, 0, 1.000)\",\n",
       "        \"anchor\": \"y1\"\n",
       "    },\n",
       "    \"paper_bgcolor\": \"rgba(255, 255, 255, 1.000)\",\n",
       "    \"annotations\": [],\n",
       "    \"height\": 400,\n",
       "    \"margin\": {\n",
       "        \"l\": 0,\n",
       "        \"b\": 20,\n",
       "        \"r\": 0,\n",
       "        \"t\": 20\n",
       "    },\n",
       "    \"plot_bgcolor\": \"rgba(255, 255, 255, 1.000)\",\n",
       "    \"yaxis\": {\n",
       "        \"showticklabels\": true,\n",
       "        \"gridwidth\": 0.5,\n",
       "        \"tickvals\": [\n",
       "            0.0,\n",
       "            2.0,\n",
       "            4.0,\n",
       "            6.0,\n",
       "            8.0\n",
       "        ],\n",
       "        \"visible\": true,\n",
       "        \"ticks\": \"inside\",\n",
       "        \"range\": [\n",
       "            -0.24,\n",
       "            8.24\n",
       "        ],\n",
       "        \"domain\": [\n",
       "            0.07581474190726165,\n",
       "            0.9901574803149606\n",
       "        ],\n",
       "        \"tickmode\": \"array\",\n",
       "        \"linecolor\": \"rgba(0, 0, 0, 1.000)\",\n",
       "        \"showgrid\": true,\n",
       "        \"title\": \"obj(x)\",\n",
       "        \"mirror\": false,\n",
       "        \"tickangle\": 0,\n",
       "        \"showline\": true,\n",
       "        \"gridcolor\": \"rgba(0, 0, 0, 0.100)\",\n",
       "        \"titlefont\": {\n",
       "            \"color\": \"rgba(0, 0, 0, 1.000)\",\n",
       "            \"family\": \"sans-serif\",\n",
       "            \"size\": 15\n",
       "        },\n",
       "        \"tickcolor\": \"rgb(0, 0, 0)\",\n",
       "        \"ticktext\": [\n",
       "            \"0\",\n",
       "            \"2\",\n",
       "            \"4\",\n",
       "            \"6\",\n",
       "            \"8\"\n",
       "        ],\n",
       "        \"zeroline\": false,\n",
       "        \"type\": \"-\",\n",
       "        \"tickfont\": {\n",
       "            \"color\": \"rgba(0, 0, 0, 1.000)\",\n",
       "            \"family\": \"sans-serif\",\n",
       "            \"size\": 11\n",
       "        },\n",
       "        \"zerolinecolor\": \"rgba(0, 0, 0, 1.000)\",\n",
       "        \"anchor\": \"x1\"\n",
       "    },\n",
       "    \"legend\": {\n",
       "        \"tracegroupgap\": 0,\n",
       "        \"bordercolor\": \"rgba(0, 0, 0, 1.000)\",\n",
       "        \"bgcolor\": \"rgba(255, 255, 255, 1.000)\",\n",
       "        \"font\": {\n",
       "            \"color\": \"rgba(0, 0, 0, 1.000)\",\n",
       "            \"family\": \"sans-serif\",\n",
       "            \"size\": 11\n",
       "        },\n",
       "        \"y\": 1.0,\n",
       "        \"x\": 1.0\n",
       "    },\n",
       "    \"width\": 600\n",
       "}\n",
       ");\n",
       "    </script>\n",
       "\n",
       "    </body>\n",
       "</html>\n"
      ]
     },
     "execution_count": 13,
     "metadata": {},
     "output_type": "execute_result"
    }
   ],
   "source": [
    "# prox of nonneg evaluated at z minimizes obj(x) = I(x>=0) + 1/2(x-z)^2\n",
    "\n",
    "z = 1 # try out different values!\n",
    "x = -5:.1:5\n",
    "objx = [xi<0 ? Inf : 0 + 1/2*(xi-z)^2 for xi in x]\n",
    "plot(x, objx)\n",
    "xlabel!(\"x\")\n",
    "ylabel!(\"obj(x)\") "
   ]
  },
  {
   "cell_type": "code",
   "execution_count": 14,
   "metadata": {},
   "outputs": [
    {
     "data": {
      "text/plain": [
       "prox_nonneg (generic function with 1 method)"
      ]
     },
     "execution_count": 14,
     "metadata": {},
     "output_type": "execute_result"
    }
   ],
   "source": [
    "prox_nonneg(x) = max.(0,x)"
   ]
  },
  {
   "cell_type": "code",
   "execution_count": 15,
   "metadata": {},
   "outputs": [
    {
     "data": {
      "application/vnd.plotly.v1+json": {
       "data": [
        {
         "colorbar": {
          "title": ""
         },
         "hoverinfo": "text",
         "legendgroup": "x",
         "line": {
          "color": "rgba(0, 154, 250, 1.000)",
          "dash": "solid",
          "shape": "linear",
          "width": 1
         },
         "marker": {
          "color": "rgba(0, 154, 250, 1.000)",
          "line": {
           "color": "rgba(0, 0, 0, 1.000)",
           "width": 1
          },
          "size": 8,
          "symbol": "octagon"
         },
         "mode": "lines+markers",
         "name": "x",
         "showlegend": true,
         "text": [
          null
         ],
         "type": "scatter",
         "x": [
          -0.9686116513455828
         ],
         "xaxis": "x1",
         "y": [
          0.24857889869734193
         ],
         "yaxis": "y1",
         "zmax": 0.1,
         "zmin": -0.1
        },
        {
         "colorbar": {
          "title": ""
         },
         "hoverinfo": "text",
         "legendgroup": "prox_nonnneg(x)",
         "line": {
          "color": "rgba(227, 111, 71, 1.000)",
          "dash": "solid",
          "shape": "linear",
          "width": 1
         },
         "marker": {
          "color": "rgba(227, 111, 71, 1.000)",
          "line": {
           "color": "rgba(0, 0, 0, 1.000)",
           "width": 1
          },
          "size": 8,
          "symbol": "diamond"
         },
         "mode": "lines+markers",
         "name": "prox_nonnneg(x)",
         "showlegend": true,
         "text": [
          null
         ],
         "type": "scatter",
         "x": [
          0
         ],
         "xaxis": "x1",
         "y": [
          0.24857889869734193
         ],
         "yaxis": "y1",
         "zmax": 0.1,
         "zmin": -0.1
        }
       ],
       "layout": {
        "annotations": [],
        "height": 400,
        "legend": {
         "bgcolor": "rgba(255, 255, 255, 1.000)",
         "bordercolor": "rgba(0, 0, 0, 1.000)",
         "font": {
          "color": "rgba(0, 0, 0, 1.000)",
          "family": "sans-serif",
          "size": 11
         },
         "tracegroupgap": 0,
         "x": 1,
         "y": 1
        },
        "margin": {
         "b": 20,
         "l": 0,
         "r": 0,
         "t": 20
        },
        "paper_bgcolor": "rgba(255, 255, 255, 1.000)",
        "plot_bgcolor": "rgba(255, 255, 255, 1.000)",
        "showlegend": true,
        "width": 600,
        "xaxis": {
         "anchor": "y1",
         "domain": [
          0.0658209390492855,
          0.9934383202099738
         ],
         "gridcolor": "rgba(0, 0, 0, 0.100)",
         "gridwidth": 0.5,
         "linecolor": "rgba(0, 0, 0, 1.000)",
         "mirror": false,
         "range": [
          -1,
          1.2
         ],
         "showgrid": true,
         "showline": true,
         "showticklabels": true,
         "tickangle": 0,
         "tickcolor": "rgb(0, 0, 0)",
         "tickfont": {
          "color": "rgba(0, 0, 0, 1.000)",
          "family": "sans-serif",
          "size": 11
         },
         "tickmode": "array",
         "ticks": "inside",
         "ticktext": [
          "-1.0",
          "-0.5",
          "0.0",
          "0.5",
          "1.0"
         ],
         "tickvals": [
          -1,
          -0.5,
          0,
          0.5,
          1
         ],
         "title": "",
         "titlefont": {
          "color": "rgba(0, 0, 0, 1.000)",
          "family": "sans-serif",
          "size": 15
         },
         "type": "-",
         "visible": true,
         "zeroline": false,
         "zerolinecolor": "rgba(0, 0, 0, 1.000)"
        },
        "yaxis": {
         "anchor": "x1",
         "domain": [
          0.03762029746281716,
          0.9901574803149606
         ],
         "gridcolor": "rgba(0, 0, 0, 0.100)",
         "gridwidth": 0.5,
         "linecolor": "rgba(0, 0, 0, 1.000)",
         "mirror": false,
         "range": [
          -1,
          1.2
         ],
         "showgrid": true,
         "showline": true,
         "showticklabels": true,
         "tickangle": 0,
         "tickcolor": "rgb(0, 0, 0)",
         "tickfont": {
          "color": "rgba(0, 0, 0, 1.000)",
          "family": "sans-serif",
          "size": 11
         },
         "tickmode": "array",
         "ticks": "inside",
         "ticktext": [
          "-1.0",
          "-0.5",
          "0.0",
          "0.5",
          "1.0"
         ],
         "tickvals": [
          -1,
          -0.5,
          0,
          0.5,
          1
         ],
         "title": "",
         "titlefont": {
          "color": "rgba(0, 0, 0, 1.000)",
          "family": "sans-serif",
          "size": 15
         },
         "type": "-",
         "visible": true,
         "zeroline": false,
         "zerolinecolor": "rgba(0, 0, 0, 1.000)"
        }
       }
      },
      "text/html": [
       "<!DOCTYPE html>\n",
       "<html>\n",
       "    <head>\n",
       "        <title>Plots.jl</title>\n",
       "        <meta http-equiv=\"content-type\" content=\"text/html; charset=UTF-8\">\n",
       "        <script src=\"https://cdn.plot.ly/plotly-latest.min.js\"></script>\n",
       "    </head>\n",
       "    <body>\n",
       "            <div id=\"7270158a-6b0f-45a6-be74-3e395394854e\" style=\"width:600px;height:400px;\"></div>\n",
       "    <script>\n",
       "    PLOT = document.getElementById('7270158a-6b0f-45a6-be74-3e395394854e');\n",
       "    Plotly.plot(PLOT, [\n",
       "    {\n",
       "        \"xaxis\": \"x1\",\n",
       "        \"colorbar\": {\n",
       "            \"title\": \"\"\n",
       "        },\n",
       "        \"yaxis\": \"y1\",\n",
       "        \"text\": [\n",
       "            null\n",
       "        ],\n",
       "        \"x\": [\n",
       "            -0.9686116513455828\n",
       "        ],\n",
       "        \"showlegend\": true,\n",
       "        \"mode\": \"lines+markers\",\n",
       "        \"name\": \"x\",\n",
       "        \"zmin\": -0.1,\n",
       "        \"legendgroup\": \"x\",\n",
       "        \"marker\": {\n",
       "            \"symbol\": \"octagon\",\n",
       "            \"color\": \"rgba(0, 154, 250, 1.000)\",\n",
       "            \"line\": {\n",
       "                \"color\": \"rgba(0, 0, 0, 1.000)\",\n",
       "                \"width\": 1\n",
       "            },\n",
       "            \"size\": 8\n",
       "        },\n",
       "        \"zmax\": 0.1,\n",
       "        \"line\": {\n",
       "            \"color\": \"rgba(0, 154, 250, 1.000)\",\n",
       "            \"shape\": \"linear\",\n",
       "            \"dash\": \"solid\",\n",
       "            \"width\": 1\n",
       "        },\n",
       "        \"y\": [\n",
       "            0.24857889869734193\n",
       "        ],\n",
       "        \"type\": \"scatter\",\n",
       "        \"hoverinfo\": \"text\"\n",
       "    },\n",
       "    {\n",
       "        \"xaxis\": \"x1\",\n",
       "        \"colorbar\": {\n",
       "            \"title\": \"\"\n",
       "        },\n",
       "        \"yaxis\": \"y1\",\n",
       "        \"text\": [\n",
       "            null\n",
       "        ],\n",
       "        \"x\": [\n",
       "            0.0\n",
       "        ],\n",
       "        \"showlegend\": true,\n",
       "        \"mode\": \"lines+markers\",\n",
       "        \"name\": \"prox_nonnneg(x)\",\n",
       "        \"zmin\": -0.1,\n",
       "        \"legendgroup\": \"prox_nonnneg(x)\",\n",
       "        \"marker\": {\n",
       "            \"symbol\": \"diamond\",\n",
       "            \"color\": \"rgba(227, 111, 71, 1.000)\",\n",
       "            \"line\": {\n",
       "                \"color\": \"rgba(0, 0, 0, 1.000)\",\n",
       "                \"width\": 1\n",
       "            },\n",
       "            \"size\": 8\n",
       "        },\n",
       "        \"zmax\": 0.1,\n",
       "        \"line\": {\n",
       "            \"color\": \"rgba(227, 111, 71, 1.000)\",\n",
       "            \"shape\": \"linear\",\n",
       "            \"dash\": \"solid\",\n",
       "            \"width\": 1\n",
       "        },\n",
       "        \"y\": [\n",
       "            0.24857889869734193\n",
       "        ],\n",
       "        \"type\": \"scatter\",\n",
       "        \"hoverinfo\": \"text\"\n",
       "    }\n",
       "]\n",
       ", {\n",
       "    \"showlegend\": true,\n",
       "    \"xaxis\": {\n",
       "        \"showticklabels\": true,\n",
       "        \"gridwidth\": 0.5,\n",
       "        \"tickvals\": [\n",
       "            -1.0,\n",
       "            -0.5,\n",
       "            0.0,\n",
       "            0.5,\n",
       "            1.0\n",
       "        ],\n",
       "        \"visible\": true,\n",
       "        \"ticks\": \"inside\",\n",
       "        \"range\": [\n",
       "            -1.0,\n",
       "            1.2\n",
       "        ],\n",
       "        \"domain\": [\n",
       "            0.0658209390492855,\n",
       "            0.9934383202099738\n",
       "        ],\n",
       "        \"tickmode\": \"array\",\n",
       "        \"linecolor\": \"rgba(0, 0, 0, 1.000)\",\n",
       "        \"showgrid\": true,\n",
       "        \"title\": \"\",\n",
       "        \"mirror\": false,\n",
       "        \"tickangle\": 0,\n",
       "        \"showline\": true,\n",
       "        \"gridcolor\": \"rgba(0, 0, 0, 0.100)\",\n",
       "        \"titlefont\": {\n",
       "            \"color\": \"rgba(0, 0, 0, 1.000)\",\n",
       "            \"family\": \"sans-serif\",\n",
       "            \"size\": 15\n",
       "        },\n",
       "        \"tickcolor\": \"rgb(0, 0, 0)\",\n",
       "        \"ticktext\": [\n",
       "            \"-1.0\",\n",
       "            \"-0.5\",\n",
       "            \"0.0\",\n",
       "            \"0.5\",\n",
       "            \"1.0\"\n",
       "        ],\n",
       "        \"zeroline\": false,\n",
       "        \"type\": \"-\",\n",
       "        \"tickfont\": {\n",
       "            \"color\": \"rgba(0, 0, 0, 1.000)\",\n",
       "            \"family\": \"sans-serif\",\n",
       "            \"size\": 11\n",
       "        },\n",
       "        \"zerolinecolor\": \"rgba(0, 0, 0, 1.000)\",\n",
       "        \"anchor\": \"y1\"\n",
       "    },\n",
       "    \"paper_bgcolor\": \"rgba(255, 255, 255, 1.000)\",\n",
       "    \"annotations\": [],\n",
       "    \"height\": 400,\n",
       "    \"margin\": {\n",
       "        \"l\": 0,\n",
       "        \"b\": 20,\n",
       "        \"r\": 0,\n",
       "        \"t\": 20\n",
       "    },\n",
       "    \"plot_bgcolor\": \"rgba(255, 255, 255, 1.000)\",\n",
       "    \"yaxis\": {\n",
       "        \"showticklabels\": true,\n",
       "        \"gridwidth\": 0.5,\n",
       "        \"tickvals\": [\n",
       "            -1.0,\n",
       "            -0.5,\n",
       "            0.0,\n",
       "            0.5,\n",
       "            1.0\n",
       "        ],\n",
       "        \"visible\": true,\n",
       "        \"ticks\": \"inside\",\n",
       "        \"range\": [\n",
       "            -1.0,\n",
       "            1.2\n",
       "        ],\n",
       "        \"domain\": [\n",
       "            0.03762029746281716,\n",
       "            0.9901574803149606\n",
       "        ],\n",
       "        \"tickmode\": \"array\",\n",
       "        \"linecolor\": \"rgba(0, 0, 0, 1.000)\",\n",
       "        \"showgrid\": true,\n",
       "        \"title\": \"\",\n",
       "        \"mirror\": false,\n",
       "        \"tickangle\": 0,\n",
       "        \"showline\": true,\n",
       "        \"gridcolor\": \"rgba(0, 0, 0, 0.100)\",\n",
       "        \"titlefont\": {\n",
       "            \"color\": \"rgba(0, 0, 0, 1.000)\",\n",
       "            \"family\": \"sans-serif\",\n",
       "            \"size\": 15\n",
       "        },\n",
       "        \"tickcolor\": \"rgb(0, 0, 0)\",\n",
       "        \"ticktext\": [\n",
       "            \"-1.0\",\n",
       "            \"-0.5\",\n",
       "            \"0.0\",\n",
       "            \"0.5\",\n",
       "            \"1.0\"\n",
       "        ],\n",
       "        \"zeroline\": false,\n",
       "        \"type\": \"-\",\n",
       "        \"tickfont\": {\n",
       "            \"color\": \"rgba(0, 0, 0, 1.000)\",\n",
       "            \"family\": \"sans-serif\",\n",
       "            \"size\": 11\n",
       "        },\n",
       "        \"zerolinecolor\": \"rgba(0, 0, 0, 1.000)\",\n",
       "        \"anchor\": \"x1\"\n",
       "    },\n",
       "    \"legend\": {\n",
       "        \"tracegroupgap\": 0,\n",
       "        \"bordercolor\": \"rgba(0, 0, 0, 1.000)\",\n",
       "        \"bgcolor\": \"rgba(255, 255, 255, 1.000)\",\n",
       "        \"font\": {\n",
       "            \"color\": \"rgba(0, 0, 0, 1.000)\",\n",
       "            \"family\": \"sans-serif\",\n",
       "            \"size\": 11\n",
       "        },\n",
       "        \"y\": 1.0,\n",
       "        \"x\": 1.0\n",
       "    },\n",
       "    \"width\": 600\n",
       "}\n",
       ");\n",
       "    </script>\n",
       "\n",
       "    </body>\n",
       "</html>\n"
      ]
     },
     "execution_count": 15,
     "metadata": {},
     "output_type": "execute_result"
    }
   ],
   "source": [
    "x = randn(2)\n",
    "x /= norm(x)\n",
    "px = prox_nonneg(x)\n",
    "\n",
    "plot([x[1]],[x[2]],shape=:o,label=\"x\")\n",
    "plot!([px[1]],[px[2]],shape=:d,label=\"prox_nonnneg(x)\")\n",
    "xlims!((-1,1.2))\n",
    "ylims!((-1,1.2))"
   ]
  },
  {
   "cell_type": "markdown",
   "metadata": {},
   "source": [
    "# Prox of l1 regularizer"
   ]
  },
  {
   "cell_type": "code",
   "execution_count": 16,
   "metadata": {},
   "outputs": [
    {
     "data": {
      "application/vnd.plotly.v1+json": {
       "data": [
        {
         "colorbar": {
          "title": ""
         },
         "hoverinfo": "text",
         "legendgroup": "y1",
         "line": {
          "color": "rgba(0, 154, 250, 1.000)",
          "dash": "solid",
          "shape": "linear",
          "width": 1
         },
         "mode": "lines",
         "name": "y1",
         "showlegend": true,
         "text": [
          null,
          null,
          null,
          null,
          null,
          null,
          null,
          null,
          null,
          null,
          null,
          null,
          null,
          null,
          null,
          null,
          null,
          null,
          null,
          null,
          null,
          null,
          null,
          null,
          null,
          null,
          null,
          null,
          null,
          null,
          null,
          null,
          null,
          null,
          null,
          null,
          null,
          null,
          null,
          null,
          null,
          null,
          null,
          null,
          null,
          null,
          null,
          null,
          null,
          null,
          null,
          null,
          null,
          null,
          null,
          null,
          null,
          null,
          null,
          null,
          null
         ],
         "type": "scatter",
         "x": [
          -3,
          -2.9,
          -2.8,
          -2.7,
          -2.6,
          -2.5,
          -2.4,
          -2.3,
          -2.2,
          -2.1,
          -2,
          -1.9,
          -1.8,
          -1.7,
          -1.6,
          -1.5,
          -1.4,
          -1.3,
          -1.2,
          -1.1,
          -1,
          -0.9,
          -0.8,
          -0.7,
          -0.6,
          -0.5,
          -0.4,
          -0.3,
          -0.2,
          -0.1,
          0,
          0.1,
          0.2,
          0.3,
          0.4,
          0.5,
          0.6,
          0.7,
          0.8,
          0.9,
          1,
          1.1,
          1.2,
          1.3,
          1.4,
          1.5,
          1.6,
          1.7,
          1.8,
          1.9,
          2,
          2.1,
          2.2,
          2.3,
          2.4,
          2.5,
          2.6,
          2.7,
          2.8,
          2.9,
          3
         ],
         "xaxis": "x1",
         "y": [
          15.5,
          14.905000000000003,
          14.32,
          13.745000000000001,
          13.179999999999998,
          12.625,
          12.080000000000002,
          11.544999999999998,
          11.02,
          10.504999999999999,
          10,
          9.504999999999999,
          9.02,
          8.545,
          8.08,
          7.625,
          7.18,
          6.744999999999999,
          6.320000000000001,
          5.905000000000001,
          5.5,
          5.105,
          4.72,
          4.345000000000001,
          3.9800000000000004,
          3.625,
          3.28,
          2.9449999999999994,
          2.6200000000000006,
          2.305,
          2,
          1.905,
          1.82,
          1.7449999999999999,
          1.6800000000000002,
          1.625,
          1.5799999999999998,
          1.545,
          1.52,
          1.5050000000000001,
          1.5,
          1.505,
          1.52,
          1.545,
          1.58,
          1.625,
          1.6800000000000002,
          1.7449999999999999,
          1.82,
          1.905,
          2,
          2.105,
          2.22,
          2.3449999999999998,
          2.48,
          2.625,
          2.7800000000000002,
          2.9450000000000003,
          3.1199999999999997,
          3.3049999999999997,
          3.5
         ],
         "yaxis": "y1",
         "zmax": 0.1,
         "zmin": -0.1
        }
       ],
       "layout": {
        "annotations": [],
        "height": 400,
        "legend": {
         "bgcolor": "rgba(255, 255, 255, 1.000)",
         "bordercolor": "rgba(0, 0, 0, 1.000)",
         "font": {
          "color": "rgba(0, 0, 0, 1.000)",
          "family": "sans-serif",
          "size": 11
         },
         "tracegroupgap": 0,
         "x": 1,
         "y": 1
        },
        "margin": {
         "b": 20,
         "l": 0,
         "r": 0,
         "t": 20
        },
        "paper_bgcolor": "rgba(255, 255, 255, 1.000)",
        "plot_bgcolor": "rgba(255, 255, 255, 1.000)",
        "showlegend": true,
        "width": 600,
        "xaxis": {
         "anchor": "y1",
         "domain": [
          0.061654272382618835,
          0.9934383202099737
         ],
         "gridcolor": "rgba(0, 0, 0, 0.100)",
         "gridwidth": 0.5,
         "linecolor": "rgba(0, 0, 0, 1.000)",
         "mirror": false,
         "range": [
          -3.18,
          3.18
         ],
         "showgrid": true,
         "showline": true,
         "showticklabels": true,
         "tickangle": 0,
         "tickcolor": "rgb(0, 0, 0)",
         "tickfont": {
          "color": "rgba(0, 0, 0, 1.000)",
          "family": "sans-serif",
          "size": 11
         },
         "tickmode": "array",
         "ticks": "inside",
         "ticktext": [
          "-3",
          "-2",
          "-1",
          "0",
          "1",
          "2",
          "3"
         ],
         "tickvals": [
          -3,
          -2,
          -1,
          0,
          1,
          2,
          3
         ],
         "title": "x",
         "titlefont": {
          "color": "rgba(0, 0, 0, 1.000)",
          "family": "sans-serif",
          "size": 15
         },
         "type": "-",
         "visible": true,
         "zeroline": false,
         "zerolinecolor": "rgba(0, 0, 0, 1.000)"
        },
        "yaxis": {
         "anchor": "x1",
         "domain": [
          0.07581474190726165,
          0.9901574803149606
         ],
         "gridcolor": "rgba(0, 0, 0, 0.100)",
         "gridwidth": 0.5,
         "linecolor": "rgba(0, 0, 0, 1.000)",
         "mirror": false,
         "range": [
          1.08,
          15.92
         ],
         "showgrid": true,
         "showline": true,
         "showticklabels": true,
         "tickangle": 0,
         "tickcolor": "rgb(0, 0, 0)",
         "tickfont": {
          "color": "rgba(0, 0, 0, 1.000)",
          "family": "sans-serif",
          "size": 11
         },
         "tickmode": "array",
         "ticks": "inside",
         "ticktext": [
          "2",
          "4",
          "6",
          "8",
          "10",
          "12",
          "14"
         ],
         "tickvals": [
          2,
          4,
          6,
          8,
          10,
          12,
          14
         ],
         "title": "obj(x)",
         "titlefont": {
          "color": "rgba(0, 0, 0, 1.000)",
          "family": "sans-serif",
          "size": 15
         },
         "type": "-",
         "visible": true,
         "zeroline": false,
         "zerolinecolor": "rgba(0, 0, 0, 1.000)"
        }
       }
      },
      "text/html": [
       "<!DOCTYPE html>\n",
       "<html>\n",
       "    <head>\n",
       "        <title>Plots.jl</title>\n",
       "        <meta http-equiv=\"content-type\" content=\"text/html; charset=UTF-8\">\n",
       "        <script src=\"https://cdn.plot.ly/plotly-latest.min.js\"></script>\n",
       "    </head>\n",
       "    <body>\n",
       "            <div id=\"8de21edd-281e-4a9d-8449-daa5c4d3f07a\" style=\"width:600px;height:400px;\"></div>\n",
       "    <script>\n",
       "    PLOT = document.getElementById('8de21edd-281e-4a9d-8449-daa5c4d3f07a');\n",
       "    Plotly.plot(PLOT, [\n",
       "    {\n",
       "        \"xaxis\": \"x1\",\n",
       "        \"colorbar\": {\n",
       "            \"title\": \"\"\n",
       "        },\n",
       "        \"yaxis\": \"y1\",\n",
       "        \"text\": [\n",
       "            null,\n",
       "            null,\n",
       "            null,\n",
       "            null,\n",
       "            null,\n",
       "            null,\n",
       "            null,\n",
       "            null,\n",
       "            null,\n",
       "            null,\n",
       "            null,\n",
       "            null,\n",
       "            null,\n",
       "            null,\n",
       "            null,\n",
       "            null,\n",
       "            null,\n",
       "            null,\n",
       "            null,\n",
       "            null,\n",
       "            null,\n",
       "            null,\n",
       "            null,\n",
       "            null,\n",
       "            null,\n",
       "            null,\n",
       "            null,\n",
       "            null,\n",
       "            null,\n",
       "            null,\n",
       "            null,\n",
       "            null,\n",
       "            null,\n",
       "            null,\n",
       "            null,\n",
       "            null,\n",
       "            null,\n",
       "            null,\n",
       "            null,\n",
       "            null,\n",
       "            null,\n",
       "            null,\n",
       "            null,\n",
       "            null,\n",
       "            null,\n",
       "            null,\n",
       "            null,\n",
       "            null,\n",
       "            null,\n",
       "            null,\n",
       "            null,\n",
       "            null,\n",
       "            null,\n",
       "            null,\n",
       "            null,\n",
       "            null,\n",
       "            null,\n",
       "            null,\n",
       "            null,\n",
       "            null,\n",
       "            null\n",
       "        ],\n",
       "        \"x\": [\n",
       "            -3.0,\n",
       "            -2.9,\n",
       "            -2.8,\n",
       "            -2.7,\n",
       "            -2.6,\n",
       "            -2.5,\n",
       "            -2.4,\n",
       "            -2.3,\n",
       "            -2.2,\n",
       "            -2.1,\n",
       "            -2.0,\n",
       "            -1.9,\n",
       "            -1.8,\n",
       "            -1.7,\n",
       "            -1.6,\n",
       "            -1.5,\n",
       "            -1.4,\n",
       "            -1.3,\n",
       "            -1.2,\n",
       "            -1.1,\n",
       "            -1.0,\n",
       "            -0.9,\n",
       "            -0.8,\n",
       "            -0.7,\n",
       "            -0.6,\n",
       "            -0.5,\n",
       "            -0.4,\n",
       "            -0.3,\n",
       "            -0.2,\n",
       "            -0.1,\n",
       "            0.0,\n",
       "            0.1,\n",
       "            0.2,\n",
       "            0.3,\n",
       "            0.4,\n",
       "            0.5,\n",
       "            0.6,\n",
       "            0.7,\n",
       "            0.8,\n",
       "            0.9,\n",
       "            1.0,\n",
       "            1.1,\n",
       "            1.2,\n",
       "            1.3,\n",
       "            1.4,\n",
       "            1.5,\n",
       "            1.6,\n",
       "            1.7,\n",
       "            1.8,\n",
       "            1.9,\n",
       "            2.0,\n",
       "            2.1,\n",
       "            2.2,\n",
       "            2.3,\n",
       "            2.4,\n",
       "            2.5,\n",
       "            2.6,\n",
       "            2.7,\n",
       "            2.8,\n",
       "            2.9,\n",
       "            3.0\n",
       "        ],\n",
       "        \"showlegend\": true,\n",
       "        \"mode\": \"lines\",\n",
       "        \"name\": \"y1\",\n",
       "        \"zmin\": -0.1,\n",
       "        \"legendgroup\": \"y1\",\n",
       "        \"zmax\": 0.1,\n",
       "        \"line\": {\n",
       "            \"color\": \"rgba(0, 154, 250, 1.000)\",\n",
       "            \"shape\": \"linear\",\n",
       "            \"dash\": \"solid\",\n",
       "            \"width\": 1\n",
       "        },\n",
       "        \"y\": [\n",
       "            15.5,\n",
       "            14.905000000000003,\n",
       "            14.32,\n",
       "            13.745000000000001,\n",
       "            13.179999999999998,\n",
       "            12.625,\n",
       "            12.080000000000002,\n",
       "            11.544999999999998,\n",
       "            11.02,\n",
       "            10.504999999999999,\n",
       "            10.0,\n",
       "            9.504999999999999,\n",
       "            9.02,\n",
       "            8.545,\n",
       "            8.08,\n",
       "            7.625,\n",
       "            7.18,\n",
       "            6.744999999999999,\n",
       "            6.320000000000001,\n",
       "            5.905000000000001,\n",
       "            5.5,\n",
       "            5.105,\n",
       "            4.72,\n",
       "            4.345000000000001,\n",
       "            3.9800000000000004,\n",
       "            3.625,\n",
       "            3.28,\n",
       "            2.9449999999999994,\n",
       "            2.6200000000000006,\n",
       "            2.305,\n",
       "            2.0,\n",
       "            1.905,\n",
       "            1.82,\n",
       "            1.7449999999999999,\n",
       "            1.6800000000000002,\n",
       "            1.625,\n",
       "            1.5799999999999998,\n",
       "            1.545,\n",
       "            1.52,\n",
       "            1.5050000000000001,\n",
       "            1.5,\n",
       "            1.505,\n",
       "            1.52,\n",
       "            1.545,\n",
       "            1.58,\n",
       "            1.625,\n",
       "            1.6800000000000002,\n",
       "            1.7449999999999999,\n",
       "            1.82,\n",
       "            1.905,\n",
       "            2.0,\n",
       "            2.105,\n",
       "            2.22,\n",
       "            2.3449999999999998,\n",
       "            2.48,\n",
       "            2.625,\n",
       "            2.7800000000000002,\n",
       "            2.9450000000000003,\n",
       "            3.1199999999999997,\n",
       "            3.3049999999999997,\n",
       "            3.5\n",
       "        ],\n",
       "        \"type\": \"scatter\",\n",
       "        \"hoverinfo\": \"text\"\n",
       "    }\n",
       "]\n",
       ", {\n",
       "    \"showlegend\": true,\n",
       "    \"xaxis\": {\n",
       "        \"showticklabels\": true,\n",
       "        \"gridwidth\": 0.5,\n",
       "        \"tickvals\": [\n",
       "            -3.0,\n",
       "            -2.0,\n",
       "            -1.0,\n",
       "            0.0,\n",
       "            1.0,\n",
       "            2.0,\n",
       "            3.0\n",
       "        ],\n",
       "        \"visible\": true,\n",
       "        \"ticks\": \"inside\",\n",
       "        \"range\": [\n",
       "            -3.18,\n",
       "            3.18\n",
       "        ],\n",
       "        \"domain\": [\n",
       "            0.061654272382618835,\n",
       "            0.9934383202099737\n",
       "        ],\n",
       "        \"tickmode\": \"array\",\n",
       "        \"linecolor\": \"rgba(0, 0, 0, 1.000)\",\n",
       "        \"showgrid\": true,\n",
       "        \"title\": \"x\",\n",
       "        \"mirror\": false,\n",
       "        \"tickangle\": 0,\n",
       "        \"showline\": true,\n",
       "        \"gridcolor\": \"rgba(0, 0, 0, 0.100)\",\n",
       "        \"titlefont\": {\n",
       "            \"color\": \"rgba(0, 0, 0, 1.000)\",\n",
       "            \"family\": \"sans-serif\",\n",
       "            \"size\": 15\n",
       "        },\n",
       "        \"tickcolor\": \"rgb(0, 0, 0)\",\n",
       "        \"ticktext\": [\n",
       "            \"-3\",\n",
       "            \"-2\",\n",
       "            \"-1\",\n",
       "            \"0\",\n",
       "            \"1\",\n",
       "            \"2\",\n",
       "            \"3\"\n",
       "        ],\n",
       "        \"zeroline\": false,\n",
       "        \"type\": \"-\",\n",
       "        \"tickfont\": {\n",
       "            \"color\": \"rgba(0, 0, 0, 1.000)\",\n",
       "            \"family\": \"sans-serif\",\n",
       "            \"size\": 11\n",
       "        },\n",
       "        \"zerolinecolor\": \"rgba(0, 0, 0, 1.000)\",\n",
       "        \"anchor\": \"y1\"\n",
       "    },\n",
       "    \"paper_bgcolor\": \"rgba(255, 255, 255, 1.000)\",\n",
       "    \"annotations\": [],\n",
       "    \"height\": 400,\n",
       "    \"margin\": {\n",
       "        \"l\": 0,\n",
       "        \"b\": 20,\n",
       "        \"r\": 0,\n",
       "        \"t\": 20\n",
       "    },\n",
       "    \"plot_bgcolor\": \"rgba(255, 255, 255, 1.000)\",\n",
       "    \"yaxis\": {\n",
       "        \"showticklabels\": true,\n",
       "        \"gridwidth\": 0.5,\n",
       "        \"tickvals\": [\n",
       "            2.0,\n",
       "            4.0,\n",
       "            6.0,\n",
       "            8.0,\n",
       "            10.0,\n",
       "            12.0,\n",
       "            14.0\n",
       "        ],\n",
       "        \"visible\": true,\n",
       "        \"ticks\": \"inside\",\n",
       "        \"range\": [\n",
       "            1.08,\n",
       "            15.92\n",
       "        ],\n",
       "        \"domain\": [\n",
       "            0.07581474190726165,\n",
       "            0.9901574803149606\n",
       "        ],\n",
       "        \"tickmode\": \"array\",\n",
       "        \"linecolor\": \"rgba(0, 0, 0, 1.000)\",\n",
       "        \"showgrid\": true,\n",
       "        \"title\": \"obj(x)\",\n",
       "        \"mirror\": false,\n",
       "        \"tickangle\": 0,\n",
       "        \"showline\": true,\n",
       "        \"gridcolor\": \"rgba(0, 0, 0, 0.100)\",\n",
       "        \"titlefont\": {\n",
       "            \"color\": \"rgba(0, 0, 0, 1.000)\",\n",
       "            \"family\": \"sans-serif\",\n",
       "            \"size\": 15\n",
       "        },\n",
       "        \"tickcolor\": \"rgb(0, 0, 0)\",\n",
       "        \"ticktext\": [\n",
       "            \"2\",\n",
       "            \"4\",\n",
       "            \"6\",\n",
       "            \"8\",\n",
       "            \"10\",\n",
       "            \"12\",\n",
       "            \"14\"\n",
       "        ],\n",
       "        \"zeroline\": false,\n",
       "        \"type\": \"-\",\n",
       "        \"tickfont\": {\n",
       "            \"color\": \"rgba(0, 0, 0, 1.000)\",\n",
       "            \"family\": \"sans-serif\",\n",
       "            \"size\": 11\n",
       "        },\n",
       "        \"zerolinecolor\": \"rgba(0, 0, 0, 1.000)\",\n",
       "        \"anchor\": \"x1\"\n",
       "    },\n",
       "    \"legend\": {\n",
       "        \"tracegroupgap\": 0,\n",
       "        \"bordercolor\": \"rgba(0, 0, 0, 1.000)\",\n",
       "        \"bgcolor\": \"rgba(255, 255, 255, 1.000)\",\n",
       "        \"font\": {\n",
       "            \"color\": \"rgba(0, 0, 0, 1.000)\",\n",
       "            \"family\": \"sans-serif\",\n",
       "            \"size\": 11\n",
       "        },\n",
       "        \"y\": 1.0,\n",
       "        \"x\": 1.0\n",
       "    },\n",
       "    \"width\": 600\n",
       "}\n",
       ");\n",
       "    </script>\n",
       "\n",
       "    </body>\n",
       "</html>\n"
      ]
     },
     "execution_count": 16,
     "metadata": {},
     "output_type": "execute_result"
    }
   ],
   "source": [
    "# prox of l1 evaluated at z minimizes |x| + 1/2(x-z)^2\n",
    "z = 2\n",
    "x = -3:.1:3\n",
    "objx = [abs(xi) + 1/2*(xi-z)^2 for xi in x]\n",
    "plot(x, objx)\n",
    "xlabel!(\"x\")\n",
    "ylabel!(\"obj(x)\")"
   ]
  },
  {
   "cell_type": "code",
   "execution_count": 17,
   "metadata": {},
   "outputs": [
    {
     "data": {
      "text/plain": [
       "prox_l1 (generic function with 4 methods)"
      ]
     },
     "execution_count": 17,
     "metadata": {},
     "output_type": "execute_result"
    }
   ],
   "source": [
    "function prox_l1(x::Number, alpha=1)\n",
    "    if x > alpha\n",
    "        return x-alpha\n",
    "    elseif x < -alpha\n",
    "        return x + alpha\n",
    "    else\n",
    "        return 0\n",
    "    end\n",
    "end\n",
    "function prox_l1(x::AbstractArray, alpha=1)\n",
    "    return reshape(Float64[prox_l1(xi, alpha) for xi in x], size(x))\n",
    "end"
   ]
  },
  {
   "cell_type": "code",
   "execution_count": 7,
   "metadata": {},
   "outputs": [
    {
     "name": "stdout",
     "output_type": "stream",
     "text": [
      "x = randn() = -0.044544268986984666\n",
      "px = prox_l1(x) = 0\n"
     ]
    }
   ],
   "source": [
    "@show x = randn()\n",
    "@show px = prox_l1(x);"
   ]
  },
  {
   "cell_type": "code",
   "execution_count": 8,
   "metadata": {},
   "outputs": [
    {
     "data": {
      "text/html": [
       "<script src=\"/Users/madeleine/.julia/v0.6/Plots/src/backends/../../deps/plotly-latest.min.js\"></script>    <div id=\"216e8055-618c-4ea8-b71c-9f0c87633d33\" style=\"width:600px;height:400px;\"></div>\n",
       "    <script>\n",
       "    PLOT = document.getElementById('216e8055-618c-4ea8-b71c-9f0c87633d33');\n",
       "    Plotly.plot(PLOT, [{\"showlegend\":true,\"mode\":\"lines\",\"xaxis\":\"x\",\"colorbar\":{\"title\":\"\"},\"line\":{\"color\":\"rgba(0, 154, 250, 1.000)\",\"shape\":\"linear\",\"dash\":\"solid\",\"width\":1},\"y\":[-1.0,-0.9595959595959596,-0.9191919191919191,-0.8787878787878789,-0.8383838383838385,-0.797979797979798,-0.7575757575757576,-0.7171717171717171,-0.6767676767676767,-0.6363636363636365,-0.595959595959596,-0.5555555555555556,-0.5151515151515151,-0.4747474747474747,-0.43434343434343425,-0.39393939393939403,-0.3535353535353536,-0.31313131313131315,-0.2727272727272727,-0.23232323232323226,-0.19191919191919182,-0.1515151515151516,-0.11111111111111116,-0.07070707070707072,-0.030303030303030276,0,0,0,0,0,0,0,0,0,0,0,0,0,0,0,0,0,0,0,0,0,0,0,0,0,0,0,0,0,0,0,0,0,0,0,0,0,0,0,0,0,0,0,0,0,0,0,0,0,0,0.030303030303030276,0.07070707070707072,0.11111111111111116,0.1515151515151516,0.19191919191919182,0.23232323232323226,0.2727272727272727,0.31313131313131315,0.3535353535353536,0.39393939393939403,0.43434343434343425,0.4747474747474747,0.5151515151515151,0.5555555555555556,0.595959595959596,0.6363636363636365,0.6767676767676767,0.7171717171717171,0.7575757575757576,0.797979797979798,0.8383838383838385,0.8787878787878789,0.9191919191919191,0.9595959595959596,1.0],\"type\":\"scatter\",\"name\":\"y1\",\"yaxis\":\"y\",\"x\":[-2.0,-1.9595959595959596,-1.9191919191919191,-1.878787878787879,-1.8383838383838385,-1.797979797979798,-1.7575757575757576,-1.7171717171717171,-1.6767676767676767,-1.6363636363636365,-1.595959595959596,-1.5555555555555556,-1.5151515151515151,-1.4747474747474747,-1.4343434343434343,-1.393939393939394,-1.3535353535353536,-1.3131313131313131,-1.2727272727272727,-1.2323232323232323,-1.1919191919191918,-1.1515151515151516,-1.1111111111111112,-1.0707070707070707,-1.0303030303030303,-0.98989898989899,-0.9494949494949495,-0.9090909090909091,-0.8686868686868687,-0.8282828282828283,-0.7878787878787878,-0.7474747474747475,-0.7070707070707071,-0.6666666666666666,-0.6262626262626263,-0.5858585858585859,-0.5454545454545454,-0.5050505050505051,-0.46464646464646464,-0.42424242424242425,-0.3838383838383838,-0.3434343434343434,-0.30303030303030304,-0.26262626262626265,-0.2222222222222222,-0.18181818181818182,-0.1414141414141414,-0.10101010101010101,-0.06060606060606061,-0.020202020202020204,0.020202020202020204,0.06060606060606061,0.10101010101010101,0.1414141414141414,0.18181818181818182,0.2222222222222222,0.26262626262626265,0.30303030303030304,0.3434343434343434,0.3838383838383838,0.42424242424242425,0.46464646464646464,0.5050505050505051,0.5454545454545454,0.5858585858585859,0.6262626262626263,0.6666666666666666,0.7070707070707071,0.7474747474747475,0.7878787878787878,0.8282828282828283,0.8686868686868687,0.9090909090909091,0.9494949494949495,0.98989898989899,1.0303030303030303,1.0707070707070707,1.1111111111111112,1.1515151515151516,1.1919191919191918,1.2323232323232323,1.2727272727272727,1.3131313131313131,1.3535353535353536,1.393939393939394,1.4343434343434343,1.4747474747474747,1.5151515151515151,1.5555555555555556,1.595959595959596,1.6363636363636365,1.6767676767676767,1.7171717171717171,1.7575757575757576,1.797979797979798,1.8383838383838385,1.878787878787879,1.9191919191919191,1.9595959595959596,2.0]}], {\"showlegend\":true,\"xaxis\":{\"tickvals\":[-2.0,-1.0,0.0,1.0,2.0],\"ticks\":\"inside\",\"tickmode\":\"array\",\"domain\":[0.09128390201224845,0.9934383202099738],\"linecolor\":\"rgba(0, 0, 0, 1.000)\",\"showgrid\":true,\"title\":\"x\",\"tickangle\":0,\"titlefont\":{\"color\":\"rgba(0, 0, 0, 1.000)\",\"family\":\"sans-serif\",\"size\":15},\"tickcolor\":\"rgba(0, 0, 0, 1.000)\",\"ticktext\":[\"-2\",\"-1\",\"0\",\"1\",\"2\"],\"zeroline\":false,\"type\":\"-\",\"tickfont\":{\"color\":\"rgba(0, 0, 0, 1.000)\",\"family\":\"sans-serif\",\"size\":11},\"anchor\":\"y\"},\"paper_bgcolor\":\"rgba(255, 255, 255, 1.000)\",\"annotations\":[],\"height\":400,\"margin\":{\"l\":0,\"b\":20,\"r\":0,\"t\":20},\"plot_bgcolor\":\"rgba(255, 255, 255, 1.000)\",\"yaxis\":{\"tickvals\":[-1.0,-0.5,0.0,0.5,1.0],\"ticks\":\"inside\",\"tickmode\":\"array\",\"domain\":[0.07581474190726165,0.9901574803149606],\"linecolor\":\"rgba(0, 0, 0, 1.000)\",\"showgrid\":true,\"title\":\"prox_l1(x)\",\"tickangle\":0,\"titlefont\":{\"color\":\"rgba(0, 0, 0, 1.000)\",\"family\":\"sans-serif\",\"size\":15},\"tickcolor\":\"rgba(0, 0, 0, 1.000)\",\"ticktext\":[\"-1.0\",\"-0.5\",\"0.0\",\"0.5\",\"1.0\"],\"zeroline\":false,\"type\":\"-\",\"tickfont\":{\"color\":\"rgba(0, 0, 0, 1.000)\",\"family\":\"sans-serif\",\"size\":11},\"anchor\":\"x\"},\"legend\":{\"bordercolor\":\"rgba(0, 0, 0, 1.000)\",\"bgcolor\":\"rgba(255, 255, 255, 1.000)\",\"font\":{\"color\":\"rgba(0, 0, 0, 1.000)\",\"family\":\"sans-serif\",\"size\":11},\"y\":1.0,\"x\":1.0},\"width\":600});\n",
       "    </script>\n"
      ]
     },
     "execution_count": 8,
     "metadata": {},
     "output_type": "execute_result"
    }
   ],
   "source": [
    "x = linspace(-2, 2, 100)\n",
    "px = [prox_l1(xi) for xi in x]\n",
    "plot(x, px)\n",
    "xlabel!(\"x\")\n",
    "ylabel!(\"prox_l1(x)\")"
   ]
  },
  {
   "cell_type": "code",
   "execution_count": 9,
   "metadata": {},
   "outputs": [
    {
     "name": "stdout",
     "output_type": "stream",
     "text": [
      "x = randn(2) = [-0.787789, -0.110904]\n",
      "px = prox_l1(x) = [0.0, 0.0]\n"
     ]
    }
   ],
   "source": [
    "@show x = randn(2)\n",
    "@show px = prox_l1(x);"
   ]
  },
  {
   "cell_type": "markdown",
   "metadata": {},
   "source": [
    "# proximal gradient method"
   ]
  },
  {
   "cell_type": "markdown",
   "metadata": {},
   "source": [
    "$$\\nabla \\|Xw-y\\|^2 = \\nabla((Xw-y)^T (Xw-y)) = 2X^T(Xw-y)$$"
   ]
  },
  {
   "cell_type": "code",
   "execution_count": 10,
   "metadata": {},
   "outputs": [
    {
     "data": {
      "text/plain": [
       "proxgrad_quad_nonneg (generic function with 1 method)"
      ]
     },
     "execution_count": 10,
     "metadata": {},
     "output_type": "execute_result"
    }
   ],
   "source": [
    "# proximal gradient method for quadratic loss and nonnegative regularizer\n",
    "function proxgrad_quad_nonneg(X, y; maxiters = 10, stepsize = 1, w = zeros(size(X,2)))\n",
    "    w = zeros(size(X,2))\n",
    "    objval = Float64[]\n",
    "    for i=1:maxiters\n",
    "        # gradient step\n",
    "        g = 2X'*(X*w-y) # compute quadratic gradient\n",
    "        z = w - stepsize*g\n",
    "        # prox step\n",
    "        w = prox_nonneg(z)\n",
    "        # record objective value\n",
    "        push!(objval, norm(X*w-y)^2 + any(w<0) ? Inf : 0)\n",
    "    end\n",
    "    return w, objval\n",
    "end"
   ]
  },
  {
   "cell_type": "code",
   "execution_count": 11,
   "metadata": {},
   "outputs": [
    {
     "data": {
      "text/plain": [
       "proxgrad_quad_l1 (generic function with 1 method)"
      ]
     },
     "execution_count": 11,
     "metadata": {},
     "output_type": "execute_result"
    }
   ],
   "source": [
    "# proximal gradient method for quadratic loss and l1 regularizer\n",
    "function proxgrad_quad_l1(X, y; maxiters = 10, stepsize = 1, λ = 1, w = zeros(size(X,2)))\n",
    "    objval = Float64[]\n",
    "    for i=1:maxiters\n",
    "        # gradient step\n",
    "        g = 2X'*(X*w-y) # compute quadratic gradient\n",
    "        z = w - stepsize*g\n",
    "        # prox step\n",
    "        w = prox_l1(z, stepsize*λ)\n",
    "        # record objective value\n",
    "        push!(objval, norm(X*w-y)^2 + norm(w,1))\n",
    "    end\n",
    "    return w, objval\n",
    "end"
   ]
  },
  {
   "cell_type": "markdown",
   "metadata": {},
   "source": [
    "let's solve the problem $$\\text{minimize} \\quad (y-w)^2 + |w|$$"
   ]
  },
  {
   "cell_type": "code",
   "execution_count": 12,
   "metadata": {},
   "outputs": [
    {
     "data": {
      "text/html": [
       "<script src=\"/Users/madeleine/.julia/v0.6/Plots/src/backends/../../deps/plotly-latest.min.js\"></script>    <div id=\"4fa9efdd-b785-46f1-97fe-5ee8e9036787\" style=\"width:600px;height:400px;\"></div>\n",
       "    <script>\n",
       "    PLOT = document.getElementById('4fa9efdd-b785-46f1-97fe-5ee8e9036787');\n",
       "    Plotly.plot(PLOT, [{\"showlegend\":true,\"mode\":\"lines\",\"xaxis\":\"x\",\"colorbar\":{\"title\":\"\"},\"line\":{\"color\":\"rgba(0, 154, 250, 1.000)\",\"shape\":\"linear\",\"dash\":\"solid\",\"width\":1},\"y\":[28.0,27.33700642791552,26.68135904499541,26.03305785123967,25.392102846648303,24.758494031221304,24.13223140495868,23.513314967860424,22.901744719926544,22.297520661157026,21.70064279155189,21.111111111111114,20.528925619834716,19.95408631772268,19.38659320477502,18.826446280991735,18.27364554637282,17.728191000918272,17.1900826446281,16.6593204775023,16.135904499540864,15.619834710743802,15.111111111111112,14.60973370064279,14.115702479338843,13.629017447199265,13.149678604224059,12.67768595041322,12.213039485766757,11.755739210284663,11.305785123966942,10.86317722681359,10.427915518824609,10.0,9.579430670339761,9.166207529843895,8.760330578512397,8.361799816345272,7.970615243342518,7.586776859504132,7.2102846648301195,6.841138659320478,6.479338842975206,6.124885215794307,5.777777777777779,5.438016528925618,5.105601469237832,4.780532598714416,4.462809917355371,4.152433425160698,3.9100091827364554,3.735537190082645,3.5684113865932043,3.4086317722681354,3.2561983471074383,3.1111111111111116,2.973370064279155,2.84297520661157,2.719926538108356,2.6042240587695136,2.4958677685950414,2.3948576675849402,2.3011937557392104,2.214876033057851,2.135904499540863,2.0642791551882462,2.0,1.943067033976125,1.8934802571166207,1.8512396694214877,1.8163452708907255,1.7887970615243343,1.7685950413223142,1.755739210284665,1.7502295684113867,1.7520661157024793,1.761248852157943,1.777777777777778,1.8016528925619835,1.8328741965105602,1.8714416896235078,1.9173553719008265,1.9706152433425161,2.0312213039485765,2.0991735537190084,2.1744719926538107,2.257116620752984,2.347107438016529,2.4444444444444446,2.549127640036731,2.6611570247933884,2.7805325987144167,2.9072543617998163,3.0413223140495864,3.182736455463728,3.331496786042241,3.4876033057851243,3.6510560146923785,3.821854912764004,4.0],\"type\":\"scatter\",\"name\":\"objective\",\"yaxis\":\"y\",\"x\":[-3.0,-2.9393939393939394,-2.878787878787879,-2.8181818181818183,-2.757575757575758,-2.696969696969697,-2.6363636363636362,-2.5757575757575757,-2.515151515151515,-2.4545454545454546,-2.393939393939394,-2.3333333333333335,-2.272727272727273,-2.212121212121212,-2.1515151515151514,-2.090909090909091,-2.0303030303030303,-1.9696969696969697,-1.9090909090909092,-1.8484848484848484,-1.7878787878787878,-1.7272727272727273,-1.6666666666666667,-1.606060606060606,-1.5454545454545454,-1.4848484848484849,-1.4242424242424243,-1.3636363636363635,-1.303030303030303,-1.2424242424242424,-1.1818181818181819,-1.121212121212121,-1.0606060606060606,-1.0,-0.9393939393939394,-0.8787878787878788,-0.8181818181818182,-0.7575757575757576,-0.696969696969697,-0.6363636363636364,-0.5757575757575758,-0.5151515151515151,-0.45454545454545453,-0.3939393939393939,-0.3333333333333333,-0.2727272727272727,-0.21212121212121213,-0.15151515151515152,-0.09090909090909091,-0.030303030303030304,0.030303030303030304,0.09090909090909091,0.15151515151515152,0.21212121212121213,0.2727272727272727,0.3333333333333333,0.3939393939393939,0.45454545454545453,0.5151515151515151,0.5757575757575758,0.6363636363636364,0.696969696969697,0.7575757575757576,0.8181818181818182,0.8787878787878788,0.9393939393939394,1.0,1.0606060606060606,1.121212121212121,1.1818181818181819,1.2424242424242424,1.303030303030303,1.3636363636363635,1.4242424242424243,1.4848484848484849,1.5454545454545454,1.606060606060606,1.6666666666666667,1.7272727272727273,1.7878787878787878,1.8484848484848484,1.9090909090909092,1.9696969696969697,2.0303030303030303,2.090909090909091,2.1515151515151514,2.212121212121212,2.272727272727273,2.3333333333333335,2.393939393939394,2.4545454545454546,2.515151515151515,2.5757575757575757,2.6363636363636362,2.696969696969697,2.757575757575758,2.8181818181818183,2.878787878787879,2.9393939393939394,3.0]}], {\"showlegend\":true,\"xaxis\":{\"tickvals\":[-3.0,-2.0,-1.0,0.0,1.0,2.0,3.0],\"ticks\":\"inside\",\"tickmode\":\"array\",\"domain\":[0.061654272382618835,0.9934383202099737],\"linecolor\":\"rgba(0, 0, 0, 1.000)\",\"showgrid\":true,\"title\":\"w\",\"tickangle\":0,\"titlefont\":{\"color\":\"rgba(0, 0, 0, 1.000)\",\"family\":\"sans-serif\",\"size\":15},\"tickcolor\":\"rgba(0, 0, 0, 1.000)\",\"ticktext\":[\"-3\",\"-2\",\"-1\",\"0\",\"1\",\"2\",\"3\"],\"zeroline\":false,\"type\":\"-\",\"tickfont\":{\"color\":\"rgba(0, 0, 0, 1.000)\",\"family\":\"sans-serif\",\"size\":11},\"anchor\":\"y\"},\"paper_bgcolor\":\"rgba(255, 255, 255, 1.000)\",\"annotations\":[],\"height\":400,\"margin\":{\"l\":0,\"b\":20,\"r\":0,\"t\":20},\"plot_bgcolor\":\"rgba(255, 255, 255, 1.000)\",\"yaxis\":{\"tickvals\":[10.0,20.0],\"ticks\":\"inside\",\"tickmode\":\"array\",\"domain\":[0.07581474190726165,0.9901574803149606],\"linecolor\":\"rgba(0, 0, 0, 1.000)\",\"showgrid\":true,\"title\":\"obj(w)\",\"tickangle\":0,\"titlefont\":{\"color\":\"rgba(0, 0, 0, 1.000)\",\"family\":\"sans-serif\",\"size\":15},\"tickcolor\":\"rgba(0, 0, 0, 1.000)\",\"ticktext\":[\"10\",\"20\"],\"zeroline\":false,\"type\":\"-\",\"tickfont\":{\"color\":\"rgba(0, 0, 0, 1.000)\",\"family\":\"sans-serif\",\"size\":11},\"anchor\":\"x\"},\"legend\":{\"bordercolor\":\"rgba(0, 0, 0, 1.000)\",\"bgcolor\":\"rgba(255, 255, 255, 1.000)\",\"font\":{\"color\":\"rgba(0, 0, 0, 1.000)\",\"family\":\"sans-serif\",\"size\":11},\"y\":1.0,\"x\":1.0},\"width\":600});\n",
       "    </script>\n"
      ]
     },
     "execution_count": 12,
     "metadata": {},
     "output_type": "execute_result"
    }
   ],
   "source": [
    "y = 2\n",
    "wvec = linspace(-3, 3, 100)\n",
    "objwvec = [(wi-y)^2 + abs(wi) for wi in wvec]\n",
    "plot(wvec, objwvec, label=\"objective\")\n",
    "xlabel!(\"w\")\n",
    "ylabel!(\"obj(w)\")"
   ]
  },
  {
   "cell_type": "code",
   "execution_count": 13,
   "metadata": {},
   "outputs": [
    {
     "data": {
      "text/html": [
       "<script src=\"/Users/madeleine/.julia/v0.6/Plots/src/backends/../../deps/plotly-latest.min.js\"></script>    <div id=\"41b2cc83-2f03-466f-a4e8-d7ec6a0ecc14\" style=\"width:600px;height:400px;\"></div>\n",
       "    <script>\n",
       "    PLOT = document.getElementById('41b2cc83-2f03-466f-a4e8-d7ec6a0ecc14');\n",
       "    Plotly.plot(PLOT, [{\"showlegend\":true,\"mode\":\"lines\",\"xaxis\":\"x\",\"colorbar\":{\"title\":\"\"},\"line\":{\"color\":\"rgba(0, 154, 250, 1.000)\",\"shape\":\"linear\",\"dash\":\"solid\",\"width\":1},\"y\":[28.0,27.33700642791552,26.68135904499541,26.03305785123967,25.392102846648303,24.758494031221304,24.13223140495868,23.513314967860424,22.901744719926544,22.297520661157026,21.70064279155189,21.111111111111114,20.528925619834716,19.95408631772268,19.38659320477502,18.826446280991735,18.27364554637282,17.728191000918272,17.1900826446281,16.6593204775023,16.135904499540864,15.619834710743802,15.111111111111112,14.60973370064279,14.115702479338843,13.629017447199265,13.149678604224059,12.67768595041322,12.213039485766757,11.755739210284663,11.305785123966942,10.86317722681359,10.427915518824609,10.0,9.579430670339761,9.166207529843895,8.760330578512397,8.361799816345272,7.970615243342518,7.586776859504132,7.2102846648301195,6.841138659320478,6.479338842975206,6.124885215794307,5.777777777777779,5.438016528925618,5.105601469237832,4.780532598714416,4.462809917355371,4.152433425160698,3.9100091827364554,3.735537190082645,3.5684113865932043,3.4086317722681354,3.2561983471074383,3.1111111111111116,2.973370064279155,2.84297520661157,2.719926538108356,2.6042240587695136,2.4958677685950414,2.3948576675849402,2.3011937557392104,2.214876033057851,2.135904499540863,2.0642791551882462,2.0,1.943067033976125,1.8934802571166207,1.8512396694214877,1.8163452708907255,1.7887970615243343,1.7685950413223142,1.755739210284665,1.7502295684113867,1.7520661157024793,1.761248852157943,1.777777777777778,1.8016528925619835,1.8328741965105602,1.8714416896235078,1.9173553719008265,1.9706152433425161,2.0312213039485765,2.0991735537190084,2.1744719926538107,2.257116620752984,2.347107438016529,2.4444444444444446,2.549127640036731,2.6611570247933884,2.7805325987144167,2.9072543617998163,3.0413223140495864,3.182736455463728,3.331496786042241,3.4876033057851243,3.6510560146923785,3.821854912764004,4.0],\"type\":\"scatter\",\"name\":\"objective\",\"yaxis\":\"y\",\"x\":[-3.0,-2.9393939393939394,-2.878787878787879,-2.8181818181818183,-2.757575757575758,-2.696969696969697,-2.6363636363636362,-2.5757575757575757,-2.515151515151515,-2.4545454545454546,-2.393939393939394,-2.3333333333333335,-2.272727272727273,-2.212121212121212,-2.1515151515151514,-2.090909090909091,-2.0303030303030303,-1.9696969696969697,-1.9090909090909092,-1.8484848484848484,-1.7878787878787878,-1.7272727272727273,-1.6666666666666667,-1.606060606060606,-1.5454545454545454,-1.4848484848484849,-1.4242424242424243,-1.3636363636363635,-1.303030303030303,-1.2424242424242424,-1.1818181818181819,-1.121212121212121,-1.0606060606060606,-1.0,-0.9393939393939394,-0.8787878787878788,-0.8181818181818182,-0.7575757575757576,-0.696969696969697,-0.6363636363636364,-0.5757575757575758,-0.5151515151515151,-0.45454545454545453,-0.3939393939393939,-0.3333333333333333,-0.2727272727272727,-0.21212121212121213,-0.15151515151515152,-0.09090909090909091,-0.030303030303030304,0.030303030303030304,0.09090909090909091,0.15151515151515152,0.21212121212121213,0.2727272727272727,0.3333333333333333,0.3939393939393939,0.45454545454545453,0.5151515151515151,0.5757575757575758,0.6363636363636364,0.696969696969697,0.7575757575757576,0.8181818181818182,0.8787878787878788,0.9393939393939394,1.0,1.0606060606060606,1.121212121212121,1.1818181818181819,1.2424242424242424,1.303030303030303,1.3636363636363635,1.4242424242424243,1.4848484848484849,1.5454545454545454,1.606060606060606,1.6666666666666667,1.7272727272727273,1.7878787878787878,1.8484848484848484,1.9090909090909092,1.9696969696969697,2.0303030303030303,2.090909090909091,2.1515151515151514,2.212121212121212,2.272727272727273,2.3333333333333335,2.393939393939394,2.4545454545454546,2.515151515151515,2.5757575757575757,2.6363636363636362,2.696969696969697,2.757575757575758,2.8181818181818183,2.878787878787879,2.9393939393939394,3.0]},{\"xaxis\":\"x\",\"colorbar\":{\"title\":\"\"},\"yaxis\":\"y\",\"x\":[1.466223002794721],\"showlegend\":true,\"mode\":\"lines+markers\",\"name\":\"final iterate\",\"marker\":{\"symbol\":\"octagon\",\"color\":\"rgba(255, 0, 0, 1.000)\",\"line\":{\"color\":\"rgba(0, 0, 0, 1.000)\",\"width\":1},\"size\":8},\"line\":{\"color\":\"rgba(255, 0, 0, 1.000)\",\"shape\":\"linear\",\"dash\":\"solid\",\"width\":1},\"y\":[1.7511408855402055],\"type\":\"scatter\"}], {\"showlegend\":true,\"xaxis\":{\"tickvals\":[-2.0,0.0,2.0],\"ticks\":\"inside\",\"tickmode\":\"array\",\"domain\":[0.061654272382618835,0.9934383202099737],\"linecolor\":\"rgba(0, 0, 0, 1.000)\",\"showgrid\":true,\"title\":\"w\",\"tickangle\":0,\"titlefont\":{\"color\":\"rgba(0, 0, 0, 1.000)\",\"family\":\"sans-serif\",\"size\":15},\"tickcolor\":\"rgba(0, 0, 0, 1.000)\",\"ticktext\":[\"-2\",\"0\",\"2\"],\"zeroline\":false,\"type\":\"-\",\"tickfont\":{\"color\":\"rgba(0, 0, 0, 1.000)\",\"family\":\"sans-serif\",\"size\":11},\"anchor\":\"y\"},\"paper_bgcolor\":\"rgba(255, 255, 255, 1.000)\",\"annotations\":[],\"height\":400,\"margin\":{\"l\":0,\"b\":20,\"r\":0,\"t\":20},\"plot_bgcolor\":\"rgba(255, 255, 255, 1.000)\",\"yaxis\":{\"tickvals\":[10.0,20.0],\"ticks\":\"inside\",\"tickmode\":\"array\",\"domain\":[0.07581474190726165,0.9901574803149606],\"linecolor\":\"rgba(0, 0, 0, 1.000)\",\"showgrid\":true,\"title\":\"obj(w)\",\"tickangle\":0,\"titlefont\":{\"color\":\"rgba(0, 0, 0, 1.000)\",\"family\":\"sans-serif\",\"size\":15},\"tickcolor\":\"rgba(0, 0, 0, 1.000)\",\"ticktext\":[\"10\",\"20\"],\"zeroline\":false,\"type\":\"-\",\"tickfont\":{\"color\":\"rgba(0, 0, 0, 1.000)\",\"family\":\"sans-serif\",\"size\":11},\"anchor\":\"x\"},\"legend\":{\"bordercolor\":\"rgba(0, 0, 0, 1.000)\",\"bgcolor\":\"rgba(255, 255, 255, 1.000)\",\"font\":{\"color\":\"rgba(0, 0, 0, 1.000)\",\"family\":\"sans-serif\",\"size\":11},\"y\":1.0,\"x\":1.0},\"width\":600});\n",
       "    </script>\n"
      ]
     },
     "execution_count": 13,
     "metadata": {},
     "output_type": "execute_result"
    }
   ],
   "source": [
    "w = -2\n",
    "w, obj = proxgrad_quad_l1(ones(1,1), 2*ones(1); maxiters = 20, stepsize = .1, w = w)\n",
    "\n",
    "plot(wvec, objwvec, label=\"objective\")\n",
    "xlabel!(\"w\")\n",
    "ylabel!(\"obj(w)\")\n",
    "plot!([w], [obj[end]], color=:red, shape=:o, label=\"final iterate\")"
   ]
  },
  {
   "cell_type": "code",
   "execution_count": 14,
   "metadata": {},
   "outputs": [
    {
     "data": {
      "text/plain": [
       "20-element Array{Float64,1}:\n",
       " 10.71   \n",
       "  6.0444 \n",
       "  4.0    \n",
       "  3.19   \n",
       "  2.6716 \n",
       "  2.33982\n",
       "  2.12749\n",
       "  1.99159\n",
       "  1.90462\n",
       "  1.84896\n",
       "  1.81333\n",
       "  1.79053\n",
       "  1.77594\n",
       "  1.7666 \n",
       "  1.76063\n",
       "  1.7568 \n",
       "  1.75435\n",
       "  1.75279\n",
       "  1.75178\n",
       "  1.75114"
      ]
     },
     "execution_count": 14,
     "metadata": {},
     "output_type": "execute_result"
    }
   ],
   "source": [
    "obj"
   ]
  },
  {
   "cell_type": "markdown",
   "metadata": {},
   "source": [
    "# Introduce LowRankModels"
   ]
  },
  {
   "cell_type": "code",
   "execution_count": 15,
   "metadata": {},
   "outputs": [
    {
     "name": "stderr",
     "output_type": "stream",
     "text": [
      "WARNING: Method definition ==(Base.Nullable{S}, Base.Nullable{T}) in module Base at nullable.jl:238 overwritten in module NullableArrays at /Users/madeleine/.julia/v0.6/NullableArrays/src/operators.jl:128.\n"
     ]
    }
   ],
   "source": [
    "using LowRankModels"
   ]
  },
  {
   "cell_type": "code",
   "execution_count": 16,
   "metadata": {},
   "outputs": [
    {
     "data": {
      "text/plain": [
       "LowRankModels.QuadLoss(1.0, LowRankModels.RealDomain())"
      ]
     },
     "execution_count": 16,
     "metadata": {},
     "output_type": "execute_result"
    }
   ],
   "source": [
    "# loss function\n",
    "loss = QuadLoss()"
   ]
  },
  {
   "cell_type": "code",
   "execution_count": 17,
   "metadata": {},
   "outputs": [
    {
     "data": {
      "text/plain": [
       "LowRankModels.QuadReg(1.0)"
      ]
     },
     "execution_count": 17,
     "metadata": {},
     "output_type": "execute_result"
    }
   ],
   "source": [
    "# regularizers\n",
    "lambda = 1\n",
    "\n",
    "nonneg = NonNegConstraint()\n",
    "l1 = OneReg(lambda)\n",
    "l2 = QuadReg(lambda)"
   ]
  },
  {
   "cell_type": "code",
   "execution_count": 18,
   "metadata": {},
   "outputs": [
    {
     "data": {
      "text/plain": [
       "1.0"
      ]
     },
     "execution_count": 18,
     "metadata": {},
     "output_type": "execute_result"
    }
   ],
   "source": [
    "# the quad loss returns the sum of square differences between its first and second argument\n",
    "evaluate(loss, 2., 3.)"
   ]
  },
  {
   "cell_type": "code",
   "execution_count": 19,
   "metadata": {},
   "outputs": [
    {
     "data": {
      "text/plain": [
       "3.0"
      ]
     },
     "execution_count": 19,
     "metadata": {},
     "output_type": "execute_result"
    }
   ],
   "source": [
    "evaluate(3*loss, 2., 3.)"
   ]
  },
  {
   "cell_type": "code",
   "execution_count": 20,
   "metadata": {},
   "outputs": [
    {
     "data": {
      "text/plain": [
       "1.0"
      ]
     },
     "execution_count": 20,
     "metadata": {},
     "output_type": "execute_result"
    }
   ],
   "source": [
    "evaluate(1/2*loss, [2., 2.], [3., 3.])"
   ]
  },
  {
   "cell_type": "code",
   "execution_count": 21,
   "metadata": {},
   "outputs": [
    {
     "data": {
      "text/plain": [
       "4.0"
      ]
     },
     "execution_count": 21,
     "metadata": {},
     "output_type": "execute_result"
    }
   ],
   "source": [
    "# can also evaluate the gradient wrt the first argument\n",
    "grad(loss, 2., 0.)"
   ]
  },
  {
   "cell_type": "code",
   "execution_count": 22,
   "metadata": {},
   "outputs": [
    {
     "data": {
      "text/plain": [
       "-4.0"
      ]
     },
     "execution_count": 22,
     "metadata": {},
     "output_type": "execute_result"
    }
   ],
   "source": [
    "grad(loss, 0., 2.)"
   ]
  },
  {
   "cell_type": "code",
   "execution_count": 23,
   "metadata": {},
   "outputs": [
    {
     "data": {
      "text/plain": [
       "1.0"
      ]
     },
     "execution_count": 23,
     "metadata": {},
     "output_type": "execute_result"
    }
   ],
   "source": [
    "grad(L1Loss(), 2., 0.)"
   ]
  },
  {
   "cell_type": "code",
   "execution_count": 24,
   "metadata": {},
   "outputs": [
    {
     "data": {
      "text/plain": [
       "2-element Array{Int64,1}:\n",
       " 0\n",
       " 1"
      ]
     },
     "execution_count": 24,
     "metadata": {},
     "output_type": "execute_result"
    }
   ],
   "source": [
    "# can evaluate the proximal operator of the regularizer\n",
    "prox(nonneg, [-1, 1])"
   ]
  },
  {
   "cell_type": "code",
   "execution_count": 25,
   "metadata": {},
   "outputs": [
    {
     "data": {
      "text/plain": [
       "0.99"
      ]
     },
     "execution_count": 25,
     "metadata": {},
     "output_type": "execute_result"
    }
   ],
   "source": [
    "# can evaluate the proximal operator of lambda times the regularizer\n",
    "λ = .01\n",
    "prox(l1, 1, λ)"
   ]
  },
  {
   "cell_type": "code",
   "execution_count": 26,
   "metadata": {
    "collapsed": true
   },
   "outputs": [],
   "source": [
    "# chain rule: \n",
    "# gradient of ||Xw - y||^2 wrt w is X' * <gradient of ||z-y||^2 wrt z>, \n",
    "# where z = X*w"
   ]
  },
  {
   "cell_type": "code",
   "execution_count": 27,
   "metadata": {},
   "outputs": [
    {
     "data": {
      "text/plain": [
       "grad (generic function with 19 methods)"
      ]
     },
     "execution_count": 27,
     "metadata": {},
     "output_type": "execute_result"
    }
   ],
   "source": [
    "import LowRankModels: evaluate, grad\n",
    "evaluate(loss::Loss, X::Array{Float64,2}, w, y) = evaluate(loss, X*w, y)\n",
    "grad(loss::Loss, X::Array{Float64,2}, w, y) = X'*grad(loss, X*w, y)"
   ]
  },
  {
   "cell_type": "code",
   "execution_count": 28,
   "metadata": {},
   "outputs": [
    {
     "data": {
      "text/plain": [
       "proxgrad (generic function with 1 method)"
      ]
     },
     "execution_count": 28,
     "metadata": {},
     "output_type": "execute_result"
    }
   ],
   "source": [
    "# proximal gradient method\n",
    "function proxgrad(loss, reg, X, y; maxiters = 10, stepsize = 1)\n",
    "    w = zeros(size(X,2))\n",
    "    objval = Float64[]\n",
    "    for i=1:maxiters\n",
    "        # gradient step\n",
    "        g = grad(loss, X, w, y)\n",
    "        z = w - stepsize*g\n",
    "        # prox step\n",
    "        w = prox(reg, z, stepsize)\n",
    "        # record objective value\n",
    "        push!(objval, evaluate(loss, X, w, y) + evaluate(reg, w))\n",
    "    end\n",
    "    return w, objval\n",
    "end"
   ]
  },
  {
   "cell_type": "code",
   "execution_count": 29,
   "metadata": {},
   "outputs": [
    {
     "data": {
      "text/plain": [
       "proxgrad (generic function with 2 methods)"
      ]
     },
     "execution_count": 29,
     "metadata": {},
     "output_type": "execute_result"
    }
   ],
   "source": [
    "# proximal gradient method\n",
    "function proxgrad(loss::Loss, reg::Regularizer, X, y;\n",
    "                  maxiters::Int = 10, stepsize::Number = 1., \n",
    "                  ch::ConvergenceHistory = ConvergenceHistory(\"proxgrad\"))\n",
    "    w = zeros(size(X,2))\n",
    "    for t=1:maxiters\n",
    "        t0 = time()\n",
    "        # gradient step\n",
    "        g = grad(loss, X, w, y)\n",
    "        w = w - stepsize*g\n",
    "        # prox step\n",
    "        w = prox(reg, w, stepsize)\n",
    "        # record objective value\n",
    "        update_ch!(ch, time() - t0, obj = evaluate(loss, X, w, y) + evaluate(reg, w))\n",
    "    end\n",
    "    return w\n",
    "end"
   ]
  },
  {
   "cell_type": "code",
   "execution_count": 30,
   "metadata": {},
   "outputs": [],
   "source": [
    "srand(0)\n",
    "X, y = rand(6,3), rand(6);"
   ]
  },
  {
   "cell_type": "code",
   "execution_count": 31,
   "metadata": {},
   "outputs": [
    {
     "name": "stdout",
     "output_type": "stream",
     "text": [
      "ch.objective = [0.655586, 0.546513, 0.487293, 0.451002, 0.428631, 0.414751, 0.407283, 0.402936, 0.39954, 0.39679, 0.394556, 0.39274, 0.391265, 0.390065, 0.38909, 0.388298, 0.387653, 0.38713, 0.386704, 0.386359, 0.386077, 0.385849, 0.385663, 0.385512, 0.38539, 0.385287, 0.385199, 0.385121, 0.385051, 0.384988, 0.38493, 0.384876, 0.384827, 0.384781, 0.384739, 0.3847, 0.384663, 0.38463, 0.384598, 0.384569, 0.384541, 0.384516, 0.384493, 0.384471, 0.38445, 0.384431, 0.384414, 0.384397, 0.384382, 0.384368]\n"
     ]
    }
   ],
   "source": [
    "ch = ConvergenceHistory(\"NNLS\")\n",
    "w = proxgrad(QuadLoss(), NonNegConstraint(), X, y; \n",
    "             stepsize=.1, maxiters=50,\n",
    "             ch = ch)\n",
    "\n",
    "@show ch.objective\n",
    "plot(ch.objective)\n",
    "xlabel!(\"iteration\")\n",
    "ylabel!(\"objective\")"
   ]
  },
  {
   "cell_type": "code",
   "execution_count": 32,
   "metadata": {},
   "outputs": [
    {
     "data": {
      "text/html": [
       "<script src=\"/Users/madeleine/.julia/v0.6/Plots/src/backends/../../deps/plotly-latest.min.js\"></script>    <div id=\"6b29de48-af4b-425f-abca-2c027c76b1a4\" style=\"width:600px;height:400px;\"></div>\n",
       "    <script>\n",
       "    PLOT = document.getElementById('6b29de48-af4b-425f-abca-2c027c76b1a4');\n",
       "    Plotly.plot(PLOT, [{\"showlegend\":true,\"mode\":\"lines\",\"xaxis\":\"x\",\"colorbar\":{\"title\":\"\"},\"line\":{\"color\":\"rgba(0, 154, 250, 1.000)\",\"shape\":\"linear\",\"dash\":\"solid\",\"width\":1},\"y\":[0.27121865613567453,0.16214494868940832,0.10292563069024119,0.0666344947761438,0.044263291091231394,0.030383584956113152,0.022915579490964122,0.01856821116316687,0.015172453882128734,0.01242274771048224,0.010188598034231555,0.008372770387443995,0.006896895454763463,0.0056973253119266265,0.004722331530498225,0.003929870246718092,0.0032857688180072397,0.0027622522008060035,0.0023367452289626556,0.001990899123722578,0.0017098002547859537,0.0014813270323897898,0.0012956271982011436,0.0011446929746802281,0.0010218306583058001,0.0009193110769221136,0.0008309924219404574,0.00075312477408912,0.0006833005333454212,0.0006199369572824631,0.0005619615240752829,0.0005086198693962096,0.0004593583587939043,0.0004137521227459695,0.00037146079630240303,0.00033220115276633155,0.0002957300495063375,0.0002618336778532626,0.0002303206757142684,0.00020101761520235906,0.00017376595814044826,0.00014841992576641871,0.00012484494419628955,0.00010291645831783658,8.251898666455926e-5,6.354533853247801e-5,4.589594433646038e-5,2.9478268360083604e-5,1.4206284196349728e-5,0.0],\"type\":\"scatter\",\"name\":\"y1\",\"yaxis\":\"y\",\"x\":[1,2,3,4,5,6,7,8,9,10,11,12,13,14,15,16,17,18,19,20,21,22,23,24,25,26,27,28,29,30,31,32,33,34,35,36,37,38,39,40,41,42,43,44,45,46,47,48,49,50]}], {\"showlegend\":true,\"xaxis\":{\"tickvals\":[10.0,20.0,30.0,40.0,50.0],\"ticks\":\"inside\",\"tickmode\":\"array\",\"domain\":[0.07646908719743364,0.9934383202099737],\"linecolor\":\"rgba(0, 0, 0, 1.000)\",\"showgrid\":true,\"title\":\"iteration\",\"tickangle\":0,\"titlefont\":{\"color\":\"rgba(0, 0, 0, 1.000)\",\"family\":\"sans-serif\",\"size\":15},\"tickcolor\":\"rgba(0, 0, 0, 1.000)\",\"ticktext\":[\"10\",\"20\",\"30\",\"40\",\"50\"],\"zeroline\":false,\"type\":\"-\",\"tickfont\":{\"color\":\"rgba(0, 0, 0, 1.000)\",\"family\":\"sans-serif\",\"size\":11},\"anchor\":\"y\"},\"paper_bgcolor\":\"rgba(255, 255, 255, 1.000)\",\"annotations\":[],\"height\":400,\"margin\":{\"l\":0,\"b\":20,\"r\":0,\"t\":20},\"plot_bgcolor\":\"rgba(255, 255, 255, 1.000)\",\"yaxis\":{\"tickvals\":[0.0,0.1,0.2],\"ticks\":\"inside\",\"tickmode\":\"array\",\"domain\":[0.07581474190726165,0.9901574803149606],\"linecolor\":\"rgba(0, 0, 0, 1.000)\",\"showgrid\":true,\"title\":\"objective\",\"tickangle\":0,\"titlefont\":{\"color\":\"rgba(0, 0, 0, 1.000)\",\"family\":\"sans-serif\",\"size\":15},\"tickcolor\":\"rgba(0, 0, 0, 1.000)\",\"ticktext\":[\"0.0\",\"0.1\",\"0.2\"],\"zeroline\":false,\"type\":\"-\",\"tickfont\":{\"color\":\"rgba(0, 0, 0, 1.000)\",\"family\":\"sans-serif\",\"size\":11},\"anchor\":\"x\"},\"legend\":{\"bordercolor\":\"rgba(0, 0, 0, 1.000)\",\"bgcolor\":\"rgba(255, 255, 255, 1.000)\",\"font\":{\"color\":\"rgba(0, 0, 0, 1.000)\",\"family\":\"sans-serif\",\"size\":11},\"y\":1.0,\"x\":1.0},\"width\":600});\n",
       "    </script>\n"
      ]
     },
     "execution_count": 32,
     "metadata": {},
     "output_type": "execute_result"
    }
   ],
   "source": [
    "plot(ch.objective - ch.objective[end]) # try semilog\n",
    "xlabel!(\"iteration\")\n",
    "ylabel!(\"objective\")"
   ]
  },
  {
   "cell_type": "markdown",
   "metadata": {},
   "source": [
    "# Let's generate some more data and test out these models"
   ]
  },
  {
   "cell_type": "code",
   "execution_count": 33,
   "metadata": {},
   "outputs": [
    {
     "data": {
      "text/plain": [
       "generate_noisy_data (generic function with 1 method)"
      ]
     },
     "execution_count": 33,
     "metadata": {},
     "output_type": "execute_result"
    }
   ],
   "source": [
    "function generate_data(n, w)\n",
    "    X = randn(n,length(w))\n",
    "    y = X*w\n",
    "    return X, y\n",
    "end\n",
    "\n",
    "function generate_noisy_data(n, w)\n",
    "    X = randn(n,length(w))\n",
    "    y = X*w + .1*randn(n)\n",
    "    return X, y\n",
    "end"
   ]
  },
  {
   "cell_type": "markdown",
   "metadata": {},
   "source": [
    "# let's repeat what we did in the regularized regression notebook, using our nifty proximal gradient method"
   ]
  },
  {
   "cell_type": "markdown",
   "metadata": {},
   "source": [
    "compare different kinds of regularized regression"
   ]
  },
  {
   "cell_type": "code",
   "execution_count": 34,
   "metadata": {},
   "outputs": [
    {
     "data": {
      "text/plain": [
       "ridge_regression (generic function with 1 method)"
      ]
     },
     "execution_count": 34,
     "metadata": {},
     "output_type": "execute_result"
    }
   ],
   "source": [
    "function ridge_regression(X,y; λ=1, kwargs...)\n",
    "    w = proxgrad(QuadLoss(), λ*QuadReg(), X, y; kwargs...)\n",
    "    return w\n",
    "end"
   ]
  },
  {
   "cell_type": "code",
   "execution_count": 35,
   "metadata": {},
   "outputs": [
    {
     "data": {
      "text/plain": [
       "nnls (generic function with 1 method)"
      ]
     },
     "execution_count": 35,
     "metadata": {},
     "output_type": "execute_result"
    }
   ],
   "source": [
    "function nnls(X,y; kwargs...)\n",
    "    w = proxgrad(QuadLoss(), NonNegConstraint(), X, y; kwargs...)\n",
    "    return w\n",
    "end"
   ]
  },
  {
   "cell_type": "code",
   "execution_count": 36,
   "metadata": {},
   "outputs": [
    {
     "data": {
      "text/plain": [
       "lasso (generic function with 1 method)"
      ]
     },
     "execution_count": 36,
     "metadata": {},
     "output_type": "execute_result"
    }
   ],
   "source": [
    "function lasso(X,y; λ=1, kwargs...)\n",
    "    w = proxgrad(QuadLoss(), λ*OneReg(), X, y; kwargs...)\n",
    "    return w\n",
    "end"
   ]
  },
  {
   "cell_type": "code",
   "execution_count": 37,
   "metadata": {},
   "outputs": [
    {
     "data": {
      "text/plain": [
       "([0.147604 -0.315522 … -1.13485 0.0200871; 0.403393 1.31209 … 0.890369 -0.15671; … ; 0.186545 0.907637 … -0.36707 -0.946525; 0.195274 0.720839 … -0.620002 1.00196], [-2.77543, -0.167133, 0.733351, -0.463421, -1.57937, 2.46772, -4.12558, -4.07051, -3.25865, -3.47735  …  1.76497, -3.62625, 3.22828, 3.86394, 4.80149, -3.58891, 0.0357586, 1.00687, -2.88054, 3.99267])"
      ]
     },
     "execution_count": 37,
     "metadata": {},
     "output_type": "execute_result"
    }
   ],
   "source": [
    "# generate data\n",
    "\n",
    "d = 30\n",
    "w_randn = randn(d)\n",
    "w_sparse = sprandn(d, .5)\n",
    "w_pos = sprand(d, .5);\n",
    "\n",
    "w = w_pos\n",
    "\n",
    "X, y = generate_noisy_data(30, w)"
   ]
  },
  {
   "cell_type": "code",
   "execution_count": 38,
   "metadata": {},
   "outputs": [],
   "source": [
    "maxiters = 100\n",
    "stepsize = .01/norm(X)\n",
    "\n",
    "w_ridge = ridge_regression(X,y, maxiters=maxiters, stepsize=stepsize)\n",
    "w_nonneg = nnls(X,y, maxiters=maxiters, stepsize=stepsize)\n",
    "w_lasso = lasso(X,y, maxiters=maxiters, stepsize=stepsize);"
   ]
  },
  {
   "cell_type": "code",
   "execution_count": 39,
   "metadata": {},
   "outputs": [
    {
     "data": {
      "text/html": [
       "<script src=\"/Users/madeleine/.julia/v0.6/Plots/src/backends/../../deps/plotly-latest.min.js\"></script>    <div id=\"1a837312-dd68-4456-9c1f-63f82f5ec2c7\" style=\"width:600px;height:400px;\"></div>\n",
       "    <script>\n",
       "    PLOT = document.getElementById('1a837312-dd68-4456-9c1f-63f82f5ec2c7');\n",
       "    Plotly.plot(PLOT, [{\"showlegend\":true,\"marker\":{\"color\":\"rgba(0, 154, 250, 1.000)\"},\"xaxis\":\"x\",\"colorbar\":{\"title\":\"\"},\"y\":[1.0,0.0,1.0,1.0,4.0,2.0,3.0,3.0,2.0,1.0,1.0,0.0,1.0,1.0,0.0,0.0,0.0,0.0,1.0,2.0,3.0,2.0,0.0,1.0],\"type\":\"bar\",\"name\":\"y1\",\"yaxis\":\"y\",\"orientation\":\"v\",\"x\":[-0.275,-0.225,-0.175,-0.125,-0.07500000000000001,-0.025,0.025,0.07500000000000001,0.125,0.175,0.225,0.275,0.32499999999999996,0.375,0.42500000000000004,0.475,0.525,0.575,0.625,0.675,0.725,0.775,0.825,0.875]}], {\"showlegend\":true,\"xaxis\":{\"tickvals\":[0.0,0.30000000000000004,0.6000000000000001],\"ticks\":\"inside\",\"tickmode\":\"array\",\"domain\":[0.02137649460484106,0.9934383202099737],\"linecolor\":\"rgba(0, 0, 0, 1.000)\",\"showgrid\":true,\"title\":\"\",\"tickangle\":0,\"titlefont\":{\"color\":\"rgba(0, 0, 0, 1.000)\",\"family\":\"sans-serif\",\"size\":15},\"tickcolor\":\"rgba(0, 0, 0, 1.000)\",\"ticktext\":[\"0.0\",\"0.3\",\"0.6\"],\"zeroline\":false,\"type\":\"-\",\"tickfont\":{\"color\":\"rgba(0, 0, 0, 1.000)\",\"family\":\"sans-serif\",\"size\":11},\"anchor\":\"y\"},\"paper_bgcolor\":\"rgba(255, 255, 255, 1.000)\",\"annotations\":[],\"height\":400,\"margin\":{\"l\":0,\"b\":20,\"r\":0,\"t\":20},\"plot_bgcolor\":\"rgba(255, 255, 255, 1.000)\",\"yaxis\":{\"tickvals\":[0.0,1.0,2.0,3.0,4.0],\"ticks\":\"inside\",\"tickmode\":\"array\",\"domain\":[0.03762029746281716,0.9901574803149606],\"linecolor\":\"rgba(0, 0, 0, 1.000)\",\"showgrid\":true,\"title\":\"\",\"tickangle\":0,\"titlefont\":{\"color\":\"rgba(0, 0, 0, 1.000)\",\"family\":\"sans-serif\",\"size\":15},\"tickcolor\":\"rgba(0, 0, 0, 1.000)\",\"ticktext\":[\"0\",\"1\",\"2\",\"3\",\"4\"],\"zeroline\":false,\"type\":\"-\",\"tickfont\":{\"color\":\"rgba(0, 0, 0, 1.000)\",\"family\":\"sans-serif\",\"size\":11},\"anchor\":\"x\"},\"legend\":{\"bordercolor\":\"rgba(0, 0, 0, 1.000)\",\"bgcolor\":\"rgba(255, 255, 255, 1.000)\",\"font\":{\"color\":\"rgba(0, 0, 0, 1.000)\",\"family\":\"sans-serif\",\"size\":11},\"y\":1.0,\"x\":1.0},\"width\":600});\n",
       "    </script>\n"
      ]
     },
     "execution_count": 39,
     "metadata": {},
     "output_type": "execute_result"
    }
   ],
   "source": [
    "histogram(w_ridge)"
   ]
  },
  {
   "cell_type": "code",
   "execution_count": 40,
   "metadata": {},
   "outputs": [
    {
     "data": {
      "text/html": [
       "<script src=\"/Users/madeleine/.julia/v0.6/Plots/src/backends/../../deps/plotly-latest.min.js\"></script>    <div id=\"f220eda1-f029-4703-8bac-cc391608d7b9\" style=\"width:600px;height:400px;\"></div>\n",
       "    <script>\n",
       "    PLOT = document.getElementById('f220eda1-f029-4703-8bac-cc391608d7b9');\n",
       "    Plotly.plot(PLOT, [{\"showlegend\":true,\"marker\":{\"color\":\"rgba(0, 154, 250, 1.000)\"},\"xaxis\":\"x\",\"colorbar\":{\"title\":\"\"},\"y\":[1.0,0.0,0.0,0.0,4.0,4.0,5.0,1.0,3.0,0.0,1.0,1.0,0.0,1.0,0.0,0.0,0.0,0.0,1.0,1.0,4.0,2.0,0.0,0.0,1.0],\"type\":\"bar\",\"name\":\"y1\",\"yaxis\":\"y\",\"orientation\":\"v\",\"x\":[-0.275,-0.225,-0.175,-0.125,-0.07500000000000001,-0.025,0.025,0.07500000000000001,0.125,0.175,0.225,0.275,0.32499999999999996,0.375,0.42500000000000004,0.475,0.525,0.575,0.625,0.675,0.725,0.775,0.825,0.875,0.925]}], {\"showlegend\":true,\"xaxis\":{\"tickvals\":[0.0,0.5],\"ticks\":\"inside\",\"tickmode\":\"array\",\"domain\":[0.02137649460484106,0.9934383202099737],\"linecolor\":\"rgba(0, 0, 0, 1.000)\",\"showgrid\":true,\"title\":\"\",\"tickangle\":0,\"titlefont\":{\"color\":\"rgba(0, 0, 0, 1.000)\",\"family\":\"sans-serif\",\"size\":15},\"tickcolor\":\"rgba(0, 0, 0, 1.000)\",\"ticktext\":[\"0.0\",\"0.5\"],\"zeroline\":false,\"type\":\"-\",\"tickfont\":{\"color\":\"rgba(0, 0, 0, 1.000)\",\"family\":\"sans-serif\",\"size\":11},\"anchor\":\"y\"},\"paper_bgcolor\":\"rgba(255, 255, 255, 1.000)\",\"annotations\":[],\"height\":400,\"margin\":{\"l\":0,\"b\":20,\"r\":0,\"t\":20},\"plot_bgcolor\":\"rgba(255, 255, 255, 1.000)\",\"yaxis\":{\"tickvals\":[0.0,1.0,2.0,3.0,4.0,5.0],\"ticks\":\"inside\",\"tickmode\":\"array\",\"domain\":[0.03762029746281716,0.9901574803149606],\"linecolor\":\"rgba(0, 0, 0, 1.000)\",\"showgrid\":true,\"title\":\"\",\"tickangle\":0,\"titlefont\":{\"color\":\"rgba(0, 0, 0, 1.000)\",\"family\":\"sans-serif\",\"size\":15},\"tickcolor\":\"rgba(0, 0, 0, 1.000)\",\"ticktext\":[\"0\",\"1\",\"2\",\"3\",\"4\",\"5\"],\"zeroline\":false,\"type\":\"-\",\"tickfont\":{\"color\":\"rgba(0, 0, 0, 1.000)\",\"family\":\"sans-serif\",\"size\":11},\"anchor\":\"x\"},\"legend\":{\"bordercolor\":\"rgba(0, 0, 0, 1.000)\",\"bgcolor\":\"rgba(255, 255, 255, 1.000)\",\"font\":{\"color\":\"rgba(0, 0, 0, 1.000)\",\"family\":\"sans-serif\",\"size\":11},\"y\":1.0,\"x\":1.0},\"width\":600});\n",
       "    </script>\n"
      ]
     },
     "execution_count": 40,
     "metadata": {},
     "output_type": "execute_result"
    }
   ],
   "source": [
    "histogram(w_lasso, bins=50)"
   ]
  },
  {
   "cell_type": "code",
   "execution_count": 41,
   "metadata": {
    "scrolled": true
   },
   "outputs": [
    {
     "data": {
      "text/html": [
       "<script src=\"/Users/madeleine/.julia/v0.6/Plots/src/backends/../../deps/plotly-latest.min.js\"></script>    <div id=\"c7c1ccfc-cac8-4341-a1a8-96a46a959a91\" style=\"width:600px;height:400px;\"></div>\n",
       "    <script>\n",
       "    PLOT = document.getElementById('c7c1ccfc-cac8-4341-a1a8-96a46a959a91');\n",
       "    Plotly.plot(PLOT, [{\"showlegend\":true,\"marker\":{\"color\":\"rgba(0, 154, 250, 1.000)\"},\"xaxis\":\"x\",\"colorbar\":{\"title\":\"\"},\"y\":[11.0,2.0,3.0,4.0,0.0,0.0,0.0,0.0,0.0,1.0,0.0,0.0,0.0,1.0,2.0,1.0,3.0,1.0,1.0],\"type\":\"bar\",\"name\":\"y1\",\"yaxis\":\"y\",\"orientation\":\"v\",\"x\":[0.025,0.07500000000000001,0.125,0.175,0.225,0.275,0.32499999999999996,0.375,0.42500000000000004,0.475,0.525,0.575,0.625,0.675,0.725,0.775,0.825,0.875,0.925]}], {\"showlegend\":true,\"xaxis\":{\"tickvals\":[0.25,0.5,0.75],\"ticks\":\"inside\",\"tickmode\":\"array\",\"domain\":[0.03619130941965587,0.9934383202099738],\"linecolor\":\"rgba(0, 0, 0, 1.000)\",\"showgrid\":true,\"title\":\"\",\"tickangle\":0,\"titlefont\":{\"color\":\"rgba(0, 0, 0, 1.000)\",\"family\":\"sans-serif\",\"size\":15},\"tickcolor\":\"rgba(0, 0, 0, 1.000)\",\"ticktext\":[\"0.25\",\"0.50\",\"0.75\"],\"zeroline\":false,\"type\":\"-\",\"tickfont\":{\"color\":\"rgba(0, 0, 0, 1.000)\",\"family\":\"sans-serif\",\"size\":11},\"anchor\":\"y\"},\"paper_bgcolor\":\"rgba(255, 255, 255, 1.000)\",\"annotations\":[],\"height\":400,\"margin\":{\"l\":0,\"b\":20,\"r\":0,\"t\":20},\"plot_bgcolor\":\"rgba(255, 255, 255, 1.000)\",\"yaxis\":{\"tickvals\":[0.0,2.0,4.0,6.0,8.0,10.0],\"ticks\":\"inside\",\"tickmode\":\"array\",\"domain\":[0.03762029746281716,0.9901574803149606],\"linecolor\":\"rgba(0, 0, 0, 1.000)\",\"showgrid\":true,\"title\":\"\",\"tickangle\":0,\"titlefont\":{\"color\":\"rgba(0, 0, 0, 1.000)\",\"family\":\"sans-serif\",\"size\":15},\"tickcolor\":\"rgba(0, 0, 0, 1.000)\",\"ticktext\":[\"0\",\"2\",\"4\",\"6\",\"8\",\"10\"],\"zeroline\":false,\"type\":\"-\",\"tickfont\":{\"color\":\"rgba(0, 0, 0, 1.000)\",\"family\":\"sans-serif\",\"size\":11},\"anchor\":\"x\"},\"legend\":{\"bordercolor\":\"rgba(0, 0, 0, 1.000)\",\"bgcolor\":\"rgba(255, 255, 255, 1.000)\",\"font\":{\"color\":\"rgba(0, 0, 0, 1.000)\",\"family\":\"sans-serif\",\"size\":11},\"y\":1.0,\"x\":1.0},\"width\":600});\n",
       "    </script>\n"
      ]
     },
     "execution_count": 41,
     "metadata": {},
     "output_type": "execute_result"
    }
   ],
   "source": [
    "histogram(w_nonneg)"
   ]
  },
  {
   "cell_type": "code",
   "execution_count": 42,
   "metadata": {},
   "outputs": [
    {
     "data": {
      "text/html": [
       "<script src=\"/Users/madeleine/.julia/v0.6/Plots/src/backends/../../deps/plotly-latest.min.js\"></script>    <div id=\"afa39aa2-1092-4902-9ff9-937e8699c2f8\" style=\"width:600px;height:400px;\"></div>\n",
       "    <script>\n",
       "    PLOT = document.getElementById('afa39aa2-1092-4902-9ff9-937e8699c2f8');\n",
       "    Plotly.plot(PLOT, [{\"showlegend\":true,\"mode\":\"markers\",\"xaxis\":\"x\",\"colorbar\":{\"title\":\"\"},\"marker\":{\"symbol\":\"circle\",\"color\":\"rgba(0, 154, 250, 1.000)\",\"line\":{\"color\":\"rgba(0, 0, 0, 1.000)\",\"width\":1},\"size\":8},\"y\":[0.9145645806475713,-1.476428257345631,-2.5995150218556433,-0.782212491205633,1.4024278415214777,-3.253935610852828,1.7151693171124058,1.8903440315067064,-1.4818950763076408,-4.052586969558471,-0.6866295572426305,-1.4249364310779606,-0.3143380952667407,5.086357021682031,0.708093590777224,-0.9079070236637187,-0.767405880117271,-2.388843726794287,-0.2038193149738437,-1.5478246840725949],\"type\":\"scatter\",\"name\":\"ridge\",\"yaxis\":\"y\",\"x\":[0.4821261115091766,-2.924096437429283,-2.9254252053882315,-1.0467027737340249,0.5117826156658873,-3.4438687605039435,2.570314824620932,2.34503694191573,-1.0238505550262076,-4.347462543375465,-0.3580054273142704,-1.0184201352842948,0.5065898437521393,4.314743164412966,0.2794875236214295,-1.1641328873543997,0.8447920324287341,-2.599828136481385,0.22657522963880902,-2.8821747702082234]},{\"showlegend\":true,\"mode\":\"markers\",\"xaxis\":\"x\",\"colorbar\":{\"title\":\"\"},\"marker\":{\"symbol\":\"circle\",\"color\":\"rgba(227, 111, 71, 1.000)\",\"line\":{\"color\":\"rgba(0, 0, 0, 1.000)\",\"width\":1},\"size\":8},\"y\":[0.6929007041224939,-1.8117410232400313,-2.618002465396442,-0.8249827951804759,1.422109148414046,-3.1432630979972704,1.5709874339694112,1.988820982909837,-1.1791237378754924,-4.285351847454918,-0.33083894366188776,-1.2586989577073366,-0.20784439792842457,5.151175961371877,0.7145927226853866,-0.6372598959107567,-0.683522798798258,-2.1893222342876153,0.023463859380216362,-1.8604704328818327],\"type\":\"scatter\",\"name\":\"lasso\",\"yaxis\":\"y\",\"x\":[0.4821261115091766,-2.924096437429283,-2.9254252053882315,-1.0467027737340249,0.5117826156658873,-3.4438687605039435,2.570314824620932,2.34503694191573,-1.0238505550262076,-4.347462543375465,-0.3580054273142704,-1.0184201352842948,0.5065898437521393,4.314743164412966,0.2794875236214295,-1.1641328873543997,0.8447920324287341,-2.599828136481385,0.22657522963880902,-2.8821747702082234]},{\"showlegend\":true,\"mode\":\"markers\",\"xaxis\":\"x\",\"colorbar\":{\"title\":\"\"},\"marker\":{\"symbol\":\"circle\",\"color\":\"rgba(62, 164, 78, 1.000)\",\"line\":{\"color\":\"rgba(0, 0, 0, 1.000)\",\"width\":1},\"size\":8},\"y\":[0.7371867529815863,-2.1670880189380313,-2.980613076162976,-1.2719251293529192,0.8515512774056941,-3.8270521968925566,2.547421809037966,2.4954648316582952,-1.5403325482129397,-4.401372019616956,-0.6741231652991642,-1.631206947817822,0.4122136567208814,4.689395916266531,0.6134010328627905,-0.8051648792434805,-0.11233881208310326,-2.2592091308621383,0.178868818784089,-2.378432675571237],\"type\":\"scatter\",\"name\":\"NNLS\",\"yaxis\":\"y\",\"x\":[0.4821261115091766,-2.924096437429283,-2.9254252053882315,-1.0467027737340249,0.5117826156658873,-3.4438687605039435,2.570314824620932,2.34503694191573,-1.0238505550262076,-4.347462543375465,-0.3580054273142704,-1.0184201352842948,0.5065898437521393,4.314743164412966,0.2794875236214295,-1.1641328873543997,0.8447920324287341,-2.599828136481385,0.22657522963880902,-2.8821747702082234]},{\"showlegend\":true,\"mode\":\"lines\",\"xaxis\":\"x\",\"colorbar\":{\"title\":\"\"},\"line\":{\"color\":\"rgba(195, 113, 210, 1.000)\",\"shape\":\"linear\",\"dash\":\"solid\",\"width\":1},\"y\":[0.4821261115091766,-2.924096437429283,-2.9254252053882315,-1.0467027737340249,0.5117826156658873,-3.4438687605039435,2.570314824620932,2.34503694191573,-1.0238505550262076,-4.347462543375465,-0.3580054273142704,-1.0184201352842948,0.5065898437521393,4.314743164412966,0.2794875236214295,-1.1641328873543997,0.8447920324287341,-2.599828136481385,0.22657522963880902,-2.8821747702082234],\"type\":\"scatter\",\"name\":\"true model\",\"yaxis\":\"y\",\"x\":[0.4821261115091766,-2.924096437429283,-2.9254252053882315,-1.0467027737340249,0.5117826156658873,-3.4438687605039435,2.570314824620932,2.34503694191573,-1.0238505550262076,-4.347462543375465,-0.3580054273142704,-1.0184201352842948,0.5065898437521393,4.314743164412966,0.2794875236214295,-1.1641328873543997,0.8447920324287341,-2.599828136481385,0.22657522963880902,-2.8821747702082234]}], {\"showlegend\":true,\"xaxis\":{\"tickvals\":[-2.5,0.0,2.5],\"ticks\":\"inside\",\"tickmode\":\"array\",\"domain\":[0.061654272382618835,0.9934383202099737],\"linecolor\":\"rgba(0, 0, 0, 1.000)\",\"showgrid\":true,\"title\":\"true value\",\"tickangle\":0,\"titlefont\":{\"color\":\"rgba(0, 0, 0, 1.000)\",\"family\":\"sans-serif\",\"size\":15},\"tickcolor\":\"rgba(0, 0, 0, 1.000)\",\"ticktext\":[\"-2.5\",\"0.0\",\"2.5\"],\"zeroline\":false,\"type\":\"-\",\"tickfont\":{\"color\":\"rgba(0, 0, 0, 1.000)\",\"family\":\"sans-serif\",\"size\":11},\"anchor\":\"y\"},\"paper_bgcolor\":\"rgba(255, 255, 255, 1.000)\",\"annotations\":[],\"height\":400,\"margin\":{\"l\":0,\"b\":20,\"r\":0,\"t\":20},\"plot_bgcolor\":\"rgba(255, 255, 255, 1.000)\",\"yaxis\":{\"tickvals\":[-4.0,-2.0,0.0,2.0,4.0],\"ticks\":\"inside\",\"tickmode\":\"array\",\"domain\":[0.07581474190726165,0.9901574803149606],\"linecolor\":\"rgba(0, 0, 0, 1.000)\",\"showgrid\":true,\"title\":\"predicted value\",\"tickangle\":0,\"titlefont\":{\"color\":\"rgba(0, 0, 0, 1.000)\",\"family\":\"sans-serif\",\"size\":15},\"tickcolor\":\"rgba(0, 0, 0, 1.000)\",\"ticktext\":[\"-4\",\"-2\",\"0\",\"2\",\"4\"],\"zeroline\":false,\"type\":\"-\",\"tickfont\":{\"color\":\"rgba(0, 0, 0, 1.000)\",\"family\":\"sans-serif\",\"size\":11},\"anchor\":\"x\"},\"legend\":{\"bordercolor\":\"rgba(0, 0, 0, 1.000)\",\"bgcolor\":\"rgba(255, 255, 255, 1.000)\",\"font\":{\"color\":\"rgba(0, 0, 0, 1.000)\",\"family\":\"sans-serif\",\"size\":11},\"y\":1.0,\"x\":1.0},\"width\":600});\n",
       "    </script>\n"
      ]
     },
     "execution_count": 42,
     "metadata": {},
     "output_type": "execute_result"
    }
   ],
   "source": [
    "# which fits data best?\n",
    "Xtest,ytest = generate_data(20,w)\n",
    "\n",
    "scatter(ytest,Xtest*w_ridge,label=\"ridge\")\n",
    "scatter!(ytest,Xtest*w_lasso,label=\"lasso\")\n",
    "scatter!(ytest,Xtest*w_nonneg,label=\"NNLS\")\n",
    "plot!(ytest,ytest,label=\"true model\")\n",
    "xlabel!(\"true value\")\n",
    "ylabel!(\"predicted value\")"
   ]
  },
  {
   "cell_type": "code",
   "execution_count": 43,
   "metadata": {},
   "outputs": [
    {
     "data": {
      "text/html": [
       "<script src=\"/Users/madeleine/.julia/v0.6/Plots/src/backends/../../deps/plotly-latest.min.js\"></script>    <div id=\"66b8538b-dd60-4e7c-903d-00c47ebd85ad\" style=\"width:600px;height:400px;\"></div>\n",
       "    <script>\n",
       "    PLOT = document.getElementById('66b8538b-dd60-4e7c-903d-00c47ebd85ad');\n",
       "    Plotly.plot(PLOT, [{\"showlegend\":true,\"mode\":\"lines\",\"xaxis\":\"x\",\"colorbar\":{\"title\":\"\"},\"line\":{\"color\":\"rgba(0, 154, 250, 1.000)\",\"shape\":\"linear\",\"dash\":\"solid\",\"width\":1},\"y\":[145.57569968249965,145.78110651953176,145.9877319517162,146.19551762840723,146.40440695434808,146.61434503932583,146.82527864927263,147.03715615878548,147.2499275050091,147.46354414285295,147.6779590014939,147.8931264421346,148.10900221697509,148.32554342936527,148.54270849510087,148.76045710483373,148.9787501875581,149.19754987514673,149.41681946790243,149.63652340109797,149.85662721247286,150.0770975106622,150.29790194452664,150.51900917336286,150.74038883796038,150.96201153249098,151.18384877719464,151.40587299185106,151.6280574700021,151.85037635391353,152.07280461024692,152.295318006428,152.51789308768292,152.7405071547322,152.96313824211813,153.18576509714546,153.40836715942476,153.63092454099265,153.8534180070006,154.0758289569472,154.29813940644715,154.52033196951348,154.7423898413449,154.9642967815982,155.18603709813735,155.40759563123882,155.62895773824846,155.85010927866745,156.07103659966515,156.29172652199628,156.51216632632077,156.73234373990653,156.95224692371028,157.17186445982065,157.39118533925915,157.61019895012052,157.82889506605298,158.04726383505857,158.26529576861304,158.4829817310889,158.70031292948056,158.9172809034142,159.13387751544371,159.3500949416163,159.5659256623054,159.7813624533019,159.99639837715432,160.2110267747557,160.42524125716324,160.6390356976521,160.8524042239889,161.06534121092642,161.27784127290548,161.4898992569654,161.70151023585052,161.9126695013145,162.12337255760838,162.33361511515562,162.5433930844021,162.75270256984112,162.96153986420427,163.1699014428179,163.3777839581158,163.58518423430883,163.7920992622013,163.99852619415634,164.20446233919984,164.4099051582648,164.61485225956696,164.81930139411276,165.0232504513311,165.2266974548317,165.42964055827792,165.63207804138113,165.83400830600326,166.03542987237148,166.23634137540049,166.43674156111462,166.63662928317552,166.83600349950368,167.03486326899838],\"type\":\"scatter\",\"name\":\"y1\",\"yaxis\":\"y\",\"x\":[0.0,0.1,0.2,0.3,0.4,0.5,0.6,0.7,0.8,0.9,1.0,1.1,1.2,1.3,1.4,1.5,1.6,1.7,1.8,1.9,2.0,2.1,2.2,2.3,2.4,2.5,2.6,2.7,2.8,2.9,3.0,3.1,3.2,3.3,3.4,3.5,3.6,3.7,3.8,3.9,4.0,4.1,4.2,4.3,4.4,4.5,4.6,4.7,4.8,4.9,5.0,5.1,5.2,5.3,5.4,5.5,5.6,5.7,5.8,5.9,6.0,6.1,6.2,6.3,6.4,6.5,6.6,6.7,6.8,6.9,7.0,7.1,7.2,7.3,7.4,7.5,7.6,7.7,7.8,7.9,8.0,8.1,8.2,8.3,8.4,8.5,8.6,8.7,8.8,8.9,9.0,9.1,9.2,9.3,9.4,9.5,9.6,9.7,9.8,9.9,10.0]}], {\"showlegend\":true,\"xaxis\":{\"tickvals\":[0.0,2.0,4.0,6.0,8.0,10.0],\"ticks\":\"inside\",\"tickmode\":\"array\",\"domain\":[0.07646908719743364,0.9934383202099737],\"linecolor\":\"rgba(0, 0, 0, 1.000)\",\"showgrid\":true,\"title\":\"lambda\",\"tickangle\":0,\"titlefont\":{\"color\":\"rgba(0, 0, 0, 1.000)\",\"family\":\"sans-serif\",\"size\":15},\"tickcolor\":\"rgba(0, 0, 0, 1.000)\",\"ticktext\":[\"0\",\"2\",\"4\",\"6\",\"8\",\"10\"],\"zeroline\":false,\"type\":\"-\",\"tickfont\":{\"color\":\"rgba(0, 0, 0, 1.000)\",\"family\":\"sans-serif\",\"size\":11},\"anchor\":\"y\"},\"paper_bgcolor\":\"rgba(255, 255, 255, 1.000)\",\"annotations\":[],\"height\":400,\"margin\":{\"l\":0,\"b\":20,\"r\":0,\"t\":20},\"plot_bgcolor\":\"rgba(255, 255, 255, 1.000)\",\"yaxis\":{\"tickvals\":[150.0,155.0,160.0,165.0],\"ticks\":\"inside\",\"tickmode\":\"array\",\"domain\":[0.07581474190726165,0.9901574803149606],\"linecolor\":\"rgba(0, 0, 0, 1.000)\",\"showgrid\":true,\"title\":\"error\",\"tickangle\":0,\"titlefont\":{\"color\":\"rgba(0, 0, 0, 1.000)\",\"family\":\"sans-serif\",\"size\":15},\"tickcolor\":\"rgba(0, 0, 0, 1.000)\",\"ticktext\":[\"150\",\"155\",\"160\",\"165\"],\"zeroline\":false,\"type\":\"-\",\"tickfont\":{\"color\":\"rgba(0, 0, 0, 1.000)\",\"family\":\"sans-serif\",\"size\":11},\"anchor\":\"x\"},\"legend\":{\"bordercolor\":\"rgba(0, 0, 0, 1.000)\",\"bgcolor\":\"rgba(255, 255, 255, 1.000)\",\"font\":{\"color\":\"rgba(0, 0, 0, 1.000)\",\"family\":\"sans-serif\",\"size\":11},\"y\":1.0,\"x\":1.0},\"width\":600});\n",
       "    </script>\n"
      ]
     },
     "execution_count": 43,
     "metadata": {},
     "output_type": "execute_result"
    }
   ],
   "source": [
    "# cross validate over lambda\n",
    "\n",
    "w = .5*randn(40)\n",
    "X,y = generate_noisy_data(30, w)\n",
    "Xtest,ytest = generate_noisy_data(30, w)\n",
    "\n",
    "error = Float64[]\n",
    "λs = 0:.1:10\n",
    "for λ in λs\n",
    "    w = ridge_regression(X,y; λ=λ, maxiters=maxiters, stepsize=stepsize)\n",
    "    push!(error, sum((ytest - Xtest*w).^2))\n",
    "end\n",
    "plot(λs, error)\n",
    "xlabel!(\"lambda\")\n",
    "ylabel!(\"error\")"
   ]
  }
 ],
 "metadata": {
  "kernelspec": {
   "display_name": "Julia 1.2.0",
   "language": "julia",
   "name": "julia-1.2"
  },
  "language_info": {
   "file_extension": ".jl",
   "mimetype": "application/julia",
   "name": "julia",
   "version": "1.2.0"
  }
 },
 "nbformat": 4,
 "nbformat_minor": 1
}
